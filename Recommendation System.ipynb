{
 "cells": [
  {
   "cell_type": "code",
   "execution_count": 108,
   "metadata": {
    "ExecuteTime": {
     "end_time": "2021-06-12T11:22:57.054103Z",
     "start_time": "2021-06-12T11:22:57.041592Z"
    }
   },
   "outputs": [],
   "source": [
    "%matplotlib inline\n",
    "import pandas as pd\n",
    "import numpy as np\n",
    "import matplotlib.pyplot as plt\n",
    "import seaborn as sns\n",
    "from scipy import stats\n",
    "from ast import literal_eval\n",
    "from sklearn.feature_extraction.text import TfidfVectorizer, CountVectorizer\n",
    "from sklearn.metrics.pairwise import linear_kernel, cosine_similarity\n",
    "from nltk.stem.snowball import SnowballStemmer\n",
    "from nltk.stem.wordnet import WordNetLemmatizer\n",
    "from nltk.corpus import wordnet\n",
    "\n",
    "import warnings; warnings.simplefilter('ignore')"
   ]
  },
  {
   "cell_type": "code",
   "execution_count": 109,
   "metadata": {
    "ExecuteTime": {
     "end_time": "2021-06-12T11:22:57.102146Z",
     "start_time": "2021-06-12T11:22:57.055104Z"
    }
   },
   "outputs": [],
   "source": [
    "imdb_ratings_df = pd.read_csv('zippedData/imdb.title.ratings.csv.gz')"
   ]
  },
  {
   "cell_type": "code",
   "execution_count": 110,
   "metadata": {
    "ExecuteTime": {
     "end_time": "2021-06-12T11:22:57.358488Z",
     "start_time": "2021-06-12T11:22:57.103148Z"
    }
   },
   "outputs": [],
   "source": [
    "title_basics_df = pd.read_csv('zippedData/imdb.title.basics.csv.gz')"
   ]
  },
  {
   "cell_type": "code",
   "execution_count": 111,
   "metadata": {
    "ExecuteTime": {
     "end_time": "2021-06-12T11:22:57.374504Z",
     "start_time": "2021-06-12T11:22:57.359489Z"
    }
   },
   "outputs": [],
   "source": [
    "movie_gross_df = pd.read_csv('zippedData/bom.movie_gross.csv.gz')"
   ]
  },
  {
   "cell_type": "code",
   "execution_count": 112,
   "metadata": {
    "ExecuteTime": {
     "end_time": "2021-06-12T11:22:57.390518Z",
     "start_time": "2021-06-12T11:22:57.375505Z"
    }
   },
   "outputs": [],
   "source": [
    "movie_budgets_df = pd.read_csv('zippedData/tn.movie_budgets.csv.gz')"
   ]
  },
  {
   "cell_type": "code",
   "execution_count": null,
   "metadata": {},
   "outputs": [],
   "source": []
  },
  {
   "cell_type": "code",
   "execution_count": null,
   "metadata": {},
   "outputs": [],
   "source": []
  },
  {
   "cell_type": "code",
   "execution_count": null,
   "metadata": {},
   "outputs": [],
   "source": []
  },
  {
   "cell_type": "code",
   "execution_count": 113,
   "metadata": {
    "ExecuteTime": {
     "end_time": "2021-06-12T11:22:58.318887Z",
     "start_time": "2021-06-12T11:22:57.391519Z"
    }
   },
   "outputs": [],
   "source": [
    "name_basics_df = pd.read_csv('zippedData/imdb.name.basics.csv.gz')"
   ]
  },
  {
   "cell_type": "code",
   "execution_count": 114,
   "metadata": {
    "ExecuteTime": {
     "end_time": "2021-06-12T11:22:58.366257Z",
     "start_time": "2021-06-12T11:22:58.319889Z"
    }
   },
   "outputs": [],
   "source": [
    "name_basics_df = name_basics_df.drop(columns = 'death_year')"
   ]
  },
  {
   "cell_type": "code",
   "execution_count": 115,
   "metadata": {
    "ExecuteTime": {
     "end_time": "2021-06-12T11:22:58.494373Z",
     "start_time": "2021-06-12T11:22:58.367258Z"
    }
   },
   "outputs": [],
   "source": [
    "name_basics_df = name_basics_df.dropna()"
   ]
  },
  {
   "cell_type": "code",
   "execution_count": 116,
   "metadata": {
    "ExecuteTime": {
     "end_time": "2021-06-12T11:22:58.526402Z",
     "start_time": "2021-06-12T11:22:58.495374Z"
    }
   },
   "outputs": [
    {
     "data": {
      "text/plain": [
       "nconst                0\n",
       "primary_name          0\n",
       "birth_year            0\n",
       "primary_profession    0\n",
       "known_for_titles      0\n",
       "dtype: int64"
      ]
     },
     "execution_count": 116,
     "metadata": {},
     "output_type": "execute_result"
    }
   ],
   "source": [
    "name_basics_df.isna().sum()"
   ]
  },
  {
   "cell_type": "code",
   "execution_count": 117,
   "metadata": {
    "ExecuteTime": {
     "end_time": "2021-06-12T11:22:59.468500Z",
     "start_time": "2021-06-12T11:22:58.527403Z"
    }
   },
   "outputs": [],
   "source": [
    "name_basics_df = (name_basics_df.set_index(['nconst', 'primary_name','birth_year'])\n",
    "   .stack()\n",
    "   .str.split(',', expand=True)\n",
    "   .stack()\n",
    "   .unstack(-2)\n",
    "   .reset_index(-1, drop=True)\n",
    "   .reset_index()\n",
    ")"
   ]
  },
  {
   "cell_type": "code",
   "execution_count": 118,
   "metadata": {
    "ExecuteTime": {
     "end_time": "2021-06-12T11:22:59.484125Z",
     "start_time": "2021-06-12T11:22:59.469501Z"
    }
   },
   "outputs": [
    {
     "data": {
      "text/html": [
       "<div>\n",
       "<style scoped>\n",
       "    .dataframe tbody tr th:only-of-type {\n",
       "        vertical-align: middle;\n",
       "    }\n",
       "\n",
       "    .dataframe tbody tr th {\n",
       "        vertical-align: top;\n",
       "    }\n",
       "\n",
       "    .dataframe thead th {\n",
       "        text-align: right;\n",
       "    }\n",
       "</style>\n",
       "<table border=\"1\" class=\"dataframe\">\n",
       "  <thead>\n",
       "    <tr style=\"text-align: right;\">\n",
       "      <th></th>\n",
       "      <th>nconst</th>\n",
       "      <th>primary_name</th>\n",
       "      <th>birth_year</th>\n",
       "      <th>primary_profession</th>\n",
       "      <th>known_for_titles</th>\n",
       "    </tr>\n",
       "  </thead>\n",
       "  <tbody>\n",
       "    <tr>\n",
       "      <th>0</th>\n",
       "      <td>nm0000002</td>\n",
       "      <td>Lauren Bacall</td>\n",
       "      <td>1924.0</td>\n",
       "      <td>actress</td>\n",
       "      <td>tt0038355</td>\n",
       "    </tr>\n",
       "    <tr>\n",
       "      <th>1</th>\n",
       "      <td>nm0000002</td>\n",
       "      <td>Lauren Bacall</td>\n",
       "      <td>1924.0</td>\n",
       "      <td>soundtrack</td>\n",
       "      <td>tt0117057</td>\n",
       "    </tr>\n",
       "    <tr>\n",
       "      <th>2</th>\n",
       "      <td>nm0000002</td>\n",
       "      <td>Lauren Bacall</td>\n",
       "      <td>1924.0</td>\n",
       "      <td>NaN</td>\n",
       "      <td>tt0071877</td>\n",
       "    </tr>\n",
       "    <tr>\n",
       "      <th>3</th>\n",
       "      <td>nm0000002</td>\n",
       "      <td>Lauren Bacall</td>\n",
       "      <td>1924.0</td>\n",
       "      <td>NaN</td>\n",
       "      <td>tt0037382</td>\n",
       "    </tr>\n",
       "    <tr>\n",
       "      <th>4</th>\n",
       "      <td>nm0000003</td>\n",
       "      <td>Brigitte Bardot</td>\n",
       "      <td>1934.0</td>\n",
       "      <td>actress</td>\n",
       "      <td>tt0049189</td>\n",
       "    </tr>\n",
       "  </tbody>\n",
       "</table>\n",
       "</div>"
      ],
      "text/plain": [
       "      nconst     primary_name  birth_year primary_profession known_for_titles\n",
       "0  nm0000002    Lauren Bacall      1924.0            actress        tt0038355\n",
       "1  nm0000002    Lauren Bacall      1924.0         soundtrack        tt0117057\n",
       "2  nm0000002    Lauren Bacall      1924.0                NaN        tt0071877\n",
       "3  nm0000002    Lauren Bacall      1924.0                NaN        tt0037382\n",
       "4  nm0000003  Brigitte Bardot      1934.0            actress        tt0049189"
      ]
     },
     "execution_count": 118,
     "metadata": {},
     "output_type": "execute_result"
    }
   ],
   "source": [
    "name_basics_df.head()"
   ]
  },
  {
   "cell_type": "code",
   "execution_count": 119,
   "metadata": {
    "ExecuteTime": {
     "end_time": "2021-06-12T11:22:59.515087Z",
     "start_time": "2021-06-12T11:22:59.485126Z"
    }
   },
   "outputs": [],
   "source": [
    "name_basics_df = name_basics_df.rename({'known_for_titles': 'tconst'}, axis='columns')"
   ]
  },
  {
   "cell_type": "code",
   "execution_count": null,
   "metadata": {},
   "outputs": [],
   "source": []
  },
  {
   "cell_type": "code",
   "execution_count": null,
   "metadata": {},
   "outputs": [],
   "source": []
  },
  {
   "cell_type": "code",
   "execution_count": null,
   "metadata": {},
   "outputs": [],
   "source": []
  },
  {
   "cell_type": "code",
   "execution_count": null,
   "metadata": {},
   "outputs": [],
   "source": []
  },
  {
   "cell_type": "code",
   "execution_count": null,
   "metadata": {},
   "outputs": [],
   "source": []
  },
  {
   "cell_type": "code",
   "execution_count": null,
   "metadata": {},
   "outputs": [],
   "source": []
  },
  {
   "cell_type": "code",
   "execution_count": 120,
   "metadata": {
    "ExecuteTime": {
     "end_time": "2021-06-12T11:22:59.563131Z",
     "start_time": "2021-06-12T11:22:59.516089Z"
    }
   },
   "outputs": [],
   "source": [
    "budget_tconst = pd.merge(title_basics_df, movie_budgets_df , left_on= 'primary_title', right_on= 'movie', how = 'right')"
   ]
  },
  {
   "cell_type": "code",
   "execution_count": 121,
   "metadata": {
    "ExecuteTime": {
     "end_time": "2021-06-12T11:22:59.594796Z",
     "start_time": "2021-06-12T11:22:59.564132Z"
    }
   },
   "outputs": [],
   "source": [
    "df = pd.merge(budget_tconst,  imdb_ratings_df, on=['tconst'])"
   ]
  },
  {
   "cell_type": "code",
   "execution_count": 122,
   "metadata": {
    "ExecuteTime": {
     "end_time": "2021-06-12T11:22:59.610863Z",
     "start_time": "2021-06-12T11:22:59.595798Z"
    }
   },
   "outputs": [
    {
     "data": {
      "text/html": [
       "<div>\n",
       "<style scoped>\n",
       "    .dataframe tbody tr th:only-of-type {\n",
       "        vertical-align: middle;\n",
       "    }\n",
       "\n",
       "    .dataframe tbody tr th {\n",
       "        vertical-align: top;\n",
       "    }\n",
       "\n",
       "    .dataframe thead th {\n",
       "        text-align: right;\n",
       "    }\n",
       "</style>\n",
       "<table border=\"1\" class=\"dataframe\">\n",
       "  <thead>\n",
       "    <tr style=\"text-align: right;\">\n",
       "      <th></th>\n",
       "      <th>tconst</th>\n",
       "      <th>primary_title</th>\n",
       "      <th>original_title</th>\n",
       "      <th>start_year</th>\n",
       "      <th>runtime_minutes</th>\n",
       "      <th>genres</th>\n",
       "      <th>id</th>\n",
       "      <th>release_date</th>\n",
       "      <th>movie</th>\n",
       "      <th>production_budget</th>\n",
       "      <th>domestic_gross</th>\n",
       "      <th>worldwide_gross</th>\n",
       "      <th>averagerating</th>\n",
       "      <th>numvotes</th>\n",
       "    </tr>\n",
       "  </thead>\n",
       "  <tbody>\n",
       "    <tr>\n",
       "      <th>0</th>\n",
       "      <td>tt1775309</td>\n",
       "      <td>Avatar</td>\n",
       "      <td>Abatâ</td>\n",
       "      <td>2011.0</td>\n",
       "      <td>93.0</td>\n",
       "      <td>Horror</td>\n",
       "      <td>1</td>\n",
       "      <td>Dec 18, 2009</td>\n",
       "      <td>Avatar</td>\n",
       "      <td>$425,000,000</td>\n",
       "      <td>$760,507,625</td>\n",
       "      <td>$2,776,345,279</td>\n",
       "      <td>6.1</td>\n",
       "      <td>43</td>\n",
       "    </tr>\n",
       "    <tr>\n",
       "      <th>1</th>\n",
       "      <td>tt1298650</td>\n",
       "      <td>Pirates of the Caribbean: On Stranger Tides</td>\n",
       "      <td>Pirates of the Caribbean: On Stranger Tides</td>\n",
       "      <td>2011.0</td>\n",
       "      <td>136.0</td>\n",
       "      <td>Action,Adventure,Fantasy</td>\n",
       "      <td>2</td>\n",
       "      <td>May 20, 2011</td>\n",
       "      <td>Pirates of the Caribbean: On Stranger Tides</td>\n",
       "      <td>$410,600,000</td>\n",
       "      <td>$241,063,875</td>\n",
       "      <td>$1,045,663,875</td>\n",
       "      <td>6.6</td>\n",
       "      <td>447624</td>\n",
       "    </tr>\n",
       "    <tr>\n",
       "      <th>2</th>\n",
       "      <td>tt6565702</td>\n",
       "      <td>Dark Phoenix</td>\n",
       "      <td>Dark Phoenix</td>\n",
       "      <td>2019.0</td>\n",
       "      <td>113.0</td>\n",
       "      <td>Action,Adventure,Sci-Fi</td>\n",
       "      <td>3</td>\n",
       "      <td>Jun 7, 2019</td>\n",
       "      <td>Dark Phoenix</td>\n",
       "      <td>$350,000,000</td>\n",
       "      <td>$42,762,350</td>\n",
       "      <td>$149,762,350</td>\n",
       "      <td>6.0</td>\n",
       "      <td>24451</td>\n",
       "    </tr>\n",
       "    <tr>\n",
       "      <th>3</th>\n",
       "      <td>tt2395427</td>\n",
       "      <td>Avengers: Age of Ultron</td>\n",
       "      <td>Avengers: Age of Ultron</td>\n",
       "      <td>2015.0</td>\n",
       "      <td>141.0</td>\n",
       "      <td>Action,Adventure,Sci-Fi</td>\n",
       "      <td>4</td>\n",
       "      <td>May 1, 2015</td>\n",
       "      <td>Avengers: Age of Ultron</td>\n",
       "      <td>$330,600,000</td>\n",
       "      <td>$459,005,868</td>\n",
       "      <td>$1,403,013,963</td>\n",
       "      <td>7.3</td>\n",
       "      <td>665594</td>\n",
       "    </tr>\n",
       "    <tr>\n",
       "      <th>4</th>\n",
       "      <td>tt4154756</td>\n",
       "      <td>Avengers: Infinity War</td>\n",
       "      <td>Avengers: Infinity War</td>\n",
       "      <td>2018.0</td>\n",
       "      <td>149.0</td>\n",
       "      <td>Action,Adventure,Sci-Fi</td>\n",
       "      <td>7</td>\n",
       "      <td>Apr 27, 2018</td>\n",
       "      <td>Avengers: Infinity War</td>\n",
       "      <td>$300,000,000</td>\n",
       "      <td>$678,815,482</td>\n",
       "      <td>$2,048,134,200</td>\n",
       "      <td>8.5</td>\n",
       "      <td>670926</td>\n",
       "    </tr>\n",
       "  </tbody>\n",
       "</table>\n",
       "</div>"
      ],
      "text/plain": [
       "      tconst                                primary_title  \\\n",
       "0  tt1775309                                       Avatar   \n",
       "1  tt1298650  Pirates of the Caribbean: On Stranger Tides   \n",
       "2  tt6565702                                 Dark Phoenix   \n",
       "3  tt2395427                      Avengers: Age of Ultron   \n",
       "4  tt4154756                       Avengers: Infinity War   \n",
       "\n",
       "                                original_title  start_year  runtime_minutes  \\\n",
       "0                                        Abatâ      2011.0             93.0   \n",
       "1  Pirates of the Caribbean: On Stranger Tides      2011.0            136.0   \n",
       "2                                 Dark Phoenix      2019.0            113.0   \n",
       "3                      Avengers: Age of Ultron      2015.0            141.0   \n",
       "4                       Avengers: Infinity War      2018.0            149.0   \n",
       "\n",
       "                     genres  id  release_date  \\\n",
       "0                    Horror   1  Dec 18, 2009   \n",
       "1  Action,Adventure,Fantasy   2  May 20, 2011   \n",
       "2   Action,Adventure,Sci-Fi   3   Jun 7, 2019   \n",
       "3   Action,Adventure,Sci-Fi   4   May 1, 2015   \n",
       "4   Action,Adventure,Sci-Fi   7  Apr 27, 2018   \n",
       "\n",
       "                                         movie production_budget  \\\n",
       "0                                       Avatar      $425,000,000   \n",
       "1  Pirates of the Caribbean: On Stranger Tides      $410,600,000   \n",
       "2                                 Dark Phoenix      $350,000,000   \n",
       "3                      Avengers: Age of Ultron      $330,600,000   \n",
       "4                       Avengers: Infinity War      $300,000,000   \n",
       "\n",
       "  domestic_gross worldwide_gross  averagerating  numvotes  \n",
       "0   $760,507,625  $2,776,345,279            6.1        43  \n",
       "1   $241,063,875  $1,045,663,875            6.6    447624  \n",
       "2    $42,762,350    $149,762,350            6.0     24451  \n",
       "3   $459,005,868  $1,403,013,963            7.3    665594  \n",
       "4   $678,815,482  $2,048,134,200            8.5    670926  "
      ]
     },
     "execution_count": 122,
     "metadata": {},
     "output_type": "execute_result"
    }
   ],
   "source": [
    "df.head()"
   ]
  },
  {
   "cell_type": "code",
   "execution_count": 123,
   "metadata": {
    "ExecuteTime": {
     "end_time": "2021-06-12T11:22:59.626826Z",
     "start_time": "2021-06-12T11:22:59.611812Z"
    }
   },
   "outputs": [
    {
     "name": "stdout",
     "output_type": "stream",
     "text": [
      "<class 'pandas.core.frame.DataFrame'>\n",
      "Int64Index: 2875 entries, 0 to 2874\n",
      "Data columns (total 14 columns):\n",
      " #   Column             Non-Null Count  Dtype  \n",
      "---  ------             --------------  -----  \n",
      " 0   tconst             2875 non-null   object \n",
      " 1   primary_title      2875 non-null   object \n",
      " 2   original_title     2875 non-null   object \n",
      " 3   start_year         2875 non-null   float64\n",
      " 4   runtime_minutes    2757 non-null   float64\n",
      " 5   genres             2867 non-null   object \n",
      " 6   id                 2875 non-null   int64  \n",
      " 7   release_date       2875 non-null   object \n",
      " 8   movie              2875 non-null   object \n",
      " 9   production_budget  2875 non-null   object \n",
      " 10  domestic_gross     2875 non-null   object \n",
      " 11  worldwide_gross    2875 non-null   object \n",
      " 12  averagerating      2875 non-null   float64\n",
      " 13  numvotes           2875 non-null   int64  \n",
      "dtypes: float64(3), int64(2), object(9)\n",
      "memory usage: 336.9+ KB\n"
     ]
    }
   ],
   "source": [
    "df.info()"
   ]
  },
  {
   "cell_type": "code",
   "execution_count": 124,
   "metadata": {
    "ExecuteTime": {
     "end_time": "2021-06-12T11:22:59.642701Z",
     "start_time": "2021-06-12T11:22:59.627827Z"
    }
   },
   "outputs": [],
   "source": [
    "def column_conversion(df, col):\n",
    "    df[col] = df[col].str.replace(\"$\",\"\").str.replace(\",\",\"\").astype('int64')\n",
    "    return df"
   ]
  },
  {
   "cell_type": "code",
   "execution_count": 125,
   "metadata": {
    "ExecuteTime": {
     "end_time": "2021-06-12T11:22:59.658716Z",
     "start_time": "2021-06-12T11:22:59.643703Z"
    }
   },
   "outputs": [],
   "source": [
    "column_to_convert = ['production_budget','domestic_gross','worldwide_gross']\n",
    "\n",
    "for col in column_to_convert:\n",
    "    df = column_conversion(df, col)"
   ]
  },
  {
   "cell_type": "code",
   "execution_count": 126,
   "metadata": {
    "ExecuteTime": {
     "end_time": "2021-06-12T11:22:59.674730Z",
     "start_time": "2021-06-12T11:22:59.659716Z"
    }
   },
   "outputs": [
    {
     "data": {
      "text/html": [
       "<div>\n",
       "<style scoped>\n",
       "    .dataframe tbody tr th:only-of-type {\n",
       "        vertical-align: middle;\n",
       "    }\n",
       "\n",
       "    .dataframe tbody tr th {\n",
       "        vertical-align: top;\n",
       "    }\n",
       "\n",
       "    .dataframe thead th {\n",
       "        text-align: right;\n",
       "    }\n",
       "</style>\n",
       "<table border=\"1\" class=\"dataframe\">\n",
       "  <thead>\n",
       "    <tr style=\"text-align: right;\">\n",
       "      <th></th>\n",
       "      <th>tconst</th>\n",
       "      <th>primary_title</th>\n",
       "      <th>original_title</th>\n",
       "      <th>start_year</th>\n",
       "      <th>runtime_minutes</th>\n",
       "      <th>genres</th>\n",
       "      <th>id</th>\n",
       "      <th>release_date</th>\n",
       "      <th>movie</th>\n",
       "      <th>production_budget</th>\n",
       "      <th>domestic_gross</th>\n",
       "      <th>worldwide_gross</th>\n",
       "      <th>averagerating</th>\n",
       "      <th>numvotes</th>\n",
       "    </tr>\n",
       "  </thead>\n",
       "  <tbody>\n",
       "    <tr>\n",
       "      <th>0</th>\n",
       "      <td>tt1775309</td>\n",
       "      <td>Avatar</td>\n",
       "      <td>Abatâ</td>\n",
       "      <td>2011.0</td>\n",
       "      <td>93.0</td>\n",
       "      <td>Horror</td>\n",
       "      <td>1</td>\n",
       "      <td>Dec 18, 2009</td>\n",
       "      <td>Avatar</td>\n",
       "      <td>425000000</td>\n",
       "      <td>760507625</td>\n",
       "      <td>2776345279</td>\n",
       "      <td>6.1</td>\n",
       "      <td>43</td>\n",
       "    </tr>\n",
       "    <tr>\n",
       "      <th>1</th>\n",
       "      <td>tt1298650</td>\n",
       "      <td>Pirates of the Caribbean: On Stranger Tides</td>\n",
       "      <td>Pirates of the Caribbean: On Stranger Tides</td>\n",
       "      <td>2011.0</td>\n",
       "      <td>136.0</td>\n",
       "      <td>Action,Adventure,Fantasy</td>\n",
       "      <td>2</td>\n",
       "      <td>May 20, 2011</td>\n",
       "      <td>Pirates of the Caribbean: On Stranger Tides</td>\n",
       "      <td>410600000</td>\n",
       "      <td>241063875</td>\n",
       "      <td>1045663875</td>\n",
       "      <td>6.6</td>\n",
       "      <td>447624</td>\n",
       "    </tr>\n",
       "    <tr>\n",
       "      <th>2</th>\n",
       "      <td>tt6565702</td>\n",
       "      <td>Dark Phoenix</td>\n",
       "      <td>Dark Phoenix</td>\n",
       "      <td>2019.0</td>\n",
       "      <td>113.0</td>\n",
       "      <td>Action,Adventure,Sci-Fi</td>\n",
       "      <td>3</td>\n",
       "      <td>Jun 7, 2019</td>\n",
       "      <td>Dark Phoenix</td>\n",
       "      <td>350000000</td>\n",
       "      <td>42762350</td>\n",
       "      <td>149762350</td>\n",
       "      <td>6.0</td>\n",
       "      <td>24451</td>\n",
       "    </tr>\n",
       "    <tr>\n",
       "      <th>3</th>\n",
       "      <td>tt2395427</td>\n",
       "      <td>Avengers: Age of Ultron</td>\n",
       "      <td>Avengers: Age of Ultron</td>\n",
       "      <td>2015.0</td>\n",
       "      <td>141.0</td>\n",
       "      <td>Action,Adventure,Sci-Fi</td>\n",
       "      <td>4</td>\n",
       "      <td>May 1, 2015</td>\n",
       "      <td>Avengers: Age of Ultron</td>\n",
       "      <td>330600000</td>\n",
       "      <td>459005868</td>\n",
       "      <td>1403013963</td>\n",
       "      <td>7.3</td>\n",
       "      <td>665594</td>\n",
       "    </tr>\n",
       "    <tr>\n",
       "      <th>4</th>\n",
       "      <td>tt4154756</td>\n",
       "      <td>Avengers: Infinity War</td>\n",
       "      <td>Avengers: Infinity War</td>\n",
       "      <td>2018.0</td>\n",
       "      <td>149.0</td>\n",
       "      <td>Action,Adventure,Sci-Fi</td>\n",
       "      <td>7</td>\n",
       "      <td>Apr 27, 2018</td>\n",
       "      <td>Avengers: Infinity War</td>\n",
       "      <td>300000000</td>\n",
       "      <td>678815482</td>\n",
       "      <td>2048134200</td>\n",
       "      <td>8.5</td>\n",
       "      <td>670926</td>\n",
       "    </tr>\n",
       "  </tbody>\n",
       "</table>\n",
       "</div>"
      ],
      "text/plain": [
       "      tconst                                primary_title  \\\n",
       "0  tt1775309                                       Avatar   \n",
       "1  tt1298650  Pirates of the Caribbean: On Stranger Tides   \n",
       "2  tt6565702                                 Dark Phoenix   \n",
       "3  tt2395427                      Avengers: Age of Ultron   \n",
       "4  tt4154756                       Avengers: Infinity War   \n",
       "\n",
       "                                original_title  start_year  runtime_minutes  \\\n",
       "0                                        Abatâ      2011.0             93.0   \n",
       "1  Pirates of the Caribbean: On Stranger Tides      2011.0            136.0   \n",
       "2                                 Dark Phoenix      2019.0            113.0   \n",
       "3                      Avengers: Age of Ultron      2015.0            141.0   \n",
       "4                       Avengers: Infinity War      2018.0            149.0   \n",
       "\n",
       "                     genres  id  release_date  \\\n",
       "0                    Horror   1  Dec 18, 2009   \n",
       "1  Action,Adventure,Fantasy   2  May 20, 2011   \n",
       "2   Action,Adventure,Sci-Fi   3   Jun 7, 2019   \n",
       "3   Action,Adventure,Sci-Fi   4   May 1, 2015   \n",
       "4   Action,Adventure,Sci-Fi   7  Apr 27, 2018   \n",
       "\n",
       "                                         movie  production_budget  \\\n",
       "0                                       Avatar          425000000   \n",
       "1  Pirates of the Caribbean: On Stranger Tides          410600000   \n",
       "2                                 Dark Phoenix          350000000   \n",
       "3                      Avengers: Age of Ultron          330600000   \n",
       "4                       Avengers: Infinity War          300000000   \n",
       "\n",
       "   domestic_gross  worldwide_gross  averagerating  numvotes  \n",
       "0       760507625       2776345279            6.1        43  \n",
       "1       241063875       1045663875            6.6    447624  \n",
       "2        42762350        149762350            6.0     24451  \n",
       "3       459005868       1403013963            7.3    665594  \n",
       "4       678815482       2048134200            8.5    670926  "
      ]
     },
     "execution_count": 126,
     "metadata": {},
     "output_type": "execute_result"
    }
   ],
   "source": [
    "df.head()"
   ]
  },
  {
   "cell_type": "code",
   "execution_count": 127,
   "metadata": {
    "ExecuteTime": {
     "end_time": "2021-06-12T11:22:59.850548Z",
     "start_time": "2021-06-12T11:22:59.675731Z"
    }
   },
   "outputs": [],
   "source": [
    "df = pd.merge(df, name_basics_df, on=['tconst'])"
   ]
  },
  {
   "cell_type": "code",
   "execution_count": null,
   "metadata": {},
   "outputs": [],
   "source": []
  },
  {
   "cell_type": "code",
   "execution_count": null,
   "metadata": {},
   "outputs": [],
   "source": []
  },
  {
   "cell_type": "code",
   "execution_count": 128,
   "metadata": {
    "ExecuteTime": {
     "end_time": "2021-06-12T11:22:59.866216Z",
     "start_time": "2021-06-12T11:22:59.851550Z"
    }
   },
   "outputs": [],
   "source": [
    "df.drop(['original_title', 'movie', 'tconst', 'release_date'], axis='columns', inplace = True)"
   ]
  },
  {
   "cell_type": "code",
   "execution_count": 139,
   "metadata": {
    "ExecuteTime": {
     "end_time": "2021-06-12T11:24:17.780010Z",
     "start_time": "2021-06-12T11:24:17.758991Z"
    }
   },
   "outputs": [
    {
     "data": {
      "text/html": [
       "<div>\n",
       "<style scoped>\n",
       "    .dataframe tbody tr th:only-of-type {\n",
       "        vertical-align: middle;\n",
       "    }\n",
       "\n",
       "    .dataframe tbody tr th {\n",
       "        vertical-align: top;\n",
       "    }\n",
       "\n",
       "    .dataframe thead th {\n",
       "        text-align: right;\n",
       "    }\n",
       "</style>\n",
       "<table border=\"1\" class=\"dataframe\">\n",
       "  <thead>\n",
       "    <tr style=\"text-align: right;\">\n",
       "      <th></th>\n",
       "      <th>primary_title</th>\n",
       "      <th>start_year</th>\n",
       "      <th>runtime_minutes</th>\n",
       "      <th>genres</th>\n",
       "      <th>id</th>\n",
       "      <th>production_budget</th>\n",
       "      <th>domestic_gross</th>\n",
       "      <th>worldwide_gross</th>\n",
       "      <th>averagerating</th>\n",
       "      <th>numvotes</th>\n",
       "      <th>nconst</th>\n",
       "      <th>primary_name</th>\n",
       "      <th>birth_year</th>\n",
       "      <th>primary_profession</th>\n",
       "      <th>soup</th>\n",
       "    </tr>\n",
       "  </thead>\n",
       "  <tbody>\n",
       "    <tr>\n",
       "      <th>0</th>\n",
       "      <td>Pirates of the Caribbean: On Stranger Tides</td>\n",
       "      <td>2011.0</td>\n",
       "      <td>136.0</td>\n",
       "      <td>Action,Adventure,Fantasy</td>\n",
       "      <td>2</td>\n",
       "      <td>410600000</td>\n",
       "      <td>241063875</td>\n",
       "      <td>1045663875</td>\n",
       "      <td>6.6</td>\n",
       "      <td>447624</td>\n",
       "      <td>nm0004851</td>\n",
       "      <td>Penélope Cruz</td>\n",
       "      <td>1974.0</td>\n",
       "      <td>actress</td>\n",
       "      <td>410602147.0</td>\n",
       "    </tr>\n",
       "    <tr>\n",
       "      <th>2</th>\n",
       "      <td>Pirates of the Caribbean: On Stranger Tides</td>\n",
       "      <td>2011.0</td>\n",
       "      <td>136.0</td>\n",
       "      <td>Action,Adventure,Fantasy</td>\n",
       "      <td>2</td>\n",
       "      <td>410600000</td>\n",
       "      <td>241063875</td>\n",
       "      <td>1045663875</td>\n",
       "      <td>6.6</td>\n",
       "      <td>447624</td>\n",
       "      <td>nm0046087</td>\n",
       "      <td>Jennifer Badger</td>\n",
       "      <td>1976.0</td>\n",
       "      <td>stunts</td>\n",
       "      <td>410602147.0</td>\n",
       "    </tr>\n",
       "    <tr>\n",
       "      <th>3</th>\n",
       "      <td>Pirates of the Caribbean: On Stranger Tides</td>\n",
       "      <td>2011.0</td>\n",
       "      <td>136.0</td>\n",
       "      <td>Action,Adventure,Fantasy</td>\n",
       "      <td>2</td>\n",
       "      <td>410600000</td>\n",
       "      <td>241063875</td>\n",
       "      <td>1045663875</td>\n",
       "      <td>6.6</td>\n",
       "      <td>447624</td>\n",
       "      <td>nm0263740</td>\n",
       "      <td>Steve Evets</td>\n",
       "      <td>1960.0</td>\n",
       "      <td>actor</td>\n",
       "      <td>410602147.0</td>\n",
       "    </tr>\n",
       "    <tr>\n",
       "      <th>4</th>\n",
       "      <td>Pirates of the Caribbean: On Stranger Tides</td>\n",
       "      <td>2011.0</td>\n",
       "      <td>136.0</td>\n",
       "      <td>Action,Adventure,Fantasy</td>\n",
       "      <td>2</td>\n",
       "      <td>410600000</td>\n",
       "      <td>241063875</td>\n",
       "      <td>1045663875</td>\n",
       "      <td>6.6</td>\n",
       "      <td>447624</td>\n",
       "      <td>nm0273797</td>\n",
       "      <td>Sebastian Armesto</td>\n",
       "      <td>1982.0</td>\n",
       "      <td>assistant_director</td>\n",
       "      <td>410602147.0</td>\n",
       "    </tr>\n",
       "    <tr>\n",
       "      <th>6</th>\n",
       "      <td>Pirates of the Caribbean: On Stranger Tides</td>\n",
       "      <td>2011.0</td>\n",
       "      <td>136.0</td>\n",
       "      <td>Action,Adventure,Fantasy</td>\n",
       "      <td>2</td>\n",
       "      <td>410600000</td>\n",
       "      <td>241063875</td>\n",
       "      <td>1045663875</td>\n",
       "      <td>6.6</td>\n",
       "      <td>447624</td>\n",
       "      <td>nm0573618</td>\n",
       "      <td>Kevin McNally</td>\n",
       "      <td>1956.0</td>\n",
       "      <td>actor</td>\n",
       "      <td>410602147.0</td>\n",
       "    </tr>\n",
       "    <tr>\n",
       "      <th>...</th>\n",
       "      <td>...</td>\n",
       "      <td>...</td>\n",
       "      <td>...</td>\n",
       "      <td>...</td>\n",
       "      <td>...</td>\n",
       "      <td>...</td>\n",
       "      <td>...</td>\n",
       "      <td>...</td>\n",
       "      <td>...</td>\n",
       "      <td>...</td>\n",
       "      <td>...</td>\n",
       "      <td>...</td>\n",
       "      <td>...</td>\n",
       "      <td>...</td>\n",
       "      <td>...</td>\n",
       "    </tr>\n",
       "    <tr>\n",
       "      <th>17427</th>\n",
       "      <td>Raymond Did It</td>\n",
       "      <td>2011.0</td>\n",
       "      <td>83.0</td>\n",
       "      <td>Horror</td>\n",
       "      <td>32</td>\n",
       "      <td>40000</td>\n",
       "      <td>3632</td>\n",
       "      <td>3632</td>\n",
       "      <td>3.3</td>\n",
       "      <td>211</td>\n",
       "      <td>nm3171405</td>\n",
       "      <td>Robert J. Williams</td>\n",
       "      <td>1986.0</td>\n",
       "      <td>editor</td>\n",
       "      <td>42094.0</td>\n",
       "    </tr>\n",
       "    <tr>\n",
       "      <th>17429</th>\n",
       "      <td>Foreign Letters</td>\n",
       "      <td>2012.0</td>\n",
       "      <td>99.0</td>\n",
       "      <td>Comedy,Drama</td>\n",
       "      <td>33</td>\n",
       "      <td>40000</td>\n",
       "      <td>0</td>\n",
       "      <td>0</td>\n",
       "      <td>6.9</td>\n",
       "      <td>180</td>\n",
       "      <td>nm0858008</td>\n",
       "      <td>Ela Thier</td>\n",
       "      <td>1971.0</td>\n",
       "      <td>writer</td>\n",
       "      <td>42111.0</td>\n",
       "    </tr>\n",
       "    <tr>\n",
       "      <th>17432</th>\n",
       "      <td>Exeter</td>\n",
       "      <td>2015.0</td>\n",
       "      <td>91.0</td>\n",
       "      <td>Horror,Mystery,Thriller</td>\n",
       "      <td>49</td>\n",
       "      <td>25000</td>\n",
       "      <td>0</td>\n",
       "      <td>489792</td>\n",
       "      <td>4.5</td>\n",
       "      <td>5156</td>\n",
       "      <td>nm1885051</td>\n",
       "      <td>Nick Nicotera</td>\n",
       "      <td>1981.0</td>\n",
       "      <td>editor</td>\n",
       "      <td>27106.0</td>\n",
       "    </tr>\n",
       "    <tr>\n",
       "      <th>17433</th>\n",
       "      <td>Ten</td>\n",
       "      <td>2013.0</td>\n",
       "      <td>118.0</td>\n",
       "      <td>Drama</td>\n",
       "      <td>51</td>\n",
       "      <td>25000</td>\n",
       "      <td>0</td>\n",
       "      <td>0</td>\n",
       "      <td>5.5</td>\n",
       "      <td>31</td>\n",
       "      <td>nm2793783</td>\n",
       "      <td>Colin Burt Vidler</td>\n",
       "      <td>1970.0</td>\n",
       "      <td>actor</td>\n",
       "      <td>27131.0</td>\n",
       "    </tr>\n",
       "    <tr>\n",
       "      <th>17435</th>\n",
       "      <td>Red 11</td>\n",
       "      <td>2019.0</td>\n",
       "      <td>77.0</td>\n",
       "      <td>Horror,Sci-Fi,Thriller</td>\n",
       "      <td>78</td>\n",
       "      <td>7000</td>\n",
       "      <td>0</td>\n",
       "      <td>0</td>\n",
       "      <td>5.6</td>\n",
       "      <td>43</td>\n",
       "      <td>nm1897406</td>\n",
       "      <td>Racer Rodriguez</td>\n",
       "      <td>1997.0</td>\n",
       "      <td>stunts</td>\n",
       "      <td>9096.0</td>\n",
       "    </tr>\n",
       "  </tbody>\n",
       "</table>\n",
       "<p>10958 rows × 15 columns</p>\n",
       "</div>"
      ],
      "text/plain": [
       "                                     primary_title  start_year  \\\n",
       "0      Pirates of the Caribbean: On Stranger Tides      2011.0   \n",
       "2      Pirates of the Caribbean: On Stranger Tides      2011.0   \n",
       "3      Pirates of the Caribbean: On Stranger Tides      2011.0   \n",
       "4      Pirates of the Caribbean: On Stranger Tides      2011.0   \n",
       "6      Pirates of the Caribbean: On Stranger Tides      2011.0   \n",
       "...                                            ...         ...   \n",
       "17427                               Raymond Did It      2011.0   \n",
       "17429                              Foreign Letters      2012.0   \n",
       "17432                                       Exeter      2015.0   \n",
       "17433                                          Ten      2013.0   \n",
       "17435                                       Red 11      2019.0   \n",
       "\n",
       "       runtime_minutes                    genres  id  production_budget  \\\n",
       "0                136.0  Action,Adventure,Fantasy   2          410600000   \n",
       "2                136.0  Action,Adventure,Fantasy   2          410600000   \n",
       "3                136.0  Action,Adventure,Fantasy   2          410600000   \n",
       "4                136.0  Action,Adventure,Fantasy   2          410600000   \n",
       "6                136.0  Action,Adventure,Fantasy   2          410600000   \n",
       "...                ...                       ...  ..                ...   \n",
       "17427             83.0                    Horror  32              40000   \n",
       "17429             99.0              Comedy,Drama  33              40000   \n",
       "17432             91.0   Horror,Mystery,Thriller  49              25000   \n",
       "17433            118.0                     Drama  51              25000   \n",
       "17435             77.0    Horror,Sci-Fi,Thriller  78               7000   \n",
       "\n",
       "       domestic_gross  worldwide_gross  averagerating  numvotes     nconst  \\\n",
       "0           241063875       1045663875            6.6    447624  nm0004851   \n",
       "2           241063875       1045663875            6.6    447624  nm0046087   \n",
       "3           241063875       1045663875            6.6    447624  nm0263740   \n",
       "4           241063875       1045663875            6.6    447624  nm0273797   \n",
       "6           241063875       1045663875            6.6    447624  nm0573618   \n",
       "...               ...              ...            ...       ...        ...   \n",
       "17427            3632             3632            3.3       211  nm3171405   \n",
       "17429               0                0            6.9       180  nm0858008   \n",
       "17432               0           489792            4.5      5156  nm1885051   \n",
       "17433               0                0            5.5        31  nm2793783   \n",
       "17435               0                0            5.6        43  nm1897406   \n",
       "\n",
       "             primary_name  birth_year  primary_profession         soup  \n",
       "0           Penélope Cruz      1974.0             actress  410602147.0  \n",
       "2         Jennifer Badger      1976.0              stunts  410602147.0  \n",
       "3             Steve Evets      1960.0               actor  410602147.0  \n",
       "4       Sebastian Armesto      1982.0  assistant_director  410602147.0  \n",
       "6           Kevin McNally      1956.0               actor  410602147.0  \n",
       "...                   ...         ...                 ...          ...  \n",
       "17427  Robert J. Williams      1986.0              editor      42094.0  \n",
       "17429           Ela Thier      1971.0              writer      42111.0  \n",
       "17432       Nick Nicotera      1981.0              editor      27106.0  \n",
       "17433   Colin Burt Vidler      1970.0               actor      27131.0  \n",
       "17435     Racer Rodriguez      1997.0              stunts       9096.0  \n",
       "\n",
       "[10958 rows x 15 columns]"
      ]
     },
     "execution_count": 139,
     "metadata": {},
     "output_type": "execute_result"
    }
   ],
   "source": [
    "df"
   ]
  },
  {
   "cell_type": "code",
   "execution_count": 130,
   "metadata": {
    "ExecuteTime": {
     "end_time": "2021-06-12T11:22:59.898246Z",
     "start_time": "2021-06-12T11:22:59.884234Z"
    }
   },
   "outputs": [],
   "source": []
  },
  {
   "cell_type": "code",
   "execution_count": 131,
   "metadata": {
    "ExecuteTime": {
     "end_time": "2021-06-12T11:22:59.914261Z",
     "start_time": "2021-06-12T11:22:59.899247Z"
    }
   },
   "outputs": [
    {
     "data": {
      "text/plain": [
       "primary_title            0\n",
       "start_year               0\n",
       "runtime_minutes         68\n",
       "genres                   5\n",
       "id                       0\n",
       "production_budget        0\n",
       "domestic_gross           0\n",
       "worldwide_gross          0\n",
       "averagerating            0\n",
       "numvotes                 0\n",
       "nconst                   0\n",
       "primary_name             0\n",
       "birth_year               0\n",
       "primary_profession    6444\n",
       "dtype: int64"
      ]
     },
     "execution_count": 131,
     "metadata": {},
     "output_type": "execute_result"
    }
   ],
   "source": [
    "df.isna().sum()"
   ]
  },
  {
   "cell_type": "code",
   "execution_count": 132,
   "metadata": {
    "ExecuteTime": {
     "end_time": "2021-06-12T11:22:59.930275Z",
     "start_time": "2021-06-12T11:22:59.915262Z"
    }
   },
   "outputs": [],
   "source": [
    "df = df.dropna()"
   ]
  },
  {
   "cell_type": "code",
   "execution_count": 133,
   "metadata": {
    "ExecuteTime": {
     "end_time": "2021-06-12T11:22:59.946291Z",
     "start_time": "2021-06-12T11:22:59.931277Z"
    }
   },
   "outputs": [
    {
     "data": {
      "text/plain": [
       "primary_title         0\n",
       "start_year            0\n",
       "runtime_minutes       0\n",
       "genres                0\n",
       "id                    0\n",
       "production_budget     0\n",
       "domestic_gross        0\n",
       "worldwide_gross       0\n",
       "averagerating         0\n",
       "numvotes              0\n",
       "nconst                0\n",
       "primary_name          0\n",
       "birth_year            0\n",
       "primary_profession    0\n",
       "dtype: int64"
      ]
     },
     "execution_count": 133,
     "metadata": {},
     "output_type": "execute_result"
    }
   ],
   "source": [
    "df.isna().sum()"
   ]
  },
  {
   "cell_type": "code",
   "execution_count": 134,
   "metadata": {
    "ExecuteTime": {
     "end_time": "2021-06-12T11:22:59.961749Z",
     "start_time": "2021-06-12T11:22:59.946291Z"
    }
   },
   "outputs": [
    {
     "data": {
      "text/plain": [
       "(10958, 14)"
      ]
     },
     "execution_count": 134,
     "metadata": {},
     "output_type": "execute_result"
    }
   ],
   "source": [
    "df.shape"
   ]
  },
  {
   "cell_type": "code",
   "execution_count": 135,
   "metadata": {
    "ExecuteTime": {
     "end_time": "2021-06-12T11:22:59.977264Z",
     "start_time": "2021-06-12T11:22:59.962250Z"
    }
   },
   "outputs": [],
   "source": [
    "df = df.drop_duplicates()"
   ]
  },
  {
   "cell_type": "code",
   "execution_count": 156,
   "metadata": {
    "ExecuteTime": {
     "end_time": "2021-06-12T11:43:43.413934Z",
     "start_time": "2021-06-12T11:43:43.406425Z"
    }
   },
   "outputs": [
    {
     "data": {
      "text/plain": [
       "<bound method IndexOpsMixin.nunique of 0        Pirates of the Caribbean: On Stranger Tides\n",
       "1        Pirates of the Caribbean: On Stranger Tides\n",
       "2        Pirates of the Caribbean: On Stranger Tides\n",
       "3        Pirates of the Caribbean: On Stranger Tides\n",
       "4        Pirates of the Caribbean: On Stranger Tides\n",
       "                            ...                     \n",
       "10953                                 Raymond Did It\n",
       "10954                                Foreign Letters\n",
       "10955                                         Exeter\n",
       "10956                                            Ten\n",
       "10957                                         Red 11\n",
       "Name: primary_title, Length: 10958, dtype: object>"
      ]
     },
     "execution_count": 156,
     "metadata": {},
     "output_type": "execute_result"
    }
   ],
   "source": [
    "df['primary_title'].nunique"
   ]
  },
  {
   "cell_type": "code",
   "execution_count": 137,
   "metadata": {
    "ExecuteTime": {
     "end_time": "2021-06-12T11:23:00.008298Z",
     "start_time": "2021-06-12T11:22:59.992283Z"
    }
   },
   "outputs": [
    {
     "data": {
      "text/plain": [
       "(10958, 14)"
      ]
     },
     "execution_count": 137,
     "metadata": {},
     "output_type": "execute_result"
    }
   ],
   "source": [
    "df.shape"
   ]
  },
  {
   "cell_type": "code",
   "execution_count": null,
   "metadata": {},
   "outputs": [],
   "source": []
  },
  {
   "cell_type": "code",
   "execution_count": null,
   "metadata": {},
   "outputs": [],
   "source": []
  },
  {
   "cell_type": "code",
   "execution_count": null,
   "metadata": {},
   "outputs": [],
   "source": []
  },
  {
   "cell_type": "code",
   "execution_count": null,
   "metadata": {},
   "outputs": [],
   "source": []
  },
  {
   "cell_type": "code",
   "execution_count": null,
   "metadata": {},
   "outputs": [],
   "source": []
  },
  {
   "cell_type": "code",
   "execution_count": 145,
   "metadata": {
    "ExecuteTime": {
     "end_time": "2021-06-12T11:32:30.911743Z",
     "start_time": "2021-06-12T11:32:30.887109Z"
    }
   },
   "outputs": [],
   "source": [
    "df['soup'] = df['genres'] + df['primary_name'] + df['primary_profession']\n",
    "df['soup'] = df['soup'].apply(lambda x: ''.join(x))"
   ]
  },
  {
   "cell_type": "code",
   "execution_count": 146,
   "metadata": {
    "ExecuteTime": {
     "end_time": "2021-06-12T11:32:31.735509Z",
     "start_time": "2021-06-12T11:32:31.726500Z"
    }
   },
   "outputs": [
    {
     "name": "stdout",
     "output_type": "stream",
     "text": [
      "0             Action,Adventure,FantasyPenélope Cruzactress\n",
      "2            Action,Adventure,FantasyJennifer Badgerstunts\n",
      "3                 Action,Adventure,FantasySteve Evetsactor\n",
      "4        Action,Adventure,FantasySebastian Armestoassis...\n",
      "6               Action,Adventure,FantasyKevin McNallyactor\n",
      "                               ...                        \n",
      "17427                       HorrorRobert J. Williamseditor\n",
      "17429                          Comedy,DramaEla Thierwriter\n",
      "17432           Horror,Mystery,ThrillerNick Nicoteraeditor\n",
      "17433                          DramaColin Burt Vidleractor\n",
      "17435          Horror,Sci-Fi,ThrillerRacer Rodriguezstunts\n",
      "Name: soup, Length: 10958, dtype: object\n"
     ]
    }
   ],
   "source": [
    "print(df['soup'])"
   ]
  },
  {
   "cell_type": "code",
   "execution_count": 147,
   "metadata": {
    "ExecuteTime": {
     "end_time": "2021-06-12T11:32:38.468522Z",
     "start_time": "2021-06-12T11:32:38.312179Z"
    }
   },
   "outputs": [],
   "source": [
    "count = CountVectorizer(analyzer='word',ngram_range=(1, 2),min_df=0, stop_words='english')\n",
    "count_matrix = count.fit_transform(df['soup'])"
   ]
  },
  {
   "cell_type": "code",
   "execution_count": 148,
   "metadata": {
    "ExecuteTime": {
     "end_time": "2021-06-12T11:33:16.350751Z",
     "start_time": "2021-06-12T11:33:15.846893Z"
    }
   },
   "outputs": [],
   "source": [
    "cosine_sim = cosine_similarity(count_matrix, count_matrix)"
   ]
  },
  {
   "cell_type": "code",
   "execution_count": 150,
   "metadata": {
    "ExecuteTime": {
     "end_time": "2021-06-12T11:40:15.599561Z",
     "start_time": "2021-06-12T11:40:15.582539Z"
    }
   },
   "outputs": [],
   "source": [
    "df = df.reset_index()\n",
    "titles = df['primary_title']\n",
    "indices = pd.Series(df.index, index=df['primary_title'])"
   ]
  },
  {
   "cell_type": "code",
   "execution_count": 152,
   "metadata": {
    "ExecuteTime": {
     "end_time": "2021-06-12T11:42:22.955111Z",
     "start_time": "2021-06-12T11:42:22.937089Z"
    }
   },
   "outputs": [],
   "source": [
    "def get_recommendations(title):\n",
    "    idx = indices[title]\n",
    "    sim_scores = list(enumerate(cosine_sim[idx]))\n",
    "    sim_scores = sorted(sim_scores, key=lambda x: x[1], reverse=True)\n",
    "    sim_scores = sim_scores[1:31]\n",
    "    movie_indices = [i[0] for i in sim_scores]\n",
    "    return titles.iloc[movie_indices]"
   ]
  },
  {
   "cell_type": "code",
   "execution_count": 158,
   "metadata": {
    "ExecuteTime": {
     "end_time": "2021-06-12T11:44:01.949772Z",
     "start_time": "2021-06-12T11:44:01.938761Z"
    }
   },
   "outputs": [
    {
     "data": {
      "text/plain": [
       "10800                                    The Journey\n",
       "2603                                     San Andreas\n",
       "0        Pirates of the Caribbean: On Stranger Tides\n",
       "1        Pirates of the Caribbean: On Stranger Tides\n",
       "2        Pirates of the Caribbean: On Stranger Tides\n",
       "3        Pirates of the Caribbean: On Stranger Tides\n",
       "4        Pirates of the Caribbean: On Stranger Tides\n",
       "5        Pirates of the Caribbean: On Stranger Tides\n",
       "6        Pirates of the Caribbean: On Stranger Tides\n",
       "7        Pirates of the Caribbean: On Stranger Tides\n",
       "8        Pirates of the Caribbean: On Stranger Tides\n",
       "9        Pirates of the Caribbean: On Stranger Tides\n",
       "10       Pirates of the Caribbean: On Stranger Tides\n",
       "11       Pirates of the Caribbean: On Stranger Tides\n",
       "12       Pirates of the Caribbean: On Stranger Tides\n",
       "13       Pirates of the Caribbean: On Stranger Tides\n",
       "14       Pirates of the Caribbean: On Stranger Tides\n",
       "15       Pirates of the Caribbean: On Stranger Tides\n",
       "16       Pirates of the Caribbean: On Stranger Tides\n",
       "17       Pirates of the Caribbean: On Stranger Tides\n",
       "18       Pirates of the Caribbean: On Stranger Tides\n",
       "19       Pirates of the Caribbean: On Stranger Tides\n",
       "20       Pirates of the Caribbean: On Stranger Tides\n",
       "21       Pirates of the Caribbean: On Stranger Tides\n",
       "22       Pirates of the Caribbean: On Stranger Tides\n",
       "23       Pirates of the Caribbean: On Stranger Tides\n",
       "24       Pirates of the Caribbean: On Stranger Tides\n",
       "25                                      Dark Phoenix\n",
       "26                                      Dark Phoenix\n",
       "27                                      Dark Phoenix\n",
       "Name: primary_title, dtype: object"
      ]
     },
     "execution_count": 158,
     "metadata": {},
     "output_type": "execute_result"
    }
   ],
   "source": [
    "get_recommendations('Ten')"
   ]
  },
  {
   "cell_type": "code",
   "execution_count": null,
   "metadata": {},
   "outputs": [],
   "source": []
  }
 ],
 "metadata": {
  "kernelspec": {
   "display_name": "Python 3",
   "language": "python",
   "name": "python3"
  },
  "language_info": {
   "codemirror_mode": {
    "name": "ipython",
    "version": 3
   },
   "file_extension": ".py",
   "mimetype": "text/x-python",
   "name": "python",
   "nbconvert_exporter": "python",
   "pygments_lexer": "ipython3",
   "version": "3.8.5"
  },
  "toc": {
   "base_numbering": 1,
   "nav_menu": {},
   "number_sections": true,
   "sideBar": true,
   "skip_h1_title": false,
   "title_cell": "Table of Contents",
   "title_sidebar": "Contents",
   "toc_cell": false,
   "toc_position": {},
   "toc_section_display": true,
   "toc_window_display": false
  }
 },
 "nbformat": 4,
 "nbformat_minor": 4
}
