{
 "cells": [
  {
   "cell_type": "markdown",
   "metadata": {},
   "source": [
    "# Imports"
   ]
  },
  {
   "cell_type": "code",
   "execution_count": 422,
   "metadata": {
    "ExecuteTime": {
     "end_time": "2021-06-12T16:02:19.965691Z",
     "start_time": "2021-06-12T16:02:19.956691Z"
    }
   },
   "outputs": [],
   "source": [
    "%matplotlib inline\n",
    "import pandas as pd\n",
    "import numpy as np\n",
    "import matplotlib.pyplot as plt\n",
    "import seaborn as sns\n",
    "from scipy import stats\n",
    "from ast import literal_eval\n",
    "from sklearn.feature_extraction.text import TfidfVectorizer, CountVectorizer\n",
    "from sklearn.metrics.pairwise import linear_kernel, cosine_similarity\n",
    "from nltk.stem.snowball import SnowballStemmer\n",
    "from nltk.stem.wordnet import WordNetLemmatizer\n",
    "from nltk.corpus import wordnet\n",
    "\n",
    "import warnings; warnings.simplefilter('ignore')"
   ]
  },
  {
   "cell_type": "markdown",
   "metadata": {},
   "source": [
    "# Create Data Frames"
   ]
  },
  {
   "cell_type": "code",
   "execution_count": 423,
   "metadata": {
    "ExecuteTime": {
     "end_time": "2021-06-12T16:02:20.012734Z",
     "start_time": "2021-06-12T16:02:19.966692Z"
    }
   },
   "outputs": [],
   "source": [
    "imdb_ratings_df = pd.read_csv('zippedData/imdb.title.ratings.csv.gz')"
   ]
  },
  {
   "cell_type": "code",
   "execution_count": 424,
   "metadata": {
    "ExecuteTime": {
     "end_time": "2021-06-12T16:02:20.266677Z",
     "start_time": "2021-06-12T16:02:20.013734Z"
    }
   },
   "outputs": [],
   "source": [
    "title_basics_df = pd.read_csv('zippedData/imdb.title.basics.csv.gz')"
   ]
  },
  {
   "cell_type": "code",
   "execution_count": 425,
   "metadata": {
    "ExecuteTime": {
     "end_time": "2021-06-12T16:02:20.282436Z",
     "start_time": "2021-06-12T16:02:20.267679Z"
    }
   },
   "outputs": [],
   "source": [
    "movie_gross_df = pd.read_csv('zippedData/bom.movie_gross.csv.gz')"
   ]
  },
  {
   "cell_type": "code",
   "execution_count": 426,
   "metadata": {
    "ExecuteTime": {
     "end_time": "2021-06-12T16:02:20.298451Z",
     "start_time": "2021-06-12T16:02:20.283438Z"
    }
   },
   "outputs": [],
   "source": [
    "movie_budgets_df = pd.read_csv('zippedData/tn.movie_budgets.csv.gz')"
   ]
  },
  {
   "cell_type": "code",
   "execution_count": 427,
   "metadata": {
    "ExecuteTime": {
     "end_time": "2021-06-12T16:02:21.237828Z",
     "start_time": "2021-06-12T16:02:20.299452Z"
    }
   },
   "outputs": [],
   "source": [
    "name_basics_df = pd.read_csv('zippedData/imdb.name.basics.csv.gz')"
   ]
  },
  {
   "cell_type": "markdown",
   "metadata": {},
   "source": [
    "## Modify Names dataframe\n"
   ]
  },
  {
   "cell_type": "code",
   "execution_count": 428,
   "metadata": {
    "ExecuteTime": {
     "end_time": "2021-06-12T16:02:21.253347Z",
     "start_time": "2021-06-12T16:02:21.238829Z"
    }
   },
   "outputs": [
    {
     "data": {
      "text/html": [
       "<div>\n",
       "<style scoped>\n",
       "    .dataframe tbody tr th:only-of-type {\n",
       "        vertical-align: middle;\n",
       "    }\n",
       "\n",
       "    .dataframe tbody tr th {\n",
       "        vertical-align: top;\n",
       "    }\n",
       "\n",
       "    .dataframe thead th {\n",
       "        text-align: right;\n",
       "    }\n",
       "</style>\n",
       "<table border=\"1\" class=\"dataframe\">\n",
       "  <thead>\n",
       "    <tr style=\"text-align: right;\">\n",
       "      <th></th>\n",
       "      <th>nconst</th>\n",
       "      <th>primary_name</th>\n",
       "      <th>birth_year</th>\n",
       "      <th>death_year</th>\n",
       "      <th>primary_profession</th>\n",
       "      <th>known_for_titles</th>\n",
       "    </tr>\n",
       "  </thead>\n",
       "  <tbody>\n",
       "    <tr>\n",
       "      <th>0</th>\n",
       "      <td>nm0061671</td>\n",
       "      <td>Mary Ellen Bauder</td>\n",
       "      <td>NaN</td>\n",
       "      <td>NaN</td>\n",
       "      <td>miscellaneous,production_manager,producer</td>\n",
       "      <td>tt0837562,tt2398241,tt0844471,tt0118553</td>\n",
       "    </tr>\n",
       "    <tr>\n",
       "      <th>1</th>\n",
       "      <td>nm0061865</td>\n",
       "      <td>Joseph Bauer</td>\n",
       "      <td>NaN</td>\n",
       "      <td>NaN</td>\n",
       "      <td>composer,music_department,sound_department</td>\n",
       "      <td>tt0896534,tt6791238,tt0287072,tt1682940</td>\n",
       "    </tr>\n",
       "    <tr>\n",
       "      <th>2</th>\n",
       "      <td>nm0062070</td>\n",
       "      <td>Bruce Baum</td>\n",
       "      <td>NaN</td>\n",
       "      <td>NaN</td>\n",
       "      <td>miscellaneous,actor,writer</td>\n",
       "      <td>tt1470654,tt0363631,tt0104030,tt0102898</td>\n",
       "    </tr>\n",
       "    <tr>\n",
       "      <th>3</th>\n",
       "      <td>nm0062195</td>\n",
       "      <td>Axel Baumann</td>\n",
       "      <td>NaN</td>\n",
       "      <td>NaN</td>\n",
       "      <td>camera_department,cinematographer,art_department</td>\n",
       "      <td>tt0114371,tt2004304,tt1618448,tt1224387</td>\n",
       "    </tr>\n",
       "    <tr>\n",
       "      <th>4</th>\n",
       "      <td>nm0062798</td>\n",
       "      <td>Pete Baxter</td>\n",
       "      <td>NaN</td>\n",
       "      <td>NaN</td>\n",
       "      <td>production_designer,art_department,set_decorator</td>\n",
       "      <td>tt0452644,tt0452692,tt3458030,tt2178256</td>\n",
       "    </tr>\n",
       "  </tbody>\n",
       "</table>\n",
       "</div>"
      ],
      "text/plain": [
       "      nconst       primary_name  birth_year  death_year  \\\n",
       "0  nm0061671  Mary Ellen Bauder         NaN         NaN   \n",
       "1  nm0061865       Joseph Bauer         NaN         NaN   \n",
       "2  nm0062070         Bruce Baum         NaN         NaN   \n",
       "3  nm0062195       Axel Baumann         NaN         NaN   \n",
       "4  nm0062798        Pete Baxter         NaN         NaN   \n",
       "\n",
       "                                 primary_profession  \\\n",
       "0         miscellaneous,production_manager,producer   \n",
       "1        composer,music_department,sound_department   \n",
       "2                        miscellaneous,actor,writer   \n",
       "3  camera_department,cinematographer,art_department   \n",
       "4  production_designer,art_department,set_decorator   \n",
       "\n",
       "                          known_for_titles  \n",
       "0  tt0837562,tt2398241,tt0844471,tt0118553  \n",
       "1  tt0896534,tt6791238,tt0287072,tt1682940  \n",
       "2  tt1470654,tt0363631,tt0104030,tt0102898  \n",
       "3  tt0114371,tt2004304,tt1618448,tt1224387  \n",
       "4  tt0452644,tt0452692,tt3458030,tt2178256  "
      ]
     },
     "execution_count": 428,
     "metadata": {},
     "output_type": "execute_result"
    }
   ],
   "source": [
    "name_basics_df.head()"
   ]
  },
  {
   "cell_type": "code",
   "execution_count": 429,
   "metadata": {
    "ExecuteTime": {
     "end_time": "2021-06-12T16:02:21.285376Z",
     "start_time": "2021-06-12T16:02:21.255348Z"
    }
   },
   "outputs": [],
   "source": [
    "name_basics_df = name_basics_df.drop(columns = 'death_year')"
   ]
  },
  {
   "cell_type": "code",
   "execution_count": 430,
   "metadata": {
    "ExecuteTime": {
     "end_time": "2021-06-12T16:02:21.397140Z",
     "start_time": "2021-06-12T16:02:21.286378Z"
    }
   },
   "outputs": [],
   "source": [
    "name_basics_df = name_basics_df.dropna()"
   ]
  },
  {
   "cell_type": "code",
   "execution_count": 431,
   "metadata": {
    "ExecuteTime": {
     "end_time": "2021-06-12T16:02:21.428169Z",
     "start_time": "2021-06-12T16:02:21.398143Z"
    }
   },
   "outputs": [
    {
     "data": {
      "text/plain": [
       "nconst                0\n",
       "primary_name          0\n",
       "birth_year            0\n",
       "primary_profession    0\n",
       "known_for_titles      0\n",
       "dtype: int64"
      ]
     },
     "execution_count": 431,
     "metadata": {},
     "output_type": "execute_result"
    }
   ],
   "source": [
    "name_basics_df.isna().sum()"
   ]
  },
  {
   "cell_type": "code",
   "execution_count": 432,
   "metadata": {
    "ExecuteTime": {
     "end_time": "2021-06-12T16:02:22.263609Z",
     "start_time": "2021-06-12T16:02:21.429169Z"
    }
   },
   "outputs": [],
   "source": [
    "name_basics_df = (name_basics_df.set_index(['nconst', 'primary_name','birth_year'])\n",
    "   .stack()\n",
    "   .str.split(',', expand=True)\n",
    "   .stack()\n",
    "   .unstack(-2)\n",
    "   .reset_index(-1, drop=True)\n",
    "   .reset_index()\n",
    ")"
   ]
  },
  {
   "cell_type": "code",
   "execution_count": 433,
   "metadata": {
    "ExecuteTime": {
     "end_time": "2021-06-12T16:02:22.279625Z",
     "start_time": "2021-06-12T16:02:22.264612Z"
    }
   },
   "outputs": [
    {
     "data": {
      "text/html": [
       "<div>\n",
       "<style scoped>\n",
       "    .dataframe tbody tr th:only-of-type {\n",
       "        vertical-align: middle;\n",
       "    }\n",
       "\n",
       "    .dataframe tbody tr th {\n",
       "        vertical-align: top;\n",
       "    }\n",
       "\n",
       "    .dataframe thead th {\n",
       "        text-align: right;\n",
       "    }\n",
       "</style>\n",
       "<table border=\"1\" class=\"dataframe\">\n",
       "  <thead>\n",
       "    <tr style=\"text-align: right;\">\n",
       "      <th></th>\n",
       "      <th>nconst</th>\n",
       "      <th>primary_name</th>\n",
       "      <th>birth_year</th>\n",
       "      <th>primary_profession</th>\n",
       "      <th>known_for_titles</th>\n",
       "    </tr>\n",
       "  </thead>\n",
       "  <tbody>\n",
       "    <tr>\n",
       "      <th>0</th>\n",
       "      <td>nm0000002</td>\n",
       "      <td>Lauren Bacall</td>\n",
       "      <td>1924.0</td>\n",
       "      <td>actress</td>\n",
       "      <td>tt0038355</td>\n",
       "    </tr>\n",
       "    <tr>\n",
       "      <th>1</th>\n",
       "      <td>nm0000002</td>\n",
       "      <td>Lauren Bacall</td>\n",
       "      <td>1924.0</td>\n",
       "      <td>soundtrack</td>\n",
       "      <td>tt0117057</td>\n",
       "    </tr>\n",
       "    <tr>\n",
       "      <th>2</th>\n",
       "      <td>nm0000002</td>\n",
       "      <td>Lauren Bacall</td>\n",
       "      <td>1924.0</td>\n",
       "      <td>NaN</td>\n",
       "      <td>tt0071877</td>\n",
       "    </tr>\n",
       "    <tr>\n",
       "      <th>3</th>\n",
       "      <td>nm0000002</td>\n",
       "      <td>Lauren Bacall</td>\n",
       "      <td>1924.0</td>\n",
       "      <td>NaN</td>\n",
       "      <td>tt0037382</td>\n",
       "    </tr>\n",
       "    <tr>\n",
       "      <th>4</th>\n",
       "      <td>nm0000003</td>\n",
       "      <td>Brigitte Bardot</td>\n",
       "      <td>1934.0</td>\n",
       "      <td>actress</td>\n",
       "      <td>tt0049189</td>\n",
       "    </tr>\n",
       "  </tbody>\n",
       "</table>\n",
       "</div>"
      ],
      "text/plain": [
       "      nconst     primary_name  birth_year primary_profession known_for_titles\n",
       "0  nm0000002    Lauren Bacall      1924.0            actress        tt0038355\n",
       "1  nm0000002    Lauren Bacall      1924.0         soundtrack        tt0117057\n",
       "2  nm0000002    Lauren Bacall      1924.0                NaN        tt0071877\n",
       "3  nm0000002    Lauren Bacall      1924.0                NaN        tt0037382\n",
       "4  nm0000003  Brigitte Bardot      1934.0            actress        tt0049189"
      ]
     },
     "execution_count": 433,
     "metadata": {},
     "output_type": "execute_result"
    }
   ],
   "source": [
    "name_basics_df.head()"
   ]
  },
  {
   "cell_type": "code",
   "execution_count": 434,
   "metadata": {
    "ExecuteTime": {
     "end_time": "2021-06-12T16:02:22.295639Z",
     "start_time": "2021-06-12T16:02:22.280626Z"
    }
   },
   "outputs": [],
   "source": [
    "name_basics_df = name_basics_df.rename({'known_for_titles': 'tconst'}, axis='columns')"
   ]
  },
  {
   "cell_type": "markdown",
   "metadata": {},
   "source": [
    "# Merge Data Sets"
   ]
  },
  {
   "cell_type": "code",
   "execution_count": 435,
   "metadata": {
    "ExecuteTime": {
     "end_time": "2021-06-12T16:02:22.343376Z",
     "start_time": "2021-06-12T16:02:22.296640Z"
    }
   },
   "outputs": [],
   "source": [
    "budget_tconst = pd.merge(title_basics_df, movie_budgets_df , left_on= 'primary_title', right_on= 'movie', how = 'right')"
   ]
  },
  {
   "cell_type": "code",
   "execution_count": 436,
   "metadata": {
    "ExecuteTime": {
     "end_time": "2021-06-12T16:02:22.375405Z",
     "start_time": "2021-06-12T16:02:22.344379Z"
    }
   },
   "outputs": [],
   "source": [
    "df = pd.merge(budget_tconst,  imdb_ratings_df, on=['tconst'])"
   ]
  },
  {
   "cell_type": "code",
   "execution_count": 437,
   "metadata": {
    "ExecuteTime": {
     "end_time": "2021-06-12T16:02:22.391420Z",
     "start_time": "2021-06-12T16:02:22.376407Z"
    }
   },
   "outputs": [
    {
     "data": {
      "text/html": [
       "<div>\n",
       "<style scoped>\n",
       "    .dataframe tbody tr th:only-of-type {\n",
       "        vertical-align: middle;\n",
       "    }\n",
       "\n",
       "    .dataframe tbody tr th {\n",
       "        vertical-align: top;\n",
       "    }\n",
       "\n",
       "    .dataframe thead th {\n",
       "        text-align: right;\n",
       "    }\n",
       "</style>\n",
       "<table border=\"1\" class=\"dataframe\">\n",
       "  <thead>\n",
       "    <tr style=\"text-align: right;\">\n",
       "      <th></th>\n",
       "      <th>tconst</th>\n",
       "      <th>primary_title</th>\n",
       "      <th>original_title</th>\n",
       "      <th>start_year</th>\n",
       "      <th>runtime_minutes</th>\n",
       "      <th>genres</th>\n",
       "      <th>id</th>\n",
       "      <th>release_date</th>\n",
       "      <th>movie</th>\n",
       "      <th>production_budget</th>\n",
       "      <th>domestic_gross</th>\n",
       "      <th>worldwide_gross</th>\n",
       "      <th>averagerating</th>\n",
       "      <th>numvotes</th>\n",
       "    </tr>\n",
       "  </thead>\n",
       "  <tbody>\n",
       "    <tr>\n",
       "      <th>0</th>\n",
       "      <td>tt1775309</td>\n",
       "      <td>Avatar</td>\n",
       "      <td>Abatâ</td>\n",
       "      <td>2011.0</td>\n",
       "      <td>93.0</td>\n",
       "      <td>Horror</td>\n",
       "      <td>1</td>\n",
       "      <td>Dec 18, 2009</td>\n",
       "      <td>Avatar</td>\n",
       "      <td>$425,000,000</td>\n",
       "      <td>$760,507,625</td>\n",
       "      <td>$2,776,345,279</td>\n",
       "      <td>6.1</td>\n",
       "      <td>43</td>\n",
       "    </tr>\n",
       "    <tr>\n",
       "      <th>1</th>\n",
       "      <td>tt1298650</td>\n",
       "      <td>Pirates of the Caribbean: On Stranger Tides</td>\n",
       "      <td>Pirates of the Caribbean: On Stranger Tides</td>\n",
       "      <td>2011.0</td>\n",
       "      <td>136.0</td>\n",
       "      <td>Action,Adventure,Fantasy</td>\n",
       "      <td>2</td>\n",
       "      <td>May 20, 2011</td>\n",
       "      <td>Pirates of the Caribbean: On Stranger Tides</td>\n",
       "      <td>$410,600,000</td>\n",
       "      <td>$241,063,875</td>\n",
       "      <td>$1,045,663,875</td>\n",
       "      <td>6.6</td>\n",
       "      <td>447624</td>\n",
       "    </tr>\n",
       "    <tr>\n",
       "      <th>2</th>\n",
       "      <td>tt6565702</td>\n",
       "      <td>Dark Phoenix</td>\n",
       "      <td>Dark Phoenix</td>\n",
       "      <td>2019.0</td>\n",
       "      <td>113.0</td>\n",
       "      <td>Action,Adventure,Sci-Fi</td>\n",
       "      <td>3</td>\n",
       "      <td>Jun 7, 2019</td>\n",
       "      <td>Dark Phoenix</td>\n",
       "      <td>$350,000,000</td>\n",
       "      <td>$42,762,350</td>\n",
       "      <td>$149,762,350</td>\n",
       "      <td>6.0</td>\n",
       "      <td>24451</td>\n",
       "    </tr>\n",
       "    <tr>\n",
       "      <th>3</th>\n",
       "      <td>tt2395427</td>\n",
       "      <td>Avengers: Age of Ultron</td>\n",
       "      <td>Avengers: Age of Ultron</td>\n",
       "      <td>2015.0</td>\n",
       "      <td>141.0</td>\n",
       "      <td>Action,Adventure,Sci-Fi</td>\n",
       "      <td>4</td>\n",
       "      <td>May 1, 2015</td>\n",
       "      <td>Avengers: Age of Ultron</td>\n",
       "      <td>$330,600,000</td>\n",
       "      <td>$459,005,868</td>\n",
       "      <td>$1,403,013,963</td>\n",
       "      <td>7.3</td>\n",
       "      <td>665594</td>\n",
       "    </tr>\n",
       "    <tr>\n",
       "      <th>4</th>\n",
       "      <td>tt4154756</td>\n",
       "      <td>Avengers: Infinity War</td>\n",
       "      <td>Avengers: Infinity War</td>\n",
       "      <td>2018.0</td>\n",
       "      <td>149.0</td>\n",
       "      <td>Action,Adventure,Sci-Fi</td>\n",
       "      <td>7</td>\n",
       "      <td>Apr 27, 2018</td>\n",
       "      <td>Avengers: Infinity War</td>\n",
       "      <td>$300,000,000</td>\n",
       "      <td>$678,815,482</td>\n",
       "      <td>$2,048,134,200</td>\n",
       "      <td>8.5</td>\n",
       "      <td>670926</td>\n",
       "    </tr>\n",
       "  </tbody>\n",
       "</table>\n",
       "</div>"
      ],
      "text/plain": [
       "      tconst                                primary_title  \\\n",
       "0  tt1775309                                       Avatar   \n",
       "1  tt1298650  Pirates of the Caribbean: On Stranger Tides   \n",
       "2  tt6565702                                 Dark Phoenix   \n",
       "3  tt2395427                      Avengers: Age of Ultron   \n",
       "4  tt4154756                       Avengers: Infinity War   \n",
       "\n",
       "                                original_title  start_year  runtime_minutes  \\\n",
       "0                                        Abatâ      2011.0             93.0   \n",
       "1  Pirates of the Caribbean: On Stranger Tides      2011.0            136.0   \n",
       "2                                 Dark Phoenix      2019.0            113.0   \n",
       "3                      Avengers: Age of Ultron      2015.0            141.0   \n",
       "4                       Avengers: Infinity War      2018.0            149.0   \n",
       "\n",
       "                     genres  id  release_date  \\\n",
       "0                    Horror   1  Dec 18, 2009   \n",
       "1  Action,Adventure,Fantasy   2  May 20, 2011   \n",
       "2   Action,Adventure,Sci-Fi   3   Jun 7, 2019   \n",
       "3   Action,Adventure,Sci-Fi   4   May 1, 2015   \n",
       "4   Action,Adventure,Sci-Fi   7  Apr 27, 2018   \n",
       "\n",
       "                                         movie production_budget  \\\n",
       "0                                       Avatar      $425,000,000   \n",
       "1  Pirates of the Caribbean: On Stranger Tides      $410,600,000   \n",
       "2                                 Dark Phoenix      $350,000,000   \n",
       "3                      Avengers: Age of Ultron      $330,600,000   \n",
       "4                       Avengers: Infinity War      $300,000,000   \n",
       "\n",
       "  domestic_gross worldwide_gross  averagerating  numvotes  \n",
       "0   $760,507,625  $2,776,345,279            6.1        43  \n",
       "1   $241,063,875  $1,045,663,875            6.6    447624  \n",
       "2    $42,762,350    $149,762,350            6.0     24451  \n",
       "3   $459,005,868  $1,403,013,963            7.3    665594  \n",
       "4   $678,815,482  $2,048,134,200            8.5    670926  "
      ]
     },
     "execution_count": 437,
     "metadata": {},
     "output_type": "execute_result"
    }
   ],
   "source": [
    "df.head()"
   ]
  },
  {
   "cell_type": "code",
   "execution_count": 438,
   "metadata": {
    "ExecuteTime": {
     "end_time": "2021-06-12T16:02:22.407435Z",
     "start_time": "2021-06-12T16:02:22.392421Z"
    }
   },
   "outputs": [
    {
     "name": "stdout",
     "output_type": "stream",
     "text": [
      "<class 'pandas.core.frame.DataFrame'>\n",
      "Int64Index: 2875 entries, 0 to 2874\n",
      "Data columns (total 14 columns):\n",
      " #   Column             Non-Null Count  Dtype  \n",
      "---  ------             --------------  -----  \n",
      " 0   tconst             2875 non-null   object \n",
      " 1   primary_title      2875 non-null   object \n",
      " 2   original_title     2875 non-null   object \n",
      " 3   start_year         2875 non-null   float64\n",
      " 4   runtime_minutes    2757 non-null   float64\n",
      " 5   genres             2867 non-null   object \n",
      " 6   id                 2875 non-null   int64  \n",
      " 7   release_date       2875 non-null   object \n",
      " 8   movie              2875 non-null   object \n",
      " 9   production_budget  2875 non-null   object \n",
      " 10  domestic_gross     2875 non-null   object \n",
      " 11  worldwide_gross    2875 non-null   object \n",
      " 12  averagerating      2875 non-null   float64\n",
      " 13  numvotes           2875 non-null   int64  \n",
      "dtypes: float64(3), int64(2), object(9)\n",
      "memory usage: 336.9+ KB\n"
     ]
    }
   ],
   "source": [
    "df.info()"
   ]
  },
  {
   "cell_type": "code",
   "execution_count": 439,
   "metadata": {
    "ExecuteTime": {
     "end_time": "2021-06-12T16:02:22.423450Z",
     "start_time": "2021-06-12T16:02:22.408435Z"
    }
   },
   "outputs": [],
   "source": [
    "def column_conversion(df, col):\n",
    "    df[col] = df[col].str.replace(\"$\",\"\").str.replace(\",\",\"\").astype('int64')\n",
    "    return df"
   ]
  },
  {
   "cell_type": "code",
   "execution_count": 440,
   "metadata": {
    "ExecuteTime": {
     "end_time": "2021-06-12T16:02:22.439065Z",
     "start_time": "2021-06-12T16:02:22.424450Z"
    }
   },
   "outputs": [],
   "source": [
    "column_to_convert = ['production_budget','domestic_gross','worldwide_gross']\n",
    "\n",
    "for col in column_to_convert:\n",
    "    df = column_conversion(df, col)"
   ]
  },
  {
   "cell_type": "code",
   "execution_count": 441,
   "metadata": {
    "ExecuteTime": {
     "end_time": "2021-06-12T16:02:22.455080Z",
     "start_time": "2021-06-12T16:02:22.440067Z"
    }
   },
   "outputs": [
    {
     "data": {
      "text/html": [
       "<div>\n",
       "<style scoped>\n",
       "    .dataframe tbody tr th:only-of-type {\n",
       "        vertical-align: middle;\n",
       "    }\n",
       "\n",
       "    .dataframe tbody tr th {\n",
       "        vertical-align: top;\n",
       "    }\n",
       "\n",
       "    .dataframe thead th {\n",
       "        text-align: right;\n",
       "    }\n",
       "</style>\n",
       "<table border=\"1\" class=\"dataframe\">\n",
       "  <thead>\n",
       "    <tr style=\"text-align: right;\">\n",
       "      <th></th>\n",
       "      <th>tconst</th>\n",
       "      <th>primary_title</th>\n",
       "      <th>original_title</th>\n",
       "      <th>start_year</th>\n",
       "      <th>runtime_minutes</th>\n",
       "      <th>genres</th>\n",
       "      <th>id</th>\n",
       "      <th>release_date</th>\n",
       "      <th>movie</th>\n",
       "      <th>production_budget</th>\n",
       "      <th>domestic_gross</th>\n",
       "      <th>worldwide_gross</th>\n",
       "      <th>averagerating</th>\n",
       "      <th>numvotes</th>\n",
       "    </tr>\n",
       "  </thead>\n",
       "  <tbody>\n",
       "    <tr>\n",
       "      <th>0</th>\n",
       "      <td>tt1775309</td>\n",
       "      <td>Avatar</td>\n",
       "      <td>Abatâ</td>\n",
       "      <td>2011.0</td>\n",
       "      <td>93.0</td>\n",
       "      <td>Horror</td>\n",
       "      <td>1</td>\n",
       "      <td>Dec 18, 2009</td>\n",
       "      <td>Avatar</td>\n",
       "      <td>425000000</td>\n",
       "      <td>760507625</td>\n",
       "      <td>2776345279</td>\n",
       "      <td>6.1</td>\n",
       "      <td>43</td>\n",
       "    </tr>\n",
       "    <tr>\n",
       "      <th>1</th>\n",
       "      <td>tt1298650</td>\n",
       "      <td>Pirates of the Caribbean: On Stranger Tides</td>\n",
       "      <td>Pirates of the Caribbean: On Stranger Tides</td>\n",
       "      <td>2011.0</td>\n",
       "      <td>136.0</td>\n",
       "      <td>Action,Adventure,Fantasy</td>\n",
       "      <td>2</td>\n",
       "      <td>May 20, 2011</td>\n",
       "      <td>Pirates of the Caribbean: On Stranger Tides</td>\n",
       "      <td>410600000</td>\n",
       "      <td>241063875</td>\n",
       "      <td>1045663875</td>\n",
       "      <td>6.6</td>\n",
       "      <td>447624</td>\n",
       "    </tr>\n",
       "    <tr>\n",
       "      <th>2</th>\n",
       "      <td>tt6565702</td>\n",
       "      <td>Dark Phoenix</td>\n",
       "      <td>Dark Phoenix</td>\n",
       "      <td>2019.0</td>\n",
       "      <td>113.0</td>\n",
       "      <td>Action,Adventure,Sci-Fi</td>\n",
       "      <td>3</td>\n",
       "      <td>Jun 7, 2019</td>\n",
       "      <td>Dark Phoenix</td>\n",
       "      <td>350000000</td>\n",
       "      <td>42762350</td>\n",
       "      <td>149762350</td>\n",
       "      <td>6.0</td>\n",
       "      <td>24451</td>\n",
       "    </tr>\n",
       "    <tr>\n",
       "      <th>3</th>\n",
       "      <td>tt2395427</td>\n",
       "      <td>Avengers: Age of Ultron</td>\n",
       "      <td>Avengers: Age of Ultron</td>\n",
       "      <td>2015.0</td>\n",
       "      <td>141.0</td>\n",
       "      <td>Action,Adventure,Sci-Fi</td>\n",
       "      <td>4</td>\n",
       "      <td>May 1, 2015</td>\n",
       "      <td>Avengers: Age of Ultron</td>\n",
       "      <td>330600000</td>\n",
       "      <td>459005868</td>\n",
       "      <td>1403013963</td>\n",
       "      <td>7.3</td>\n",
       "      <td>665594</td>\n",
       "    </tr>\n",
       "    <tr>\n",
       "      <th>4</th>\n",
       "      <td>tt4154756</td>\n",
       "      <td>Avengers: Infinity War</td>\n",
       "      <td>Avengers: Infinity War</td>\n",
       "      <td>2018.0</td>\n",
       "      <td>149.0</td>\n",
       "      <td>Action,Adventure,Sci-Fi</td>\n",
       "      <td>7</td>\n",
       "      <td>Apr 27, 2018</td>\n",
       "      <td>Avengers: Infinity War</td>\n",
       "      <td>300000000</td>\n",
       "      <td>678815482</td>\n",
       "      <td>2048134200</td>\n",
       "      <td>8.5</td>\n",
       "      <td>670926</td>\n",
       "    </tr>\n",
       "  </tbody>\n",
       "</table>\n",
       "</div>"
      ],
      "text/plain": [
       "      tconst                                primary_title  \\\n",
       "0  tt1775309                                       Avatar   \n",
       "1  tt1298650  Pirates of the Caribbean: On Stranger Tides   \n",
       "2  tt6565702                                 Dark Phoenix   \n",
       "3  tt2395427                      Avengers: Age of Ultron   \n",
       "4  tt4154756                       Avengers: Infinity War   \n",
       "\n",
       "                                original_title  start_year  runtime_minutes  \\\n",
       "0                                        Abatâ      2011.0             93.0   \n",
       "1  Pirates of the Caribbean: On Stranger Tides      2011.0            136.0   \n",
       "2                                 Dark Phoenix      2019.0            113.0   \n",
       "3                      Avengers: Age of Ultron      2015.0            141.0   \n",
       "4                       Avengers: Infinity War      2018.0            149.0   \n",
       "\n",
       "                     genres  id  release_date  \\\n",
       "0                    Horror   1  Dec 18, 2009   \n",
       "1  Action,Adventure,Fantasy   2  May 20, 2011   \n",
       "2   Action,Adventure,Sci-Fi   3   Jun 7, 2019   \n",
       "3   Action,Adventure,Sci-Fi   4   May 1, 2015   \n",
       "4   Action,Adventure,Sci-Fi   7  Apr 27, 2018   \n",
       "\n",
       "                                         movie  production_budget  \\\n",
       "0                                       Avatar          425000000   \n",
       "1  Pirates of the Caribbean: On Stranger Tides          410600000   \n",
       "2                                 Dark Phoenix          350000000   \n",
       "3                      Avengers: Age of Ultron          330600000   \n",
       "4                       Avengers: Infinity War          300000000   \n",
       "\n",
       "   domestic_gross  worldwide_gross  averagerating  numvotes  \n",
       "0       760507625       2776345279            6.1        43  \n",
       "1       241063875       1045663875            6.6    447624  \n",
       "2        42762350        149762350            6.0     24451  \n",
       "3       459005868       1403013963            7.3    665594  \n",
       "4       678815482       2048134200            8.5    670926  "
      ]
     },
     "execution_count": 441,
     "metadata": {},
     "output_type": "execute_result"
    }
   ],
   "source": [
    "df.head()"
   ]
  },
  {
   "cell_type": "code",
   "execution_count": 442,
   "metadata": {
    "ExecuteTime": {
     "end_time": "2021-06-12T16:02:22.615168Z",
     "start_time": "2021-06-12T16:02:22.456082Z"
    }
   },
   "outputs": [],
   "source": [
    "df = pd.merge(df, name_basics_df, on=['tconst'])"
   ]
  },
  {
   "cell_type": "markdown",
   "metadata": {},
   "source": [
    "# Clean Data"
   ]
  },
  {
   "cell_type": "code",
   "execution_count": null,
   "metadata": {},
   "outputs": [],
   "source": []
  },
  {
   "cell_type": "code",
   "execution_count": 443,
   "metadata": {
    "ExecuteTime": {
     "end_time": "2021-06-12T16:02:22.631184Z",
     "start_time": "2021-06-12T16:02:22.616171Z"
    }
   },
   "outputs": [],
   "source": [
    "df.drop(['original_title', 'movie', 'tconst', 'release_date'], axis='columns', inplace = True)"
   ]
  },
  {
   "cell_type": "code",
   "execution_count": 444,
   "metadata": {
    "ExecuteTime": {
     "end_time": "2021-06-12T16:02:22.663213Z",
     "start_time": "2021-06-12T16:02:22.633186Z"
    }
   },
   "outputs": [
    {
     "data": {
      "text/html": [
       "<div>\n",
       "<style scoped>\n",
       "    .dataframe tbody tr th:only-of-type {\n",
       "        vertical-align: middle;\n",
       "    }\n",
       "\n",
       "    .dataframe tbody tr th {\n",
       "        vertical-align: top;\n",
       "    }\n",
       "\n",
       "    .dataframe thead th {\n",
       "        text-align: right;\n",
       "    }\n",
       "</style>\n",
       "<table border=\"1\" class=\"dataframe\">\n",
       "  <thead>\n",
       "    <tr style=\"text-align: right;\">\n",
       "      <th></th>\n",
       "      <th>primary_title</th>\n",
       "      <th>start_year</th>\n",
       "      <th>runtime_minutes</th>\n",
       "      <th>genres</th>\n",
       "      <th>id</th>\n",
       "      <th>production_budget</th>\n",
       "      <th>domestic_gross</th>\n",
       "      <th>worldwide_gross</th>\n",
       "      <th>averagerating</th>\n",
       "      <th>numvotes</th>\n",
       "      <th>nconst</th>\n",
       "      <th>primary_name</th>\n",
       "      <th>birth_year</th>\n",
       "      <th>primary_profession</th>\n",
       "    </tr>\n",
       "  </thead>\n",
       "  <tbody>\n",
       "    <tr>\n",
       "      <th>0</th>\n",
       "      <td>Pirates of the Caribbean: On Stranger Tides</td>\n",
       "      <td>2011.0</td>\n",
       "      <td>136.0</td>\n",
       "      <td>Action,Adventure,Fantasy</td>\n",
       "      <td>2</td>\n",
       "      <td>410600000</td>\n",
       "      <td>241063875</td>\n",
       "      <td>1045663875</td>\n",
       "      <td>6.6</td>\n",
       "      <td>447624</td>\n",
       "      <td>nm0004851</td>\n",
       "      <td>Penélope Cruz</td>\n",
       "      <td>1974.0</td>\n",
       "      <td>actress</td>\n",
       "    </tr>\n",
       "    <tr>\n",
       "      <th>1</th>\n",
       "      <td>Pirates of the Caribbean: On Stranger Tides</td>\n",
       "      <td>2011.0</td>\n",
       "      <td>136.0</td>\n",
       "      <td>Action,Adventure,Fantasy</td>\n",
       "      <td>2</td>\n",
       "      <td>410600000</td>\n",
       "      <td>241063875</td>\n",
       "      <td>1045663875</td>\n",
       "      <td>6.6</td>\n",
       "      <td>447624</td>\n",
       "      <td>nm0019885</td>\n",
       "      <td>Roger Allam</td>\n",
       "      <td>1953.0</td>\n",
       "      <td>NaN</td>\n",
       "    </tr>\n",
       "    <tr>\n",
       "      <th>2</th>\n",
       "      <td>Pirates of the Caribbean: On Stranger Tides</td>\n",
       "      <td>2011.0</td>\n",
       "      <td>136.0</td>\n",
       "      <td>Action,Adventure,Fantasy</td>\n",
       "      <td>2</td>\n",
       "      <td>410600000</td>\n",
       "      <td>241063875</td>\n",
       "      <td>1045663875</td>\n",
       "      <td>6.6</td>\n",
       "      <td>447624</td>\n",
       "      <td>nm0046087</td>\n",
       "      <td>Jennifer Badger</td>\n",
       "      <td>1976.0</td>\n",
       "      <td>stunts</td>\n",
       "    </tr>\n",
       "    <tr>\n",
       "      <th>3</th>\n",
       "      <td>Pirates of the Caribbean: On Stranger Tides</td>\n",
       "      <td>2011.0</td>\n",
       "      <td>136.0</td>\n",
       "      <td>Action,Adventure,Fantasy</td>\n",
       "      <td>2</td>\n",
       "      <td>410600000</td>\n",
       "      <td>241063875</td>\n",
       "      <td>1045663875</td>\n",
       "      <td>6.6</td>\n",
       "      <td>447624</td>\n",
       "      <td>nm0263740</td>\n",
       "      <td>Steve Evets</td>\n",
       "      <td>1960.0</td>\n",
       "      <td>actor</td>\n",
       "    </tr>\n",
       "    <tr>\n",
       "      <th>4</th>\n",
       "      <td>Pirates of the Caribbean: On Stranger Tides</td>\n",
       "      <td>2011.0</td>\n",
       "      <td>136.0</td>\n",
       "      <td>Action,Adventure,Fantasy</td>\n",
       "      <td>2</td>\n",
       "      <td>410600000</td>\n",
       "      <td>241063875</td>\n",
       "      <td>1045663875</td>\n",
       "      <td>6.6</td>\n",
       "      <td>447624</td>\n",
       "      <td>nm0273797</td>\n",
       "      <td>Sebastian Armesto</td>\n",
       "      <td>1982.0</td>\n",
       "      <td>assistant_director</td>\n",
       "    </tr>\n",
       "    <tr>\n",
       "      <th>...</th>\n",
       "      <td>...</td>\n",
       "      <td>...</td>\n",
       "      <td>...</td>\n",
       "      <td>...</td>\n",
       "      <td>...</td>\n",
       "      <td>...</td>\n",
       "      <td>...</td>\n",
       "      <td>...</td>\n",
       "      <td>...</td>\n",
       "      <td>...</td>\n",
       "      <td>...</td>\n",
       "      <td>...</td>\n",
       "      <td>...</td>\n",
       "      <td>...</td>\n",
       "    </tr>\n",
       "    <tr>\n",
       "      <th>17431</th>\n",
       "      <td>Krisha</td>\n",
       "      <td>2015.0</td>\n",
       "      <td>83.0</td>\n",
       "      <td>Drama</td>\n",
       "      <td>38</td>\n",
       "      <td>30000</td>\n",
       "      <td>144822</td>\n",
       "      <td>144822</td>\n",
       "      <td>7.2</td>\n",
       "      <td>5917</td>\n",
       "      <td>nm5703842</td>\n",
       "      <td>Olivia Grace Applegate</td>\n",
       "      <td>1991.0</td>\n",
       "      <td>NaN</td>\n",
       "    </tr>\n",
       "    <tr>\n",
       "      <th>17432</th>\n",
       "      <td>Exeter</td>\n",
       "      <td>2015.0</td>\n",
       "      <td>91.0</td>\n",
       "      <td>Horror,Mystery,Thriller</td>\n",
       "      <td>49</td>\n",
       "      <td>25000</td>\n",
       "      <td>0</td>\n",
       "      <td>489792</td>\n",
       "      <td>4.5</td>\n",
       "      <td>5156</td>\n",
       "      <td>nm1885051</td>\n",
       "      <td>Nick Nicotera</td>\n",
       "      <td>1981.0</td>\n",
       "      <td>editor</td>\n",
       "    </tr>\n",
       "    <tr>\n",
       "      <th>17433</th>\n",
       "      <td>Ten</td>\n",
       "      <td>2013.0</td>\n",
       "      <td>118.0</td>\n",
       "      <td>Drama</td>\n",
       "      <td>51</td>\n",
       "      <td>25000</td>\n",
       "      <td>0</td>\n",
       "      <td>0</td>\n",
       "      <td>5.5</td>\n",
       "      <td>31</td>\n",
       "      <td>nm2793783</td>\n",
       "      <td>Colin Burt Vidler</td>\n",
       "      <td>1970.0</td>\n",
       "      <td>actor</td>\n",
       "    </tr>\n",
       "    <tr>\n",
       "      <th>17434</th>\n",
       "      <td>Ten</td>\n",
       "      <td>2017.0</td>\n",
       "      <td>82.0</td>\n",
       "      <td>Horror,Mystery,Thriller</td>\n",
       "      <td>51</td>\n",
       "      <td>25000</td>\n",
       "      <td>0</td>\n",
       "      <td>0</td>\n",
       "      <td>4.7</td>\n",
       "      <td>191</td>\n",
       "      <td>nm1211485</td>\n",
       "      <td>Raquel Castro</td>\n",
       "      <td>1994.0</td>\n",
       "      <td>NaN</td>\n",
       "    </tr>\n",
       "    <tr>\n",
       "      <th>17435</th>\n",
       "      <td>Red 11</td>\n",
       "      <td>2019.0</td>\n",
       "      <td>77.0</td>\n",
       "      <td>Horror,Sci-Fi,Thriller</td>\n",
       "      <td>78</td>\n",
       "      <td>7000</td>\n",
       "      <td>0</td>\n",
       "      <td>0</td>\n",
       "      <td>5.6</td>\n",
       "      <td>43</td>\n",
       "      <td>nm1897406</td>\n",
       "      <td>Racer Rodriguez</td>\n",
       "      <td>1997.0</td>\n",
       "      <td>stunts</td>\n",
       "    </tr>\n",
       "  </tbody>\n",
       "</table>\n",
       "<p>17436 rows × 14 columns</p>\n",
       "</div>"
      ],
      "text/plain": [
       "                                     primary_title  start_year  \\\n",
       "0      Pirates of the Caribbean: On Stranger Tides      2011.0   \n",
       "1      Pirates of the Caribbean: On Stranger Tides      2011.0   \n",
       "2      Pirates of the Caribbean: On Stranger Tides      2011.0   \n",
       "3      Pirates of the Caribbean: On Stranger Tides      2011.0   \n",
       "4      Pirates of the Caribbean: On Stranger Tides      2011.0   \n",
       "...                                            ...         ...   \n",
       "17431                                       Krisha      2015.0   \n",
       "17432                                       Exeter      2015.0   \n",
       "17433                                          Ten      2013.0   \n",
       "17434                                          Ten      2017.0   \n",
       "17435                                       Red 11      2019.0   \n",
       "\n",
       "       runtime_minutes                    genres  id  production_budget  \\\n",
       "0                136.0  Action,Adventure,Fantasy   2          410600000   \n",
       "1                136.0  Action,Adventure,Fantasy   2          410600000   \n",
       "2                136.0  Action,Adventure,Fantasy   2          410600000   \n",
       "3                136.0  Action,Adventure,Fantasy   2          410600000   \n",
       "4                136.0  Action,Adventure,Fantasy   2          410600000   \n",
       "...                ...                       ...  ..                ...   \n",
       "17431             83.0                     Drama  38              30000   \n",
       "17432             91.0   Horror,Mystery,Thriller  49              25000   \n",
       "17433            118.0                     Drama  51              25000   \n",
       "17434             82.0   Horror,Mystery,Thriller  51              25000   \n",
       "17435             77.0    Horror,Sci-Fi,Thriller  78               7000   \n",
       "\n",
       "       domestic_gross  worldwide_gross  averagerating  numvotes     nconst  \\\n",
       "0           241063875       1045663875            6.6    447624  nm0004851   \n",
       "1           241063875       1045663875            6.6    447624  nm0019885   \n",
       "2           241063875       1045663875            6.6    447624  nm0046087   \n",
       "3           241063875       1045663875            6.6    447624  nm0263740   \n",
       "4           241063875       1045663875            6.6    447624  nm0273797   \n",
       "...               ...              ...            ...       ...        ...   \n",
       "17431          144822           144822            7.2      5917  nm5703842   \n",
       "17432               0           489792            4.5      5156  nm1885051   \n",
       "17433               0                0            5.5        31  nm2793783   \n",
       "17434               0                0            4.7       191  nm1211485   \n",
       "17435               0                0            5.6        43  nm1897406   \n",
       "\n",
       "                 primary_name  birth_year  primary_profession  \n",
       "0               Penélope Cruz      1974.0             actress  \n",
       "1                 Roger Allam      1953.0                 NaN  \n",
       "2             Jennifer Badger      1976.0              stunts  \n",
       "3                 Steve Evets      1960.0               actor  \n",
       "4           Sebastian Armesto      1982.0  assistant_director  \n",
       "...                       ...         ...                 ...  \n",
       "17431  Olivia Grace Applegate      1991.0                 NaN  \n",
       "17432           Nick Nicotera      1981.0              editor  \n",
       "17433       Colin Burt Vidler      1970.0               actor  \n",
       "17434           Raquel Castro      1994.0                 NaN  \n",
       "17435         Racer Rodriguez      1997.0              stunts  \n",
       "\n",
       "[17436 rows x 14 columns]"
      ]
     },
     "execution_count": 444,
     "metadata": {},
     "output_type": "execute_result"
    }
   ],
   "source": [
    "df"
   ]
  },
  {
   "cell_type": "code",
   "execution_count": null,
   "metadata": {
    "ExecuteTime": {
     "end_time": "2021-06-12T11:22:59.898246Z",
     "start_time": "2021-06-12T11:22:59.884234Z"
    }
   },
   "outputs": [],
   "source": []
  },
  {
   "cell_type": "code",
   "execution_count": 445,
   "metadata": {
    "ExecuteTime": {
     "end_time": "2021-06-12T16:02:22.679232Z",
     "start_time": "2021-06-12T16:02:22.664214Z"
    }
   },
   "outputs": [
    {
     "data": {
      "text/plain": [
       "primary_title            0\n",
       "start_year               0\n",
       "runtime_minutes         68\n",
       "genres                   5\n",
       "id                       0\n",
       "production_budget        0\n",
       "domestic_gross           0\n",
       "worldwide_gross          0\n",
       "averagerating            0\n",
       "numvotes                 0\n",
       "nconst                   0\n",
       "primary_name             0\n",
       "birth_year               0\n",
       "primary_profession    6444\n",
       "dtype: int64"
      ]
     },
     "execution_count": 445,
     "metadata": {},
     "output_type": "execute_result"
    }
   ],
   "source": [
    "df.isna().sum()"
   ]
  },
  {
   "cell_type": "code",
   "execution_count": 446,
   "metadata": {
    "ExecuteTime": {
     "end_time": "2021-06-12T16:02:22.695247Z",
     "start_time": "2021-06-12T16:02:22.680233Z"
    }
   },
   "outputs": [],
   "source": [
    "df = df.dropna()"
   ]
  },
  {
   "cell_type": "code",
   "execution_count": 447,
   "metadata": {
    "ExecuteTime": {
     "end_time": "2021-06-12T16:02:22.711262Z",
     "start_time": "2021-06-12T16:02:22.696248Z"
    }
   },
   "outputs": [
    {
     "data": {
      "text/plain": [
       "primary_title         0\n",
       "start_year            0\n",
       "runtime_minutes       0\n",
       "genres                0\n",
       "id                    0\n",
       "production_budget     0\n",
       "domestic_gross        0\n",
       "worldwide_gross       0\n",
       "averagerating         0\n",
       "numvotes              0\n",
       "nconst                0\n",
       "primary_name          0\n",
       "birth_year            0\n",
       "primary_profession    0\n",
       "dtype: int64"
      ]
     },
     "execution_count": 447,
     "metadata": {},
     "output_type": "execute_result"
    }
   ],
   "source": [
    "df.isna().sum()"
   ]
  },
  {
   "cell_type": "code",
   "execution_count": 448,
   "metadata": {
    "ExecuteTime": {
     "end_time": "2021-06-12T16:02:22.727278Z",
     "start_time": "2021-06-12T16:02:22.712263Z"
    }
   },
   "outputs": [
    {
     "data": {
      "text/plain": [
       "(10958, 14)"
      ]
     },
     "execution_count": 448,
     "metadata": {},
     "output_type": "execute_result"
    }
   ],
   "source": [
    "df.shape"
   ]
  },
  {
   "cell_type": "code",
   "execution_count": 449,
   "metadata": {
    "ExecuteTime": {
     "end_time": "2021-06-12T16:02:22.743291Z",
     "start_time": "2021-06-12T16:02:22.728278Z"
    }
   },
   "outputs": [],
   "source": [
    "df = df.drop_duplicates(subset = 'primary_title')"
   ]
  },
  {
   "cell_type": "code",
   "execution_count": 450,
   "metadata": {
    "ExecuteTime": {
     "end_time": "2021-06-12T16:02:22.759306Z",
     "start_time": "2021-06-12T16:02:22.744292Z"
    }
   },
   "outputs": [
    {
     "data": {
      "text/plain": [
       "<bound method IndexOpsMixin.nunique of 0        Pirates of the Caribbean: On Stranger Tides\n",
       "33                                      Dark Phoenix\n",
       "42                           Avengers: Age of Ultron\n",
       "63                            Avengers: Infinity War\n",
       "108                                   Justice League\n",
       "                            ...                     \n",
       "17427                                 Raymond Did It\n",
       "17429                                Foreign Letters\n",
       "17432                                         Exeter\n",
       "17433                                            Ten\n",
       "17435                                         Red 11\n",
       "Name: primary_title, Length: 1723, dtype: object>"
      ]
     },
     "execution_count": 450,
     "metadata": {},
     "output_type": "execute_result"
    }
   ],
   "source": [
    "df['primary_title'].nunique"
   ]
  },
  {
   "cell_type": "code",
   "execution_count": 451,
   "metadata": {
    "ExecuteTime": {
     "end_time": "2021-06-12T16:02:22.775320Z",
     "start_time": "2021-06-12T16:02:22.760307Z"
    }
   },
   "outputs": [
    {
     "data": {
      "text/plain": [
       "(1723, 14)"
      ]
     },
     "execution_count": 451,
     "metadata": {},
     "output_type": "execute_result"
    }
   ],
   "source": [
    "df.shape"
   ]
  },
  {
   "cell_type": "markdown",
   "metadata": {},
   "source": [
    "# Feature Engineering"
   ]
  },
  {
   "cell_type": "code",
   "execution_count": 452,
   "metadata": {
    "ExecuteTime": {
     "end_time": "2021-06-12T16:02:22.791337Z",
     "start_time": "2021-06-12T16:02:22.776322Z"
    }
   },
   "outputs": [],
   "source": [
    "df['genres_split'] = df['genres'].map(lambda x: x.split(\",\") if x else x)"
   ]
  },
  {
   "cell_type": "code",
   "execution_count": 453,
   "metadata": {
    "ExecuteTime": {
     "end_time": "2021-06-12T16:02:22.807352Z",
     "start_time": "2021-06-12T16:02:22.792337Z"
    }
   },
   "outputs": [],
   "source": [
    "all_genres = set()\n",
    "for genres in df['genres_split']:\n",
    "    if genres:\n",
    "        all_genres.update(genres)"
   ]
  },
  {
   "cell_type": "code",
   "execution_count": 454,
   "metadata": {
    "ExecuteTime": {
     "end_time": "2021-06-12T16:02:22.823173Z",
     "start_time": "2021-06-12T16:02:22.808353Z"
    }
   },
   "outputs": [],
   "source": [
    "df['1_genre'] = df['genres_split'].map(lambda x: x[0])"
   ]
  },
  {
   "cell_type": "code",
   "execution_count": 455,
   "metadata": {
    "ExecuteTime": {
     "end_time": "2021-06-12T16:02:22.839189Z",
     "start_time": "2021-06-12T16:02:22.824176Z"
    }
   },
   "outputs": [
    {
     "data": {
      "text/html": [
       "<div>\n",
       "<style scoped>\n",
       "    .dataframe tbody tr th:only-of-type {\n",
       "        vertical-align: middle;\n",
       "    }\n",
       "\n",
       "    .dataframe tbody tr th {\n",
       "        vertical-align: top;\n",
       "    }\n",
       "\n",
       "    .dataframe thead th {\n",
       "        text-align: right;\n",
       "    }\n",
       "</style>\n",
       "<table border=\"1\" class=\"dataframe\">\n",
       "  <thead>\n",
       "    <tr style=\"text-align: right;\">\n",
       "      <th></th>\n",
       "      <th>primary_title</th>\n",
       "      <th>start_year</th>\n",
       "      <th>runtime_minutes</th>\n",
       "      <th>genres</th>\n",
       "      <th>id</th>\n",
       "      <th>production_budget</th>\n",
       "      <th>domestic_gross</th>\n",
       "      <th>worldwide_gross</th>\n",
       "      <th>averagerating</th>\n",
       "      <th>numvotes</th>\n",
       "      <th>nconst</th>\n",
       "      <th>primary_name</th>\n",
       "      <th>birth_year</th>\n",
       "      <th>primary_profession</th>\n",
       "      <th>genres_split</th>\n",
       "      <th>1_genre</th>\n",
       "    </tr>\n",
       "  </thead>\n",
       "  <tbody>\n",
       "    <tr>\n",
       "      <th>0</th>\n",
       "      <td>Pirates of the Caribbean: On Stranger Tides</td>\n",
       "      <td>2011.0</td>\n",
       "      <td>136.0</td>\n",
       "      <td>Action,Adventure,Fantasy</td>\n",
       "      <td>2</td>\n",
       "      <td>410600000</td>\n",
       "      <td>241063875</td>\n",
       "      <td>1045663875</td>\n",
       "      <td>6.6</td>\n",
       "      <td>447624</td>\n",
       "      <td>nm0004851</td>\n",
       "      <td>Penélope Cruz</td>\n",
       "      <td>1974.0</td>\n",
       "      <td>actress</td>\n",
       "      <td>[Action, Adventure, Fantasy]</td>\n",
       "      <td>Action</td>\n",
       "    </tr>\n",
       "    <tr>\n",
       "      <th>33</th>\n",
       "      <td>Dark Phoenix</td>\n",
       "      <td>2019.0</td>\n",
       "      <td>113.0</td>\n",
       "      <td>Action,Adventure,Sci-Fi</td>\n",
       "      <td>3</td>\n",
       "      <td>350000000</td>\n",
       "      <td>42762350</td>\n",
       "      <td>149762350</td>\n",
       "      <td>6.0</td>\n",
       "      <td>24451</td>\n",
       "      <td>nm0126208</td>\n",
       "      <td>John Byrne</td>\n",
       "      <td>1950.0</td>\n",
       "      <td>art_department</td>\n",
       "      <td>[Action, Adventure, Sci-Fi]</td>\n",
       "      <td>Action</td>\n",
       "    </tr>\n",
       "    <tr>\n",
       "      <th>42</th>\n",
       "      <td>Avengers: Age of Ultron</td>\n",
       "      <td>2015.0</td>\n",
       "      <td>141.0</td>\n",
       "      <td>Action,Adventure,Sci-Fi</td>\n",
       "      <td>4</td>\n",
       "      <td>330600000</td>\n",
       "      <td>459005868</td>\n",
       "      <td>1403013963</td>\n",
       "      <td>7.3</td>\n",
       "      <td>665594</td>\n",
       "      <td>nm0006568</td>\n",
       "      <td>Maria Callas</td>\n",
       "      <td>1923.0</td>\n",
       "      <td>actress</td>\n",
       "      <td>[Action, Adventure, Sci-Fi]</td>\n",
       "      <td>Action</td>\n",
       "    </tr>\n",
       "    <tr>\n",
       "      <th>63</th>\n",
       "      <td>Avengers: Infinity War</td>\n",
       "      <td>2018.0</td>\n",
       "      <td>149.0</td>\n",
       "      <td>Action,Adventure,Sci-Fi</td>\n",
       "      <td>7</td>\n",
       "      <td>300000000</td>\n",
       "      <td>678815482</td>\n",
       "      <td>2048134200</td>\n",
       "      <td>8.5</td>\n",
       "      <td>670926</td>\n",
       "      <td>nm0000982</td>\n",
       "      <td>Josh Brolin</td>\n",
       "      <td>1968.0</td>\n",
       "      <td>actor</td>\n",
       "      <td>[Action, Adventure, Sci-Fi]</td>\n",
       "      <td>Action</td>\n",
       "    </tr>\n",
       "    <tr>\n",
       "      <th>108</th>\n",
       "      <td>Justice League</td>\n",
       "      <td>2017.0</td>\n",
       "      <td>120.0</td>\n",
       "      <td>Action,Adventure,Fantasy</td>\n",
       "      <td>9</td>\n",
       "      <td>300000000</td>\n",
       "      <td>229024295</td>\n",
       "      <td>655945209</td>\n",
       "      <td>6.5</td>\n",
       "      <td>329135</td>\n",
       "      <td>nm0006516</td>\n",
       "      <td>Chris Terrio</td>\n",
       "      <td>1976.0</td>\n",
       "      <td>director</td>\n",
       "      <td>[Action, Adventure, Fantasy]</td>\n",
       "      <td>Action</td>\n",
       "    </tr>\n",
       "  </tbody>\n",
       "</table>\n",
       "</div>"
      ],
      "text/plain": [
       "                                   primary_title  start_year  runtime_minutes  \\\n",
       "0    Pirates of the Caribbean: On Stranger Tides      2011.0            136.0   \n",
       "33                                  Dark Phoenix      2019.0            113.0   \n",
       "42                       Avengers: Age of Ultron      2015.0            141.0   \n",
       "63                        Avengers: Infinity War      2018.0            149.0   \n",
       "108                               Justice League      2017.0            120.0   \n",
       "\n",
       "                       genres  id  production_budget  domestic_gross  \\\n",
       "0    Action,Adventure,Fantasy   2          410600000       241063875   \n",
       "33    Action,Adventure,Sci-Fi   3          350000000        42762350   \n",
       "42    Action,Adventure,Sci-Fi   4          330600000       459005868   \n",
       "63    Action,Adventure,Sci-Fi   7          300000000       678815482   \n",
       "108  Action,Adventure,Fantasy   9          300000000       229024295   \n",
       "\n",
       "     worldwide_gross  averagerating  numvotes     nconst   primary_name  \\\n",
       "0         1045663875            6.6    447624  nm0004851  Penélope Cruz   \n",
       "33         149762350            6.0     24451  nm0126208     John Byrne   \n",
       "42        1403013963            7.3    665594  nm0006568   Maria Callas   \n",
       "63        2048134200            8.5    670926  nm0000982    Josh Brolin   \n",
       "108        655945209            6.5    329135  nm0006516   Chris Terrio   \n",
       "\n",
       "     birth_year primary_profession                  genres_split 1_genre  \n",
       "0        1974.0            actress  [Action, Adventure, Fantasy]  Action  \n",
       "33       1950.0     art_department   [Action, Adventure, Sci-Fi]  Action  \n",
       "42       1923.0            actress   [Action, Adventure, Sci-Fi]  Action  \n",
       "63       1968.0              actor   [Action, Adventure, Sci-Fi]  Action  \n",
       "108      1976.0           director  [Action, Adventure, Fantasy]  Action  "
      ]
     },
     "execution_count": 455,
     "metadata": {},
     "output_type": "execute_result"
    }
   ],
   "source": [
    "df.head()"
   ]
  },
  {
   "cell_type": "code",
   "execution_count": null,
   "metadata": {},
   "outputs": [],
   "source": []
  },
  {
   "cell_type": "markdown",
   "metadata": {
    "ExecuteTime": {
     "end_time": "2021-06-12T14:10:10.445753Z",
     "start_time": "2021-06-12T14:10:10.430739Z"
    }
   },
   "source": [
    "# Data Preparation"
   ]
  },
  {
   "cell_type": "code",
   "execution_count": 456,
   "metadata": {
    "ExecuteTime": {
     "end_time": "2021-06-12T16:02:22.855203Z",
     "start_time": "2021-06-12T16:02:22.840190Z"
    }
   },
   "outputs": [],
   "source": [
    "def clean_data(x):\n",
    "    if isinstance(x, list):\n",
    "        return [str.lower(i.replace(\" \", \"\")) for i in x]\n",
    "    else:\n",
    "        if isinstance(x, str):\n",
    "            return str.lower(x.replace(\" \", \"\"))\n",
    "        else:\n",
    "            return ''"
   ]
  },
  {
   "cell_type": "code",
   "execution_count": 457,
   "metadata": {
    "ExecuteTime": {
     "end_time": "2021-06-12T16:02:22.871267Z",
     "start_time": "2021-06-12T16:02:22.856204Z"
    }
   },
   "outputs": [],
   "source": [
    "# Apply clean_data function to your features.\n",
    "features = ['1_genre', 'primary_name', 'primary_profession']\n",
    "\n",
    "for feature in features:\n",
    "    df[feature] = df[feature].apply(clean_data)"
   ]
  },
  {
   "cell_type": "code",
   "execution_count": 458,
   "metadata": {
    "ExecuteTime": {
     "end_time": "2021-06-12T16:02:22.887282Z",
     "start_time": "2021-06-12T16:02:22.872268Z"
    }
   },
   "outputs": [
    {
     "data": {
      "text/html": [
       "<div>\n",
       "<style scoped>\n",
       "    .dataframe tbody tr th:only-of-type {\n",
       "        vertical-align: middle;\n",
       "    }\n",
       "\n",
       "    .dataframe tbody tr th {\n",
       "        vertical-align: top;\n",
       "    }\n",
       "\n",
       "    .dataframe thead th {\n",
       "        text-align: right;\n",
       "    }\n",
       "</style>\n",
       "<table border=\"1\" class=\"dataframe\">\n",
       "  <thead>\n",
       "    <tr style=\"text-align: right;\">\n",
       "      <th></th>\n",
       "      <th>primary_title</th>\n",
       "      <th>start_year</th>\n",
       "      <th>runtime_minutes</th>\n",
       "      <th>genres</th>\n",
       "      <th>id</th>\n",
       "      <th>production_budget</th>\n",
       "      <th>domestic_gross</th>\n",
       "      <th>worldwide_gross</th>\n",
       "      <th>averagerating</th>\n",
       "      <th>numvotes</th>\n",
       "      <th>nconst</th>\n",
       "      <th>primary_name</th>\n",
       "      <th>birth_year</th>\n",
       "      <th>primary_profession</th>\n",
       "      <th>genres_split</th>\n",
       "      <th>1_genre</th>\n",
       "    </tr>\n",
       "  </thead>\n",
       "  <tbody>\n",
       "    <tr>\n",
       "      <th>0</th>\n",
       "      <td>Pirates of the Caribbean: On Stranger Tides</td>\n",
       "      <td>2011.0</td>\n",
       "      <td>136.0</td>\n",
       "      <td>Action,Adventure,Fantasy</td>\n",
       "      <td>2</td>\n",
       "      <td>410600000</td>\n",
       "      <td>241063875</td>\n",
       "      <td>1045663875</td>\n",
       "      <td>6.6</td>\n",
       "      <td>447624</td>\n",
       "      <td>nm0004851</td>\n",
       "      <td>penélopecruz</td>\n",
       "      <td>1974.0</td>\n",
       "      <td>actress</td>\n",
       "      <td>[Action, Adventure, Fantasy]</td>\n",
       "      <td>action</td>\n",
       "    </tr>\n",
       "    <tr>\n",
       "      <th>33</th>\n",
       "      <td>Dark Phoenix</td>\n",
       "      <td>2019.0</td>\n",
       "      <td>113.0</td>\n",
       "      <td>Action,Adventure,Sci-Fi</td>\n",
       "      <td>3</td>\n",
       "      <td>350000000</td>\n",
       "      <td>42762350</td>\n",
       "      <td>149762350</td>\n",
       "      <td>6.0</td>\n",
       "      <td>24451</td>\n",
       "      <td>nm0126208</td>\n",
       "      <td>johnbyrne</td>\n",
       "      <td>1950.0</td>\n",
       "      <td>art_department</td>\n",
       "      <td>[Action, Adventure, Sci-Fi]</td>\n",
       "      <td>action</td>\n",
       "    </tr>\n",
       "    <tr>\n",
       "      <th>42</th>\n",
       "      <td>Avengers: Age of Ultron</td>\n",
       "      <td>2015.0</td>\n",
       "      <td>141.0</td>\n",
       "      <td>Action,Adventure,Sci-Fi</td>\n",
       "      <td>4</td>\n",
       "      <td>330600000</td>\n",
       "      <td>459005868</td>\n",
       "      <td>1403013963</td>\n",
       "      <td>7.3</td>\n",
       "      <td>665594</td>\n",
       "      <td>nm0006568</td>\n",
       "      <td>mariacallas</td>\n",
       "      <td>1923.0</td>\n",
       "      <td>actress</td>\n",
       "      <td>[Action, Adventure, Sci-Fi]</td>\n",
       "      <td>action</td>\n",
       "    </tr>\n",
       "    <tr>\n",
       "      <th>63</th>\n",
       "      <td>Avengers: Infinity War</td>\n",
       "      <td>2018.0</td>\n",
       "      <td>149.0</td>\n",
       "      <td>Action,Adventure,Sci-Fi</td>\n",
       "      <td>7</td>\n",
       "      <td>300000000</td>\n",
       "      <td>678815482</td>\n",
       "      <td>2048134200</td>\n",
       "      <td>8.5</td>\n",
       "      <td>670926</td>\n",
       "      <td>nm0000982</td>\n",
       "      <td>joshbrolin</td>\n",
       "      <td>1968.0</td>\n",
       "      <td>actor</td>\n",
       "      <td>[Action, Adventure, Sci-Fi]</td>\n",
       "      <td>action</td>\n",
       "    </tr>\n",
       "    <tr>\n",
       "      <th>108</th>\n",
       "      <td>Justice League</td>\n",
       "      <td>2017.0</td>\n",
       "      <td>120.0</td>\n",
       "      <td>Action,Adventure,Fantasy</td>\n",
       "      <td>9</td>\n",
       "      <td>300000000</td>\n",
       "      <td>229024295</td>\n",
       "      <td>655945209</td>\n",
       "      <td>6.5</td>\n",
       "      <td>329135</td>\n",
       "      <td>nm0006516</td>\n",
       "      <td>christerrio</td>\n",
       "      <td>1976.0</td>\n",
       "      <td>director</td>\n",
       "      <td>[Action, Adventure, Fantasy]</td>\n",
       "      <td>action</td>\n",
       "    </tr>\n",
       "  </tbody>\n",
       "</table>\n",
       "</div>"
      ],
      "text/plain": [
       "                                   primary_title  start_year  runtime_minutes  \\\n",
       "0    Pirates of the Caribbean: On Stranger Tides      2011.0            136.0   \n",
       "33                                  Dark Phoenix      2019.0            113.0   \n",
       "42                       Avengers: Age of Ultron      2015.0            141.0   \n",
       "63                        Avengers: Infinity War      2018.0            149.0   \n",
       "108                               Justice League      2017.0            120.0   \n",
       "\n",
       "                       genres  id  production_budget  domestic_gross  \\\n",
       "0    Action,Adventure,Fantasy   2          410600000       241063875   \n",
       "33    Action,Adventure,Sci-Fi   3          350000000        42762350   \n",
       "42    Action,Adventure,Sci-Fi   4          330600000       459005868   \n",
       "63    Action,Adventure,Sci-Fi   7          300000000       678815482   \n",
       "108  Action,Adventure,Fantasy   9          300000000       229024295   \n",
       "\n",
       "     worldwide_gross  averagerating  numvotes     nconst  primary_name  \\\n",
       "0         1045663875            6.6    447624  nm0004851  penélopecruz   \n",
       "33         149762350            6.0     24451  nm0126208     johnbyrne   \n",
       "42        1403013963            7.3    665594  nm0006568   mariacallas   \n",
       "63        2048134200            8.5    670926  nm0000982    joshbrolin   \n",
       "108        655945209            6.5    329135  nm0006516   christerrio   \n",
       "\n",
       "     birth_year primary_profession                  genres_split 1_genre  \n",
       "0        1974.0            actress  [Action, Adventure, Fantasy]  action  \n",
       "33       1950.0     art_department   [Action, Adventure, Sci-Fi]  action  \n",
       "42       1923.0            actress   [Action, Adventure, Sci-Fi]  action  \n",
       "63       1968.0              actor   [Action, Adventure, Sci-Fi]  action  \n",
       "108      1976.0           director  [Action, Adventure, Fantasy]  action  "
      ]
     },
     "execution_count": 458,
     "metadata": {},
     "output_type": "execute_result"
    }
   ],
   "source": [
    "df.head()"
   ]
  },
  {
   "cell_type": "code",
   "execution_count": null,
   "metadata": {},
   "outputs": [],
   "source": []
  },
  {
   "cell_type": "code",
   "execution_count": 459,
   "metadata": {
    "ExecuteTime": {
     "end_time": "2021-06-12T16:02:22.903296Z",
     "start_time": "2021-06-12T16:02:22.888283Z"
    }
   },
   "outputs": [],
   "source": [
    "df['soup'] = df['1_genre'] + ' ' + df['primary_name'] + ' ' + df['primary_profession']\n"
   ]
  },
  {
   "cell_type": "code",
   "execution_count": 460,
   "metadata": {
    "ExecuteTime": {
     "end_time": "2021-06-12T16:02:22.919310Z",
     "start_time": "2021-06-12T16:02:22.904297Z"
    }
   },
   "outputs": [
    {
     "data": {
      "text/html": [
       "<div>\n",
       "<style scoped>\n",
       "    .dataframe tbody tr th:only-of-type {\n",
       "        vertical-align: middle;\n",
       "    }\n",
       "\n",
       "    .dataframe tbody tr th {\n",
       "        vertical-align: top;\n",
       "    }\n",
       "\n",
       "    .dataframe thead th {\n",
       "        text-align: right;\n",
       "    }\n",
       "</style>\n",
       "<table border=\"1\" class=\"dataframe\">\n",
       "  <thead>\n",
       "    <tr style=\"text-align: right;\">\n",
       "      <th></th>\n",
       "      <th>primary_title</th>\n",
       "      <th>start_year</th>\n",
       "      <th>runtime_minutes</th>\n",
       "      <th>genres</th>\n",
       "      <th>id</th>\n",
       "      <th>production_budget</th>\n",
       "      <th>domestic_gross</th>\n",
       "      <th>worldwide_gross</th>\n",
       "      <th>averagerating</th>\n",
       "      <th>numvotes</th>\n",
       "      <th>nconst</th>\n",
       "      <th>primary_name</th>\n",
       "      <th>birth_year</th>\n",
       "      <th>primary_profession</th>\n",
       "      <th>genres_split</th>\n",
       "      <th>1_genre</th>\n",
       "      <th>soup</th>\n",
       "    </tr>\n",
       "  </thead>\n",
       "  <tbody>\n",
       "    <tr>\n",
       "      <th>0</th>\n",
       "      <td>Pirates of the Caribbean: On Stranger Tides</td>\n",
       "      <td>2011.0</td>\n",
       "      <td>136.0</td>\n",
       "      <td>Action,Adventure,Fantasy</td>\n",
       "      <td>2</td>\n",
       "      <td>410600000</td>\n",
       "      <td>241063875</td>\n",
       "      <td>1045663875</td>\n",
       "      <td>6.6</td>\n",
       "      <td>447624</td>\n",
       "      <td>nm0004851</td>\n",
       "      <td>penélopecruz</td>\n",
       "      <td>1974.0</td>\n",
       "      <td>actress</td>\n",
       "      <td>[Action, Adventure, Fantasy]</td>\n",
       "      <td>action</td>\n",
       "      <td>action penélopecruz actress</td>\n",
       "    </tr>\n",
       "    <tr>\n",
       "      <th>33</th>\n",
       "      <td>Dark Phoenix</td>\n",
       "      <td>2019.0</td>\n",
       "      <td>113.0</td>\n",
       "      <td>Action,Adventure,Sci-Fi</td>\n",
       "      <td>3</td>\n",
       "      <td>350000000</td>\n",
       "      <td>42762350</td>\n",
       "      <td>149762350</td>\n",
       "      <td>6.0</td>\n",
       "      <td>24451</td>\n",
       "      <td>nm0126208</td>\n",
       "      <td>johnbyrne</td>\n",
       "      <td>1950.0</td>\n",
       "      <td>art_department</td>\n",
       "      <td>[Action, Adventure, Sci-Fi]</td>\n",
       "      <td>action</td>\n",
       "      <td>action johnbyrne art_department</td>\n",
       "    </tr>\n",
       "    <tr>\n",
       "      <th>42</th>\n",
       "      <td>Avengers: Age of Ultron</td>\n",
       "      <td>2015.0</td>\n",
       "      <td>141.0</td>\n",
       "      <td>Action,Adventure,Sci-Fi</td>\n",
       "      <td>4</td>\n",
       "      <td>330600000</td>\n",
       "      <td>459005868</td>\n",
       "      <td>1403013963</td>\n",
       "      <td>7.3</td>\n",
       "      <td>665594</td>\n",
       "      <td>nm0006568</td>\n",
       "      <td>mariacallas</td>\n",
       "      <td>1923.0</td>\n",
       "      <td>actress</td>\n",
       "      <td>[Action, Adventure, Sci-Fi]</td>\n",
       "      <td>action</td>\n",
       "      <td>action mariacallas actress</td>\n",
       "    </tr>\n",
       "  </tbody>\n",
       "</table>\n",
       "</div>"
      ],
      "text/plain": [
       "                                  primary_title  start_year  runtime_minutes  \\\n",
       "0   Pirates of the Caribbean: On Stranger Tides      2011.0            136.0   \n",
       "33                                 Dark Phoenix      2019.0            113.0   \n",
       "42                      Avengers: Age of Ultron      2015.0            141.0   \n",
       "\n",
       "                      genres  id  production_budget  domestic_gross  \\\n",
       "0   Action,Adventure,Fantasy   2          410600000       241063875   \n",
       "33   Action,Adventure,Sci-Fi   3          350000000        42762350   \n",
       "42   Action,Adventure,Sci-Fi   4          330600000       459005868   \n",
       "\n",
       "    worldwide_gross  averagerating  numvotes     nconst  primary_name  \\\n",
       "0        1045663875            6.6    447624  nm0004851  penélopecruz   \n",
       "33        149762350            6.0     24451  nm0126208     johnbyrne   \n",
       "42       1403013963            7.3    665594  nm0006568   mariacallas   \n",
       "\n",
       "    birth_year primary_profession                  genres_split 1_genre  \\\n",
       "0       1974.0            actress  [Action, Adventure, Fantasy]  action   \n",
       "33      1950.0     art_department   [Action, Adventure, Sci-Fi]  action   \n",
       "42      1923.0            actress   [Action, Adventure, Sci-Fi]  action   \n",
       "\n",
       "                               soup  \n",
       "0       action penélopecruz actress  \n",
       "33  action johnbyrne art_department  \n",
       "42       action mariacallas actress  "
      ]
     },
     "execution_count": 460,
     "metadata": {},
     "output_type": "execute_result"
    }
   ],
   "source": [
    "df.head(3)"
   ]
  },
  {
   "cell_type": "markdown",
   "metadata": {},
   "source": [
    "# Algorithmic Modeling "
   ]
  },
  {
   "cell_type": "code",
   "execution_count": 461,
   "metadata": {
    "ExecuteTime": {
     "end_time": "2021-06-12T16:02:22.935325Z",
     "start_time": "2021-06-12T16:02:22.920311Z"
    }
   },
   "outputs": [],
   "source": [
    "count = CountVectorizer()\n",
    "count_matrix = count.fit_transform(df['soup'])"
   ]
  },
  {
   "cell_type": "code",
   "execution_count": 462,
   "metadata": {
    "ExecuteTime": {
     "end_time": "2021-06-12T16:02:22.951339Z",
     "start_time": "2021-06-12T16:02:22.936327Z"
    }
   },
   "outputs": [],
   "source": [
    "cosine_sim = cosine_similarity(count_matrix, count_matrix)"
   ]
  },
  {
   "cell_type": "code",
   "execution_count": 463,
   "metadata": {
    "ExecuteTime": {
     "end_time": "2021-06-12T16:02:22.967354Z",
     "start_time": "2021-06-12T16:02:22.952341Z"
    }
   },
   "outputs": [
    {
     "name": "stdout",
     "output_type": "stream",
     "text": [
      "[[1.         0.33333333 0.66666667 ... 0.         0.         0.        ]\n",
      " [0.33333333 1.         0.33333333 ... 0.         0.         0.        ]\n",
      " [0.66666667 0.33333333 1.         ... 0.         0.         0.        ]\n",
      " ...\n",
      " [0.         0.         0.         ... 1.         0.         0.33333333]\n",
      " [0.         0.         0.         ... 0.         1.         0.        ]\n",
      " [0.         0.         0.         ... 0.33333333 0.         1.        ]]\n"
     ]
    }
   ],
   "source": [
    "print(cosine_sim)"
   ]
  },
  {
   "cell_type": "code",
   "execution_count": 464,
   "metadata": {
    "ExecuteTime": {
     "end_time": "2021-06-12T16:02:22.983369Z",
     "start_time": "2021-06-12T16:02:22.968355Z"
    }
   },
   "outputs": [
    {
     "data": {
      "text/plain": [
       "(1723, 1723)"
      ]
     },
     "execution_count": 464,
     "metadata": {},
     "output_type": "execute_result"
    }
   ],
   "source": [
    "cosine_sim.shape"
   ]
  },
  {
   "cell_type": "code",
   "execution_count": 465,
   "metadata": {
    "ExecuteTime": {
     "end_time": "2021-06-12T16:02:22.999386Z",
     "start_time": "2021-06-12T16:02:22.984369Z"
    }
   },
   "outputs": [],
   "source": [
    "df = df.reset_index()\n",
    "titles = df['primary_title']\n",
    "indices = pd.Series(df.index, index=df['primary_title'])"
   ]
  },
  {
   "cell_type": "code",
   "execution_count": 466,
   "metadata": {
    "ExecuteTime": {
     "end_time": "2021-06-12T16:02:23.015401Z",
     "start_time": "2021-06-12T16:02:23.000387Z"
    }
   },
   "outputs": [],
   "source": [
    "def get_recommendations(title):\n",
    "    idx = indices[title]\n",
    "    sim_scores = list(enumerate(cosine_sim[idx]))\n",
    "    sim_scores = sorted(sim_scores, key=lambda x: x[1], reverse=True)\n",
    "    sim_scores = sim_scores[1:31]\n",
    "    movie_indices = [i[0] for i in sim_scores]\n",
    "    return titles.iloc[movie_indices]"
   ]
  },
  {
   "cell_type": "code",
   "execution_count": 467,
   "metadata": {
    "ExecuteTime": {
     "end_time": "2021-06-12T16:02:23.031415Z",
     "start_time": "2021-06-12T16:02:23.016402Z"
    },
    "scrolled": true
   },
   "outputs": [
    {
     "data": {
      "text/plain": [
       "3                                Avengers: Infinity War\n",
       "6                                 The Dark Knight Rises\n",
       "7                               Solo: A Star Wars Story\n",
       "11                           Captain America: Civil War\n",
       "17     Pirates of the Caribbean: Dead Men Tell No Tales\n",
       "18                                         The Avengers\n",
       "19                                         Man of Steel\n",
       "23                                       Jurassic World\n",
       "43                                            The Mummy\n",
       "49                                          Pacific Rim\n",
       "59                                 The Legend of Tarzan\n",
       "69                               Spider-Man: Homecoming\n",
       "77                                           Iron Man 2\n",
       "78                  Captain America: The Winter Soldier\n",
       "83                                  Alita: Battle Angel\n",
       "97                                             Godzilla\n",
       "99                            The Sorcerer's Apprentice\n",
       "101                                   Deepwater Horizon\n",
       "114                                    Ready Player One\n",
       "124                          How to Train Your Dragon 2\n",
       "136                                        The Revenant\n",
       "148                                       Puss in Boots\n",
       "149                                            Megamind\n",
       "151                                                Salt\n",
       "159               The Hunger Games: Mockingjay - Part 1\n",
       "167                                   The Bourne Legacy\n",
       "177                                             RoboCop\n",
       "180                                      Knight and Day\n",
       "185                                          Deadpool 2\n",
       "189                              300: Rise of an Empire\n",
       "Name: primary_title, dtype: object"
      ]
     },
     "execution_count": 467,
     "metadata": {},
     "output_type": "execute_result"
    }
   ],
   "source": [
    "get_recommendations('The Amazing Spider-Man')"
   ]
  },
  {
   "cell_type": "code",
   "execution_count": 468,
   "metadata": {
    "ExecuteTime": {
     "end_time": "2021-06-12T16:05:48.164205Z",
     "start_time": "2021-06-12T16:05:48.156198Z"
    }
   },
   "outputs": [
    {
     "data": {
      "text/plain": [
       "15       The Hobbit: The Battle of the Five Armies\n",
       "50                               The Good Dinosaur\n",
       "58         Fantastic Beasts and Where to Find Them\n",
       "291                              Christopher Robin\n",
       "367                       Smurfs: The Lost Village\n",
       "403                                   Annihilation\n",
       "443                                  Your Highness\n",
       "450                                      Early Man\n",
       "591                                 Identity Thief\n",
       "727                           A Bad Moms Christmas\n",
       "13               The Hobbit: An Unexpected Journey\n",
       "14             The Hobbit: The Desolation of Smaug\n",
       "30                                    Finding Dory\n",
       "31                                     Toy Story 3\n",
       "33                             Alice in Wonderland\n",
       "35                             Monsters University\n",
       "36                       Oz the Great and Powerful\n",
       "39                                          Cars 2\n",
       "40     Fantastic Beasts: The Crimes of Grindelwald\n",
       "51                                           Brave\n",
       "55                                         Aladdin\n",
       "60                                            Hugo\n",
       "68                                      Inside Out\n",
       "71                                            Coco\n",
       "72                                          Cars 3\n",
       "75                  Jurassic World: Fallen Kingdom\n",
       "81                                           Dumbo\n",
       "82                                    Tomorrowland\n",
       "85                 Alice Through the Looking Glass\n",
       "86                             Shrek Forever After\n",
       "Name: primary_title, dtype: object"
      ]
     },
     "execution_count": 468,
     "metadata": {},
     "output_type": "execute_result"
    }
   ],
   "source": [
    "get_recommendations('Tangled')"
   ]
  },
  {
   "cell_type": "code",
   "execution_count": null,
   "metadata": {},
   "outputs": [],
   "source": []
  }
 ],
 "metadata": {
  "kernelspec": {
   "display_name": "Python 3",
   "language": "python",
   "name": "python3"
  },
  "language_info": {
   "codemirror_mode": {
    "name": "ipython",
    "version": 3
   },
   "file_extension": ".py",
   "mimetype": "text/x-python",
   "name": "python",
   "nbconvert_exporter": "python",
   "pygments_lexer": "ipython3",
   "version": "3.8.5"
  },
  "toc": {
   "base_numbering": 1,
   "nav_menu": {},
   "number_sections": true,
   "sideBar": true,
   "skip_h1_title": false,
   "title_cell": "Table of Contents",
   "title_sidebar": "Contents",
   "toc_cell": false,
   "toc_position": {},
   "toc_section_display": true,
   "toc_window_display": true
  }
 },
 "nbformat": 4,
 "nbformat_minor": 4
}
