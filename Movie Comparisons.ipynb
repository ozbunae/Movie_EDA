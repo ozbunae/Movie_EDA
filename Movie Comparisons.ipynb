{
 "cells": [
  {
   "cell_type": "markdown",
   "metadata": {},
   "source": [
    "# Movie Features Project"
   ]
  },
  {
   "cell_type": "markdown",
   "metadata": {},
   "source": [
    "This project contains an extensive Exploratory data analysis on the stats of different films.  Features explored inclued genre of film, directors, budgets, grosses, ext.\n"
   ]
  },
  {
   "cell_type": "code",
   "execution_count": null,
   "metadata": {},
   "outputs": [],
   "source": []
  },
  {
   "cell_type": "code",
   "execution_count": null,
   "metadata": {},
   "outputs": [],
   "source": []
  },
  {
   "cell_type": "code",
   "execution_count": null,
   "metadata": {},
   "outputs": [],
   "source": []
  },
  {
   "cell_type": "markdown",
   "metadata": {},
   "source": [
    "## Imports"
   ]
  },
  {
   "cell_type": "code",
   "execution_count": 78,
   "metadata": {
    "ExecuteTime": {
     "end_time": "2021-04-28T20:29:02.615801Z",
     "start_time": "2021-04-28T20:29:02.606788Z"
    }
   },
   "outputs": [],
   "source": [
    "import pandas as pd\n",
    "import numpy as np\n",
    "import matplotlib.pylab as plt"
   ]
  },
  {
   "cell_type": "code",
   "execution_count": 79,
   "metadata": {
    "ExecuteTime": {
     "end_time": "2021-04-28T20:29:02.631816Z",
     "start_time": "2021-04-28T20:29:02.616802Z"
    }
   },
   "outputs": [],
   "source": [
    "import seaborn as sns\n",
    "sns.set_theme(style=\"whitegrid\")"
   ]
  },
  {
   "cell_type": "code",
   "execution_count": 80,
   "metadata": {
    "ExecuteTime": {
     "end_time": "2021-04-28T20:29:02.647908Z",
     "start_time": "2021-04-28T20:29:02.632817Z"
    }
   },
   "outputs": [
    {
     "data": {
      "text/plain": [
       "'C:\\\\Users\\\\ozbun\\\\projects\\\\Movie_EDA'"
      ]
     },
     "execution_count": 80,
     "metadata": {},
     "output_type": "execute_result"
    }
   ],
   "source": [
    "pwd"
   ]
  },
  {
   "cell_type": "markdown",
   "metadata": {},
   "source": [
    "## Data Cleaning"
   ]
  },
  {
   "cell_type": "code",
   "execution_count": null,
   "metadata": {},
   "outputs": [],
   "source": []
  },
  {
   "cell_type": "code",
   "execution_count": null,
   "metadata": {},
   "outputs": [],
   "source": []
  },
  {
   "cell_type": "markdown",
   "metadata": {},
   "source": [
    "### Who is Who"
   ]
  },
  {
   "cell_type": "code",
   "execution_count": 81,
   "metadata": {
    "ExecuteTime": {
     "end_time": "2021-04-28T20:29:03.613183Z",
     "start_time": "2021-04-28T20:29:02.648909Z"
    }
   },
   "outputs": [
    {
     "data": {
      "text/html": [
       "<div>\n",
       "<style scoped>\n",
       "    .dataframe tbody tr th:only-of-type {\n",
       "        vertical-align: middle;\n",
       "    }\n",
       "\n",
       "    .dataframe tbody tr th {\n",
       "        vertical-align: top;\n",
       "    }\n",
       "\n",
       "    .dataframe thead th {\n",
       "        text-align: right;\n",
       "    }\n",
       "</style>\n",
       "<table border=\"1\" class=\"dataframe\">\n",
       "  <thead>\n",
       "    <tr style=\"text-align: right;\">\n",
       "      <th></th>\n",
       "      <th>nconst</th>\n",
       "      <th>primary_name</th>\n",
       "      <th>birth_year</th>\n",
       "      <th>death_year</th>\n",
       "      <th>primary_profession</th>\n",
       "      <th>known_for_titles</th>\n",
       "    </tr>\n",
       "  </thead>\n",
       "  <tbody>\n",
       "    <tr>\n",
       "      <th>0</th>\n",
       "      <td>nm0061671</td>\n",
       "      <td>Mary Ellen Bauder</td>\n",
       "      <td>NaN</td>\n",
       "      <td>NaN</td>\n",
       "      <td>miscellaneous,production_manager,producer</td>\n",
       "      <td>tt0837562,tt2398241,tt0844471,tt0118553</td>\n",
       "    </tr>\n",
       "    <tr>\n",
       "      <th>1</th>\n",
       "      <td>nm0061865</td>\n",
       "      <td>Joseph Bauer</td>\n",
       "      <td>NaN</td>\n",
       "      <td>NaN</td>\n",
       "      <td>composer,music_department,sound_department</td>\n",
       "      <td>tt0896534,tt6791238,tt0287072,tt1682940</td>\n",
       "    </tr>\n",
       "    <tr>\n",
       "      <th>2</th>\n",
       "      <td>nm0062070</td>\n",
       "      <td>Bruce Baum</td>\n",
       "      <td>NaN</td>\n",
       "      <td>NaN</td>\n",
       "      <td>miscellaneous,actor,writer</td>\n",
       "      <td>tt1470654,tt0363631,tt0104030,tt0102898</td>\n",
       "    </tr>\n",
       "    <tr>\n",
       "      <th>3</th>\n",
       "      <td>nm0062195</td>\n",
       "      <td>Axel Baumann</td>\n",
       "      <td>NaN</td>\n",
       "      <td>NaN</td>\n",
       "      <td>camera_department,cinematographer,art_department</td>\n",
       "      <td>tt0114371,tt2004304,tt1618448,tt1224387</td>\n",
       "    </tr>\n",
       "    <tr>\n",
       "      <th>4</th>\n",
       "      <td>nm0062798</td>\n",
       "      <td>Pete Baxter</td>\n",
       "      <td>NaN</td>\n",
       "      <td>NaN</td>\n",
       "      <td>production_designer,art_department,set_decorator</td>\n",
       "      <td>tt0452644,tt0452692,tt3458030,tt2178256</td>\n",
       "    </tr>\n",
       "  </tbody>\n",
       "</table>\n",
       "</div>"
      ],
      "text/plain": [
       "      nconst       primary_name  birth_year  death_year  \\\n",
       "0  nm0061671  Mary Ellen Bauder         NaN         NaN   \n",
       "1  nm0061865       Joseph Bauer         NaN         NaN   \n",
       "2  nm0062070         Bruce Baum         NaN         NaN   \n",
       "3  nm0062195       Axel Baumann         NaN         NaN   \n",
       "4  nm0062798        Pete Baxter         NaN         NaN   \n",
       "\n",
       "                                 primary_profession  \\\n",
       "0         miscellaneous,production_manager,producer   \n",
       "1        composer,music_department,sound_department   \n",
       "2                        miscellaneous,actor,writer   \n",
       "3  camera_department,cinematographer,art_department   \n",
       "4  production_designer,art_department,set_decorator   \n",
       "\n",
       "                          known_for_titles  \n",
       "0  tt0837562,tt2398241,tt0844471,tt0118553  \n",
       "1  tt0896534,tt6791238,tt0287072,tt1682940  \n",
       "2  tt1470654,tt0363631,tt0104030,tt0102898  \n",
       "3  tt0114371,tt2004304,tt1618448,tt1224387  \n",
       "4  tt0452644,tt0452692,tt3458030,tt2178256  "
      ]
     },
     "execution_count": 81,
     "metadata": {},
     "output_type": "execute_result"
    }
   ],
   "source": [
    "name_basics_df = pd.read_csv('zippedData/imdb.name.basics.csv.gz')\n",
    "name_basics_df.head()\n"
   ]
  },
  {
   "cell_type": "code",
   "execution_count": 82,
   "metadata": {
    "ExecuteTime": {
     "end_time": "2021-04-28T20:29:03.618193Z",
     "start_time": "2021-04-28T20:29:03.614182Z"
    }
   },
   "outputs": [
    {
     "data": {
      "text/plain": [
       "(606648, 6)"
      ]
     },
     "execution_count": 82,
     "metadata": {},
     "output_type": "execute_result"
    }
   ],
   "source": [
    "name_basics_df.shape"
   ]
  },
  {
   "cell_type": "code",
   "execution_count": 83,
   "metadata": {
    "ExecuteTime": {
     "end_time": "2021-04-28T20:29:03.713781Z",
     "start_time": "2021-04-28T20:29:03.619186Z"
    }
   },
   "outputs": [
    {
     "data": {
      "text/plain": [
       "nconst                     0\n",
       "primary_name               0\n",
       "birth_year            523912\n",
       "death_year            599865\n",
       "primary_profession     51340\n",
       "known_for_titles       30204\n",
       "dtype: int64"
      ]
     },
     "execution_count": 83,
     "metadata": {},
     "output_type": "execute_result"
    }
   ],
   "source": [
    "# So many of our points of interest have not died yet,\n",
    "# so lets get rid of this column especially since it is the highest numbers of missing values.\n",
    "\n",
    "name_basics_df.isna().sum()"
   ]
  },
  {
   "cell_type": "code",
   "execution_count": 84,
   "metadata": {
    "ExecuteTime": {
     "end_time": "2021-04-28T20:29:03.745810Z",
     "start_time": "2021-04-28T20:29:03.714781Z"
    }
   },
   "outputs": [],
   "source": [
    "name_basics_df = name_basics_df.drop(columns = 'death_year')"
   ]
  },
  {
   "cell_type": "code",
   "execution_count": 85,
   "metadata": {
    "ExecuteTime": {
     "end_time": "2021-04-28T20:29:03.761825Z",
     "start_time": "2021-04-28T20:29:03.746811Z"
    }
   },
   "outputs": [
    {
     "data": {
      "text/html": [
       "<div>\n",
       "<style scoped>\n",
       "    .dataframe tbody tr th:only-of-type {\n",
       "        vertical-align: middle;\n",
       "    }\n",
       "\n",
       "    .dataframe tbody tr th {\n",
       "        vertical-align: top;\n",
       "    }\n",
       "\n",
       "    .dataframe thead th {\n",
       "        text-align: right;\n",
       "    }\n",
       "</style>\n",
       "<table border=\"1\" class=\"dataframe\">\n",
       "  <thead>\n",
       "    <tr style=\"text-align: right;\">\n",
       "      <th></th>\n",
       "      <th>nconst</th>\n",
       "      <th>primary_name</th>\n",
       "      <th>birth_year</th>\n",
       "      <th>primary_profession</th>\n",
       "      <th>known_for_titles</th>\n",
       "    </tr>\n",
       "  </thead>\n",
       "  <tbody>\n",
       "    <tr>\n",
       "      <th>0</th>\n",
       "      <td>nm0061671</td>\n",
       "      <td>Mary Ellen Bauder</td>\n",
       "      <td>NaN</td>\n",
       "      <td>miscellaneous,production_manager,producer</td>\n",
       "      <td>tt0837562,tt2398241,tt0844471,tt0118553</td>\n",
       "    </tr>\n",
       "    <tr>\n",
       "      <th>1</th>\n",
       "      <td>nm0061865</td>\n",
       "      <td>Joseph Bauer</td>\n",
       "      <td>NaN</td>\n",
       "      <td>composer,music_department,sound_department</td>\n",
       "      <td>tt0896534,tt6791238,tt0287072,tt1682940</td>\n",
       "    </tr>\n",
       "    <tr>\n",
       "      <th>2</th>\n",
       "      <td>nm0062070</td>\n",
       "      <td>Bruce Baum</td>\n",
       "      <td>NaN</td>\n",
       "      <td>miscellaneous,actor,writer</td>\n",
       "      <td>tt1470654,tt0363631,tt0104030,tt0102898</td>\n",
       "    </tr>\n",
       "    <tr>\n",
       "      <th>3</th>\n",
       "      <td>nm0062195</td>\n",
       "      <td>Axel Baumann</td>\n",
       "      <td>NaN</td>\n",
       "      <td>camera_department,cinematographer,art_department</td>\n",
       "      <td>tt0114371,tt2004304,tt1618448,tt1224387</td>\n",
       "    </tr>\n",
       "    <tr>\n",
       "      <th>4</th>\n",
       "      <td>nm0062798</td>\n",
       "      <td>Pete Baxter</td>\n",
       "      <td>NaN</td>\n",
       "      <td>production_designer,art_department,set_decorator</td>\n",
       "      <td>tt0452644,tt0452692,tt3458030,tt2178256</td>\n",
       "    </tr>\n",
       "  </tbody>\n",
       "</table>\n",
       "</div>"
      ],
      "text/plain": [
       "      nconst       primary_name  birth_year  \\\n",
       "0  nm0061671  Mary Ellen Bauder         NaN   \n",
       "1  nm0061865       Joseph Bauer         NaN   \n",
       "2  nm0062070         Bruce Baum         NaN   \n",
       "3  nm0062195       Axel Baumann         NaN   \n",
       "4  nm0062798        Pete Baxter         NaN   \n",
       "\n",
       "                                 primary_profession  \\\n",
       "0         miscellaneous,production_manager,producer   \n",
       "1        composer,music_department,sound_department   \n",
       "2                        miscellaneous,actor,writer   \n",
       "3  camera_department,cinematographer,art_department   \n",
       "4  production_designer,art_department,set_decorator   \n",
       "\n",
       "                          known_for_titles  \n",
       "0  tt0837562,tt2398241,tt0844471,tt0118553  \n",
       "1  tt0896534,tt6791238,tt0287072,tt1682940  \n",
       "2  tt1470654,tt0363631,tt0104030,tt0102898  \n",
       "3  tt0114371,tt2004304,tt1618448,tt1224387  \n",
       "4  tt0452644,tt0452692,tt3458030,tt2178256  "
      ]
     },
     "execution_count": 85,
     "metadata": {},
     "output_type": "execute_result"
    }
   ],
   "source": [
    "name_basics_df.head()"
   ]
  },
  {
   "cell_type": "code",
   "execution_count": 86,
   "metadata": {
    "ExecuteTime": {
     "end_time": "2021-04-28T20:29:03.857663Z",
     "start_time": "2021-04-28T20:29:03.762825Z"
    }
   },
   "outputs": [],
   "source": [
    "name_basics_df = name_basics_df.dropna()"
   ]
  },
  {
   "cell_type": "code",
   "execution_count": 87,
   "metadata": {
    "ExecuteTime": {
     "end_time": "2021-04-28T20:29:03.873678Z",
     "start_time": "2021-04-28T20:29:03.858666Z"
    }
   },
   "outputs": [
    {
     "data": {
      "text/plain": [
       "(80348, 5)"
      ]
     },
     "execution_count": 87,
     "metadata": {},
     "output_type": "execute_result"
    }
   ],
   "source": [
    "name_basics_df.shape"
   ]
  },
  {
   "cell_type": "code",
   "execution_count": 88,
   "metadata": {
    "ExecuteTime": {
     "end_time": "2021-04-28T20:29:03.905708Z",
     "start_time": "2021-04-28T20:29:03.874679Z"
    }
   },
   "outputs": [
    {
     "data": {
      "text/plain": [
       "nconst                0\n",
       "primary_name          0\n",
       "birth_year            0\n",
       "primary_profession    0\n",
       "known_for_titles      0\n",
       "dtype: int64"
      ]
     },
     "execution_count": 88,
     "metadata": {},
     "output_type": "execute_result"
    }
   ],
   "source": [
    "name_basics_df.isna().sum()"
   ]
  },
  {
   "cell_type": "code",
   "execution_count": 89,
   "metadata": {
    "ExecuteTime": {
     "end_time": "2021-04-28T20:29:04.813409Z",
     "start_time": "2021-04-28T20:29:03.906746Z"
    }
   },
   "outputs": [],
   "source": [
    "name_basics_df = (name_basics_df.set_index(['nconst', 'primary_name','birth_year'])\n",
    "   .stack()\n",
    "   .str.split(',', expand=True)\n",
    "   .stack()\n",
    "   .unstack(-2)\n",
    "   .reset_index(-1, drop=True)\n",
    "   .reset_index()\n",
    ")"
   ]
  },
  {
   "cell_type": "code",
   "execution_count": 90,
   "metadata": {
    "ExecuteTime": {
     "end_time": "2021-04-28T20:29:04.828886Z",
     "start_time": "2021-04-28T20:29:04.813409Z"
    }
   },
   "outputs": [
    {
     "data": {
      "text/html": [
       "<div>\n",
       "<style scoped>\n",
       "    .dataframe tbody tr th:only-of-type {\n",
       "        vertical-align: middle;\n",
       "    }\n",
       "\n",
       "    .dataframe tbody tr th {\n",
       "        vertical-align: top;\n",
       "    }\n",
       "\n",
       "    .dataframe thead th {\n",
       "        text-align: right;\n",
       "    }\n",
       "</style>\n",
       "<table border=\"1\" class=\"dataframe\">\n",
       "  <thead>\n",
       "    <tr style=\"text-align: right;\">\n",
       "      <th></th>\n",
       "      <th>nconst</th>\n",
       "      <th>primary_name</th>\n",
       "      <th>birth_year</th>\n",
       "      <th>primary_profession</th>\n",
       "      <th>known_for_titles</th>\n",
       "    </tr>\n",
       "  </thead>\n",
       "  <tbody>\n",
       "    <tr>\n",
       "      <th>0</th>\n",
       "      <td>nm0000002</td>\n",
       "      <td>Lauren Bacall</td>\n",
       "      <td>1924.0</td>\n",
       "      <td>actress</td>\n",
       "      <td>tt0038355</td>\n",
       "    </tr>\n",
       "    <tr>\n",
       "      <th>1</th>\n",
       "      <td>nm0000002</td>\n",
       "      <td>Lauren Bacall</td>\n",
       "      <td>1924.0</td>\n",
       "      <td>soundtrack</td>\n",
       "      <td>tt0117057</td>\n",
       "    </tr>\n",
       "    <tr>\n",
       "      <th>2</th>\n",
       "      <td>nm0000002</td>\n",
       "      <td>Lauren Bacall</td>\n",
       "      <td>1924.0</td>\n",
       "      <td>NaN</td>\n",
       "      <td>tt0071877</td>\n",
       "    </tr>\n",
       "    <tr>\n",
       "      <th>3</th>\n",
       "      <td>nm0000002</td>\n",
       "      <td>Lauren Bacall</td>\n",
       "      <td>1924.0</td>\n",
       "      <td>NaN</td>\n",
       "      <td>tt0037382</td>\n",
       "    </tr>\n",
       "    <tr>\n",
       "      <th>4</th>\n",
       "      <td>nm0000003</td>\n",
       "      <td>Brigitte Bardot</td>\n",
       "      <td>1934.0</td>\n",
       "      <td>actress</td>\n",
       "      <td>tt0049189</td>\n",
       "    </tr>\n",
       "  </tbody>\n",
       "</table>\n",
       "</div>"
      ],
      "text/plain": [
       "      nconst     primary_name  birth_year primary_profession known_for_titles\n",
       "0  nm0000002    Lauren Bacall      1924.0            actress        tt0038355\n",
       "1  nm0000002    Lauren Bacall      1924.0         soundtrack        tt0117057\n",
       "2  nm0000002    Lauren Bacall      1924.0                NaN        tt0071877\n",
       "3  nm0000002    Lauren Bacall      1924.0                NaN        tt0037382\n",
       "4  nm0000003  Brigitte Bardot      1934.0            actress        tt0049189"
      ]
     },
     "execution_count": 90,
     "metadata": {},
     "output_type": "execute_result"
    }
   ],
   "source": [
    "name_basics_df.head()"
   ]
  },
  {
   "cell_type": "code",
   "execution_count": 91,
   "metadata": {
    "ExecuteTime": {
     "end_time": "2021-04-28T20:29:04.892200Z",
     "start_time": "2021-04-28T20:29:04.829887Z"
    }
   },
   "outputs": [
    {
     "data": {
      "text/plain": [
       "nconst                     0\n",
       "primary_name               0\n",
       "birth_year                 0\n",
       "primary_profession    131122\n",
       "known_for_titles        1319\n",
       "dtype: int64"
      ]
     },
     "execution_count": 91,
     "metadata": {},
     "output_type": "execute_result"
    }
   ],
   "source": [
    "name_basics_df.isna().sum()"
   ]
  },
  {
   "cell_type": "code",
   "execution_count": 92,
   "metadata": {
    "ExecuteTime": {
     "end_time": "2021-04-28T20:29:05.020311Z",
     "start_time": "2021-04-28T20:29:04.893192Z"
    }
   },
   "outputs": [],
   "source": [
    "name_basics_df = name_basics_df.dropna()"
   ]
  },
  {
   "cell_type": "code",
   "execution_count": 93,
   "metadata": {
    "ExecuteTime": {
     "end_time": "2021-04-28T20:29:05.068356Z",
     "start_time": "2021-04-28T20:29:05.021314Z"
    }
   },
   "outputs": [
    {
     "data": {
      "text/plain": [
       "nconst                0\n",
       "primary_name          0\n",
       "birth_year            0\n",
       "primary_profession    0\n",
       "known_for_titles      0\n",
       "dtype: int64"
      ]
     },
     "execution_count": 93,
     "metadata": {},
     "output_type": "execute_result"
    }
   ],
   "source": [
    "name_basics_df.isna().sum()"
   ]
  },
  {
   "cell_type": "code",
   "execution_count": 94,
   "metadata": {
    "ExecuteTime": {
     "end_time": "2021-04-28T20:29:05.084370Z",
     "start_time": "2021-04-28T20:29:05.069358Z"
    }
   },
   "outputs": [
    {
     "data": {
      "text/plain": [
       "(181188, 5)"
      ]
     },
     "execution_count": 94,
     "metadata": {},
     "output_type": "execute_result"
    }
   ],
   "source": [
    "name_basics_df.shape"
   ]
  },
  {
   "cell_type": "code",
   "execution_count": 95,
   "metadata": {
    "ExecuteTime": {
     "end_time": "2021-04-28T20:29:05.116178Z",
     "start_time": "2021-04-28T20:29:05.085371Z"
    }
   },
   "outputs": [],
   "source": [
    "name_basics_df = name_basics_df.rename({'known_for_titles': 'tconst'}, axis='columns')"
   ]
  },
  {
   "cell_type": "code",
   "execution_count": 96,
   "metadata": {
    "ExecuteTime": {
     "end_time": "2021-04-28T20:29:05.132192Z",
     "start_time": "2021-04-28T20:29:05.117178Z"
    }
   },
   "outputs": [
    {
     "data": {
      "text/html": [
       "<div>\n",
       "<style scoped>\n",
       "    .dataframe tbody tr th:only-of-type {\n",
       "        vertical-align: middle;\n",
       "    }\n",
       "\n",
       "    .dataframe tbody tr th {\n",
       "        vertical-align: top;\n",
       "    }\n",
       "\n",
       "    .dataframe thead th {\n",
       "        text-align: right;\n",
       "    }\n",
       "</style>\n",
       "<table border=\"1\" class=\"dataframe\">\n",
       "  <thead>\n",
       "    <tr style=\"text-align: right;\">\n",
       "      <th></th>\n",
       "      <th>nconst</th>\n",
       "      <th>primary_name</th>\n",
       "      <th>birth_year</th>\n",
       "      <th>primary_profession</th>\n",
       "      <th>tconst</th>\n",
       "    </tr>\n",
       "  </thead>\n",
       "  <tbody>\n",
       "    <tr>\n",
       "      <th>0</th>\n",
       "      <td>nm0000002</td>\n",
       "      <td>Lauren Bacall</td>\n",
       "      <td>1924.0</td>\n",
       "      <td>actress</td>\n",
       "      <td>tt0038355</td>\n",
       "    </tr>\n",
       "    <tr>\n",
       "      <th>1</th>\n",
       "      <td>nm0000002</td>\n",
       "      <td>Lauren Bacall</td>\n",
       "      <td>1924.0</td>\n",
       "      <td>soundtrack</td>\n",
       "      <td>tt0117057</td>\n",
       "    </tr>\n",
       "    <tr>\n",
       "      <th>4</th>\n",
       "      <td>nm0000003</td>\n",
       "      <td>Brigitte Bardot</td>\n",
       "      <td>1934.0</td>\n",
       "      <td>actress</td>\n",
       "      <td>tt0049189</td>\n",
       "    </tr>\n",
       "    <tr>\n",
       "      <th>5</th>\n",
       "      <td>nm0000003</td>\n",
       "      <td>Brigitte Bardot</td>\n",
       "      <td>1934.0</td>\n",
       "      <td>soundtrack</td>\n",
       "      <td>tt0057345</td>\n",
       "    </tr>\n",
       "    <tr>\n",
       "      <th>6</th>\n",
       "      <td>nm0000003</td>\n",
       "      <td>Brigitte Bardot</td>\n",
       "      <td>1934.0</td>\n",
       "      <td>producer</td>\n",
       "      <td>tt0054452</td>\n",
       "    </tr>\n",
       "  </tbody>\n",
       "</table>\n",
       "</div>"
      ],
      "text/plain": [
       "      nconst     primary_name  birth_year primary_profession     tconst\n",
       "0  nm0000002    Lauren Bacall      1924.0            actress  tt0038355\n",
       "1  nm0000002    Lauren Bacall      1924.0         soundtrack  tt0117057\n",
       "4  nm0000003  Brigitte Bardot      1934.0            actress  tt0049189\n",
       "5  nm0000003  Brigitte Bardot      1934.0         soundtrack  tt0057345\n",
       "6  nm0000003  Brigitte Bardot      1934.0           producer  tt0054452"
      ]
     },
     "execution_count": 96,
     "metadata": {},
     "output_type": "execute_result"
    }
   ],
   "source": [
    "name_basics_df.head()"
   ]
  },
  {
   "cell_type": "code",
   "execution_count": 97,
   "metadata": {
    "ExecuteTime": {
     "end_time": "2021-04-28T20:29:05.180236Z",
     "start_time": "2021-04-28T20:29:05.133193Z"
    }
   },
   "outputs": [
    {
     "name": "stdout",
     "output_type": "stream",
     "text": [
      "<class 'pandas.core.frame.DataFrame'>\n",
      "Int64Index: 181188 entries, 0 to 313626\n",
      "Data columns (total 5 columns):\n",
      " #   Column              Non-Null Count   Dtype  \n",
      "---  ------              --------------   -----  \n",
      " 0   nconst              181188 non-null  object \n",
      " 1   primary_name        181188 non-null  object \n",
      " 2   birth_year          181188 non-null  float64\n",
      " 3   primary_profession  181188 non-null  object \n",
      " 4   tconst              181188 non-null  object \n",
      "dtypes: float64(1), object(4)\n",
      "memory usage: 8.3+ MB\n"
     ]
    }
   ],
   "source": [
    "name_basics_df.info()"
   ]
  },
  {
   "cell_type": "code",
   "execution_count": null,
   "metadata": {},
   "outputs": [],
   "source": []
  },
  {
   "cell_type": "markdown",
   "metadata": {},
   "source": [
    "### Ratings"
   ]
  },
  {
   "cell_type": "code",
   "execution_count": 98,
   "metadata": {
    "ExecuteTime": {
     "end_time": "2021-04-28T20:29:05.227279Z",
     "start_time": "2021-04-28T20:29:05.181237Z"
    }
   },
   "outputs": [],
   "source": [
    "imdb_ratings_df = pd.read_csv('zippedData/imdb.title.ratings.csv.gz')"
   ]
  },
  {
   "cell_type": "code",
   "execution_count": 99,
   "metadata": {
    "ExecuteTime": {
     "end_time": "2021-04-28T20:29:05.243294Z",
     "start_time": "2021-04-28T20:29:05.228279Z"
    }
   },
   "outputs": [
    {
     "data": {
      "text/html": [
       "<div>\n",
       "<style scoped>\n",
       "    .dataframe tbody tr th:only-of-type {\n",
       "        vertical-align: middle;\n",
       "    }\n",
       "\n",
       "    .dataframe tbody tr th {\n",
       "        vertical-align: top;\n",
       "    }\n",
       "\n",
       "    .dataframe thead th {\n",
       "        text-align: right;\n",
       "    }\n",
       "</style>\n",
       "<table border=\"1\" class=\"dataframe\">\n",
       "  <thead>\n",
       "    <tr style=\"text-align: right;\">\n",
       "      <th></th>\n",
       "      <th>tconst</th>\n",
       "      <th>averagerating</th>\n",
       "      <th>numvotes</th>\n",
       "    </tr>\n",
       "  </thead>\n",
       "  <tbody>\n",
       "    <tr>\n",
       "      <th>0</th>\n",
       "      <td>tt10356526</td>\n",
       "      <td>8.3</td>\n",
       "      <td>31</td>\n",
       "    </tr>\n",
       "    <tr>\n",
       "      <th>1</th>\n",
       "      <td>tt10384606</td>\n",
       "      <td>8.9</td>\n",
       "      <td>559</td>\n",
       "    </tr>\n",
       "    <tr>\n",
       "      <th>2</th>\n",
       "      <td>tt1042974</td>\n",
       "      <td>6.4</td>\n",
       "      <td>20</td>\n",
       "    </tr>\n",
       "    <tr>\n",
       "      <th>3</th>\n",
       "      <td>tt1043726</td>\n",
       "      <td>4.2</td>\n",
       "      <td>50352</td>\n",
       "    </tr>\n",
       "    <tr>\n",
       "      <th>4</th>\n",
       "      <td>tt1060240</td>\n",
       "      <td>6.5</td>\n",
       "      <td>21</td>\n",
       "    </tr>\n",
       "  </tbody>\n",
       "</table>\n",
       "</div>"
      ],
      "text/plain": [
       "       tconst  averagerating  numvotes\n",
       "0  tt10356526            8.3        31\n",
       "1  tt10384606            8.9       559\n",
       "2   tt1042974            6.4        20\n",
       "3   tt1043726            4.2     50352\n",
       "4   tt1060240            6.5        21"
      ]
     },
     "execution_count": 99,
     "metadata": {},
     "output_type": "execute_result"
    }
   ],
   "source": [
    "imdb_ratings_df.head()"
   ]
  },
  {
   "cell_type": "markdown",
   "metadata": {},
   "source": [
    "### Title Basics"
   ]
  },
  {
   "cell_type": "code",
   "execution_count": 100,
   "metadata": {
    "ExecuteTime": {
     "end_time": "2021-04-28T20:29:05.499526Z",
     "start_time": "2021-04-28T20:29:05.246295Z"
    }
   },
   "outputs": [],
   "source": [
    "title_basics_df = pd.read_csv('zippedData/imdb.title.basics.csv.gz')"
   ]
  },
  {
   "cell_type": "code",
   "execution_count": 101,
   "metadata": {
    "ExecuteTime": {
     "end_time": "2021-04-28T20:29:05.515541Z",
     "start_time": "2021-04-28T20:29:05.501529Z"
    }
   },
   "outputs": [
    {
     "data": {
      "text/html": [
       "<div>\n",
       "<style scoped>\n",
       "    .dataframe tbody tr th:only-of-type {\n",
       "        vertical-align: middle;\n",
       "    }\n",
       "\n",
       "    .dataframe tbody tr th {\n",
       "        vertical-align: top;\n",
       "    }\n",
       "\n",
       "    .dataframe thead th {\n",
       "        text-align: right;\n",
       "    }\n",
       "</style>\n",
       "<table border=\"1\" class=\"dataframe\">\n",
       "  <thead>\n",
       "    <tr style=\"text-align: right;\">\n",
       "      <th></th>\n",
       "      <th>tconst</th>\n",
       "      <th>primary_title</th>\n",
       "      <th>original_title</th>\n",
       "      <th>start_year</th>\n",
       "      <th>runtime_minutes</th>\n",
       "      <th>genres</th>\n",
       "    </tr>\n",
       "  </thead>\n",
       "  <tbody>\n",
       "    <tr>\n",
       "      <th>0</th>\n",
       "      <td>tt0063540</td>\n",
       "      <td>Sunghursh</td>\n",
       "      <td>Sunghursh</td>\n",
       "      <td>2013</td>\n",
       "      <td>175.0</td>\n",
       "      <td>Action,Crime,Drama</td>\n",
       "    </tr>\n",
       "    <tr>\n",
       "      <th>1</th>\n",
       "      <td>tt0066787</td>\n",
       "      <td>One Day Before the Rainy Season</td>\n",
       "      <td>Ashad Ka Ek Din</td>\n",
       "      <td>2019</td>\n",
       "      <td>114.0</td>\n",
       "      <td>Biography,Drama</td>\n",
       "    </tr>\n",
       "    <tr>\n",
       "      <th>2</th>\n",
       "      <td>tt0069049</td>\n",
       "      <td>The Other Side of the Wind</td>\n",
       "      <td>The Other Side of the Wind</td>\n",
       "      <td>2018</td>\n",
       "      <td>122.0</td>\n",
       "      <td>Drama</td>\n",
       "    </tr>\n",
       "    <tr>\n",
       "      <th>3</th>\n",
       "      <td>tt0069204</td>\n",
       "      <td>Sabse Bada Sukh</td>\n",
       "      <td>Sabse Bada Sukh</td>\n",
       "      <td>2018</td>\n",
       "      <td>NaN</td>\n",
       "      <td>Comedy,Drama</td>\n",
       "    </tr>\n",
       "    <tr>\n",
       "      <th>4</th>\n",
       "      <td>tt0100275</td>\n",
       "      <td>The Wandering Soap Opera</td>\n",
       "      <td>La Telenovela Errante</td>\n",
       "      <td>2017</td>\n",
       "      <td>80.0</td>\n",
       "      <td>Comedy,Drama,Fantasy</td>\n",
       "    </tr>\n",
       "  </tbody>\n",
       "</table>\n",
       "</div>"
      ],
      "text/plain": [
       "      tconst                    primary_title              original_title  \\\n",
       "0  tt0063540                        Sunghursh                   Sunghursh   \n",
       "1  tt0066787  One Day Before the Rainy Season             Ashad Ka Ek Din   \n",
       "2  tt0069049       The Other Side of the Wind  The Other Side of the Wind   \n",
       "3  tt0069204                  Sabse Bada Sukh             Sabse Bada Sukh   \n",
       "4  tt0100275         The Wandering Soap Opera       La Telenovela Errante   \n",
       "\n",
       "   start_year  runtime_minutes                genres  \n",
       "0        2013            175.0    Action,Crime,Drama  \n",
       "1        2019            114.0       Biography,Drama  \n",
       "2        2018            122.0                 Drama  \n",
       "3        2018              NaN          Comedy,Drama  \n",
       "4        2017             80.0  Comedy,Drama,Fantasy  "
      ]
     },
     "execution_count": 101,
     "metadata": {},
     "output_type": "execute_result"
    }
   ],
   "source": [
    "title_basics_df.head()"
   ]
  },
  {
   "cell_type": "markdown",
   "metadata": {},
   "source": [
    "### Movie Grosses and Budgets"
   ]
  },
  {
   "cell_type": "code",
   "execution_count": 102,
   "metadata": {
    "ExecuteTime": {
     "end_time": "2021-04-28T20:29:05.531555Z",
     "start_time": "2021-04-28T20:29:05.515541Z"
    }
   },
   "outputs": [
    {
     "data": {
      "text/html": [
       "<div>\n",
       "<style scoped>\n",
       "    .dataframe tbody tr th:only-of-type {\n",
       "        vertical-align: middle;\n",
       "    }\n",
       "\n",
       "    .dataframe tbody tr th {\n",
       "        vertical-align: top;\n",
       "    }\n",
       "\n",
       "    .dataframe thead th {\n",
       "        text-align: right;\n",
       "    }\n",
       "</style>\n",
       "<table border=\"1\" class=\"dataframe\">\n",
       "  <thead>\n",
       "    <tr style=\"text-align: right;\">\n",
       "      <th></th>\n",
       "      <th>title</th>\n",
       "      <th>studio</th>\n",
       "      <th>domestic_gross</th>\n",
       "      <th>foreign_gross</th>\n",
       "      <th>year</th>\n",
       "    </tr>\n",
       "  </thead>\n",
       "  <tbody>\n",
       "    <tr>\n",
       "      <th>0</th>\n",
       "      <td>Toy Story 3</td>\n",
       "      <td>BV</td>\n",
       "      <td>415000000.0</td>\n",
       "      <td>652000000</td>\n",
       "      <td>2010</td>\n",
       "    </tr>\n",
       "    <tr>\n",
       "      <th>1</th>\n",
       "      <td>Alice in Wonderland (2010)</td>\n",
       "      <td>BV</td>\n",
       "      <td>334200000.0</td>\n",
       "      <td>691300000</td>\n",
       "      <td>2010</td>\n",
       "    </tr>\n",
       "    <tr>\n",
       "      <th>2</th>\n",
       "      <td>Harry Potter and the Deathly Hallows Part 1</td>\n",
       "      <td>WB</td>\n",
       "      <td>296000000.0</td>\n",
       "      <td>664300000</td>\n",
       "      <td>2010</td>\n",
       "    </tr>\n",
       "    <tr>\n",
       "      <th>3</th>\n",
       "      <td>Inception</td>\n",
       "      <td>WB</td>\n",
       "      <td>292600000.0</td>\n",
       "      <td>535700000</td>\n",
       "      <td>2010</td>\n",
       "    </tr>\n",
       "    <tr>\n",
       "      <th>4</th>\n",
       "      <td>Shrek Forever After</td>\n",
       "      <td>P/DW</td>\n",
       "      <td>238700000.0</td>\n",
       "      <td>513900000</td>\n",
       "      <td>2010</td>\n",
       "    </tr>\n",
       "  </tbody>\n",
       "</table>\n",
       "</div>"
      ],
      "text/plain": [
       "                                         title studio  domestic_gross  \\\n",
       "0                                  Toy Story 3     BV     415000000.0   \n",
       "1                   Alice in Wonderland (2010)     BV     334200000.0   \n",
       "2  Harry Potter and the Deathly Hallows Part 1     WB     296000000.0   \n",
       "3                                    Inception     WB     292600000.0   \n",
       "4                          Shrek Forever After   P/DW     238700000.0   \n",
       "\n",
       "  foreign_gross  year  \n",
       "0     652000000  2010  \n",
       "1     691300000  2010  \n",
       "2     664300000  2010  \n",
       "3     535700000  2010  \n",
       "4     513900000  2010  "
      ]
     },
     "execution_count": 102,
     "metadata": {},
     "output_type": "execute_result"
    }
   ],
   "source": [
    "movie_gross_df = pd.read_csv('zippedData/bom.movie_gross.csv.gz')\n",
    "movie_gross_df.head()"
   ]
  },
  {
   "cell_type": "code",
   "execution_count": 103,
   "metadata": {
    "ExecuteTime": {
     "end_time": "2021-04-28T20:29:05.547570Z",
     "start_time": "2021-04-28T20:29:05.532556Z"
    }
   },
   "outputs": [],
   "source": [
    "movie_budgets_df = pd.read_csv('zippedData/tn.movie_budgets.csv.gz')"
   ]
  },
  {
   "cell_type": "code",
   "execution_count": 104,
   "metadata": {
    "ExecuteTime": {
     "end_time": "2021-04-28T20:29:05.563585Z",
     "start_time": "2021-04-28T20:29:05.548571Z"
    }
   },
   "outputs": [
    {
     "data": {
      "text/html": [
       "<div>\n",
       "<style scoped>\n",
       "    .dataframe tbody tr th:only-of-type {\n",
       "        vertical-align: middle;\n",
       "    }\n",
       "\n",
       "    .dataframe tbody tr th {\n",
       "        vertical-align: top;\n",
       "    }\n",
       "\n",
       "    .dataframe thead th {\n",
       "        text-align: right;\n",
       "    }\n",
       "</style>\n",
       "<table border=\"1\" class=\"dataframe\">\n",
       "  <thead>\n",
       "    <tr style=\"text-align: right;\">\n",
       "      <th></th>\n",
       "      <th>id</th>\n",
       "      <th>release_date</th>\n",
       "      <th>movie</th>\n",
       "      <th>production_budget</th>\n",
       "      <th>domestic_gross</th>\n",
       "      <th>worldwide_gross</th>\n",
       "    </tr>\n",
       "  </thead>\n",
       "  <tbody>\n",
       "    <tr>\n",
       "      <th>0</th>\n",
       "      <td>1</td>\n",
       "      <td>Dec 18, 2009</td>\n",
       "      <td>Avatar</td>\n",
       "      <td>$425,000,000</td>\n",
       "      <td>$760,507,625</td>\n",
       "      <td>$2,776,345,279</td>\n",
       "    </tr>\n",
       "    <tr>\n",
       "      <th>1</th>\n",
       "      <td>2</td>\n",
       "      <td>May 20, 2011</td>\n",
       "      <td>Pirates of the Caribbean: On Stranger Tides</td>\n",
       "      <td>$410,600,000</td>\n",
       "      <td>$241,063,875</td>\n",
       "      <td>$1,045,663,875</td>\n",
       "    </tr>\n",
       "    <tr>\n",
       "      <th>2</th>\n",
       "      <td>3</td>\n",
       "      <td>Jun 7, 2019</td>\n",
       "      <td>Dark Phoenix</td>\n",
       "      <td>$350,000,000</td>\n",
       "      <td>$42,762,350</td>\n",
       "      <td>$149,762,350</td>\n",
       "    </tr>\n",
       "    <tr>\n",
       "      <th>3</th>\n",
       "      <td>4</td>\n",
       "      <td>May 1, 2015</td>\n",
       "      <td>Avengers: Age of Ultron</td>\n",
       "      <td>$330,600,000</td>\n",
       "      <td>$459,005,868</td>\n",
       "      <td>$1,403,013,963</td>\n",
       "    </tr>\n",
       "    <tr>\n",
       "      <th>4</th>\n",
       "      <td>5</td>\n",
       "      <td>Dec 15, 2017</td>\n",
       "      <td>Star Wars Ep. VIII: The Last Jedi</td>\n",
       "      <td>$317,000,000</td>\n",
       "      <td>$620,181,382</td>\n",
       "      <td>$1,316,721,747</td>\n",
       "    </tr>\n",
       "  </tbody>\n",
       "</table>\n",
       "</div>"
      ],
      "text/plain": [
       "   id  release_date                                        movie  \\\n",
       "0   1  Dec 18, 2009                                       Avatar   \n",
       "1   2  May 20, 2011  Pirates of the Caribbean: On Stranger Tides   \n",
       "2   3   Jun 7, 2019                                 Dark Phoenix   \n",
       "3   4   May 1, 2015                      Avengers: Age of Ultron   \n",
       "4   5  Dec 15, 2017            Star Wars Ep. VIII: The Last Jedi   \n",
       "\n",
       "  production_budget domestic_gross worldwide_gross  \n",
       "0      $425,000,000   $760,507,625  $2,776,345,279  \n",
       "1      $410,600,000   $241,063,875  $1,045,663,875  \n",
       "2      $350,000,000    $42,762,350    $149,762,350  \n",
       "3      $330,600,000   $459,005,868  $1,403,013,963  \n",
       "4      $317,000,000   $620,181,382  $1,316,721,747  "
      ]
     },
     "execution_count": 104,
     "metadata": {},
     "output_type": "execute_result"
    }
   ],
   "source": [
    "movie_budgets_df.head()"
   ]
  },
  {
   "cell_type": "markdown",
   "metadata": {},
   "source": [
    "## Joining Data Sets"
   ]
  },
  {
   "cell_type": "code",
   "execution_count": 105,
   "metadata": {
    "ExecuteTime": {
     "end_time": "2021-04-28T20:29:05.579599Z",
     "start_time": "2021-04-28T20:29:05.564586Z"
    }
   },
   "outputs": [],
   "source": [
    "#Here I am joining the budget and basics with tconst section because it will allow me to join the budget to the ratings by the tconst column."
   ]
  },
  {
   "cell_type": "code",
   "execution_count": 106,
   "metadata": {
    "ExecuteTime": {
     "end_time": "2021-04-28T20:29:05.627646Z",
     "start_time": "2021-04-28T20:29:05.580600Z"
    }
   },
   "outputs": [],
   "source": [
    "budget_tconst = pd.merge(title_basics_df, movie_budgets_df , left_on= 'primary_title', right_on= 'movie', how = 'right')"
   ]
  },
  {
   "cell_type": "code",
   "execution_count": 107,
   "metadata": {
    "ExecuteTime": {
     "end_time": "2021-04-28T20:29:05.642969Z",
     "start_time": "2021-04-28T20:29:05.628647Z"
    }
   },
   "outputs": [
    {
     "data": {
      "text/html": [
       "<div>\n",
       "<style scoped>\n",
       "    .dataframe tbody tr th:only-of-type {\n",
       "        vertical-align: middle;\n",
       "    }\n",
       "\n",
       "    .dataframe tbody tr th {\n",
       "        vertical-align: top;\n",
       "    }\n",
       "\n",
       "    .dataframe thead th {\n",
       "        text-align: right;\n",
       "    }\n",
       "</style>\n",
       "<table border=\"1\" class=\"dataframe\">\n",
       "  <thead>\n",
       "    <tr style=\"text-align: right;\">\n",
       "      <th></th>\n",
       "      <th>tconst</th>\n",
       "      <th>primary_title</th>\n",
       "      <th>original_title</th>\n",
       "      <th>start_year</th>\n",
       "      <th>runtime_minutes</th>\n",
       "      <th>genres</th>\n",
       "      <th>id</th>\n",
       "      <th>release_date</th>\n",
       "      <th>movie</th>\n",
       "      <th>production_budget</th>\n",
       "      <th>domestic_gross</th>\n",
       "      <th>worldwide_gross</th>\n",
       "    </tr>\n",
       "  </thead>\n",
       "  <tbody>\n",
       "    <tr>\n",
       "      <th>0</th>\n",
       "      <td>tt1775309</td>\n",
       "      <td>Avatar</td>\n",
       "      <td>Abatâ</td>\n",
       "      <td>2011.0</td>\n",
       "      <td>93.0</td>\n",
       "      <td>Horror</td>\n",
       "      <td>1</td>\n",
       "      <td>Dec 18, 2009</td>\n",
       "      <td>Avatar</td>\n",
       "      <td>$425,000,000</td>\n",
       "      <td>$760,507,625</td>\n",
       "      <td>$2,776,345,279</td>\n",
       "    </tr>\n",
       "    <tr>\n",
       "      <th>1</th>\n",
       "      <td>tt1298650</td>\n",
       "      <td>Pirates of the Caribbean: On Stranger Tides</td>\n",
       "      <td>Pirates of the Caribbean: On Stranger Tides</td>\n",
       "      <td>2011.0</td>\n",
       "      <td>136.0</td>\n",
       "      <td>Action,Adventure,Fantasy</td>\n",
       "      <td>2</td>\n",
       "      <td>May 20, 2011</td>\n",
       "      <td>Pirates of the Caribbean: On Stranger Tides</td>\n",
       "      <td>$410,600,000</td>\n",
       "      <td>$241,063,875</td>\n",
       "      <td>$1,045,663,875</td>\n",
       "    </tr>\n",
       "    <tr>\n",
       "      <th>2</th>\n",
       "      <td>tt6565702</td>\n",
       "      <td>Dark Phoenix</td>\n",
       "      <td>Dark Phoenix</td>\n",
       "      <td>2019.0</td>\n",
       "      <td>113.0</td>\n",
       "      <td>Action,Adventure,Sci-Fi</td>\n",
       "      <td>3</td>\n",
       "      <td>Jun 7, 2019</td>\n",
       "      <td>Dark Phoenix</td>\n",
       "      <td>$350,000,000</td>\n",
       "      <td>$42,762,350</td>\n",
       "      <td>$149,762,350</td>\n",
       "    </tr>\n",
       "    <tr>\n",
       "      <th>3</th>\n",
       "      <td>tt2395427</td>\n",
       "      <td>Avengers: Age of Ultron</td>\n",
       "      <td>Avengers: Age of Ultron</td>\n",
       "      <td>2015.0</td>\n",
       "      <td>141.0</td>\n",
       "      <td>Action,Adventure,Sci-Fi</td>\n",
       "      <td>4</td>\n",
       "      <td>May 1, 2015</td>\n",
       "      <td>Avengers: Age of Ultron</td>\n",
       "      <td>$330,600,000</td>\n",
       "      <td>$459,005,868</td>\n",
       "      <td>$1,403,013,963</td>\n",
       "    </tr>\n",
       "    <tr>\n",
       "      <th>4</th>\n",
       "      <td>NaN</td>\n",
       "      <td>NaN</td>\n",
       "      <td>NaN</td>\n",
       "      <td>NaN</td>\n",
       "      <td>NaN</td>\n",
       "      <td>NaN</td>\n",
       "      <td>5</td>\n",
       "      <td>Dec 15, 2017</td>\n",
       "      <td>Star Wars Ep. VIII: The Last Jedi</td>\n",
       "      <td>$317,000,000</td>\n",
       "      <td>$620,181,382</td>\n",
       "      <td>$1,316,721,747</td>\n",
       "    </tr>\n",
       "  </tbody>\n",
       "</table>\n",
       "</div>"
      ],
      "text/plain": [
       "      tconst                                primary_title  \\\n",
       "0  tt1775309                                       Avatar   \n",
       "1  tt1298650  Pirates of the Caribbean: On Stranger Tides   \n",
       "2  tt6565702                                 Dark Phoenix   \n",
       "3  tt2395427                      Avengers: Age of Ultron   \n",
       "4        NaN                                          NaN   \n",
       "\n",
       "                                original_title  start_year  runtime_minutes  \\\n",
       "0                                        Abatâ      2011.0             93.0   \n",
       "1  Pirates of the Caribbean: On Stranger Tides      2011.0            136.0   \n",
       "2                                 Dark Phoenix      2019.0            113.0   \n",
       "3                      Avengers: Age of Ultron      2015.0            141.0   \n",
       "4                                          NaN         NaN              NaN   \n",
       "\n",
       "                     genres  id  release_date  \\\n",
       "0                    Horror   1  Dec 18, 2009   \n",
       "1  Action,Adventure,Fantasy   2  May 20, 2011   \n",
       "2   Action,Adventure,Sci-Fi   3   Jun 7, 2019   \n",
       "3   Action,Adventure,Sci-Fi   4   May 1, 2015   \n",
       "4                       NaN   5  Dec 15, 2017   \n",
       "\n",
       "                                         movie production_budget  \\\n",
       "0                                       Avatar      $425,000,000   \n",
       "1  Pirates of the Caribbean: On Stranger Tides      $410,600,000   \n",
       "2                                 Dark Phoenix      $350,000,000   \n",
       "3                      Avengers: Age of Ultron      $330,600,000   \n",
       "4            Star Wars Ep. VIII: The Last Jedi      $317,000,000   \n",
       "\n",
       "  domestic_gross worldwide_gross  \n",
       "0   $760,507,625  $2,776,345,279  \n",
       "1   $241,063,875  $1,045,663,875  \n",
       "2    $42,762,350    $149,762,350  \n",
       "3   $459,005,868  $1,403,013,963  \n",
       "4   $620,181,382  $1,316,721,747  "
      ]
     },
     "execution_count": 107,
     "metadata": {},
     "output_type": "execute_result"
    }
   ],
   "source": [
    "budget_tconst.head()"
   ]
  },
  {
   "cell_type": "code",
   "execution_count": 108,
   "metadata": {
    "ExecuteTime": {
     "end_time": "2021-04-28T20:29:05.658983Z",
     "start_time": "2021-04-28T20:29:05.643969Z"
    }
   },
   "outputs": [],
   "source": [
    "#Searching for NaN values."
   ]
  },
  {
   "cell_type": "code",
   "execution_count": 109,
   "metadata": {
    "ExecuteTime": {
     "end_time": "2021-04-28T20:29:05.674998Z",
     "start_time": "2021-04-28T20:29:05.659985Z"
    }
   },
   "outputs": [
    {
     "data": {
      "text/plain": [
       "tconst               3406\n",
       "primary_title        3406\n",
       "original_title       3407\n",
       "start_year           3406\n",
       "runtime_minutes      3893\n",
       "genres               3478\n",
       "id                      0\n",
       "release_date            0\n",
       "movie                   0\n",
       "production_budget       0\n",
       "domestic_gross          0\n",
       "worldwide_gross         0\n",
       "dtype: int64"
      ]
     },
     "execution_count": 109,
     "metadata": {},
     "output_type": "execute_result"
    }
   ],
   "source": [
    "budget_tconst.isna().sum()"
   ]
  },
  {
   "cell_type": "code",
   "execution_count": 110,
   "metadata": {
    "ExecuteTime": {
     "end_time": "2021-04-28T20:29:05.691013Z",
     "start_time": "2021-04-28T20:29:05.675999Z"
    }
   },
   "outputs": [],
   "source": [
    "#Dropping those values"
   ]
  },
  {
   "cell_type": "code",
   "execution_count": 111,
   "metadata": {
    "ExecuteTime": {
     "end_time": "2021-04-28T20:29:05.723041Z",
     "start_time": "2021-04-28T20:29:05.692014Z"
    }
   },
   "outputs": [
    {
     "data": {
      "text/html": [
       "<div>\n",
       "<style scoped>\n",
       "    .dataframe tbody tr th:only-of-type {\n",
       "        vertical-align: middle;\n",
       "    }\n",
       "\n",
       "    .dataframe tbody tr th {\n",
       "        vertical-align: top;\n",
       "    }\n",
       "\n",
       "    .dataframe thead th {\n",
       "        text-align: right;\n",
       "    }\n",
       "</style>\n",
       "<table border=\"1\" class=\"dataframe\">\n",
       "  <thead>\n",
       "    <tr style=\"text-align: right;\">\n",
       "      <th></th>\n",
       "      <th>tconst</th>\n",
       "      <th>primary_title</th>\n",
       "      <th>original_title</th>\n",
       "      <th>start_year</th>\n",
       "      <th>runtime_minutes</th>\n",
       "      <th>genres</th>\n",
       "      <th>id</th>\n",
       "      <th>release_date</th>\n",
       "      <th>movie</th>\n",
       "      <th>production_budget</th>\n",
       "      <th>domestic_gross</th>\n",
       "      <th>worldwide_gross</th>\n",
       "    </tr>\n",
       "  </thead>\n",
       "  <tbody>\n",
       "    <tr>\n",
       "      <th>0</th>\n",
       "      <td>tt1775309</td>\n",
       "      <td>Avatar</td>\n",
       "      <td>Abatâ</td>\n",
       "      <td>2011.0</td>\n",
       "      <td>93.0</td>\n",
       "      <td>Horror</td>\n",
       "      <td>1</td>\n",
       "      <td>Dec 18, 2009</td>\n",
       "      <td>Avatar</td>\n",
       "      <td>$425,000,000</td>\n",
       "      <td>$760,507,625</td>\n",
       "      <td>$2,776,345,279</td>\n",
       "    </tr>\n",
       "    <tr>\n",
       "      <th>1</th>\n",
       "      <td>tt1298650</td>\n",
       "      <td>Pirates of the Caribbean: On Stranger Tides</td>\n",
       "      <td>Pirates of the Caribbean: On Stranger Tides</td>\n",
       "      <td>2011.0</td>\n",
       "      <td>136.0</td>\n",
       "      <td>Action,Adventure,Fantasy</td>\n",
       "      <td>2</td>\n",
       "      <td>May 20, 2011</td>\n",
       "      <td>Pirates of the Caribbean: On Stranger Tides</td>\n",
       "      <td>$410,600,000</td>\n",
       "      <td>$241,063,875</td>\n",
       "      <td>$1,045,663,875</td>\n",
       "    </tr>\n",
       "    <tr>\n",
       "      <th>2</th>\n",
       "      <td>tt6565702</td>\n",
       "      <td>Dark Phoenix</td>\n",
       "      <td>Dark Phoenix</td>\n",
       "      <td>2019.0</td>\n",
       "      <td>113.0</td>\n",
       "      <td>Action,Adventure,Sci-Fi</td>\n",
       "      <td>3</td>\n",
       "      <td>Jun 7, 2019</td>\n",
       "      <td>Dark Phoenix</td>\n",
       "      <td>$350,000,000</td>\n",
       "      <td>$42,762,350</td>\n",
       "      <td>$149,762,350</td>\n",
       "    </tr>\n",
       "    <tr>\n",
       "      <th>3</th>\n",
       "      <td>tt2395427</td>\n",
       "      <td>Avengers: Age of Ultron</td>\n",
       "      <td>Avengers: Age of Ultron</td>\n",
       "      <td>2015.0</td>\n",
       "      <td>141.0</td>\n",
       "      <td>Action,Adventure,Sci-Fi</td>\n",
       "      <td>4</td>\n",
       "      <td>May 1, 2015</td>\n",
       "      <td>Avengers: Age of Ultron</td>\n",
       "      <td>$330,600,000</td>\n",
       "      <td>$459,005,868</td>\n",
       "      <td>$1,403,013,963</td>\n",
       "    </tr>\n",
       "    <tr>\n",
       "      <th>6</th>\n",
       "      <td>tt4154756</td>\n",
       "      <td>Avengers: Infinity War</td>\n",
       "      <td>Avengers: Infinity War</td>\n",
       "      <td>2018.0</td>\n",
       "      <td>149.0</td>\n",
       "      <td>Action,Adventure,Sci-Fi</td>\n",
       "      <td>7</td>\n",
       "      <td>Apr 27, 2018</td>\n",
       "      <td>Avengers: Infinity War</td>\n",
       "      <td>$300,000,000</td>\n",
       "      <td>$678,815,482</td>\n",
       "      <td>$2,048,134,200</td>\n",
       "    </tr>\n",
       "    <tr>\n",
       "      <th>...</th>\n",
       "      <td>...</td>\n",
       "      <td>...</td>\n",
       "      <td>...</td>\n",
       "      <td>...</td>\n",
       "      <td>...</td>\n",
       "      <td>...</td>\n",
       "      <td>...</td>\n",
       "      <td>...</td>\n",
       "      <td>...</td>\n",
       "      <td>...</td>\n",
       "      <td>...</td>\n",
       "      <td>...</td>\n",
       "    </tr>\n",
       "    <tr>\n",
       "      <th>7204</th>\n",
       "      <td>tt6619196</td>\n",
       "      <td>Clean</td>\n",
       "      <td>Clean</td>\n",
       "      <td>2017.0</td>\n",
       "      <td>70.0</td>\n",
       "      <td>Comedy,Drama,Horror</td>\n",
       "      <td>67</td>\n",
       "      <td>Apr 28, 2006</td>\n",
       "      <td>Clean</td>\n",
       "      <td>$10,000</td>\n",
       "      <td>$138,711</td>\n",
       "      <td>$138,711</td>\n",
       "    </tr>\n",
       "    <tr>\n",
       "      <th>7205</th>\n",
       "      <td>tt1872026</td>\n",
       "      <td>Cure</td>\n",
       "      <td>Cure</td>\n",
       "      <td>2011.0</td>\n",
       "      <td>93.0</td>\n",
       "      <td>Drama</td>\n",
       "      <td>68</td>\n",
       "      <td>Jul 6, 2001</td>\n",
       "      <td>Cure</td>\n",
       "      <td>$10,000</td>\n",
       "      <td>$94,596</td>\n",
       "      <td>$94,596</td>\n",
       "    </tr>\n",
       "    <tr>\n",
       "      <th>7211</th>\n",
       "      <td>tt1880418</td>\n",
       "      <td>Newlyweds</td>\n",
       "      <td>Newlyweds</td>\n",
       "      <td>2011.0</td>\n",
       "      <td>95.0</td>\n",
       "      <td>Comedy,Drama</td>\n",
       "      <td>73</td>\n",
       "      <td>Jan 13, 2012</td>\n",
       "      <td>Newlyweds</td>\n",
       "      <td>$9,000</td>\n",
       "      <td>$4,584</td>\n",
       "      <td>$4,584</td>\n",
       "    </tr>\n",
       "    <tr>\n",
       "      <th>7216</th>\n",
       "      <td>tt7837402</td>\n",
       "      <td>Red 11</td>\n",
       "      <td>Red 11</td>\n",
       "      <td>2019.0</td>\n",
       "      <td>77.0</td>\n",
       "      <td>Horror,Sci-Fi,Thriller</td>\n",
       "      <td>78</td>\n",
       "      <td>Dec 31, 2018</td>\n",
       "      <td>Red 11</td>\n",
       "      <td>$7,000</td>\n",
       "      <td>$0</td>\n",
       "      <td>$0</td>\n",
       "    </tr>\n",
       "    <tr>\n",
       "      <th>7219</th>\n",
       "      <td>tt2107644</td>\n",
       "      <td>A Plague So Pleasant</td>\n",
       "      <td>A Plague So Pleasant</td>\n",
       "      <td>2013.0</td>\n",
       "      <td>76.0</td>\n",
       "      <td>Drama,Horror,Thriller</td>\n",
       "      <td>81</td>\n",
       "      <td>Sep 29, 2015</td>\n",
       "      <td>A Plague So Pleasant</td>\n",
       "      <td>$1,400</td>\n",
       "      <td>$0</td>\n",
       "      <td>$0</td>\n",
       "    </tr>\n",
       "  </tbody>\n",
       "</table>\n",
       "<p>3309 rows × 12 columns</p>\n",
       "</div>"
      ],
      "text/plain": [
       "         tconst                                primary_title  \\\n",
       "0     tt1775309                                       Avatar   \n",
       "1     tt1298650  Pirates of the Caribbean: On Stranger Tides   \n",
       "2     tt6565702                                 Dark Phoenix   \n",
       "3     tt2395427                      Avengers: Age of Ultron   \n",
       "6     tt4154756                       Avengers: Infinity War   \n",
       "...         ...                                          ...   \n",
       "7204  tt6619196                                        Clean   \n",
       "7205  tt1872026                                         Cure   \n",
       "7211  tt1880418                                    Newlyweds   \n",
       "7216  tt7837402                                       Red 11   \n",
       "7219  tt2107644                         A Plague So Pleasant   \n",
       "\n",
       "                                   original_title  start_year  \\\n",
       "0                                           Abatâ      2011.0   \n",
       "1     Pirates of the Caribbean: On Stranger Tides      2011.0   \n",
       "2                                    Dark Phoenix      2019.0   \n",
       "3                         Avengers: Age of Ultron      2015.0   \n",
       "6                          Avengers: Infinity War      2018.0   \n",
       "...                                           ...         ...   \n",
       "7204                                        Clean      2017.0   \n",
       "7205                                         Cure      2011.0   \n",
       "7211                                    Newlyweds      2011.0   \n",
       "7216                                       Red 11      2019.0   \n",
       "7219                         A Plague So Pleasant      2013.0   \n",
       "\n",
       "      runtime_minutes                    genres  id  release_date  \\\n",
       "0                93.0                    Horror   1  Dec 18, 2009   \n",
       "1               136.0  Action,Adventure,Fantasy   2  May 20, 2011   \n",
       "2               113.0   Action,Adventure,Sci-Fi   3   Jun 7, 2019   \n",
       "3               141.0   Action,Adventure,Sci-Fi   4   May 1, 2015   \n",
       "6               149.0   Action,Adventure,Sci-Fi   7  Apr 27, 2018   \n",
       "...               ...                       ...  ..           ...   \n",
       "7204             70.0       Comedy,Drama,Horror  67  Apr 28, 2006   \n",
       "7205             93.0                     Drama  68   Jul 6, 2001   \n",
       "7211             95.0              Comedy,Drama  73  Jan 13, 2012   \n",
       "7216             77.0    Horror,Sci-Fi,Thriller  78  Dec 31, 2018   \n",
       "7219             76.0     Drama,Horror,Thriller  81  Sep 29, 2015   \n",
       "\n",
       "                                            movie production_budget  \\\n",
       "0                                          Avatar      $425,000,000   \n",
       "1     Pirates of the Caribbean: On Stranger Tides      $410,600,000   \n",
       "2                                    Dark Phoenix      $350,000,000   \n",
       "3                         Avengers: Age of Ultron      $330,600,000   \n",
       "6                          Avengers: Infinity War      $300,000,000   \n",
       "...                                           ...               ...   \n",
       "7204                                        Clean           $10,000   \n",
       "7205                                         Cure           $10,000   \n",
       "7211                                    Newlyweds            $9,000   \n",
       "7216                                       Red 11            $7,000   \n",
       "7219                         A Plague So Pleasant            $1,400   \n",
       "\n",
       "     domestic_gross worldwide_gross  \n",
       "0      $760,507,625  $2,776,345,279  \n",
       "1      $241,063,875  $1,045,663,875  \n",
       "2       $42,762,350    $149,762,350  \n",
       "3      $459,005,868  $1,403,013,963  \n",
       "6      $678,815,482  $2,048,134,200  \n",
       "...             ...             ...  \n",
       "7204       $138,711        $138,711  \n",
       "7205        $94,596         $94,596  \n",
       "7211         $4,584          $4,584  \n",
       "7216             $0              $0  \n",
       "7219             $0              $0  \n",
       "\n",
       "[3309 rows x 12 columns]"
      ]
     },
     "execution_count": 111,
     "metadata": {},
     "output_type": "execute_result"
    }
   ],
   "source": [
    "budget_tconst.dropna()"
   ]
  },
  {
   "cell_type": "code",
   "execution_count": 112,
   "metadata": {
    "ExecuteTime": {
     "end_time": "2021-04-28T20:29:05.738282Z",
     "start_time": "2021-04-28T20:29:05.724043Z"
    }
   },
   "outputs": [],
   "source": [
    "#Joining this table with the ratings table via the tconst column."
   ]
  },
  {
   "cell_type": "code",
   "execution_count": 113,
   "metadata": {
    "ExecuteTime": {
     "end_time": "2021-04-28T20:29:05.770311Z",
     "start_time": "2021-04-28T20:29:05.739283Z"
    }
   },
   "outputs": [],
   "source": [
    "df = pd.merge(budget_tconst,  imdb_ratings_df, on=['tconst'])"
   ]
  },
  {
   "cell_type": "code",
   "execution_count": 114,
   "metadata": {
    "ExecuteTime": {
     "end_time": "2021-04-28T20:29:05.786327Z",
     "start_time": "2021-04-28T20:29:05.771312Z"
    }
   },
   "outputs": [
    {
     "data": {
      "text/html": [
       "<div>\n",
       "<style scoped>\n",
       "    .dataframe tbody tr th:only-of-type {\n",
       "        vertical-align: middle;\n",
       "    }\n",
       "\n",
       "    .dataframe tbody tr th {\n",
       "        vertical-align: top;\n",
       "    }\n",
       "\n",
       "    .dataframe thead th {\n",
       "        text-align: right;\n",
       "    }\n",
       "</style>\n",
       "<table border=\"1\" class=\"dataframe\">\n",
       "  <thead>\n",
       "    <tr style=\"text-align: right;\">\n",
       "      <th></th>\n",
       "      <th>tconst</th>\n",
       "      <th>primary_title</th>\n",
       "      <th>original_title</th>\n",
       "      <th>start_year</th>\n",
       "      <th>runtime_minutes</th>\n",
       "      <th>genres</th>\n",
       "      <th>id</th>\n",
       "      <th>release_date</th>\n",
       "      <th>movie</th>\n",
       "      <th>production_budget</th>\n",
       "      <th>domestic_gross</th>\n",
       "      <th>worldwide_gross</th>\n",
       "      <th>averagerating</th>\n",
       "      <th>numvotes</th>\n",
       "    </tr>\n",
       "  </thead>\n",
       "  <tbody>\n",
       "    <tr>\n",
       "      <th>0</th>\n",
       "      <td>tt1775309</td>\n",
       "      <td>Avatar</td>\n",
       "      <td>Abatâ</td>\n",
       "      <td>2011.0</td>\n",
       "      <td>93.0</td>\n",
       "      <td>Horror</td>\n",
       "      <td>1</td>\n",
       "      <td>Dec 18, 2009</td>\n",
       "      <td>Avatar</td>\n",
       "      <td>$425,000,000</td>\n",
       "      <td>$760,507,625</td>\n",
       "      <td>$2,776,345,279</td>\n",
       "      <td>6.1</td>\n",
       "      <td>43</td>\n",
       "    </tr>\n",
       "    <tr>\n",
       "      <th>1</th>\n",
       "      <td>tt1298650</td>\n",
       "      <td>Pirates of the Caribbean: On Stranger Tides</td>\n",
       "      <td>Pirates of the Caribbean: On Stranger Tides</td>\n",
       "      <td>2011.0</td>\n",
       "      <td>136.0</td>\n",
       "      <td>Action,Adventure,Fantasy</td>\n",
       "      <td>2</td>\n",
       "      <td>May 20, 2011</td>\n",
       "      <td>Pirates of the Caribbean: On Stranger Tides</td>\n",
       "      <td>$410,600,000</td>\n",
       "      <td>$241,063,875</td>\n",
       "      <td>$1,045,663,875</td>\n",
       "      <td>6.6</td>\n",
       "      <td>447624</td>\n",
       "    </tr>\n",
       "    <tr>\n",
       "      <th>2</th>\n",
       "      <td>tt6565702</td>\n",
       "      <td>Dark Phoenix</td>\n",
       "      <td>Dark Phoenix</td>\n",
       "      <td>2019.0</td>\n",
       "      <td>113.0</td>\n",
       "      <td>Action,Adventure,Sci-Fi</td>\n",
       "      <td>3</td>\n",
       "      <td>Jun 7, 2019</td>\n",
       "      <td>Dark Phoenix</td>\n",
       "      <td>$350,000,000</td>\n",
       "      <td>$42,762,350</td>\n",
       "      <td>$149,762,350</td>\n",
       "      <td>6.0</td>\n",
       "      <td>24451</td>\n",
       "    </tr>\n",
       "    <tr>\n",
       "      <th>3</th>\n",
       "      <td>tt2395427</td>\n",
       "      <td>Avengers: Age of Ultron</td>\n",
       "      <td>Avengers: Age of Ultron</td>\n",
       "      <td>2015.0</td>\n",
       "      <td>141.0</td>\n",
       "      <td>Action,Adventure,Sci-Fi</td>\n",
       "      <td>4</td>\n",
       "      <td>May 1, 2015</td>\n",
       "      <td>Avengers: Age of Ultron</td>\n",
       "      <td>$330,600,000</td>\n",
       "      <td>$459,005,868</td>\n",
       "      <td>$1,403,013,963</td>\n",
       "      <td>7.3</td>\n",
       "      <td>665594</td>\n",
       "    </tr>\n",
       "    <tr>\n",
       "      <th>4</th>\n",
       "      <td>tt4154756</td>\n",
       "      <td>Avengers: Infinity War</td>\n",
       "      <td>Avengers: Infinity War</td>\n",
       "      <td>2018.0</td>\n",
       "      <td>149.0</td>\n",
       "      <td>Action,Adventure,Sci-Fi</td>\n",
       "      <td>7</td>\n",
       "      <td>Apr 27, 2018</td>\n",
       "      <td>Avengers: Infinity War</td>\n",
       "      <td>$300,000,000</td>\n",
       "      <td>$678,815,482</td>\n",
       "      <td>$2,048,134,200</td>\n",
       "      <td>8.5</td>\n",
       "      <td>670926</td>\n",
       "    </tr>\n",
       "  </tbody>\n",
       "</table>\n",
       "</div>"
      ],
      "text/plain": [
       "      tconst                                primary_title  \\\n",
       "0  tt1775309                                       Avatar   \n",
       "1  tt1298650  Pirates of the Caribbean: On Stranger Tides   \n",
       "2  tt6565702                                 Dark Phoenix   \n",
       "3  tt2395427                      Avengers: Age of Ultron   \n",
       "4  tt4154756                       Avengers: Infinity War   \n",
       "\n",
       "                                original_title  start_year  runtime_minutes  \\\n",
       "0                                        Abatâ      2011.0             93.0   \n",
       "1  Pirates of the Caribbean: On Stranger Tides      2011.0            136.0   \n",
       "2                                 Dark Phoenix      2019.0            113.0   \n",
       "3                      Avengers: Age of Ultron      2015.0            141.0   \n",
       "4                       Avengers: Infinity War      2018.0            149.0   \n",
       "\n",
       "                     genres  id  release_date  \\\n",
       "0                    Horror   1  Dec 18, 2009   \n",
       "1  Action,Adventure,Fantasy   2  May 20, 2011   \n",
       "2   Action,Adventure,Sci-Fi   3   Jun 7, 2019   \n",
       "3   Action,Adventure,Sci-Fi   4   May 1, 2015   \n",
       "4   Action,Adventure,Sci-Fi   7  Apr 27, 2018   \n",
       "\n",
       "                                         movie production_budget  \\\n",
       "0                                       Avatar      $425,000,000   \n",
       "1  Pirates of the Caribbean: On Stranger Tides      $410,600,000   \n",
       "2                                 Dark Phoenix      $350,000,000   \n",
       "3                      Avengers: Age of Ultron      $330,600,000   \n",
       "4                       Avengers: Infinity War      $300,000,000   \n",
       "\n",
       "  domestic_gross worldwide_gross  averagerating  numvotes  \n",
       "0   $760,507,625  $2,776,345,279            6.1        43  \n",
       "1   $241,063,875  $1,045,663,875            6.6    447624  \n",
       "2    $42,762,350    $149,762,350            6.0     24451  \n",
       "3   $459,005,868  $1,403,013,963            7.3    665594  \n",
       "4   $678,815,482  $2,048,134,200            8.5    670926  "
      ]
     },
     "execution_count": 114,
     "metadata": {},
     "output_type": "execute_result"
    }
   ],
   "source": [
    "df.head()"
   ]
  },
  {
   "cell_type": "code",
   "execution_count": 115,
   "metadata": {
    "ExecuteTime": {
     "end_time": "2021-04-28T20:29:05.871404Z",
     "start_time": "2021-04-28T20:29:05.787328Z"
    }
   },
   "outputs": [],
   "source": [
    "project1_df = pd.merge(df, name_basics_df, on=['tconst'])"
   ]
  },
  {
   "cell_type": "code",
   "execution_count": 116,
   "metadata": {
    "ExecuteTime": {
     "end_time": "2021-04-28T20:29:05.898428Z",
     "start_time": "2021-04-28T20:29:05.872404Z"
    }
   },
   "outputs": [
    {
     "data": {
      "text/html": [
       "<div>\n",
       "<style scoped>\n",
       "    .dataframe tbody tr th:only-of-type {\n",
       "        vertical-align: middle;\n",
       "    }\n",
       "\n",
       "    .dataframe tbody tr th {\n",
       "        vertical-align: top;\n",
       "    }\n",
       "\n",
       "    .dataframe thead th {\n",
       "        text-align: right;\n",
       "    }\n",
       "</style>\n",
       "<table border=\"1\" class=\"dataframe\">\n",
       "  <thead>\n",
       "    <tr style=\"text-align: right;\">\n",
       "      <th></th>\n",
       "      <th>tconst</th>\n",
       "      <th>primary_title</th>\n",
       "      <th>original_title</th>\n",
       "      <th>start_year</th>\n",
       "      <th>runtime_minutes</th>\n",
       "      <th>genres</th>\n",
       "      <th>id</th>\n",
       "      <th>release_date</th>\n",
       "      <th>movie</th>\n",
       "      <th>production_budget</th>\n",
       "      <th>domestic_gross</th>\n",
       "      <th>worldwide_gross</th>\n",
       "      <th>averagerating</th>\n",
       "      <th>numvotes</th>\n",
       "      <th>nconst</th>\n",
       "      <th>primary_name</th>\n",
       "      <th>birth_year</th>\n",
       "      <th>primary_profession</th>\n",
       "    </tr>\n",
       "  </thead>\n",
       "  <tbody>\n",
       "    <tr>\n",
       "      <th>0</th>\n",
       "      <td>tt1298650</td>\n",
       "      <td>Pirates of the Caribbean: On Stranger Tides</td>\n",
       "      <td>Pirates of the Caribbean: On Stranger Tides</td>\n",
       "      <td>2011.0</td>\n",
       "      <td>136.0</td>\n",
       "      <td>Action,Adventure,Fantasy</td>\n",
       "      <td>2</td>\n",
       "      <td>May 20, 2011</td>\n",
       "      <td>Pirates of the Caribbean: On Stranger Tides</td>\n",
       "      <td>$410,600,000</td>\n",
       "      <td>$241,063,875</td>\n",
       "      <td>$1,045,663,875</td>\n",
       "      <td>6.6</td>\n",
       "      <td>447624</td>\n",
       "      <td>nm0004851</td>\n",
       "      <td>Penélope Cruz</td>\n",
       "      <td>1974.0</td>\n",
       "      <td>actress</td>\n",
       "    </tr>\n",
       "    <tr>\n",
       "      <th>1</th>\n",
       "      <td>tt1298650</td>\n",
       "      <td>Pirates of the Caribbean: On Stranger Tides</td>\n",
       "      <td>Pirates of the Caribbean: On Stranger Tides</td>\n",
       "      <td>2011.0</td>\n",
       "      <td>136.0</td>\n",
       "      <td>Action,Adventure,Fantasy</td>\n",
       "      <td>2</td>\n",
       "      <td>May 20, 2011</td>\n",
       "      <td>Pirates of the Caribbean: On Stranger Tides</td>\n",
       "      <td>$410,600,000</td>\n",
       "      <td>$241,063,875</td>\n",
       "      <td>$1,045,663,875</td>\n",
       "      <td>6.6</td>\n",
       "      <td>447624</td>\n",
       "      <td>nm0046087</td>\n",
       "      <td>Jennifer Badger</td>\n",
       "      <td>1976.0</td>\n",
       "      <td>stunts</td>\n",
       "    </tr>\n",
       "    <tr>\n",
       "      <th>2</th>\n",
       "      <td>tt1298650</td>\n",
       "      <td>Pirates of the Caribbean: On Stranger Tides</td>\n",
       "      <td>Pirates of the Caribbean: On Stranger Tides</td>\n",
       "      <td>2011.0</td>\n",
       "      <td>136.0</td>\n",
       "      <td>Action,Adventure,Fantasy</td>\n",
       "      <td>2</td>\n",
       "      <td>May 20, 2011</td>\n",
       "      <td>Pirates of the Caribbean: On Stranger Tides</td>\n",
       "      <td>$410,600,000</td>\n",
       "      <td>$241,063,875</td>\n",
       "      <td>$1,045,663,875</td>\n",
       "      <td>6.6</td>\n",
       "      <td>447624</td>\n",
       "      <td>nm0263740</td>\n",
       "      <td>Steve Evets</td>\n",
       "      <td>1960.0</td>\n",
       "      <td>actor</td>\n",
       "    </tr>\n",
       "    <tr>\n",
       "      <th>3</th>\n",
       "      <td>tt1298650</td>\n",
       "      <td>Pirates of the Caribbean: On Stranger Tides</td>\n",
       "      <td>Pirates of the Caribbean: On Stranger Tides</td>\n",
       "      <td>2011.0</td>\n",
       "      <td>136.0</td>\n",
       "      <td>Action,Adventure,Fantasy</td>\n",
       "      <td>2</td>\n",
       "      <td>May 20, 2011</td>\n",
       "      <td>Pirates of the Caribbean: On Stranger Tides</td>\n",
       "      <td>$410,600,000</td>\n",
       "      <td>$241,063,875</td>\n",
       "      <td>$1,045,663,875</td>\n",
       "      <td>6.6</td>\n",
       "      <td>447624</td>\n",
       "      <td>nm0273797</td>\n",
       "      <td>Sebastian Armesto</td>\n",
       "      <td>1982.0</td>\n",
       "      <td>assistant_director</td>\n",
       "    </tr>\n",
       "    <tr>\n",
       "      <th>4</th>\n",
       "      <td>tt1298650</td>\n",
       "      <td>Pirates of the Caribbean: On Stranger Tides</td>\n",
       "      <td>Pirates of the Caribbean: On Stranger Tides</td>\n",
       "      <td>2011.0</td>\n",
       "      <td>136.0</td>\n",
       "      <td>Action,Adventure,Fantasy</td>\n",
       "      <td>2</td>\n",
       "      <td>May 20, 2011</td>\n",
       "      <td>Pirates of the Caribbean: On Stranger Tides</td>\n",
       "      <td>$410,600,000</td>\n",
       "      <td>$241,063,875</td>\n",
       "      <td>$1,045,663,875</td>\n",
       "      <td>6.6</td>\n",
       "      <td>447624</td>\n",
       "      <td>nm0573618</td>\n",
       "      <td>Kevin McNally</td>\n",
       "      <td>1956.0</td>\n",
       "      <td>actor</td>\n",
       "    </tr>\n",
       "  </tbody>\n",
       "</table>\n",
       "</div>"
      ],
      "text/plain": [
       "      tconst                                primary_title  \\\n",
       "0  tt1298650  Pirates of the Caribbean: On Stranger Tides   \n",
       "1  tt1298650  Pirates of the Caribbean: On Stranger Tides   \n",
       "2  tt1298650  Pirates of the Caribbean: On Stranger Tides   \n",
       "3  tt1298650  Pirates of the Caribbean: On Stranger Tides   \n",
       "4  tt1298650  Pirates of the Caribbean: On Stranger Tides   \n",
       "\n",
       "                                original_title  start_year  runtime_minutes  \\\n",
       "0  Pirates of the Caribbean: On Stranger Tides      2011.0            136.0   \n",
       "1  Pirates of the Caribbean: On Stranger Tides      2011.0            136.0   \n",
       "2  Pirates of the Caribbean: On Stranger Tides      2011.0            136.0   \n",
       "3  Pirates of the Caribbean: On Stranger Tides      2011.0            136.0   \n",
       "4  Pirates of the Caribbean: On Stranger Tides      2011.0            136.0   \n",
       "\n",
       "                     genres  id  release_date  \\\n",
       "0  Action,Adventure,Fantasy   2  May 20, 2011   \n",
       "1  Action,Adventure,Fantasy   2  May 20, 2011   \n",
       "2  Action,Adventure,Fantasy   2  May 20, 2011   \n",
       "3  Action,Adventure,Fantasy   2  May 20, 2011   \n",
       "4  Action,Adventure,Fantasy   2  May 20, 2011   \n",
       "\n",
       "                                         movie production_budget  \\\n",
       "0  Pirates of the Caribbean: On Stranger Tides      $410,600,000   \n",
       "1  Pirates of the Caribbean: On Stranger Tides      $410,600,000   \n",
       "2  Pirates of the Caribbean: On Stranger Tides      $410,600,000   \n",
       "3  Pirates of the Caribbean: On Stranger Tides      $410,600,000   \n",
       "4  Pirates of the Caribbean: On Stranger Tides      $410,600,000   \n",
       "\n",
       "  domestic_gross worldwide_gross  averagerating  numvotes     nconst  \\\n",
       "0   $241,063,875  $1,045,663,875            6.6    447624  nm0004851   \n",
       "1   $241,063,875  $1,045,663,875            6.6    447624  nm0046087   \n",
       "2   $241,063,875  $1,045,663,875            6.6    447624  nm0263740   \n",
       "3   $241,063,875  $1,045,663,875            6.6    447624  nm0273797   \n",
       "4   $241,063,875  $1,045,663,875            6.6    447624  nm0573618   \n",
       "\n",
       "        primary_name  birth_year  primary_profession  \n",
       "0      Penélope Cruz      1974.0             actress  \n",
       "1    Jennifer Badger      1976.0              stunts  \n",
       "2        Steve Evets      1960.0               actor  \n",
       "3  Sebastian Armesto      1982.0  assistant_director  \n",
       "4      Kevin McNally      1956.0               actor  "
      ]
     },
     "execution_count": 116,
     "metadata": {},
     "output_type": "execute_result"
    }
   ],
   "source": [
    "project1_df.head()"
   ]
  },
  {
   "cell_type": "code",
   "execution_count": 117,
   "metadata": {
    "ExecuteTime": {
     "end_time": "2021-04-28T20:29:05.914443Z",
     "start_time": "2021-04-28T20:29:05.899429Z"
    }
   },
   "outputs": [
    {
     "data": {
      "text/plain": [
       "(10992, 18)"
      ]
     },
     "execution_count": 117,
     "metadata": {},
     "output_type": "execute_result"
    }
   ],
   "source": [
    "project1_df.shape"
   ]
  },
  {
   "cell_type": "code",
   "execution_count": null,
   "metadata": {},
   "outputs": [],
   "source": []
  },
  {
   "cell_type": "code",
   "execution_count": null,
   "metadata": {},
   "outputs": [],
   "source": []
  },
  {
   "cell_type": "code",
   "execution_count": null,
   "metadata": {},
   "outputs": [],
   "source": []
  },
  {
   "cell_type": "code",
   "execution_count": null,
   "metadata": {},
   "outputs": [],
   "source": []
  },
  {
   "cell_type": "markdown",
   "metadata": {},
   "source": [
    "## Missing Values"
   ]
  },
  {
   "cell_type": "code",
   "execution_count": 118,
   "metadata": {
    "ExecuteTime": {
     "end_time": "2021-04-28T20:29:05.929457Z",
     "start_time": "2021-04-28T20:29:05.915444Z"
    }
   },
   "outputs": [],
   "source": [
    "#Checking for NaN values."
   ]
  },
  {
   "cell_type": "code",
   "execution_count": 119,
   "metadata": {
    "ExecuteTime": {
     "end_time": "2021-04-28T20:29:05.945471Z",
     "start_time": "2021-04-28T20:29:05.930458Z"
    }
   },
   "outputs": [
    {
     "data": {
      "text/plain": [
       "tconst                 0\n",
       "primary_title          0\n",
       "original_title         0\n",
       "start_year             0\n",
       "runtime_minutes       32\n",
       "genres                 2\n",
       "id                     0\n",
       "release_date           0\n",
       "movie                  0\n",
       "production_budget      0\n",
       "domestic_gross         0\n",
       "worldwide_gross        0\n",
       "averagerating          0\n",
       "numvotes               0\n",
       "nconst                 0\n",
       "primary_name           0\n",
       "birth_year             0\n",
       "primary_profession     0\n",
       "dtype: int64"
      ]
     },
     "execution_count": 119,
     "metadata": {},
     "output_type": "execute_result"
    }
   ],
   "source": [
    "project1_df.isna().sum()"
   ]
  },
  {
   "cell_type": "code",
   "execution_count": 120,
   "metadata": {
    "ExecuteTime": {
     "end_time": "2021-04-28T20:29:05.961485Z",
     "start_time": "2021-04-28T20:29:05.946472Z"
    }
   },
   "outputs": [],
   "source": [
    "#Again dropping those values"
   ]
  },
  {
   "cell_type": "code",
   "execution_count": 121,
   "metadata": {
    "ExecuteTime": {
     "end_time": "2021-04-28T20:29:05.977501Z",
     "start_time": "2021-04-28T20:29:05.962486Z"
    }
   },
   "outputs": [],
   "source": [
    "project1_df = project1_df.dropna()"
   ]
  },
  {
   "cell_type": "code",
   "execution_count": 122,
   "metadata": {
    "ExecuteTime": {
     "end_time": "2021-04-28T20:29:05.993515Z",
     "start_time": "2021-04-28T20:29:05.978501Z"
    }
   },
   "outputs": [
    {
     "data": {
      "text/plain": [
       "tconst                0\n",
       "primary_title         0\n",
       "original_title        0\n",
       "start_year            0\n",
       "runtime_minutes       0\n",
       "genres                0\n",
       "id                    0\n",
       "release_date          0\n",
       "movie                 0\n",
       "production_budget     0\n",
       "domestic_gross        0\n",
       "worldwide_gross       0\n",
       "averagerating         0\n",
       "numvotes              0\n",
       "nconst                0\n",
       "primary_name          0\n",
       "birth_year            0\n",
       "primary_profession    0\n",
       "dtype: int64"
      ]
     },
     "execution_count": 122,
     "metadata": {},
     "output_type": "execute_result"
    }
   ],
   "source": [
    "project1_df.isna().sum()"
   ]
  },
  {
   "cell_type": "code",
   "execution_count": 123,
   "metadata": {
    "ExecuteTime": {
     "end_time": "2021-04-28T20:29:06.009529Z",
     "start_time": "2021-04-28T20:29:05.993515Z"
    }
   },
   "outputs": [],
   "source": [
    "#Nan values gone, checking for types on columns that should be integers."
   ]
  },
  {
   "cell_type": "code",
   "execution_count": 124,
   "metadata": {
    "ExecuteTime": {
     "end_time": "2021-04-28T20:29:06.025544Z",
     "start_time": "2021-04-28T20:29:06.010531Z"
    }
   },
   "outputs": [
    {
     "name": "stdout",
     "output_type": "stream",
     "text": [
      "<class 'pandas.core.frame.DataFrame'>\n",
      "Int64Index: 10958 entries, 0 to 10991\n",
      "Data columns (total 18 columns):\n",
      " #   Column              Non-Null Count  Dtype  \n",
      "---  ------              --------------  -----  \n",
      " 0   tconst              10958 non-null  object \n",
      " 1   primary_title       10958 non-null  object \n",
      " 2   original_title      10958 non-null  object \n",
      " 3   start_year          10958 non-null  float64\n",
      " 4   runtime_minutes     10958 non-null  float64\n",
      " 5   genres              10958 non-null  object \n",
      " 6   id                  10958 non-null  int64  \n",
      " 7   release_date        10958 non-null  object \n",
      " 8   movie               10958 non-null  object \n",
      " 9   production_budget   10958 non-null  object \n",
      " 10  domestic_gross      10958 non-null  object \n",
      " 11  worldwide_gross     10958 non-null  object \n",
      " 12  averagerating       10958 non-null  float64\n",
      " 13  numvotes            10958 non-null  int64  \n",
      " 14  nconst              10958 non-null  object \n",
      " 15  primary_name        10958 non-null  object \n",
      " 16  birth_year          10958 non-null  float64\n",
      " 17  primary_profession  10958 non-null  object \n",
      "dtypes: float64(4), int64(2), object(12)\n",
      "memory usage: 1.6+ MB\n"
     ]
    }
   ],
   "source": [
    "project1_df.info()"
   ]
  },
  {
   "cell_type": "code",
   "execution_count": 125,
   "metadata": {
    "ExecuteTime": {
     "end_time": "2021-04-28T20:29:06.041558Z",
     "start_time": "2021-04-28T20:29:06.026545Z"
    }
   },
   "outputs": [
    {
     "data": {
      "text/plain": [
       "(10958, 18)"
      ]
     },
     "execution_count": 125,
     "metadata": {},
     "output_type": "execute_result"
    }
   ],
   "source": [
    "project1_df.shape"
   ]
  },
  {
   "cell_type": "code",
   "execution_count": 126,
   "metadata": {
    "ExecuteTime": {
     "end_time": "2021-04-28T20:29:06.057573Z",
     "start_time": "2021-04-28T20:29:06.042560Z"
    },
    "scrolled": true
   },
   "outputs": [],
   "source": [
    "#Conversion to integers:"
   ]
  },
  {
   "cell_type": "code",
   "execution_count": null,
   "metadata": {},
   "outputs": [],
   "source": []
  },
  {
   "cell_type": "code",
   "execution_count": 127,
   "metadata": {
    "ExecuteTime": {
     "end_time": "2021-04-28T20:29:06.073588Z",
     "start_time": "2021-04-28T20:29:06.058574Z"
    }
   },
   "outputs": [],
   "source": [
    "def column_conversion(df, col):\n",
    "    df[col] = df[col].str.replace(\"$\",\"\").str.replace(\",\",\"\").astype('int64')\n",
    "    return df"
   ]
  },
  {
   "cell_type": "code",
   "execution_count": 128,
   "metadata": {
    "ExecuteTime": {
     "end_time": "2021-04-28T20:29:06.105616Z",
     "start_time": "2021-04-28T20:29:06.074588Z"
    }
   },
   "outputs": [],
   "source": [
    "column_to_convert = ['production_budget','domestic_gross','worldwide_gross']\n",
    "\n",
    "for col in column_to_convert:\n",
    "    project1_df = column_conversion(project1_df, col)"
   ]
  },
  {
   "cell_type": "code",
   "execution_count": 129,
   "metadata": {
    "ExecuteTime": {
     "end_time": "2021-04-28T20:29:06.121634Z",
     "start_time": "2021-04-28T20:29:06.106617Z"
    }
   },
   "outputs": [],
   "source": [
    "#More cleaning..."
   ]
  },
  {
   "cell_type": "code",
   "execution_count": 130,
   "metadata": {
    "ExecuteTime": {
     "end_time": "2021-04-28T20:29:06.153664Z",
     "start_time": "2021-04-28T20:29:06.122636Z"
    }
   },
   "outputs": [
    {
     "data": {
      "text/html": [
       "<div>\n",
       "<style scoped>\n",
       "    .dataframe tbody tr th:only-of-type {\n",
       "        vertical-align: middle;\n",
       "    }\n",
       "\n",
       "    .dataframe tbody tr th {\n",
       "        vertical-align: top;\n",
       "    }\n",
       "\n",
       "    .dataframe thead th {\n",
       "        text-align: right;\n",
       "    }\n",
       "</style>\n",
       "<table border=\"1\" class=\"dataframe\">\n",
       "  <thead>\n",
       "    <tr style=\"text-align: right;\">\n",
       "      <th></th>\n",
       "      <th>tconst</th>\n",
       "      <th>primary_title</th>\n",
       "      <th>original_title</th>\n",
       "      <th>start_year</th>\n",
       "      <th>runtime_minutes</th>\n",
       "      <th>genres</th>\n",
       "      <th>id</th>\n",
       "      <th>release_date</th>\n",
       "      <th>movie</th>\n",
       "      <th>production_budget</th>\n",
       "      <th>domestic_gross</th>\n",
       "      <th>worldwide_gross</th>\n",
       "      <th>averagerating</th>\n",
       "      <th>numvotes</th>\n",
       "      <th>nconst</th>\n",
       "      <th>primary_name</th>\n",
       "      <th>birth_year</th>\n",
       "      <th>primary_profession</th>\n",
       "    </tr>\n",
       "  </thead>\n",
       "  <tbody>\n",
       "    <tr>\n",
       "      <th>0</th>\n",
       "      <td>tt1298650</td>\n",
       "      <td>Pirates of the Caribbean: On Stranger Tides</td>\n",
       "      <td>Pirates of the Caribbean: On Stranger Tides</td>\n",
       "      <td>2011.0</td>\n",
       "      <td>136.0</td>\n",
       "      <td>Action,Adventure,Fantasy</td>\n",
       "      <td>2</td>\n",
       "      <td>May 20, 2011</td>\n",
       "      <td>Pirates of the Caribbean: On Stranger Tides</td>\n",
       "      <td>410600000</td>\n",
       "      <td>241063875</td>\n",
       "      <td>1045663875</td>\n",
       "      <td>6.6</td>\n",
       "      <td>447624</td>\n",
       "      <td>nm0004851</td>\n",
       "      <td>Penélope Cruz</td>\n",
       "      <td>1974.0</td>\n",
       "      <td>actress</td>\n",
       "    </tr>\n",
       "    <tr>\n",
       "      <th>1</th>\n",
       "      <td>tt1298650</td>\n",
       "      <td>Pirates of the Caribbean: On Stranger Tides</td>\n",
       "      <td>Pirates of the Caribbean: On Stranger Tides</td>\n",
       "      <td>2011.0</td>\n",
       "      <td>136.0</td>\n",
       "      <td>Action,Adventure,Fantasy</td>\n",
       "      <td>2</td>\n",
       "      <td>May 20, 2011</td>\n",
       "      <td>Pirates of the Caribbean: On Stranger Tides</td>\n",
       "      <td>410600000</td>\n",
       "      <td>241063875</td>\n",
       "      <td>1045663875</td>\n",
       "      <td>6.6</td>\n",
       "      <td>447624</td>\n",
       "      <td>nm0046087</td>\n",
       "      <td>Jennifer Badger</td>\n",
       "      <td>1976.0</td>\n",
       "      <td>stunts</td>\n",
       "    </tr>\n",
       "    <tr>\n",
       "      <th>2</th>\n",
       "      <td>tt1298650</td>\n",
       "      <td>Pirates of the Caribbean: On Stranger Tides</td>\n",
       "      <td>Pirates of the Caribbean: On Stranger Tides</td>\n",
       "      <td>2011.0</td>\n",
       "      <td>136.0</td>\n",
       "      <td>Action,Adventure,Fantasy</td>\n",
       "      <td>2</td>\n",
       "      <td>May 20, 2011</td>\n",
       "      <td>Pirates of the Caribbean: On Stranger Tides</td>\n",
       "      <td>410600000</td>\n",
       "      <td>241063875</td>\n",
       "      <td>1045663875</td>\n",
       "      <td>6.6</td>\n",
       "      <td>447624</td>\n",
       "      <td>nm0263740</td>\n",
       "      <td>Steve Evets</td>\n",
       "      <td>1960.0</td>\n",
       "      <td>actor</td>\n",
       "    </tr>\n",
       "    <tr>\n",
       "      <th>3</th>\n",
       "      <td>tt1298650</td>\n",
       "      <td>Pirates of the Caribbean: On Stranger Tides</td>\n",
       "      <td>Pirates of the Caribbean: On Stranger Tides</td>\n",
       "      <td>2011.0</td>\n",
       "      <td>136.0</td>\n",
       "      <td>Action,Adventure,Fantasy</td>\n",
       "      <td>2</td>\n",
       "      <td>May 20, 2011</td>\n",
       "      <td>Pirates of the Caribbean: On Stranger Tides</td>\n",
       "      <td>410600000</td>\n",
       "      <td>241063875</td>\n",
       "      <td>1045663875</td>\n",
       "      <td>6.6</td>\n",
       "      <td>447624</td>\n",
       "      <td>nm0273797</td>\n",
       "      <td>Sebastian Armesto</td>\n",
       "      <td>1982.0</td>\n",
       "      <td>assistant_director</td>\n",
       "    </tr>\n",
       "    <tr>\n",
       "      <th>4</th>\n",
       "      <td>tt1298650</td>\n",
       "      <td>Pirates of the Caribbean: On Stranger Tides</td>\n",
       "      <td>Pirates of the Caribbean: On Stranger Tides</td>\n",
       "      <td>2011.0</td>\n",
       "      <td>136.0</td>\n",
       "      <td>Action,Adventure,Fantasy</td>\n",
       "      <td>2</td>\n",
       "      <td>May 20, 2011</td>\n",
       "      <td>Pirates of the Caribbean: On Stranger Tides</td>\n",
       "      <td>410600000</td>\n",
       "      <td>241063875</td>\n",
       "      <td>1045663875</td>\n",
       "      <td>6.6</td>\n",
       "      <td>447624</td>\n",
       "      <td>nm0573618</td>\n",
       "      <td>Kevin McNally</td>\n",
       "      <td>1956.0</td>\n",
       "      <td>actor</td>\n",
       "    </tr>\n",
       "    <tr>\n",
       "      <th>...</th>\n",
       "      <td>...</td>\n",
       "      <td>...</td>\n",
       "      <td>...</td>\n",
       "      <td>...</td>\n",
       "      <td>...</td>\n",
       "      <td>...</td>\n",
       "      <td>...</td>\n",
       "      <td>...</td>\n",
       "      <td>...</td>\n",
       "      <td>...</td>\n",
       "      <td>...</td>\n",
       "      <td>...</td>\n",
       "      <td>...</td>\n",
       "      <td>...</td>\n",
       "      <td>...</td>\n",
       "      <td>...</td>\n",
       "      <td>...</td>\n",
       "      <td>...</td>\n",
       "    </tr>\n",
       "    <tr>\n",
       "      <th>10987</th>\n",
       "      <td>tt1716760</td>\n",
       "      <td>Raymond Did It</td>\n",
       "      <td>Raymond Did It</td>\n",
       "      <td>2011.0</td>\n",
       "      <td>83.0</td>\n",
       "      <td>Horror</td>\n",
       "      <td>32</td>\n",
       "      <td>Feb 11, 2011</td>\n",
       "      <td>Raymond Did It</td>\n",
       "      <td>40000</td>\n",
       "      <td>3632</td>\n",
       "      <td>3632</td>\n",
       "      <td>3.3</td>\n",
       "      <td>211</td>\n",
       "      <td>nm3171405</td>\n",
       "      <td>Robert J. Williams</td>\n",
       "      <td>1986.0</td>\n",
       "      <td>editor</td>\n",
       "    </tr>\n",
       "    <tr>\n",
       "      <th>10988</th>\n",
       "      <td>tt1492841</td>\n",
       "      <td>Foreign Letters</td>\n",
       "      <td>Foreign Letters</td>\n",
       "      <td>2012.0</td>\n",
       "      <td>99.0</td>\n",
       "      <td>Comedy,Drama</td>\n",
       "      <td>33</td>\n",
       "      <td>Mar 31, 2012</td>\n",
       "      <td>Foreign Letters</td>\n",
       "      <td>40000</td>\n",
       "      <td>0</td>\n",
       "      <td>0</td>\n",
       "      <td>6.9</td>\n",
       "      <td>180</td>\n",
       "      <td>nm0858008</td>\n",
       "      <td>Ela Thier</td>\n",
       "      <td>1971.0</td>\n",
       "      <td>writer</td>\n",
       "    </tr>\n",
       "    <tr>\n",
       "      <th>10989</th>\n",
       "      <td>tt1945044</td>\n",
       "      <td>Exeter</td>\n",
       "      <td>Exeter</td>\n",
       "      <td>2015.0</td>\n",
       "      <td>91.0</td>\n",
       "      <td>Horror,Mystery,Thriller</td>\n",
       "      <td>49</td>\n",
       "      <td>Sep 1, 2015</td>\n",
       "      <td>Exeter</td>\n",
       "      <td>25000</td>\n",
       "      <td>0</td>\n",
       "      <td>489792</td>\n",
       "      <td>4.5</td>\n",
       "      <td>5156</td>\n",
       "      <td>nm1885051</td>\n",
       "      <td>Nick Nicotera</td>\n",
       "      <td>1981.0</td>\n",
       "      <td>editor</td>\n",
       "    </tr>\n",
       "    <tr>\n",
       "      <th>10990</th>\n",
       "      <td>tt2309562</td>\n",
       "      <td>Ten</td>\n",
       "      <td>Ten</td>\n",
       "      <td>2013.0</td>\n",
       "      <td>118.0</td>\n",
       "      <td>Drama</td>\n",
       "      <td>51</td>\n",
       "      <td>Apr 21, 2015</td>\n",
       "      <td>Ten</td>\n",
       "      <td>25000</td>\n",
       "      <td>0</td>\n",
       "      <td>0</td>\n",
       "      <td>5.5</td>\n",
       "      <td>31</td>\n",
       "      <td>nm2793783</td>\n",
       "      <td>Colin Burt Vidler</td>\n",
       "      <td>1970.0</td>\n",
       "      <td>actor</td>\n",
       "    </tr>\n",
       "    <tr>\n",
       "      <th>10991</th>\n",
       "      <td>tt7837402</td>\n",
       "      <td>Red 11</td>\n",
       "      <td>Red 11</td>\n",
       "      <td>2019.0</td>\n",
       "      <td>77.0</td>\n",
       "      <td>Horror,Sci-Fi,Thriller</td>\n",
       "      <td>78</td>\n",
       "      <td>Dec 31, 2018</td>\n",
       "      <td>Red 11</td>\n",
       "      <td>7000</td>\n",
       "      <td>0</td>\n",
       "      <td>0</td>\n",
       "      <td>5.6</td>\n",
       "      <td>43</td>\n",
       "      <td>nm1897406</td>\n",
       "      <td>Racer Rodriguez</td>\n",
       "      <td>1997.0</td>\n",
       "      <td>stunts</td>\n",
       "    </tr>\n",
       "  </tbody>\n",
       "</table>\n",
       "<p>10958 rows × 18 columns</p>\n",
       "</div>"
      ],
      "text/plain": [
       "          tconst                                primary_title  \\\n",
       "0      tt1298650  Pirates of the Caribbean: On Stranger Tides   \n",
       "1      tt1298650  Pirates of the Caribbean: On Stranger Tides   \n",
       "2      tt1298650  Pirates of the Caribbean: On Stranger Tides   \n",
       "3      tt1298650  Pirates of the Caribbean: On Stranger Tides   \n",
       "4      tt1298650  Pirates of the Caribbean: On Stranger Tides   \n",
       "...          ...                                          ...   \n",
       "10987  tt1716760                               Raymond Did It   \n",
       "10988  tt1492841                              Foreign Letters   \n",
       "10989  tt1945044                                       Exeter   \n",
       "10990  tt2309562                                          Ten   \n",
       "10991  tt7837402                                       Red 11   \n",
       "\n",
       "                                    original_title  start_year  \\\n",
       "0      Pirates of the Caribbean: On Stranger Tides      2011.0   \n",
       "1      Pirates of the Caribbean: On Stranger Tides      2011.0   \n",
       "2      Pirates of the Caribbean: On Stranger Tides      2011.0   \n",
       "3      Pirates of the Caribbean: On Stranger Tides      2011.0   \n",
       "4      Pirates of the Caribbean: On Stranger Tides      2011.0   \n",
       "...                                            ...         ...   \n",
       "10987                               Raymond Did It      2011.0   \n",
       "10988                              Foreign Letters      2012.0   \n",
       "10989                                       Exeter      2015.0   \n",
       "10990                                          Ten      2013.0   \n",
       "10991                                       Red 11      2019.0   \n",
       "\n",
       "       runtime_minutes                    genres  id  release_date  \\\n",
       "0                136.0  Action,Adventure,Fantasy   2  May 20, 2011   \n",
       "1                136.0  Action,Adventure,Fantasy   2  May 20, 2011   \n",
       "2                136.0  Action,Adventure,Fantasy   2  May 20, 2011   \n",
       "3                136.0  Action,Adventure,Fantasy   2  May 20, 2011   \n",
       "4                136.0  Action,Adventure,Fantasy   2  May 20, 2011   \n",
       "...                ...                       ...  ..           ...   \n",
       "10987             83.0                    Horror  32  Feb 11, 2011   \n",
       "10988             99.0              Comedy,Drama  33  Mar 31, 2012   \n",
       "10989             91.0   Horror,Mystery,Thriller  49   Sep 1, 2015   \n",
       "10990            118.0                     Drama  51  Apr 21, 2015   \n",
       "10991             77.0    Horror,Sci-Fi,Thriller  78  Dec 31, 2018   \n",
       "\n",
       "                                             movie  production_budget  \\\n",
       "0      Pirates of the Caribbean: On Stranger Tides          410600000   \n",
       "1      Pirates of the Caribbean: On Stranger Tides          410600000   \n",
       "2      Pirates of the Caribbean: On Stranger Tides          410600000   \n",
       "3      Pirates of the Caribbean: On Stranger Tides          410600000   \n",
       "4      Pirates of the Caribbean: On Stranger Tides          410600000   \n",
       "...                                            ...                ...   \n",
       "10987                               Raymond Did It              40000   \n",
       "10988                              Foreign Letters              40000   \n",
       "10989                                       Exeter              25000   \n",
       "10990                                          Ten              25000   \n",
       "10991                                       Red 11               7000   \n",
       "\n",
       "       domestic_gross  worldwide_gross  averagerating  numvotes     nconst  \\\n",
       "0           241063875       1045663875            6.6    447624  nm0004851   \n",
       "1           241063875       1045663875            6.6    447624  nm0046087   \n",
       "2           241063875       1045663875            6.6    447624  nm0263740   \n",
       "3           241063875       1045663875            6.6    447624  nm0273797   \n",
       "4           241063875       1045663875            6.6    447624  nm0573618   \n",
       "...               ...              ...            ...       ...        ...   \n",
       "10987            3632             3632            3.3       211  nm3171405   \n",
       "10988               0                0            6.9       180  nm0858008   \n",
       "10989               0           489792            4.5      5156  nm1885051   \n",
       "10990               0                0            5.5        31  nm2793783   \n",
       "10991               0                0            5.6        43  nm1897406   \n",
       "\n",
       "             primary_name  birth_year  primary_profession  \n",
       "0           Penélope Cruz      1974.0             actress  \n",
       "1         Jennifer Badger      1976.0              stunts  \n",
       "2             Steve Evets      1960.0               actor  \n",
       "3       Sebastian Armesto      1982.0  assistant_director  \n",
       "4           Kevin McNally      1956.0               actor  \n",
       "...                   ...         ...                 ...  \n",
       "10987  Robert J. Williams      1986.0              editor  \n",
       "10988           Ela Thier      1971.0              writer  \n",
       "10989       Nick Nicotera      1981.0              editor  \n",
       "10990   Colin Burt Vidler      1970.0               actor  \n",
       "10991     Racer Rodriguez      1997.0              stunts  \n",
       "\n",
       "[10958 rows x 18 columns]"
      ]
     },
     "execution_count": 130,
     "metadata": {},
     "output_type": "execute_result"
    }
   ],
   "source": [
    "project1_df"
   ]
  },
  {
   "cell_type": "code",
   "execution_count": 131,
   "metadata": {
    "ExecuteTime": {
     "end_time": "2021-04-28T20:29:06.185693Z",
     "start_time": "2021-04-28T20:29:06.154665Z"
    }
   },
   "outputs": [
    {
     "data": {
      "text/html": [
       "<div>\n",
       "<style scoped>\n",
       "    .dataframe tbody tr th:only-of-type {\n",
       "        vertical-align: middle;\n",
       "    }\n",
       "\n",
       "    .dataframe tbody tr th {\n",
       "        vertical-align: top;\n",
       "    }\n",
       "\n",
       "    .dataframe thead th {\n",
       "        text-align: right;\n",
       "    }\n",
       "</style>\n",
       "<table border=\"1\" class=\"dataframe\">\n",
       "  <thead>\n",
       "    <tr style=\"text-align: right;\">\n",
       "      <th></th>\n",
       "      <th>tconst</th>\n",
       "      <th>primary_title</th>\n",
       "      <th>original_title</th>\n",
       "      <th>start_year</th>\n",
       "      <th>runtime_minutes</th>\n",
       "      <th>genres</th>\n",
       "      <th>id</th>\n",
       "      <th>release_date</th>\n",
       "      <th>movie</th>\n",
       "      <th>production_budget</th>\n",
       "      <th>domestic_gross</th>\n",
       "      <th>worldwide_gross</th>\n",
       "      <th>averagerating</th>\n",
       "      <th>numvotes</th>\n",
       "      <th>nconst</th>\n",
       "      <th>primary_name</th>\n",
       "      <th>birth_year</th>\n",
       "      <th>primary_profession</th>\n",
       "    </tr>\n",
       "  </thead>\n",
       "  <tbody>\n",
       "    <tr>\n",
       "      <th>0</th>\n",
       "      <td>tt1298650</td>\n",
       "      <td>Pirates of the Caribbean: On Stranger Tides</td>\n",
       "      <td>Pirates of the Caribbean: On Stranger Tides</td>\n",
       "      <td>2011.0</td>\n",
       "      <td>136.0</td>\n",
       "      <td>Action,Adventure,Fantasy</td>\n",
       "      <td>2</td>\n",
       "      <td>May 20, 2011</td>\n",
       "      <td>Pirates of the Caribbean: On Stranger Tides</td>\n",
       "      <td>410600000</td>\n",
       "      <td>241063875</td>\n",
       "      <td>1045663875</td>\n",
       "      <td>6.6</td>\n",
       "      <td>447624</td>\n",
       "      <td>nm0004851</td>\n",
       "      <td>Penélope Cruz</td>\n",
       "      <td>1974.0</td>\n",
       "      <td>actress</td>\n",
       "    </tr>\n",
       "    <tr>\n",
       "      <th>1</th>\n",
       "      <td>tt1298650</td>\n",
       "      <td>Pirates of the Caribbean: On Stranger Tides</td>\n",
       "      <td>Pirates of the Caribbean: On Stranger Tides</td>\n",
       "      <td>2011.0</td>\n",
       "      <td>136.0</td>\n",
       "      <td>Action,Adventure,Fantasy</td>\n",
       "      <td>2</td>\n",
       "      <td>May 20, 2011</td>\n",
       "      <td>Pirates of the Caribbean: On Stranger Tides</td>\n",
       "      <td>410600000</td>\n",
       "      <td>241063875</td>\n",
       "      <td>1045663875</td>\n",
       "      <td>6.6</td>\n",
       "      <td>447624</td>\n",
       "      <td>nm0046087</td>\n",
       "      <td>Jennifer Badger</td>\n",
       "      <td>1976.0</td>\n",
       "      <td>stunts</td>\n",
       "    </tr>\n",
       "    <tr>\n",
       "      <th>2</th>\n",
       "      <td>tt1298650</td>\n",
       "      <td>Pirates of the Caribbean: On Stranger Tides</td>\n",
       "      <td>Pirates of the Caribbean: On Stranger Tides</td>\n",
       "      <td>2011.0</td>\n",
       "      <td>136.0</td>\n",
       "      <td>Action,Adventure,Fantasy</td>\n",
       "      <td>2</td>\n",
       "      <td>May 20, 2011</td>\n",
       "      <td>Pirates of the Caribbean: On Stranger Tides</td>\n",
       "      <td>410600000</td>\n",
       "      <td>241063875</td>\n",
       "      <td>1045663875</td>\n",
       "      <td>6.6</td>\n",
       "      <td>447624</td>\n",
       "      <td>nm0263740</td>\n",
       "      <td>Steve Evets</td>\n",
       "      <td>1960.0</td>\n",
       "      <td>actor</td>\n",
       "    </tr>\n",
       "    <tr>\n",
       "      <th>3</th>\n",
       "      <td>tt1298650</td>\n",
       "      <td>Pirates of the Caribbean: On Stranger Tides</td>\n",
       "      <td>Pirates of the Caribbean: On Stranger Tides</td>\n",
       "      <td>2011.0</td>\n",
       "      <td>136.0</td>\n",
       "      <td>Action,Adventure,Fantasy</td>\n",
       "      <td>2</td>\n",
       "      <td>May 20, 2011</td>\n",
       "      <td>Pirates of the Caribbean: On Stranger Tides</td>\n",
       "      <td>410600000</td>\n",
       "      <td>241063875</td>\n",
       "      <td>1045663875</td>\n",
       "      <td>6.6</td>\n",
       "      <td>447624</td>\n",
       "      <td>nm0273797</td>\n",
       "      <td>Sebastian Armesto</td>\n",
       "      <td>1982.0</td>\n",
       "      <td>assistant_director</td>\n",
       "    </tr>\n",
       "    <tr>\n",
       "      <th>4</th>\n",
       "      <td>tt1298650</td>\n",
       "      <td>Pirates of the Caribbean: On Stranger Tides</td>\n",
       "      <td>Pirates of the Caribbean: On Stranger Tides</td>\n",
       "      <td>2011.0</td>\n",
       "      <td>136.0</td>\n",
       "      <td>Action,Adventure,Fantasy</td>\n",
       "      <td>2</td>\n",
       "      <td>May 20, 2011</td>\n",
       "      <td>Pirates of the Caribbean: On Stranger Tides</td>\n",
       "      <td>410600000</td>\n",
       "      <td>241063875</td>\n",
       "      <td>1045663875</td>\n",
       "      <td>6.6</td>\n",
       "      <td>447624</td>\n",
       "      <td>nm0573618</td>\n",
       "      <td>Kevin McNally</td>\n",
       "      <td>1956.0</td>\n",
       "      <td>actor</td>\n",
       "    </tr>\n",
       "    <tr>\n",
       "      <th>...</th>\n",
       "      <td>...</td>\n",
       "      <td>...</td>\n",
       "      <td>...</td>\n",
       "      <td>...</td>\n",
       "      <td>...</td>\n",
       "      <td>...</td>\n",
       "      <td>...</td>\n",
       "      <td>...</td>\n",
       "      <td>...</td>\n",
       "      <td>...</td>\n",
       "      <td>...</td>\n",
       "      <td>...</td>\n",
       "      <td>...</td>\n",
       "      <td>...</td>\n",
       "      <td>...</td>\n",
       "      <td>...</td>\n",
       "      <td>...</td>\n",
       "      <td>...</td>\n",
       "    </tr>\n",
       "    <tr>\n",
       "      <th>10987</th>\n",
       "      <td>tt1716760</td>\n",
       "      <td>Raymond Did It</td>\n",
       "      <td>Raymond Did It</td>\n",
       "      <td>2011.0</td>\n",
       "      <td>83.0</td>\n",
       "      <td>Horror</td>\n",
       "      <td>32</td>\n",
       "      <td>Feb 11, 2011</td>\n",
       "      <td>Raymond Did It</td>\n",
       "      <td>40000</td>\n",
       "      <td>3632</td>\n",
       "      <td>3632</td>\n",
       "      <td>3.3</td>\n",
       "      <td>211</td>\n",
       "      <td>nm3171405</td>\n",
       "      <td>Robert J. Williams</td>\n",
       "      <td>1986.0</td>\n",
       "      <td>editor</td>\n",
       "    </tr>\n",
       "    <tr>\n",
       "      <th>10988</th>\n",
       "      <td>tt1492841</td>\n",
       "      <td>Foreign Letters</td>\n",
       "      <td>Foreign Letters</td>\n",
       "      <td>2012.0</td>\n",
       "      <td>99.0</td>\n",
       "      <td>Comedy,Drama</td>\n",
       "      <td>33</td>\n",
       "      <td>Mar 31, 2012</td>\n",
       "      <td>Foreign Letters</td>\n",
       "      <td>40000</td>\n",
       "      <td>0</td>\n",
       "      <td>0</td>\n",
       "      <td>6.9</td>\n",
       "      <td>180</td>\n",
       "      <td>nm0858008</td>\n",
       "      <td>Ela Thier</td>\n",
       "      <td>1971.0</td>\n",
       "      <td>writer</td>\n",
       "    </tr>\n",
       "    <tr>\n",
       "      <th>10989</th>\n",
       "      <td>tt1945044</td>\n",
       "      <td>Exeter</td>\n",
       "      <td>Exeter</td>\n",
       "      <td>2015.0</td>\n",
       "      <td>91.0</td>\n",
       "      <td>Horror,Mystery,Thriller</td>\n",
       "      <td>49</td>\n",
       "      <td>Sep 1, 2015</td>\n",
       "      <td>Exeter</td>\n",
       "      <td>25000</td>\n",
       "      <td>0</td>\n",
       "      <td>489792</td>\n",
       "      <td>4.5</td>\n",
       "      <td>5156</td>\n",
       "      <td>nm1885051</td>\n",
       "      <td>Nick Nicotera</td>\n",
       "      <td>1981.0</td>\n",
       "      <td>editor</td>\n",
       "    </tr>\n",
       "    <tr>\n",
       "      <th>10990</th>\n",
       "      <td>tt2309562</td>\n",
       "      <td>Ten</td>\n",
       "      <td>Ten</td>\n",
       "      <td>2013.0</td>\n",
       "      <td>118.0</td>\n",
       "      <td>Drama</td>\n",
       "      <td>51</td>\n",
       "      <td>Apr 21, 2015</td>\n",
       "      <td>Ten</td>\n",
       "      <td>25000</td>\n",
       "      <td>0</td>\n",
       "      <td>0</td>\n",
       "      <td>5.5</td>\n",
       "      <td>31</td>\n",
       "      <td>nm2793783</td>\n",
       "      <td>Colin Burt Vidler</td>\n",
       "      <td>1970.0</td>\n",
       "      <td>actor</td>\n",
       "    </tr>\n",
       "    <tr>\n",
       "      <th>10991</th>\n",
       "      <td>tt7837402</td>\n",
       "      <td>Red 11</td>\n",
       "      <td>Red 11</td>\n",
       "      <td>2019.0</td>\n",
       "      <td>77.0</td>\n",
       "      <td>Horror,Sci-Fi,Thriller</td>\n",
       "      <td>78</td>\n",
       "      <td>Dec 31, 2018</td>\n",
       "      <td>Red 11</td>\n",
       "      <td>7000</td>\n",
       "      <td>0</td>\n",
       "      <td>0</td>\n",
       "      <td>5.6</td>\n",
       "      <td>43</td>\n",
       "      <td>nm1897406</td>\n",
       "      <td>Racer Rodriguez</td>\n",
       "      <td>1997.0</td>\n",
       "      <td>stunts</td>\n",
       "    </tr>\n",
       "  </tbody>\n",
       "</table>\n",
       "<p>10958 rows × 18 columns</p>\n",
       "</div>"
      ],
      "text/plain": [
       "          tconst                                primary_title  \\\n",
       "0      tt1298650  Pirates of the Caribbean: On Stranger Tides   \n",
       "1      tt1298650  Pirates of the Caribbean: On Stranger Tides   \n",
       "2      tt1298650  Pirates of the Caribbean: On Stranger Tides   \n",
       "3      tt1298650  Pirates of the Caribbean: On Stranger Tides   \n",
       "4      tt1298650  Pirates of the Caribbean: On Stranger Tides   \n",
       "...          ...                                          ...   \n",
       "10987  tt1716760                               Raymond Did It   \n",
       "10988  tt1492841                              Foreign Letters   \n",
       "10989  tt1945044                                       Exeter   \n",
       "10990  tt2309562                                          Ten   \n",
       "10991  tt7837402                                       Red 11   \n",
       "\n",
       "                                    original_title  start_year  \\\n",
       "0      Pirates of the Caribbean: On Stranger Tides      2011.0   \n",
       "1      Pirates of the Caribbean: On Stranger Tides      2011.0   \n",
       "2      Pirates of the Caribbean: On Stranger Tides      2011.0   \n",
       "3      Pirates of the Caribbean: On Stranger Tides      2011.0   \n",
       "4      Pirates of the Caribbean: On Stranger Tides      2011.0   \n",
       "...                                            ...         ...   \n",
       "10987                               Raymond Did It      2011.0   \n",
       "10988                              Foreign Letters      2012.0   \n",
       "10989                                       Exeter      2015.0   \n",
       "10990                                          Ten      2013.0   \n",
       "10991                                       Red 11      2019.0   \n",
       "\n",
       "       runtime_minutes                    genres  id  release_date  \\\n",
       "0                136.0  Action,Adventure,Fantasy   2  May 20, 2011   \n",
       "1                136.0  Action,Adventure,Fantasy   2  May 20, 2011   \n",
       "2                136.0  Action,Adventure,Fantasy   2  May 20, 2011   \n",
       "3                136.0  Action,Adventure,Fantasy   2  May 20, 2011   \n",
       "4                136.0  Action,Adventure,Fantasy   2  May 20, 2011   \n",
       "...                ...                       ...  ..           ...   \n",
       "10987             83.0                    Horror  32  Feb 11, 2011   \n",
       "10988             99.0              Comedy,Drama  33  Mar 31, 2012   \n",
       "10989             91.0   Horror,Mystery,Thriller  49   Sep 1, 2015   \n",
       "10990            118.0                     Drama  51  Apr 21, 2015   \n",
       "10991             77.0    Horror,Sci-Fi,Thriller  78  Dec 31, 2018   \n",
       "\n",
       "                                             movie  production_budget  \\\n",
       "0      Pirates of the Caribbean: On Stranger Tides          410600000   \n",
       "1      Pirates of the Caribbean: On Stranger Tides          410600000   \n",
       "2      Pirates of the Caribbean: On Stranger Tides          410600000   \n",
       "3      Pirates of the Caribbean: On Stranger Tides          410600000   \n",
       "4      Pirates of the Caribbean: On Stranger Tides          410600000   \n",
       "...                                            ...                ...   \n",
       "10987                               Raymond Did It              40000   \n",
       "10988                              Foreign Letters              40000   \n",
       "10989                                       Exeter              25000   \n",
       "10990                                          Ten              25000   \n",
       "10991                                       Red 11               7000   \n",
       "\n",
       "       domestic_gross  worldwide_gross  averagerating  numvotes     nconst  \\\n",
       "0           241063875       1045663875            6.6    447624  nm0004851   \n",
       "1           241063875       1045663875            6.6    447624  nm0046087   \n",
       "2           241063875       1045663875            6.6    447624  nm0263740   \n",
       "3           241063875       1045663875            6.6    447624  nm0273797   \n",
       "4           241063875       1045663875            6.6    447624  nm0573618   \n",
       "...               ...              ...            ...       ...        ...   \n",
       "10987            3632             3632            3.3       211  nm3171405   \n",
       "10988               0                0            6.9       180  nm0858008   \n",
       "10989               0           489792            4.5      5156  nm1885051   \n",
       "10990               0                0            5.5        31  nm2793783   \n",
       "10991               0                0            5.6        43  nm1897406   \n",
       "\n",
       "             primary_name  birth_year  primary_profession  \n",
       "0           Penélope Cruz      1974.0             actress  \n",
       "1         Jennifer Badger      1976.0              stunts  \n",
       "2             Steve Evets      1960.0               actor  \n",
       "3       Sebastian Armesto      1982.0  assistant_director  \n",
       "4           Kevin McNally      1956.0               actor  \n",
       "...                   ...         ...                 ...  \n",
       "10987  Robert J. Williams      1986.0              editor  \n",
       "10988           Ela Thier      1971.0              writer  \n",
       "10989       Nick Nicotera      1981.0              editor  \n",
       "10990   Colin Burt Vidler      1970.0               actor  \n",
       "10991     Racer Rodriguez      1997.0              stunts  \n",
       "\n",
       "[10958 rows x 18 columns]"
      ]
     },
     "execution_count": 131,
     "metadata": {},
     "output_type": "execute_result"
    }
   ],
   "source": [
    "project1_df.drop_duplicates(subset=['release_date', 'movie','primary_title', 'production_budget'])\n",
    "project1_df"
   ]
  },
  {
   "cell_type": "markdown",
   "metadata": {
    "ExecuteTime": {
     "end_time": "2021-04-19T20:56:49.888620Z",
     "start_time": "2021-04-19T20:56:49.873607Z"
    }
   },
   "source": [
    "## Feature Engineering"
   ]
  },
  {
   "cell_type": "code",
   "execution_count": 132,
   "metadata": {
    "ExecuteTime": {
     "end_time": "2021-04-28T20:29:06.201707Z",
     "start_time": "2021-04-28T20:29:06.186694Z"
    }
   },
   "outputs": [
    {
     "name": "stdout",
     "output_type": "stream",
     "text": [
      "<class 'pandas.core.frame.DataFrame'>\n",
      "Int64Index: 10958 entries, 0 to 10991\n",
      "Data columns (total 18 columns):\n",
      " #   Column              Non-Null Count  Dtype  \n",
      "---  ------              --------------  -----  \n",
      " 0   tconst              10958 non-null  object \n",
      " 1   primary_title       10958 non-null  object \n",
      " 2   original_title      10958 non-null  object \n",
      " 3   start_year          10958 non-null  float64\n",
      " 4   runtime_minutes     10958 non-null  float64\n",
      " 5   genres              10958 non-null  object \n",
      " 6   id                  10958 non-null  int64  \n",
      " 7   release_date        10958 non-null  object \n",
      " 8   movie               10958 non-null  object \n",
      " 9   production_budget   10958 non-null  int64  \n",
      " 10  domestic_gross      10958 non-null  int64  \n",
      " 11  worldwide_gross     10958 non-null  int64  \n",
      " 12  averagerating       10958 non-null  float64\n",
      " 13  numvotes            10958 non-null  int64  \n",
      " 14  nconst              10958 non-null  object \n",
      " 15  primary_name        10958 non-null  object \n",
      " 16  birth_year          10958 non-null  float64\n",
      " 17  primary_profession  10958 non-null  object \n",
      "dtypes: float64(4), int64(5), object(9)\n",
      "memory usage: 1.6+ MB\n"
     ]
    }
   ],
   "source": [
    "project1_df.info()"
   ]
  },
  {
   "cell_type": "code",
   "execution_count": 133,
   "metadata": {
    "ExecuteTime": {
     "end_time": "2021-04-28T20:29:06.217722Z",
     "start_time": "2021-04-28T20:29:06.202708Z"
    }
   },
   "outputs": [
    {
     "data": {
      "text/html": [
       "<div>\n",
       "<style scoped>\n",
       "    .dataframe tbody tr th:only-of-type {\n",
       "        vertical-align: middle;\n",
       "    }\n",
       "\n",
       "    .dataframe tbody tr th {\n",
       "        vertical-align: top;\n",
       "    }\n",
       "\n",
       "    .dataframe thead th {\n",
       "        text-align: right;\n",
       "    }\n",
       "</style>\n",
       "<table border=\"1\" class=\"dataframe\">\n",
       "  <thead>\n",
       "    <tr style=\"text-align: right;\">\n",
       "      <th></th>\n",
       "      <th>tconst</th>\n",
       "      <th>primary_title</th>\n",
       "      <th>original_title</th>\n",
       "      <th>start_year</th>\n",
       "      <th>runtime_minutes</th>\n",
       "      <th>genres</th>\n",
       "      <th>id</th>\n",
       "      <th>release_date</th>\n",
       "      <th>movie</th>\n",
       "      <th>production_budget</th>\n",
       "      <th>domestic_gross</th>\n",
       "      <th>worldwide_gross</th>\n",
       "      <th>averagerating</th>\n",
       "      <th>numvotes</th>\n",
       "      <th>nconst</th>\n",
       "      <th>primary_name</th>\n",
       "      <th>birth_year</th>\n",
       "      <th>primary_profession</th>\n",
       "      <th>month</th>\n",
       "    </tr>\n",
       "  </thead>\n",
       "  <tbody>\n",
       "    <tr>\n",
       "      <th>0</th>\n",
       "      <td>tt1298650</td>\n",
       "      <td>Pirates of the Caribbean: On Stranger Tides</td>\n",
       "      <td>Pirates of the Caribbean: On Stranger Tides</td>\n",
       "      <td>2011.0</td>\n",
       "      <td>136.0</td>\n",
       "      <td>Action,Adventure,Fantasy</td>\n",
       "      <td>2</td>\n",
       "      <td>May 20, 2011</td>\n",
       "      <td>Pirates of the Caribbean: On Stranger Tides</td>\n",
       "      <td>410600000</td>\n",
       "      <td>241063875</td>\n",
       "      <td>1045663875</td>\n",
       "      <td>6.6</td>\n",
       "      <td>447624</td>\n",
       "      <td>nm0004851</td>\n",
       "      <td>Penélope Cruz</td>\n",
       "      <td>1974.0</td>\n",
       "      <td>actress</td>\n",
       "      <td>May</td>\n",
       "    </tr>\n",
       "    <tr>\n",
       "      <th>1</th>\n",
       "      <td>tt1298650</td>\n",
       "      <td>Pirates of the Caribbean: On Stranger Tides</td>\n",
       "      <td>Pirates of the Caribbean: On Stranger Tides</td>\n",
       "      <td>2011.0</td>\n",
       "      <td>136.0</td>\n",
       "      <td>Action,Adventure,Fantasy</td>\n",
       "      <td>2</td>\n",
       "      <td>May 20, 2011</td>\n",
       "      <td>Pirates of the Caribbean: On Stranger Tides</td>\n",
       "      <td>410600000</td>\n",
       "      <td>241063875</td>\n",
       "      <td>1045663875</td>\n",
       "      <td>6.6</td>\n",
       "      <td>447624</td>\n",
       "      <td>nm0046087</td>\n",
       "      <td>Jennifer Badger</td>\n",
       "      <td>1976.0</td>\n",
       "      <td>stunts</td>\n",
       "      <td>May</td>\n",
       "    </tr>\n",
       "    <tr>\n",
       "      <th>2</th>\n",
       "      <td>tt1298650</td>\n",
       "      <td>Pirates of the Caribbean: On Stranger Tides</td>\n",
       "      <td>Pirates of the Caribbean: On Stranger Tides</td>\n",
       "      <td>2011.0</td>\n",
       "      <td>136.0</td>\n",
       "      <td>Action,Adventure,Fantasy</td>\n",
       "      <td>2</td>\n",
       "      <td>May 20, 2011</td>\n",
       "      <td>Pirates of the Caribbean: On Stranger Tides</td>\n",
       "      <td>410600000</td>\n",
       "      <td>241063875</td>\n",
       "      <td>1045663875</td>\n",
       "      <td>6.6</td>\n",
       "      <td>447624</td>\n",
       "      <td>nm0263740</td>\n",
       "      <td>Steve Evets</td>\n",
       "      <td>1960.0</td>\n",
       "      <td>actor</td>\n",
       "      <td>May</td>\n",
       "    </tr>\n",
       "    <tr>\n",
       "      <th>3</th>\n",
       "      <td>tt1298650</td>\n",
       "      <td>Pirates of the Caribbean: On Stranger Tides</td>\n",
       "      <td>Pirates of the Caribbean: On Stranger Tides</td>\n",
       "      <td>2011.0</td>\n",
       "      <td>136.0</td>\n",
       "      <td>Action,Adventure,Fantasy</td>\n",
       "      <td>2</td>\n",
       "      <td>May 20, 2011</td>\n",
       "      <td>Pirates of the Caribbean: On Stranger Tides</td>\n",
       "      <td>410600000</td>\n",
       "      <td>241063875</td>\n",
       "      <td>1045663875</td>\n",
       "      <td>6.6</td>\n",
       "      <td>447624</td>\n",
       "      <td>nm0273797</td>\n",
       "      <td>Sebastian Armesto</td>\n",
       "      <td>1982.0</td>\n",
       "      <td>assistant_director</td>\n",
       "      <td>May</td>\n",
       "    </tr>\n",
       "    <tr>\n",
       "      <th>4</th>\n",
       "      <td>tt1298650</td>\n",
       "      <td>Pirates of the Caribbean: On Stranger Tides</td>\n",
       "      <td>Pirates of the Caribbean: On Stranger Tides</td>\n",
       "      <td>2011.0</td>\n",
       "      <td>136.0</td>\n",
       "      <td>Action,Adventure,Fantasy</td>\n",
       "      <td>2</td>\n",
       "      <td>May 20, 2011</td>\n",
       "      <td>Pirates of the Caribbean: On Stranger Tides</td>\n",
       "      <td>410600000</td>\n",
       "      <td>241063875</td>\n",
       "      <td>1045663875</td>\n",
       "      <td>6.6</td>\n",
       "      <td>447624</td>\n",
       "      <td>nm0573618</td>\n",
       "      <td>Kevin McNally</td>\n",
       "      <td>1956.0</td>\n",
       "      <td>actor</td>\n",
       "      <td>May</td>\n",
       "    </tr>\n",
       "  </tbody>\n",
       "</table>\n",
       "</div>"
      ],
      "text/plain": [
       "      tconst                                primary_title  \\\n",
       "0  tt1298650  Pirates of the Caribbean: On Stranger Tides   \n",
       "1  tt1298650  Pirates of the Caribbean: On Stranger Tides   \n",
       "2  tt1298650  Pirates of the Caribbean: On Stranger Tides   \n",
       "3  tt1298650  Pirates of the Caribbean: On Stranger Tides   \n",
       "4  tt1298650  Pirates of the Caribbean: On Stranger Tides   \n",
       "\n",
       "                                original_title  start_year  runtime_minutes  \\\n",
       "0  Pirates of the Caribbean: On Stranger Tides      2011.0            136.0   \n",
       "1  Pirates of the Caribbean: On Stranger Tides      2011.0            136.0   \n",
       "2  Pirates of the Caribbean: On Stranger Tides      2011.0            136.0   \n",
       "3  Pirates of the Caribbean: On Stranger Tides      2011.0            136.0   \n",
       "4  Pirates of the Caribbean: On Stranger Tides      2011.0            136.0   \n",
       "\n",
       "                     genres  id  release_date  \\\n",
       "0  Action,Adventure,Fantasy   2  May 20, 2011   \n",
       "1  Action,Adventure,Fantasy   2  May 20, 2011   \n",
       "2  Action,Adventure,Fantasy   2  May 20, 2011   \n",
       "3  Action,Adventure,Fantasy   2  May 20, 2011   \n",
       "4  Action,Adventure,Fantasy   2  May 20, 2011   \n",
       "\n",
       "                                         movie  production_budget  \\\n",
       "0  Pirates of the Caribbean: On Stranger Tides          410600000   \n",
       "1  Pirates of the Caribbean: On Stranger Tides          410600000   \n",
       "2  Pirates of the Caribbean: On Stranger Tides          410600000   \n",
       "3  Pirates of the Caribbean: On Stranger Tides          410600000   \n",
       "4  Pirates of the Caribbean: On Stranger Tides          410600000   \n",
       "\n",
       "   domestic_gross  worldwide_gross  averagerating  numvotes     nconst  \\\n",
       "0       241063875       1045663875            6.6    447624  nm0004851   \n",
       "1       241063875       1045663875            6.6    447624  nm0046087   \n",
       "2       241063875       1045663875            6.6    447624  nm0263740   \n",
       "3       241063875       1045663875            6.6    447624  nm0273797   \n",
       "4       241063875       1045663875            6.6    447624  nm0573618   \n",
       "\n",
       "        primary_name  birth_year  primary_profession month  \n",
       "0      Penélope Cruz      1974.0             actress   May  \n",
       "1    Jennifer Badger      1976.0              stunts   May  \n",
       "2        Steve Evets      1960.0               actor   May  \n",
       "3  Sebastian Armesto      1982.0  assistant_director   May  \n",
       "4      Kevin McNally      1956.0               actor   May  "
      ]
     },
     "execution_count": 133,
     "metadata": {},
     "output_type": "execute_result"
    }
   ],
   "source": [
    "project1_df['month'] = project1_df['release_date'].str[0:3]\n",
    "project1_df.head()"
   ]
  },
  {
   "cell_type": "code",
   "execution_count": 134,
   "metadata": {
    "ExecuteTime": {
     "end_time": "2021-04-28T20:29:06.249751Z",
     "start_time": "2021-04-28T20:29:06.218722Z"
    }
   },
   "outputs": [
    {
     "data": {
      "text/html": [
       "<div>\n",
       "<style scoped>\n",
       "    .dataframe tbody tr th:only-of-type {\n",
       "        vertical-align: middle;\n",
       "    }\n",
       "\n",
       "    .dataframe tbody tr th {\n",
       "        vertical-align: top;\n",
       "    }\n",
       "\n",
       "    .dataframe thead th {\n",
       "        text-align: right;\n",
       "    }\n",
       "</style>\n",
       "<table border=\"1\" class=\"dataframe\">\n",
       "  <thead>\n",
       "    <tr style=\"text-align: right;\">\n",
       "      <th></th>\n",
       "      <th>tconst</th>\n",
       "      <th>primary_title</th>\n",
       "      <th>original_title</th>\n",
       "      <th>start_year</th>\n",
       "      <th>runtime_minutes</th>\n",
       "      <th>genres</th>\n",
       "      <th>id</th>\n",
       "      <th>release_date</th>\n",
       "      <th>movie</th>\n",
       "      <th>production_budget</th>\n",
       "      <th>domestic_gross</th>\n",
       "      <th>worldwide_gross</th>\n",
       "      <th>averagerating</th>\n",
       "      <th>numvotes</th>\n",
       "      <th>nconst</th>\n",
       "      <th>primary_name</th>\n",
       "      <th>birth_year</th>\n",
       "      <th>primary_profession</th>\n",
       "      <th>month</th>\n",
       "      <th>month_inorder</th>\n",
       "    </tr>\n",
       "  </thead>\n",
       "  <tbody>\n",
       "    <tr>\n",
       "      <th>10991</th>\n",
       "      <td>tt7837402</td>\n",
       "      <td>Red 11</td>\n",
       "      <td>Red 11</td>\n",
       "      <td>2019.0</td>\n",
       "      <td>77.0</td>\n",
       "      <td>Horror,Sci-Fi,Thriller</td>\n",
       "      <td>78</td>\n",
       "      <td>Dec 31, 2018</td>\n",
       "      <td>Red 11</td>\n",
       "      <td>7000</td>\n",
       "      <td>0</td>\n",
       "      <td>0</td>\n",
       "      <td>5.6</td>\n",
       "      <td>43</td>\n",
       "      <td>nm1897406</td>\n",
       "      <td>Racer Rodriguez</td>\n",
       "      <td>1997.0</td>\n",
       "      <td>stunts</td>\n",
       "      <td>Dec</td>\n",
       "      <td>12</td>\n",
       "    </tr>\n",
       "    <tr>\n",
       "      <th>5043</th>\n",
       "      <td>tt1091191</td>\n",
       "      <td>Lone Survivor</td>\n",
       "      <td>Lone Survivor</td>\n",
       "      <td>2013.0</td>\n",
       "      <td>121.0</td>\n",
       "      <td>Action,Biography,Drama</td>\n",
       "      <td>84</td>\n",
       "      <td>Dec 25, 2013</td>\n",
       "      <td>Lone Survivor</td>\n",
       "      <td>40000000</td>\n",
       "      <td>125095601</td>\n",
       "      <td>149804632</td>\n",
       "      <td>7.5</td>\n",
       "      <td>246641</td>\n",
       "      <td>nm1846124</td>\n",
       "      <td>Ali Suliman</td>\n",
       "      <td>1977.0</td>\n",
       "      <td>producer</td>\n",
       "      <td>Dec</td>\n",
       "      <td>12</td>\n",
       "    </tr>\n",
       "    <tr>\n",
       "      <th>5045</th>\n",
       "      <td>tt1091191</td>\n",
       "      <td>Lone Survivor</td>\n",
       "      <td>Lone Survivor</td>\n",
       "      <td>2013.0</td>\n",
       "      <td>121.0</td>\n",
       "      <td>Action,Biography,Drama</td>\n",
       "      <td>84</td>\n",
       "      <td>Dec 25, 2013</td>\n",
       "      <td>Lone Survivor</td>\n",
       "      <td>40000000</td>\n",
       "      <td>125095601</td>\n",
       "      <td>149804632</td>\n",
       "      <td>7.5</td>\n",
       "      <td>246641</td>\n",
       "      <td>nm3181865</td>\n",
       "      <td>Frank Powers</td>\n",
       "      <td>1975.0</td>\n",
       "      <td>producer</td>\n",
       "      <td>Dec</td>\n",
       "      <td>12</td>\n",
       "    </tr>\n",
       "    <tr>\n",
       "      <th>5046</th>\n",
       "      <td>tt1091191</td>\n",
       "      <td>Lone Survivor</td>\n",
       "      <td>Lone Survivor</td>\n",
       "      <td>2013.0</td>\n",
       "      <td>121.0</td>\n",
       "      <td>Action,Biography,Drama</td>\n",
       "      <td>84</td>\n",
       "      <td>Dec 25, 2013</td>\n",
       "      <td>Lone Survivor</td>\n",
       "      <td>40000000</td>\n",
       "      <td>125095601</td>\n",
       "      <td>149804632</td>\n",
       "      <td>7.5</td>\n",
       "      <td>246641</td>\n",
       "      <td>nm3899377</td>\n",
       "      <td>John Quintana</td>\n",
       "      <td>1989.0</td>\n",
       "      <td>producer</td>\n",
       "      <td>Dec</td>\n",
       "      <td>12</td>\n",
       "    </tr>\n",
       "    <tr>\n",
       "      <th>5232</th>\n",
       "      <td>tt1694020</td>\n",
       "      <td>The Guilt Trip</td>\n",
       "      <td>The Guilt Trip</td>\n",
       "      <td>2012.0</td>\n",
       "      <td>95.0</td>\n",
       "      <td>Comedy,Drama</td>\n",
       "      <td>59</td>\n",
       "      <td>Dec 19, 2012</td>\n",
       "      <td>The Guilt Trip</td>\n",
       "      <td>40000000</td>\n",
       "      <td>37134215</td>\n",
       "      <td>41294674</td>\n",
       "      <td>5.8</td>\n",
       "      <td>33702</td>\n",
       "      <td>nm0235092</td>\n",
       "      <td>Jackson Douglas</td>\n",
       "      <td>1969.0</td>\n",
       "      <td>director</td>\n",
       "      <td>Dec</td>\n",
       "      <td>12</td>\n",
       "    </tr>\n",
       "    <tr>\n",
       "      <th>...</th>\n",
       "      <td>...</td>\n",
       "      <td>...</td>\n",
       "      <td>...</td>\n",
       "      <td>...</td>\n",
       "      <td>...</td>\n",
       "      <td>...</td>\n",
       "      <td>...</td>\n",
       "      <td>...</td>\n",
       "      <td>...</td>\n",
       "      <td>...</td>\n",
       "      <td>...</td>\n",
       "      <td>...</td>\n",
       "      <td>...</td>\n",
       "      <td>...</td>\n",
       "      <td>...</td>\n",
       "      <td>...</td>\n",
       "      <td>...</td>\n",
       "      <td>...</td>\n",
       "      <td>...</td>\n",
       "      <td>...</td>\n",
       "    </tr>\n",
       "    <tr>\n",
       "      <th>10091</th>\n",
       "      <td>tt3103166</td>\n",
       "      <td>The Masked Saint</td>\n",
       "      <td>The Masked Saint</td>\n",
       "      <td>2016.0</td>\n",
       "      <td>105.0</td>\n",
       "      <td>Action,Biography,Crime</td>\n",
       "      <td>19</td>\n",
       "      <td>Jan 8, 2016</td>\n",
       "      <td>The Masked Saint</td>\n",
       "      <td>3500000</td>\n",
       "      <td>182695</td>\n",
       "      <td>182695</td>\n",
       "      <td>4.6</td>\n",
       "      <td>559</td>\n",
       "      <td>nm2156926</td>\n",
       "      <td>David Anselmo</td>\n",
       "      <td>1979.0</td>\n",
       "      <td>actor</td>\n",
       "      <td>Jan</td>\n",
       "      <td>1</td>\n",
       "    </tr>\n",
       "    <tr>\n",
       "      <th>5735</th>\n",
       "      <td>tt3717252</td>\n",
       "      <td>Underworld: Blood Wars</td>\n",
       "      <td>Underworld: Blood Wars</td>\n",
       "      <td>2016.0</td>\n",
       "      <td>91.0</td>\n",
       "      <td>Action,Adventure,Fantasy</td>\n",
       "      <td>91</td>\n",
       "      <td>Jan 6, 2017</td>\n",
       "      <td>Underworld: Blood Wars</td>\n",
       "      <td>35000000</td>\n",
       "      <td>30353973</td>\n",
       "      <td>81209222</td>\n",
       "      <td>5.8</td>\n",
       "      <td>62942</td>\n",
       "      <td>nm0002999</td>\n",
       "      <td>Richard S. Wright</td>\n",
       "      <td>1960.0</td>\n",
       "      <td>production_manager</td>\n",
       "      <td>Jan</td>\n",
       "      <td>1</td>\n",
       "    </tr>\n",
       "    <tr>\n",
       "      <th>5736</th>\n",
       "      <td>tt3717252</td>\n",
       "      <td>Underworld: Blood Wars</td>\n",
       "      <td>Underworld: Blood Wars</td>\n",
       "      <td>2016.0</td>\n",
       "      <td>91.0</td>\n",
       "      <td>Action,Adventure,Fantasy</td>\n",
       "      <td>91</td>\n",
       "      <td>Jan 6, 2017</td>\n",
       "      <td>Underworld: Blood Wars</td>\n",
       "      <td>35000000</td>\n",
       "      <td>30353973</td>\n",
       "      <td>81209222</td>\n",
       "      <td>5.8</td>\n",
       "      <td>62942</td>\n",
       "      <td>nm0580014</td>\n",
       "      <td>Tobias Menzies</td>\n",
       "      <td>1974.0</td>\n",
       "      <td>soundtrack</td>\n",
       "      <td>Jan</td>\n",
       "      <td>1</td>\n",
       "    </tr>\n",
       "    <tr>\n",
       "      <th>5737</th>\n",
       "      <td>tt3717252</td>\n",
       "      <td>Underworld: Blood Wars</td>\n",
       "      <td>Underworld: Blood Wars</td>\n",
       "      <td>2016.0</td>\n",
       "      <td>91.0</td>\n",
       "      <td>Action,Adventure,Fantasy</td>\n",
       "      <td>91</td>\n",
       "      <td>Jan 6, 2017</td>\n",
       "      <td>Underworld: Blood Wars</td>\n",
       "      <td>35000000</td>\n",
       "      <td>30353973</td>\n",
       "      <td>81209222</td>\n",
       "      <td>5.8</td>\n",
       "      <td>62942</td>\n",
       "      <td>nm0910800</td>\n",
       "      <td>Michael Wandmacher</td>\n",
       "      <td>1967.0</td>\n",
       "      <td>soundtrack</td>\n",
       "      <td>Jan</td>\n",
       "      <td>1</td>\n",
       "    </tr>\n",
       "    <tr>\n",
       "      <th>7375</th>\n",
       "      <td>tt1020072</td>\n",
       "      <td>Selma</td>\n",
       "      <td>Selma</td>\n",
       "      <td>2014.0</td>\n",
       "      <td>128.0</td>\n",
       "      <td>Biography,Drama,History</td>\n",
       "      <td>25</td>\n",
       "      <td>Jan 9, 2015</td>\n",
       "      <td>Selma</td>\n",
       "      <td>20000000</td>\n",
       "      <td>52076908</td>\n",
       "      <td>66776576</td>\n",
       "      <td>7.5</td>\n",
       "      <td>77633</td>\n",
       "      <td>nm0252238</td>\n",
       "      <td>Carmen Ejogo</td>\n",
       "      <td>1973.0</td>\n",
       "      <td>soundtrack</td>\n",
       "      <td>Jan</td>\n",
       "      <td>1</td>\n",
       "    </tr>\n",
       "  </tbody>\n",
       "</table>\n",
       "<p>10958 rows × 20 columns</p>\n",
       "</div>"
      ],
      "text/plain": [
       "          tconst           primary_title          original_title  start_year  \\\n",
       "10991  tt7837402                  Red 11                  Red 11      2019.0   \n",
       "5043   tt1091191           Lone Survivor           Lone Survivor      2013.0   \n",
       "5045   tt1091191           Lone Survivor           Lone Survivor      2013.0   \n",
       "5046   tt1091191           Lone Survivor           Lone Survivor      2013.0   \n",
       "5232   tt1694020          The Guilt Trip          The Guilt Trip      2012.0   \n",
       "...          ...                     ...                     ...         ...   \n",
       "10091  tt3103166        The Masked Saint        The Masked Saint      2016.0   \n",
       "5735   tt3717252  Underworld: Blood Wars  Underworld: Blood Wars      2016.0   \n",
       "5736   tt3717252  Underworld: Blood Wars  Underworld: Blood Wars      2016.0   \n",
       "5737   tt3717252  Underworld: Blood Wars  Underworld: Blood Wars      2016.0   \n",
       "7375   tt1020072                   Selma                   Selma      2014.0   \n",
       "\n",
       "       runtime_minutes                    genres  id  release_date  \\\n",
       "10991             77.0    Horror,Sci-Fi,Thriller  78  Dec 31, 2018   \n",
       "5043             121.0    Action,Biography,Drama  84  Dec 25, 2013   \n",
       "5045             121.0    Action,Biography,Drama  84  Dec 25, 2013   \n",
       "5046             121.0    Action,Biography,Drama  84  Dec 25, 2013   \n",
       "5232              95.0              Comedy,Drama  59  Dec 19, 2012   \n",
       "...                ...                       ...  ..           ...   \n",
       "10091            105.0    Action,Biography,Crime  19   Jan 8, 2016   \n",
       "5735              91.0  Action,Adventure,Fantasy  91   Jan 6, 2017   \n",
       "5736              91.0  Action,Adventure,Fantasy  91   Jan 6, 2017   \n",
       "5737              91.0  Action,Adventure,Fantasy  91   Jan 6, 2017   \n",
       "7375             128.0   Biography,Drama,History  25   Jan 9, 2015   \n",
       "\n",
       "                        movie  production_budget  domestic_gross  \\\n",
       "10991                  Red 11               7000               0   \n",
       "5043            Lone Survivor           40000000       125095601   \n",
       "5045            Lone Survivor           40000000       125095601   \n",
       "5046            Lone Survivor           40000000       125095601   \n",
       "5232           The Guilt Trip           40000000        37134215   \n",
       "...                       ...                ...             ...   \n",
       "10091        The Masked Saint            3500000          182695   \n",
       "5735   Underworld: Blood Wars           35000000        30353973   \n",
       "5736   Underworld: Blood Wars           35000000        30353973   \n",
       "5737   Underworld: Blood Wars           35000000        30353973   \n",
       "7375                    Selma           20000000        52076908   \n",
       "\n",
       "       worldwide_gross  averagerating  numvotes     nconst  \\\n",
       "10991                0            5.6        43  nm1897406   \n",
       "5043         149804632            7.5    246641  nm1846124   \n",
       "5045         149804632            7.5    246641  nm3181865   \n",
       "5046         149804632            7.5    246641  nm3899377   \n",
       "5232          41294674            5.8     33702  nm0235092   \n",
       "...                ...            ...       ...        ...   \n",
       "10091           182695            4.6       559  nm2156926   \n",
       "5735          81209222            5.8     62942  nm0002999   \n",
       "5736          81209222            5.8     62942  nm0580014   \n",
       "5737          81209222            5.8     62942  nm0910800   \n",
       "7375          66776576            7.5     77633  nm0252238   \n",
       "\n",
       "             primary_name  birth_year  primary_profession month  month_inorder  \n",
       "10991     Racer Rodriguez      1997.0              stunts   Dec             12  \n",
       "5043          Ali Suliman      1977.0            producer   Dec             12  \n",
       "5045         Frank Powers      1975.0            producer   Dec             12  \n",
       "5046        John Quintana      1989.0            producer   Dec             12  \n",
       "5232      Jackson Douglas      1969.0            director   Dec             12  \n",
       "...                   ...         ...                 ...   ...            ...  \n",
       "10091       David Anselmo      1979.0               actor   Jan              1  \n",
       "5735    Richard S. Wright      1960.0  production_manager   Jan              1  \n",
       "5736       Tobias Menzies      1974.0          soundtrack   Jan              1  \n",
       "5737   Michael Wandmacher      1967.0          soundtrack   Jan              1  \n",
       "7375         Carmen Ejogo      1973.0          soundtrack   Jan              1  \n",
       "\n",
       "[10958 rows x 20 columns]"
      ]
     },
     "execution_count": 134,
     "metadata": {},
     "output_type": "execute_result"
    }
   ],
   "source": [
    "project1_df['month_inorder'] = pd.DatetimeIndex(pd.to_datetime(project1_df['month'], format='%b')).month\n",
    "project1_df = project1_df.sort_values('month_inorder', ascending = False)\n",
    "project1_df"
   ]
  },
  {
   "cell_type": "code",
   "execution_count": 135,
   "metadata": {
    "ExecuteTime": {
     "end_time": "2021-04-28T20:29:06.281780Z",
     "start_time": "2021-04-28T20:29:06.250753Z"
    }
   },
   "outputs": [
    {
     "data": {
      "text/html": [
       "<div>\n",
       "<style scoped>\n",
       "    .dataframe tbody tr th:only-of-type {\n",
       "        vertical-align: middle;\n",
       "    }\n",
       "\n",
       "    .dataframe tbody tr th {\n",
       "        vertical-align: top;\n",
       "    }\n",
       "\n",
       "    .dataframe thead th {\n",
       "        text-align: right;\n",
       "    }\n",
       "</style>\n",
       "<table border=\"1\" class=\"dataframe\">\n",
       "  <thead>\n",
       "    <tr style=\"text-align: right;\">\n",
       "      <th></th>\n",
       "      <th>tconst</th>\n",
       "      <th>primary_title</th>\n",
       "      <th>original_title</th>\n",
       "      <th>start_year</th>\n",
       "      <th>runtime_minutes</th>\n",
       "      <th>genres</th>\n",
       "      <th>id</th>\n",
       "      <th>release_date</th>\n",
       "      <th>movie</th>\n",
       "      <th>production_budget</th>\n",
       "      <th>...</th>\n",
       "      <th>worldwide_gross</th>\n",
       "      <th>averagerating</th>\n",
       "      <th>numvotes</th>\n",
       "      <th>nconst</th>\n",
       "      <th>primary_name</th>\n",
       "      <th>birth_year</th>\n",
       "      <th>primary_profession</th>\n",
       "      <th>month</th>\n",
       "      <th>month_inorder</th>\n",
       "      <th>genres_split</th>\n",
       "    </tr>\n",
       "  </thead>\n",
       "  <tbody>\n",
       "    <tr>\n",
       "      <th>10991</th>\n",
       "      <td>tt7837402</td>\n",
       "      <td>Red 11</td>\n",
       "      <td>Red 11</td>\n",
       "      <td>2019.0</td>\n",
       "      <td>77.0</td>\n",
       "      <td>Horror,Sci-Fi,Thriller</td>\n",
       "      <td>78</td>\n",
       "      <td>Dec 31, 2018</td>\n",
       "      <td>Red 11</td>\n",
       "      <td>7000</td>\n",
       "      <td>...</td>\n",
       "      <td>0</td>\n",
       "      <td>5.6</td>\n",
       "      <td>43</td>\n",
       "      <td>nm1897406</td>\n",
       "      <td>Racer Rodriguez</td>\n",
       "      <td>1997.0</td>\n",
       "      <td>stunts</td>\n",
       "      <td>Dec</td>\n",
       "      <td>12</td>\n",
       "      <td>[Horror, Sci-Fi, Thriller]</td>\n",
       "    </tr>\n",
       "    <tr>\n",
       "      <th>5043</th>\n",
       "      <td>tt1091191</td>\n",
       "      <td>Lone Survivor</td>\n",
       "      <td>Lone Survivor</td>\n",
       "      <td>2013.0</td>\n",
       "      <td>121.0</td>\n",
       "      <td>Action,Biography,Drama</td>\n",
       "      <td>84</td>\n",
       "      <td>Dec 25, 2013</td>\n",
       "      <td>Lone Survivor</td>\n",
       "      <td>40000000</td>\n",
       "      <td>...</td>\n",
       "      <td>149804632</td>\n",
       "      <td>7.5</td>\n",
       "      <td>246641</td>\n",
       "      <td>nm1846124</td>\n",
       "      <td>Ali Suliman</td>\n",
       "      <td>1977.0</td>\n",
       "      <td>producer</td>\n",
       "      <td>Dec</td>\n",
       "      <td>12</td>\n",
       "      <td>[Action, Biography, Drama]</td>\n",
       "    </tr>\n",
       "    <tr>\n",
       "      <th>5045</th>\n",
       "      <td>tt1091191</td>\n",
       "      <td>Lone Survivor</td>\n",
       "      <td>Lone Survivor</td>\n",
       "      <td>2013.0</td>\n",
       "      <td>121.0</td>\n",
       "      <td>Action,Biography,Drama</td>\n",
       "      <td>84</td>\n",
       "      <td>Dec 25, 2013</td>\n",
       "      <td>Lone Survivor</td>\n",
       "      <td>40000000</td>\n",
       "      <td>...</td>\n",
       "      <td>149804632</td>\n",
       "      <td>7.5</td>\n",
       "      <td>246641</td>\n",
       "      <td>nm3181865</td>\n",
       "      <td>Frank Powers</td>\n",
       "      <td>1975.0</td>\n",
       "      <td>producer</td>\n",
       "      <td>Dec</td>\n",
       "      <td>12</td>\n",
       "      <td>[Action, Biography, Drama]</td>\n",
       "    </tr>\n",
       "    <tr>\n",
       "      <th>5046</th>\n",
       "      <td>tt1091191</td>\n",
       "      <td>Lone Survivor</td>\n",
       "      <td>Lone Survivor</td>\n",
       "      <td>2013.0</td>\n",
       "      <td>121.0</td>\n",
       "      <td>Action,Biography,Drama</td>\n",
       "      <td>84</td>\n",
       "      <td>Dec 25, 2013</td>\n",
       "      <td>Lone Survivor</td>\n",
       "      <td>40000000</td>\n",
       "      <td>...</td>\n",
       "      <td>149804632</td>\n",
       "      <td>7.5</td>\n",
       "      <td>246641</td>\n",
       "      <td>nm3899377</td>\n",
       "      <td>John Quintana</td>\n",
       "      <td>1989.0</td>\n",
       "      <td>producer</td>\n",
       "      <td>Dec</td>\n",
       "      <td>12</td>\n",
       "      <td>[Action, Biography, Drama]</td>\n",
       "    </tr>\n",
       "    <tr>\n",
       "      <th>5232</th>\n",
       "      <td>tt1694020</td>\n",
       "      <td>The Guilt Trip</td>\n",
       "      <td>The Guilt Trip</td>\n",
       "      <td>2012.0</td>\n",
       "      <td>95.0</td>\n",
       "      <td>Comedy,Drama</td>\n",
       "      <td>59</td>\n",
       "      <td>Dec 19, 2012</td>\n",
       "      <td>The Guilt Trip</td>\n",
       "      <td>40000000</td>\n",
       "      <td>...</td>\n",
       "      <td>41294674</td>\n",
       "      <td>5.8</td>\n",
       "      <td>33702</td>\n",
       "      <td>nm0235092</td>\n",
       "      <td>Jackson Douglas</td>\n",
       "      <td>1969.0</td>\n",
       "      <td>director</td>\n",
       "      <td>Dec</td>\n",
       "      <td>12</td>\n",
       "      <td>[Comedy, Drama]</td>\n",
       "    </tr>\n",
       "  </tbody>\n",
       "</table>\n",
       "<p>5 rows × 21 columns</p>\n",
       "</div>"
      ],
      "text/plain": [
       "          tconst   primary_title  original_title  start_year  runtime_minutes  \\\n",
       "10991  tt7837402          Red 11          Red 11      2019.0             77.0   \n",
       "5043   tt1091191   Lone Survivor   Lone Survivor      2013.0            121.0   \n",
       "5045   tt1091191   Lone Survivor   Lone Survivor      2013.0            121.0   \n",
       "5046   tt1091191   Lone Survivor   Lone Survivor      2013.0            121.0   \n",
       "5232   tt1694020  The Guilt Trip  The Guilt Trip      2012.0             95.0   \n",
       "\n",
       "                       genres  id  release_date           movie  \\\n",
       "10991  Horror,Sci-Fi,Thriller  78  Dec 31, 2018          Red 11   \n",
       "5043   Action,Biography,Drama  84  Dec 25, 2013   Lone Survivor   \n",
       "5045   Action,Biography,Drama  84  Dec 25, 2013   Lone Survivor   \n",
       "5046   Action,Biography,Drama  84  Dec 25, 2013   Lone Survivor   \n",
       "5232             Comedy,Drama  59  Dec 19, 2012  The Guilt Trip   \n",
       "\n",
       "       production_budget  ...  worldwide_gross  averagerating  numvotes  \\\n",
       "10991               7000  ...                0            5.6        43   \n",
       "5043            40000000  ...        149804632            7.5    246641   \n",
       "5045            40000000  ...        149804632            7.5    246641   \n",
       "5046            40000000  ...        149804632            7.5    246641   \n",
       "5232            40000000  ...         41294674            5.8     33702   \n",
       "\n",
       "          nconst     primary_name birth_year  primary_profession month  \\\n",
       "10991  nm1897406  Racer Rodriguez     1997.0              stunts   Dec   \n",
       "5043   nm1846124      Ali Suliman     1977.0            producer   Dec   \n",
       "5045   nm3181865     Frank Powers     1975.0            producer   Dec   \n",
       "5046   nm3899377    John Quintana     1989.0            producer   Dec   \n",
       "5232   nm0235092  Jackson Douglas     1969.0            director   Dec   \n",
       "\n",
       "      month_inorder                genres_split  \n",
       "10991            12  [Horror, Sci-Fi, Thriller]  \n",
       "5043             12  [Action, Biography, Drama]  \n",
       "5045             12  [Action, Biography, Drama]  \n",
       "5046             12  [Action, Biography, Drama]  \n",
       "5232             12             [Comedy, Drama]  \n",
       "\n",
       "[5 rows x 21 columns]"
      ]
     },
     "execution_count": 135,
     "metadata": {},
     "output_type": "execute_result"
    }
   ],
   "source": [
    "project1_df['genres_split'] = project1_df['genres'].map(lambda x: x.split(\",\") if x else x)\n",
    "project1_df.head()"
   ]
  },
  {
   "cell_type": "code",
   "execution_count": 136,
   "metadata": {
    "ExecuteTime": {
     "end_time": "2021-04-28T20:29:06.297794Z",
     "start_time": "2021-04-28T20:29:06.282782Z"
    }
   },
   "outputs": [],
   "source": [
    "all_genres = set()\n",
    "for genres in project1_df['genres_split']:\n",
    "    if genres:\n",
    "        all_genres.update(genres)"
   ]
  },
  {
   "cell_type": "code",
   "execution_count": 137,
   "metadata": {
    "ExecuteTime": {
     "end_time": "2021-04-28T20:29:06.313809Z",
     "start_time": "2021-04-28T20:29:06.298796Z"
    }
   },
   "outputs": [
    {
     "data": {
      "text/plain": [
       "{'Action',\n",
       " 'Adventure',\n",
       " 'Animation',\n",
       " 'Biography',\n",
       " 'Comedy',\n",
       " 'Crime',\n",
       " 'Documentary',\n",
       " 'Drama',\n",
       " 'Family',\n",
       " 'Fantasy',\n",
       " 'History',\n",
       " 'Horror',\n",
       " 'Music',\n",
       " 'Musical',\n",
       " 'Mystery',\n",
       " 'Romance',\n",
       " 'Sci-Fi',\n",
       " 'Sport',\n",
       " 'Thriller',\n",
       " 'War',\n",
       " 'Western'}"
      ]
     },
     "execution_count": 137,
     "metadata": {},
     "output_type": "execute_result"
    }
   ],
   "source": [
    "all_genres"
   ]
  },
  {
   "cell_type": "code",
   "execution_count": 138,
   "metadata": {
    "ExecuteTime": {
     "end_time": "2021-04-28T20:29:06.345838Z",
     "start_time": "2021-04-28T20:29:06.314810Z"
    }
   },
   "outputs": [
    {
     "data": {
      "text/html": [
       "<div>\n",
       "<style scoped>\n",
       "    .dataframe tbody tr th:only-of-type {\n",
       "        vertical-align: middle;\n",
       "    }\n",
       "\n",
       "    .dataframe tbody tr th {\n",
       "        vertical-align: top;\n",
       "    }\n",
       "\n",
       "    .dataframe thead th {\n",
       "        text-align: right;\n",
       "    }\n",
       "</style>\n",
       "<table border=\"1\" class=\"dataframe\">\n",
       "  <thead>\n",
       "    <tr style=\"text-align: right;\">\n",
       "      <th></th>\n",
       "      <th>tconst</th>\n",
       "      <th>primary_title</th>\n",
       "      <th>original_title</th>\n",
       "      <th>start_year</th>\n",
       "      <th>runtime_minutes</th>\n",
       "      <th>genres</th>\n",
       "      <th>id</th>\n",
       "      <th>release_date</th>\n",
       "      <th>movie</th>\n",
       "      <th>production_budget</th>\n",
       "      <th>...</th>\n",
       "      <th>averagerating</th>\n",
       "      <th>numvotes</th>\n",
       "      <th>nconst</th>\n",
       "      <th>primary_name</th>\n",
       "      <th>birth_year</th>\n",
       "      <th>primary_profession</th>\n",
       "      <th>month</th>\n",
       "      <th>month_inorder</th>\n",
       "      <th>genres_split</th>\n",
       "      <th>1_genre</th>\n",
       "    </tr>\n",
       "  </thead>\n",
       "  <tbody>\n",
       "    <tr>\n",
       "      <th>10991</th>\n",
       "      <td>tt7837402</td>\n",
       "      <td>Red 11</td>\n",
       "      <td>Red 11</td>\n",
       "      <td>2019.0</td>\n",
       "      <td>77.0</td>\n",
       "      <td>Horror,Sci-Fi,Thriller</td>\n",
       "      <td>78</td>\n",
       "      <td>Dec 31, 2018</td>\n",
       "      <td>Red 11</td>\n",
       "      <td>7000</td>\n",
       "      <td>...</td>\n",
       "      <td>5.6</td>\n",
       "      <td>43</td>\n",
       "      <td>nm1897406</td>\n",
       "      <td>Racer Rodriguez</td>\n",
       "      <td>1997.0</td>\n",
       "      <td>stunts</td>\n",
       "      <td>Dec</td>\n",
       "      <td>12</td>\n",
       "      <td>[Horror, Sci-Fi, Thriller]</td>\n",
       "      <td>Horror</td>\n",
       "    </tr>\n",
       "    <tr>\n",
       "      <th>5043</th>\n",
       "      <td>tt1091191</td>\n",
       "      <td>Lone Survivor</td>\n",
       "      <td>Lone Survivor</td>\n",
       "      <td>2013.0</td>\n",
       "      <td>121.0</td>\n",
       "      <td>Action,Biography,Drama</td>\n",
       "      <td>84</td>\n",
       "      <td>Dec 25, 2013</td>\n",
       "      <td>Lone Survivor</td>\n",
       "      <td>40000000</td>\n",
       "      <td>...</td>\n",
       "      <td>7.5</td>\n",
       "      <td>246641</td>\n",
       "      <td>nm1846124</td>\n",
       "      <td>Ali Suliman</td>\n",
       "      <td>1977.0</td>\n",
       "      <td>producer</td>\n",
       "      <td>Dec</td>\n",
       "      <td>12</td>\n",
       "      <td>[Action, Biography, Drama]</td>\n",
       "      <td>Action</td>\n",
       "    </tr>\n",
       "    <tr>\n",
       "      <th>5045</th>\n",
       "      <td>tt1091191</td>\n",
       "      <td>Lone Survivor</td>\n",
       "      <td>Lone Survivor</td>\n",
       "      <td>2013.0</td>\n",
       "      <td>121.0</td>\n",
       "      <td>Action,Biography,Drama</td>\n",
       "      <td>84</td>\n",
       "      <td>Dec 25, 2013</td>\n",
       "      <td>Lone Survivor</td>\n",
       "      <td>40000000</td>\n",
       "      <td>...</td>\n",
       "      <td>7.5</td>\n",
       "      <td>246641</td>\n",
       "      <td>nm3181865</td>\n",
       "      <td>Frank Powers</td>\n",
       "      <td>1975.0</td>\n",
       "      <td>producer</td>\n",
       "      <td>Dec</td>\n",
       "      <td>12</td>\n",
       "      <td>[Action, Biography, Drama]</td>\n",
       "      <td>Action</td>\n",
       "    </tr>\n",
       "    <tr>\n",
       "      <th>5046</th>\n",
       "      <td>tt1091191</td>\n",
       "      <td>Lone Survivor</td>\n",
       "      <td>Lone Survivor</td>\n",
       "      <td>2013.0</td>\n",
       "      <td>121.0</td>\n",
       "      <td>Action,Biography,Drama</td>\n",
       "      <td>84</td>\n",
       "      <td>Dec 25, 2013</td>\n",
       "      <td>Lone Survivor</td>\n",
       "      <td>40000000</td>\n",
       "      <td>...</td>\n",
       "      <td>7.5</td>\n",
       "      <td>246641</td>\n",
       "      <td>nm3899377</td>\n",
       "      <td>John Quintana</td>\n",
       "      <td>1989.0</td>\n",
       "      <td>producer</td>\n",
       "      <td>Dec</td>\n",
       "      <td>12</td>\n",
       "      <td>[Action, Biography, Drama]</td>\n",
       "      <td>Action</td>\n",
       "    </tr>\n",
       "    <tr>\n",
       "      <th>5232</th>\n",
       "      <td>tt1694020</td>\n",
       "      <td>The Guilt Trip</td>\n",
       "      <td>The Guilt Trip</td>\n",
       "      <td>2012.0</td>\n",
       "      <td>95.0</td>\n",
       "      <td>Comedy,Drama</td>\n",
       "      <td>59</td>\n",
       "      <td>Dec 19, 2012</td>\n",
       "      <td>The Guilt Trip</td>\n",
       "      <td>40000000</td>\n",
       "      <td>...</td>\n",
       "      <td>5.8</td>\n",
       "      <td>33702</td>\n",
       "      <td>nm0235092</td>\n",
       "      <td>Jackson Douglas</td>\n",
       "      <td>1969.0</td>\n",
       "      <td>director</td>\n",
       "      <td>Dec</td>\n",
       "      <td>12</td>\n",
       "      <td>[Comedy, Drama]</td>\n",
       "      <td>Comedy</td>\n",
       "    </tr>\n",
       "  </tbody>\n",
       "</table>\n",
       "<p>5 rows × 22 columns</p>\n",
       "</div>"
      ],
      "text/plain": [
       "          tconst   primary_title  original_title  start_year  runtime_minutes  \\\n",
       "10991  tt7837402          Red 11          Red 11      2019.0             77.0   \n",
       "5043   tt1091191   Lone Survivor   Lone Survivor      2013.0            121.0   \n",
       "5045   tt1091191   Lone Survivor   Lone Survivor      2013.0            121.0   \n",
       "5046   tt1091191   Lone Survivor   Lone Survivor      2013.0            121.0   \n",
       "5232   tt1694020  The Guilt Trip  The Guilt Trip      2012.0             95.0   \n",
       "\n",
       "                       genres  id  release_date           movie  \\\n",
       "10991  Horror,Sci-Fi,Thriller  78  Dec 31, 2018          Red 11   \n",
       "5043   Action,Biography,Drama  84  Dec 25, 2013   Lone Survivor   \n",
       "5045   Action,Biography,Drama  84  Dec 25, 2013   Lone Survivor   \n",
       "5046   Action,Biography,Drama  84  Dec 25, 2013   Lone Survivor   \n",
       "5232             Comedy,Drama  59  Dec 19, 2012  The Guilt Trip   \n",
       "\n",
       "       production_budget  ...  averagerating  numvotes     nconst  \\\n",
       "10991               7000  ...            5.6        43  nm1897406   \n",
       "5043            40000000  ...            7.5    246641  nm1846124   \n",
       "5045            40000000  ...            7.5    246641  nm3181865   \n",
       "5046            40000000  ...            7.5    246641  nm3899377   \n",
       "5232            40000000  ...            5.8     33702  nm0235092   \n",
       "\n",
       "          primary_name birth_year primary_profession  month month_inorder  \\\n",
       "10991  Racer Rodriguez     1997.0             stunts    Dec            12   \n",
       "5043       Ali Suliman     1977.0           producer    Dec            12   \n",
       "5045      Frank Powers     1975.0           producer    Dec            12   \n",
       "5046     John Quintana     1989.0           producer    Dec            12   \n",
       "5232   Jackson Douglas     1969.0           director    Dec            12   \n",
       "\n",
       "                     genres_split  1_genre  \n",
       "10991  [Horror, Sci-Fi, Thriller]   Horror  \n",
       "5043   [Action, Biography, Drama]   Action  \n",
       "5045   [Action, Biography, Drama]   Action  \n",
       "5046   [Action, Biography, Drama]   Action  \n",
       "5232              [Comedy, Drama]   Comedy  \n",
       "\n",
       "[5 rows x 22 columns]"
      ]
     },
     "execution_count": 138,
     "metadata": {},
     "output_type": "execute_result"
    }
   ],
   "source": [
    "project1_df['1_genre'] = project1_df['genres_split'].map(lambda x: x[0])\n",
    "project1_df.head()"
   ]
  },
  {
   "cell_type": "code",
   "execution_count": 139,
   "metadata": {
    "ExecuteTime": {
     "end_time": "2021-04-28T20:29:06.377867Z",
     "start_time": "2021-04-28T20:29:06.346840Z"
    }
   },
   "outputs": [
    {
     "data": {
      "text/html": [
       "<div>\n",
       "<style scoped>\n",
       "    .dataframe tbody tr th:only-of-type {\n",
       "        vertical-align: middle;\n",
       "    }\n",
       "\n",
       "    .dataframe tbody tr th {\n",
       "        vertical-align: top;\n",
       "    }\n",
       "\n",
       "    .dataframe thead th {\n",
       "        text-align: right;\n",
       "    }\n",
       "</style>\n",
       "<table border=\"1\" class=\"dataframe\">\n",
       "  <thead>\n",
       "    <tr style=\"text-align: right;\">\n",
       "      <th></th>\n",
       "      <th>tconst</th>\n",
       "      <th>primary_title</th>\n",
       "      <th>original_title</th>\n",
       "      <th>start_year</th>\n",
       "      <th>runtime_minutes</th>\n",
       "      <th>genres</th>\n",
       "      <th>id</th>\n",
       "      <th>release_date</th>\n",
       "      <th>movie</th>\n",
       "      <th>production_budget</th>\n",
       "      <th>...</th>\n",
       "      <th>averagerating</th>\n",
       "      <th>numvotes</th>\n",
       "      <th>nconst</th>\n",
       "      <th>primary_name</th>\n",
       "      <th>birth_year</th>\n",
       "      <th>primary_profession</th>\n",
       "      <th>month</th>\n",
       "      <th>month_inorder</th>\n",
       "      <th>genres_split</th>\n",
       "      <th>1_genre</th>\n",
       "    </tr>\n",
       "  </thead>\n",
       "  <tbody>\n",
       "    <tr>\n",
       "      <th>10991</th>\n",
       "      <td>tt7837402</td>\n",
       "      <td>Red 11</td>\n",
       "      <td>Red 11</td>\n",
       "      <td>2019.0</td>\n",
       "      <td>77.0</td>\n",
       "      <td>Horror,Sci-Fi,Thriller</td>\n",
       "      <td>78</td>\n",
       "      <td>Dec 31, 2018</td>\n",
       "      <td>Red 11</td>\n",
       "      <td>7000</td>\n",
       "      <td>...</td>\n",
       "      <td>5.6</td>\n",
       "      <td>43</td>\n",
       "      <td>nm1897406</td>\n",
       "      <td>Racer Rodriguez</td>\n",
       "      <td>1997.0</td>\n",
       "      <td>stunts</td>\n",
       "      <td>Dec</td>\n",
       "      <td>12</td>\n",
       "      <td>[Horror, Sci-Fi, Thriller]</td>\n",
       "      <td>Horror</td>\n",
       "    </tr>\n",
       "    <tr>\n",
       "      <th>5043</th>\n",
       "      <td>tt1091191</td>\n",
       "      <td>Lone Survivor</td>\n",
       "      <td>Lone Survivor</td>\n",
       "      <td>2013.0</td>\n",
       "      <td>121.0</td>\n",
       "      <td>Action,Biography,Drama</td>\n",
       "      <td>84</td>\n",
       "      <td>Dec 25, 2013</td>\n",
       "      <td>Lone Survivor</td>\n",
       "      <td>40000000</td>\n",
       "      <td>...</td>\n",
       "      <td>7.5</td>\n",
       "      <td>246641</td>\n",
       "      <td>nm1846124</td>\n",
       "      <td>Ali Suliman</td>\n",
       "      <td>1977.0</td>\n",
       "      <td>producer</td>\n",
       "      <td>Dec</td>\n",
       "      <td>12</td>\n",
       "      <td>[Action, Biography, Drama]</td>\n",
       "      <td>Action</td>\n",
       "    </tr>\n",
       "    <tr>\n",
       "      <th>5045</th>\n",
       "      <td>tt1091191</td>\n",
       "      <td>Lone Survivor</td>\n",
       "      <td>Lone Survivor</td>\n",
       "      <td>2013.0</td>\n",
       "      <td>121.0</td>\n",
       "      <td>Action,Biography,Drama</td>\n",
       "      <td>84</td>\n",
       "      <td>Dec 25, 2013</td>\n",
       "      <td>Lone Survivor</td>\n",
       "      <td>40000000</td>\n",
       "      <td>...</td>\n",
       "      <td>7.5</td>\n",
       "      <td>246641</td>\n",
       "      <td>nm3181865</td>\n",
       "      <td>Frank Powers</td>\n",
       "      <td>1975.0</td>\n",
       "      <td>producer</td>\n",
       "      <td>Dec</td>\n",
       "      <td>12</td>\n",
       "      <td>[Action, Biography, Drama]</td>\n",
       "      <td>Action</td>\n",
       "    </tr>\n",
       "    <tr>\n",
       "      <th>5046</th>\n",
       "      <td>tt1091191</td>\n",
       "      <td>Lone Survivor</td>\n",
       "      <td>Lone Survivor</td>\n",
       "      <td>2013.0</td>\n",
       "      <td>121.0</td>\n",
       "      <td>Action,Biography,Drama</td>\n",
       "      <td>84</td>\n",
       "      <td>Dec 25, 2013</td>\n",
       "      <td>Lone Survivor</td>\n",
       "      <td>40000000</td>\n",
       "      <td>...</td>\n",
       "      <td>7.5</td>\n",
       "      <td>246641</td>\n",
       "      <td>nm3899377</td>\n",
       "      <td>John Quintana</td>\n",
       "      <td>1989.0</td>\n",
       "      <td>producer</td>\n",
       "      <td>Dec</td>\n",
       "      <td>12</td>\n",
       "      <td>[Action, Biography, Drama]</td>\n",
       "      <td>Action</td>\n",
       "    </tr>\n",
       "    <tr>\n",
       "      <th>5232</th>\n",
       "      <td>tt1694020</td>\n",
       "      <td>The Guilt Trip</td>\n",
       "      <td>The Guilt Trip</td>\n",
       "      <td>2012.0</td>\n",
       "      <td>95.0</td>\n",
       "      <td>Comedy,Drama</td>\n",
       "      <td>59</td>\n",
       "      <td>Dec 19, 2012</td>\n",
       "      <td>The Guilt Trip</td>\n",
       "      <td>40000000</td>\n",
       "      <td>...</td>\n",
       "      <td>5.8</td>\n",
       "      <td>33702</td>\n",
       "      <td>nm0235092</td>\n",
       "      <td>Jackson Douglas</td>\n",
       "      <td>1969.0</td>\n",
       "      <td>director</td>\n",
       "      <td>Dec</td>\n",
       "      <td>12</td>\n",
       "      <td>[Comedy, Drama]</td>\n",
       "      <td>Comedy</td>\n",
       "    </tr>\n",
       "  </tbody>\n",
       "</table>\n",
       "<p>5 rows × 22 columns</p>\n",
       "</div>"
      ],
      "text/plain": [
       "          tconst   primary_title  original_title  start_year  runtime_minutes  \\\n",
       "10991  tt7837402          Red 11          Red 11      2019.0             77.0   \n",
       "5043   tt1091191   Lone Survivor   Lone Survivor      2013.0            121.0   \n",
       "5045   tt1091191   Lone Survivor   Lone Survivor      2013.0            121.0   \n",
       "5046   tt1091191   Lone Survivor   Lone Survivor      2013.0            121.0   \n",
       "5232   tt1694020  The Guilt Trip  The Guilt Trip      2012.0             95.0   \n",
       "\n",
       "                       genres  id  release_date           movie  \\\n",
       "10991  Horror,Sci-Fi,Thriller  78  Dec 31, 2018          Red 11   \n",
       "5043   Action,Biography,Drama  84  Dec 25, 2013   Lone Survivor   \n",
       "5045   Action,Biography,Drama  84  Dec 25, 2013   Lone Survivor   \n",
       "5046   Action,Biography,Drama  84  Dec 25, 2013   Lone Survivor   \n",
       "5232             Comedy,Drama  59  Dec 19, 2012  The Guilt Trip   \n",
       "\n",
       "       production_budget  ...  averagerating  numvotes     nconst  \\\n",
       "10991               7000  ...            5.6        43  nm1897406   \n",
       "5043            40000000  ...            7.5    246641  nm1846124   \n",
       "5045            40000000  ...            7.5    246641  nm3181865   \n",
       "5046            40000000  ...            7.5    246641  nm3899377   \n",
       "5232            40000000  ...            5.8     33702  nm0235092   \n",
       "\n",
       "          primary_name birth_year primary_profession  month month_inorder  \\\n",
       "10991  Racer Rodriguez     1997.0             stunts    Dec            12   \n",
       "5043       Ali Suliman     1977.0           producer    Dec            12   \n",
       "5045      Frank Powers     1975.0           producer    Dec            12   \n",
       "5046     John Quintana     1989.0           producer    Dec            12   \n",
       "5232   Jackson Douglas     1969.0           director    Dec            12   \n",
       "\n",
       "                     genres_split  1_genre  \n",
       "10991  [Horror, Sci-Fi, Thriller]   Horror  \n",
       "5043   [Action, Biography, Drama]   Action  \n",
       "5045   [Action, Biography, Drama]   Action  \n",
       "5046   [Action, Biography, Drama]   Action  \n",
       "5232              [Comedy, Drama]   Comedy  \n",
       "\n",
       "[5 rows x 22 columns]"
      ]
     },
     "execution_count": 139,
     "metadata": {},
     "output_type": "execute_result"
    }
   ],
   "source": [
    "project1_df.head()"
   ]
  },
  {
   "cell_type": "code",
   "execution_count": 140,
   "metadata": {
    "ExecuteTime": {
     "end_time": "2021-04-28T20:29:06.393882Z",
     "start_time": "2021-04-28T20:29:06.378868Z"
    }
   },
   "outputs": [
    {
     "name": "stdout",
     "output_type": "stream",
     "text": [
      "['tconst', 'primary_title', 'original_title', 'start_year', 'runtime_minutes', 'genres', 'id', 'release_date', 'movie', 'production_budget', 'domestic_gross', 'worldwide_gross', 'averagerating', 'numvotes', 'nconst', 'primary_name', 'birth_year', 'primary_profession', 'month', 'month_inorder', 'genres_split', '1_genre']\n",
      "Number of features: 22\n"
     ]
    }
   ],
   "source": [
    "features = project1_df.columns.tolist()\n",
    "print(features)\n",
    "\n",
    "def get_number_of_elements(list):\n",
    "    count = 0\n",
    "    for element in list:\n",
    "        count += 1\n",
    "    return count\n",
    "\n",
    "print('Number of features:', get_number_of_elements(features))"
   ]
  },
  {
   "cell_type": "markdown",
   "metadata": {
    "ExecuteTime": {
     "end_time": "2021-04-19T20:56:50.032750Z",
     "start_time": "2021-04-19T20:56:50.017737Z"
    }
   },
   "source": [
    "## Remove outliers"
   ]
  },
  {
   "cell_type": "code",
   "execution_count": 141,
   "metadata": {
    "ExecuteTime": {
     "end_time": "2021-04-28T20:29:06.409896Z",
     "start_time": "2021-04-28T20:29:06.394883Z"
    }
   },
   "outputs": [],
   "source": [
    "from scipy.stats import zscore\n",
    "project1_df['z_score'] = abs(zscore(project1_df['worldwide_gross']))\n",
    "project1_df = project1_df[(project1_df['z_score'] <= 3)]"
   ]
  },
  {
   "cell_type": "code",
   "execution_count": 142,
   "metadata": {
    "ExecuteTime": {
     "end_time": "2021-04-28T20:29:06.441926Z",
     "start_time": "2021-04-28T20:29:06.410897Z"
    }
   },
   "outputs": [
    {
     "data": {
      "text/html": [
       "<div>\n",
       "<style scoped>\n",
       "    .dataframe tbody tr th:only-of-type {\n",
       "        vertical-align: middle;\n",
       "    }\n",
       "\n",
       "    .dataframe tbody tr th {\n",
       "        vertical-align: top;\n",
       "    }\n",
       "\n",
       "    .dataframe thead th {\n",
       "        text-align: right;\n",
       "    }\n",
       "</style>\n",
       "<table border=\"1\" class=\"dataframe\">\n",
       "  <thead>\n",
       "    <tr style=\"text-align: right;\">\n",
       "      <th></th>\n",
       "      <th>tconst</th>\n",
       "      <th>primary_title</th>\n",
       "      <th>original_title</th>\n",
       "      <th>start_year</th>\n",
       "      <th>runtime_minutes</th>\n",
       "      <th>genres</th>\n",
       "      <th>id</th>\n",
       "      <th>release_date</th>\n",
       "      <th>movie</th>\n",
       "      <th>production_budget</th>\n",
       "      <th>...</th>\n",
       "      <th>numvotes</th>\n",
       "      <th>nconst</th>\n",
       "      <th>primary_name</th>\n",
       "      <th>birth_year</th>\n",
       "      <th>primary_profession</th>\n",
       "      <th>month</th>\n",
       "      <th>month_inorder</th>\n",
       "      <th>genres_split</th>\n",
       "      <th>1_genre</th>\n",
       "      <th>z_score</th>\n",
       "    </tr>\n",
       "  </thead>\n",
       "  <tbody>\n",
       "    <tr>\n",
       "      <th>10991</th>\n",
       "      <td>tt7837402</td>\n",
       "      <td>Red 11</td>\n",
       "      <td>Red 11</td>\n",
       "      <td>2019.0</td>\n",
       "      <td>77.0</td>\n",
       "      <td>Horror,Sci-Fi,Thriller</td>\n",
       "      <td>78</td>\n",
       "      <td>Dec 31, 2018</td>\n",
       "      <td>Red 11</td>\n",
       "      <td>7000</td>\n",
       "      <td>...</td>\n",
       "      <td>43</td>\n",
       "      <td>nm1897406</td>\n",
       "      <td>Racer Rodriguez</td>\n",
       "      <td>1997.0</td>\n",
       "      <td>stunts</td>\n",
       "      <td>Dec</td>\n",
       "      <td>12</td>\n",
       "      <td>[Horror, Sci-Fi, Thriller]</td>\n",
       "      <td>Horror</td>\n",
       "      <td>0.730223</td>\n",
       "    </tr>\n",
       "    <tr>\n",
       "      <th>5043</th>\n",
       "      <td>tt1091191</td>\n",
       "      <td>Lone Survivor</td>\n",
       "      <td>Lone Survivor</td>\n",
       "      <td>2013.0</td>\n",
       "      <td>121.0</td>\n",
       "      <td>Action,Biography,Drama</td>\n",
       "      <td>84</td>\n",
       "      <td>Dec 25, 2013</td>\n",
       "      <td>Lone Survivor</td>\n",
       "      <td>40000000</td>\n",
       "      <td>...</td>\n",
       "      <td>246641</td>\n",
       "      <td>nm1846124</td>\n",
       "      <td>Ali Suliman</td>\n",
       "      <td>1977.0</td>\n",
       "      <td>producer</td>\n",
       "      <td>Dec</td>\n",
       "      <td>12</td>\n",
       "      <td>[Action, Biography, Drama]</td>\n",
       "      <td>Action</td>\n",
       "      <td>0.253960</td>\n",
       "    </tr>\n",
       "    <tr>\n",
       "      <th>5045</th>\n",
       "      <td>tt1091191</td>\n",
       "      <td>Lone Survivor</td>\n",
       "      <td>Lone Survivor</td>\n",
       "      <td>2013.0</td>\n",
       "      <td>121.0</td>\n",
       "      <td>Action,Biography,Drama</td>\n",
       "      <td>84</td>\n",
       "      <td>Dec 25, 2013</td>\n",
       "      <td>Lone Survivor</td>\n",
       "      <td>40000000</td>\n",
       "      <td>...</td>\n",
       "      <td>246641</td>\n",
       "      <td>nm3181865</td>\n",
       "      <td>Frank Powers</td>\n",
       "      <td>1975.0</td>\n",
       "      <td>producer</td>\n",
       "      <td>Dec</td>\n",
       "      <td>12</td>\n",
       "      <td>[Action, Biography, Drama]</td>\n",
       "      <td>Action</td>\n",
       "      <td>0.253960</td>\n",
       "    </tr>\n",
       "    <tr>\n",
       "      <th>5046</th>\n",
       "      <td>tt1091191</td>\n",
       "      <td>Lone Survivor</td>\n",
       "      <td>Lone Survivor</td>\n",
       "      <td>2013.0</td>\n",
       "      <td>121.0</td>\n",
       "      <td>Action,Biography,Drama</td>\n",
       "      <td>84</td>\n",
       "      <td>Dec 25, 2013</td>\n",
       "      <td>Lone Survivor</td>\n",
       "      <td>40000000</td>\n",
       "      <td>...</td>\n",
       "      <td>246641</td>\n",
       "      <td>nm3899377</td>\n",
       "      <td>John Quintana</td>\n",
       "      <td>1989.0</td>\n",
       "      <td>producer</td>\n",
       "      <td>Dec</td>\n",
       "      <td>12</td>\n",
       "      <td>[Action, Biography, Drama]</td>\n",
       "      <td>Action</td>\n",
       "      <td>0.253960</td>\n",
       "    </tr>\n",
       "    <tr>\n",
       "      <th>5232</th>\n",
       "      <td>tt1694020</td>\n",
       "      <td>The Guilt Trip</td>\n",
       "      <td>The Guilt Trip</td>\n",
       "      <td>2012.0</td>\n",
       "      <td>95.0</td>\n",
       "      <td>Comedy,Drama</td>\n",
       "      <td>59</td>\n",
       "      <td>Dec 19, 2012</td>\n",
       "      <td>The Guilt Trip</td>\n",
       "      <td>40000000</td>\n",
       "      <td>...</td>\n",
       "      <td>33702</td>\n",
       "      <td>nm0235092</td>\n",
       "      <td>Jackson Douglas</td>\n",
       "      <td>1969.0</td>\n",
       "      <td>director</td>\n",
       "      <td>Dec</td>\n",
       "      <td>12</td>\n",
       "      <td>[Comedy, Drama]</td>\n",
       "      <td>Comedy</td>\n",
       "      <td>0.598938</td>\n",
       "    </tr>\n",
       "  </tbody>\n",
       "</table>\n",
       "<p>5 rows × 23 columns</p>\n",
       "</div>"
      ],
      "text/plain": [
       "          tconst   primary_title  original_title  start_year  runtime_minutes  \\\n",
       "10991  tt7837402          Red 11          Red 11      2019.0             77.0   \n",
       "5043   tt1091191   Lone Survivor   Lone Survivor      2013.0            121.0   \n",
       "5045   tt1091191   Lone Survivor   Lone Survivor      2013.0            121.0   \n",
       "5046   tt1091191   Lone Survivor   Lone Survivor      2013.0            121.0   \n",
       "5232   tt1694020  The Guilt Trip  The Guilt Trip      2012.0             95.0   \n",
       "\n",
       "                       genres  id  release_date           movie  \\\n",
       "10991  Horror,Sci-Fi,Thriller  78  Dec 31, 2018          Red 11   \n",
       "5043   Action,Biography,Drama  84  Dec 25, 2013   Lone Survivor   \n",
       "5045   Action,Biography,Drama  84  Dec 25, 2013   Lone Survivor   \n",
       "5046   Action,Biography,Drama  84  Dec 25, 2013   Lone Survivor   \n",
       "5232             Comedy,Drama  59  Dec 19, 2012  The Guilt Trip   \n",
       "\n",
       "       production_budget  ...  numvotes     nconst     primary_name  \\\n",
       "10991               7000  ...        43  nm1897406  Racer Rodriguez   \n",
       "5043            40000000  ...    246641  nm1846124      Ali Suliman   \n",
       "5045            40000000  ...    246641  nm3181865     Frank Powers   \n",
       "5046            40000000  ...    246641  nm3899377    John Quintana   \n",
       "5232            40000000  ...     33702  nm0235092  Jackson Douglas   \n",
       "\n",
       "       birth_year primary_profession month  month_inorder  \\\n",
       "10991      1997.0             stunts   Dec             12   \n",
       "5043       1977.0           producer   Dec             12   \n",
       "5045       1975.0           producer   Dec             12   \n",
       "5046       1989.0           producer   Dec             12   \n",
       "5232       1969.0           director   Dec             12   \n",
       "\n",
       "                     genres_split 1_genre   z_score  \n",
       "10991  [Horror, Sci-Fi, Thriller]  Horror  0.730223  \n",
       "5043   [Action, Biography, Drama]  Action  0.253960  \n",
       "5045   [Action, Biography, Drama]  Action  0.253960  \n",
       "5046   [Action, Biography, Drama]  Action  0.253960  \n",
       "5232              [Comedy, Drama]  Comedy  0.598938  \n",
       "\n",
       "[5 rows x 23 columns]"
      ]
     },
     "execution_count": 142,
     "metadata": {},
     "output_type": "execute_result"
    }
   ],
   "source": [
    "project1_df.head()"
   ]
  },
  {
   "cell_type": "markdown",
   "metadata": {},
   "source": [
    "## Data Exploration"
   ]
  },
  {
   "cell_type": "markdown",
   "metadata": {},
   "source": [
    "### Initial Exploration"
   ]
  },
  {
   "cell_type": "code",
   "execution_count": null,
   "metadata": {},
   "outputs": [],
   "source": []
  },
  {
   "cell_type": "code",
   "execution_count": 143,
   "metadata": {
    "ExecuteTime": {
     "end_time": "2021-04-28T20:29:07.772446Z",
     "start_time": "2021-04-28T20:29:06.442927Z"
    }
   },
   "outputs": [
    {
     "data": {
      "text/plain": [
       "array([[<AxesSubplot:title={'center':'start_year'}>,\n",
       "        <AxesSubplot:title={'center':'runtime_minutes'}>,\n",
       "        <AxesSubplot:title={'center':'id'}>],\n",
       "       [<AxesSubplot:title={'center':'production_budget'}>,\n",
       "        <AxesSubplot:title={'center':'domestic_gross'}>,\n",
       "        <AxesSubplot:title={'center':'worldwide_gross'}>],\n",
       "       [<AxesSubplot:title={'center':'averagerating'}>,\n",
       "        <AxesSubplot:title={'center':'numvotes'}>,\n",
       "        <AxesSubplot:title={'center':'birth_year'}>],\n",
       "       [<AxesSubplot:title={'center':'month_inorder'}>,\n",
       "        <AxesSubplot:title={'center':'z_score'}>, <AxesSubplot:>]],\n",
       "      dtype=object)"
      ]
     },
     "execution_count": 143,
     "metadata": {},
     "output_type": "execute_result"
    },
    {
     "data": {
      "image/png": "[encoded data removed]",
      "text/plain": [
       "<Figure size 1080x1080 with 12 Axes>"
      ]
     },
     "metadata": {},
     "output_type": "display_data"
    }
   ],
   "source": [
    "project1_df.hist(figsize=(15,15))"
   ]
  },
  {
   "cell_type": "code",
   "execution_count": 170,
   "metadata": {
    "ExecuteTime": {
     "end_time": "2021-04-28T20:55:25.663748Z",
     "start_time": "2021-04-28T20:55:25.656237Z"
    }
   },
   "outputs": [],
   "source": [
    "df_filtered = project1_df[project1_df['domestic_gross'] >= 3000000]"
   ]
  },
  {
   "cell_type": "code",
   "execution_count": 171,
   "metadata": {
    "ExecuteTime": {
     "end_time": "2021-04-28T20:55:26.438484Z",
     "start_time": "2021-04-28T20:55:26.433460Z"
    }
   },
   "outputs": [
    {
     "data": {
      "text/plain": [
       "(9233, 23)"
      ]
     },
     "execution_count": 171,
     "metadata": {},
     "output_type": "execute_result"
    }
   ],
   "source": [
    "df_filtered.shape"
   ]
  },
  {
   "cell_type": "code",
   "execution_count": 182,
   "metadata": {
    "ExecuteTime": {
     "end_time": "2021-04-28T21:10:39.041029Z",
     "start_time": "2021-04-28T21:10:38.075931Z"
    }
   },
   "outputs": [
    {
     "data": {
      "image/png": "[encoded data removed]",
      "text/plain": [
       "<Figure size 1440x576 with 1 Axes>"
      ]
     },
     "metadata": {},
     "output_type": "display_data"
    }
   ],
   "source": [
    "# I am hoping this tells us something about the presence of each department per film grosses.\n",
    "\n",
    "fig, ax = plt.subplots(figsize=(20,8))\n",
    "\n",
    "g = sns.barplot(data=project1_df, x= 'primary_profession', y='domestic_gross', palette = 'crest' )\n",
    "g.set_xticklabels(g.get_xticklabels(), rotation=45, ha='right', fontsize=14)\n",
    "ax.lines = []\n",
    "\n",
    "plt.xlabel(\"Department\", fontsize=20)\n",
    "plt.ylabel(\"Average Domestic Gross\", fontsize=20)\n",
    "plt.title(\"Average Domestic Gross by Field\", fontsize=32)\n",
    "plt.tight_layout\n",
    "plt.show()"
   ]
  },
  {
   "cell_type": "code",
   "execution_count": 183,
   "metadata": {
    "ExecuteTime": {
     "end_time": "2021-04-28T21:18:34.233540Z",
     "start_time": "2021-04-28T21:13:18.600327Z"
    }
   },
   "outputs": [
    {
     "data": {
      "image/png": "[encoded data removed]",
      "text/plain": [
       "<Figure size 1440x576 with 1 Axes>"
      ]
     },
     "metadata": {},
     "output_type": "display_data"
    }
   ],
   "source": [
    "# I am hoping this tells us something about the presence of each department per film grosses.\n",
    "\n",
    "fig, ax = plt.subplots(figsize=(20,8))\n",
    "\n",
    "g = sns.barplot(data=project1_df, x= 'primary_name', y='domestic_gross', palette = 'crest' )\n",
    "g.set_xticklabels(g.get_xticklabels(), rotation=45, ha='right', fontsize=14)\n",
    "ax.lines = []\n",
    "\n",
    "plt.xlabel(\"Department\", fontsize=20)\n",
    "plt.ylabel(\"Average Domestic Gross\", fontsize=20)\n",
    "plt.title(\"Average Domestic Gross by Field\", fontsize=32)\n",
    "plt.tight_layout\n",
    "plt.show()"
   ]
  },
  {
   "cell_type": "markdown",
   "metadata": {
    "ExecuteTime": {
     "end_time": "2021-04-28T20:29:07.788100Z",
     "start_time": "2021-04-28T20:29:07.772446Z"
    }
   },
   "source": [
    "### Question 1 \n",
    "**Does a higher budget result in a higher rating?**"
   ]
  },
  {
   "cell_type": "code",
   "execution_count": 145,
   "metadata": {
    "ExecuteTime": {
     "end_time": "2021-04-28T20:29:07.804107Z",
     "start_time": "2021-04-28T20:29:07.794096Z"
    }
   },
   "outputs": [],
   "source": [
    "#I first just looked at Rating v Worldwide Gross, and truly did not see much of a relationship."
   ]
  },
  {
   "cell_type": "code",
   "execution_count": 146,
   "metadata": {
    "ExecuteTime": {
     "end_time": "2021-04-28T20:29:07.949685Z",
     "start_time": "2021-04-28T20:29:07.807110Z"
    }
   },
   "outputs": [
    {
     "data": {
      "image/png": "[encoded data removed]",
      "text/plain": [
       "<Figure size 432x288 with 1 Axes>"
      ]
     },
     "metadata": {},
     "output_type": "display_data"
    }
   ],
   "source": [
    "plt.scatter(x='averagerating', y='worldwide_gross', data=project1_df.iloc[0:1000])\n",
    "plt.xlabel('Average Rating')\n",
    "plt.ylabel('Woldwide Gross - In hundreds of millions')\n",
    "plt.title('Does Budget effect Avg. Rating')\n",
    "plt.show()"
   ]
  },
  {
   "cell_type": "code",
   "execution_count": 147,
   "metadata": {
    "ExecuteTime": {
     "end_time": "2021-04-28T20:29:07.962697Z",
     "start_time": "2021-04-28T20:29:07.950686Z"
    }
   },
   "outputs": [],
   "source": [
    "#So I broke it down by High, Mid, and Low grossing films and still did not see any relationship."
   ]
  },
  {
   "cell_type": "code",
   "execution_count": 148,
   "metadata": {
    "ExecuteTime": {
     "end_time": "2021-04-28T20:29:08.346094Z",
     "start_time": "2021-04-28T20:29:07.963697Z"
    }
   },
   "outputs": [
    {
     "name": "stderr",
     "output_type": "stream",
     "text": [
      "<ipython-input-148-db559261c069>:24: UserWarning: Matplotlib is currently using module://ipykernel.pylab.backend_inline, which is a non-GUI backend, so cannot show the figure.\n",
      "  fig.show()\n"
     ]
    },
    {
     "data": {
      "image/png": "[encoded data removed]",
      "text/plain": [
       "<Figure size 720x576 with 3 Axes>"
      ]
     },
     "metadata": {},
     "output_type": "display_data"
    }
   ],
   "source": [
    "df1 = project1_df.sort_values('worldwide_gross', ascending = False)\n",
    "\n",
    "fig, axs = plt.subplots(3, figsize = (10,8))\n",
    "fig.suptitle(\"Low, Mid, High Grossing Films\")\n",
    "\n",
    "\n",
    "axs[0].scatter(x='worldwide_gross', y='averagerating', data=df1.iloc[0:750], color='magenta')\n",
    "axs[1].scatter(x='worldwide_gross', y='averagerating', data=df1.iloc[751:1500], color='purple')\n",
    "axs[2].scatter(x='worldwide_gross', y='averagerating', data=df1.iloc[1501:2250],color='blue')\n",
    "\n",
    "axs[0].set_xlabel('Worldwide Gross')\n",
    "axs[0].set_ylabel('Average Rating')\n",
    "axs[0].set_title('High Grossing Films')\n",
    "\n",
    "axs[1].set_xlabel('Worldwide Gross')\n",
    "axs[1].set_ylabel('Average Rating')\n",
    "axs[1].set_title('Mid Grossing')\n",
    "\n",
    "axs[2].set_xlabel('Worldwide Gross')\n",
    "axs[2].set_ylabel('Average Rating')\n",
    "axs[2].set_title('Low Grossing')\n",
    "\n",
    "fig.tight_layout()\n",
    "fig.show()"
   ]
  },
  {
   "cell_type": "code",
   "execution_count": 149,
   "metadata": {
    "ExecuteTime": {
     "end_time": "2021-04-28T20:29:08.362109Z",
     "start_time": "2021-04-28T20:29:08.347095Z"
    }
   },
   "outputs": [],
   "source": [
    "#I added in the third value of Budget and finally found a relationship between worldwide gross and budget.  The budget does not have to be too large, but should still be in the range of 100-200 million."
   ]
  },
  {
   "cell_type": "code",
   "execution_count": 150,
   "metadata": {
    "ExecuteTime": {
     "end_time": "2021-04-28T20:29:08.828541Z",
     "start_time": "2021-04-28T20:29:08.363111Z"
    }
   },
   "outputs": [
    {
     "data": {
      "image/png": "[encoded data removed]",
      "text/plain": [
       "<Figure size 864x864 with 1 Axes>"
      ]
     },
     "metadata": {},
     "output_type": "display_data"
    }
   ],
   "source": [
    "f, ax = plt.subplots(figsize=(12, 12))\n",
    "sns.despine(f, left=True, bottom=True)\n",
    "sns.scatterplot(x=\"worldwide_gross\", y=\"averagerating\",\n",
    "                hue=\"production_budget\",\n",
    "                size='production_budget',\n",
    "                sizes=(1,250),\n",
    "                data=project1_df.iloc[200:2000], ax=ax)\n",
    "\n",
    "ax.set_title('Budget, Ratings & Revenue', fontsize=20)\n",
    "ax.set_ylabel('Average Rating')\n",
    "ax.set_xlabel('Worldwide Gross - Hundreds of Millions')\n",
    "plt.savefig('png_1')\n",
    "plt.show()"
   ]
  },
  {
   "cell_type": "code",
   "execution_count": 151,
   "metadata": {
    "ExecuteTime": {
     "end_time": "2021-04-28T20:29:08.835544Z",
     "start_time": "2021-04-28T20:29:08.829540Z"
    }
   },
   "outputs": [],
   "source": [
    "#Question 2: Does the time of year effect the gross revenue?  \n",
    "#i.e. Are people staying indoors and going to the movies in the winter,\n",
    "#Is it more slow in the summer because people are outside?"
   ]
  },
  {
   "cell_type": "code",
   "execution_count": 152,
   "metadata": {
    "ExecuteTime": {
     "end_time": "2021-04-28T20:29:09.338401Z",
     "start_time": "2021-04-28T20:29:08.836546Z"
    }
   },
   "outputs": [
    {
     "data": {
      "image/png": "[encoded data removed]",
      "text/plain": [
       "<Figure size 612x468 with 1 Axes>"
      ]
     },
     "metadata": {},
     "output_type": "display_data"
    }
   ],
   "source": [
    "f, ax = plt.subplots(figsize=(8.5, 6.5))\n",
    "sns.barplot(x=\"month\", y=\"worldwide_gross\", data=project1_df, \n",
    "            palette = \"YlOrBr\")\n",
    "\n",
    "\n",
    "ax.set_title('Worldwide Gross v Release Date', fontsize=20)\n",
    "ax.set_ylabel('Worldwide Gross')\n",
    "ax.set_xlabel('Month Released')\n",
    "ax.lines = []\n",
    "plt.savefig('png_2')\n",
    "plt.show()"
   ]
  },
  {
   "cell_type": "code",
   "execution_count": 153,
   "metadata": {
    "ExecuteTime": {
     "end_time": "2021-04-28T20:29:09.354414Z",
     "start_time": "2021-04-28T20:29:09.339401Z"
    }
   },
   "outputs": [],
   "source": [
    "#I think there is a clear relationship between holiday months and movie box office success."
   ]
  },
  {
   "cell_type": "code",
   "execution_count": 154,
   "metadata": {
    "ExecuteTime": {
     "end_time": "2021-04-28T20:29:09.369805Z",
     "start_time": "2021-04-28T20:29:09.355415Z"
    }
   },
   "outputs": [],
   "source": [
    "#Question 3: Does worldwide gross make that much of a contribution to overall gross?"
   ]
  },
  {
   "cell_type": "code",
   "execution_count": 155,
   "metadata": {
    "ExecuteTime": {
     "end_time": "2021-04-28T20:29:10.342373Z",
     "start_time": "2021-04-28T20:29:09.370807Z"
    }
   },
   "outputs": [
    {
     "data": {
      "image/png": "[encoded data removed]",
      "text/plain": [
       "<Figure size 1224x432 with 1 Axes>"
      ]
     },
     "metadata": {},
     "output_type": "display_data"
    }
   ],
   "source": [
    "df = project1_df.sort_values('worldwide_gross', ascending = False).reset_index(drop=True)\n",
    "\n",
    "f, ax = plt.subplots(figsize=(17, 6))\n",
    "# Plot the total gross and label domestic so when the boxes are layered it shows the remaining domestic gross.\n",
    "sns.set_color_codes(\"pastel\")\n",
    "sns.barplot(x=\"1_genre\", y=\"worldwide_gross\", data=df,\n",
    "            label=\"Worldwide\", color=\"salmon\")\n",
    "\n",
    "# Plot worldwide gross over total\n",
    "sns.set_color_codes(\"muted\")\n",
    "sns.barplot(x=\"1_genre\", y=\"domestic_gross\", data=df,\n",
    "            label=\"Domestic\", color=\"steelblue\")\n",
    "\n",
    "# Adding legend and informative axis label\n",
    "ax.legend(ncol=2, loc=\"upper right\", frameon=True)\n",
    "ax.set( ylabel=\"Gross in Hundreds of Millions\",\n",
    "       xlabel=\"Genres of Movies\")\n",
    "sns.despine(left=True, bottom=True)\n",
    "ax.set_title('Worldwide v Domestic Gross by Genre', fontsize=20)\n",
    "ax.lines = []\n",
    "\n",
    "plt.savefig('png_3')\n",
    "plt.xticks(rotation=45)\n",
    "plt.show()"
   ]
  },
  {
   "cell_type": "code",
   "execution_count": null,
   "metadata": {},
   "outputs": [],
   "source": []
  }
 ],
 "metadata": {
  "kernelspec": {
   "display_name": "learn-env",
   "language": "python",
   "name": "learn-env"
  },
  "language_info": {
   "codemirror_mode": {
    "name": "ipython",
    "version": 3
   },
   "file_extension": ".py",
   "mimetype": "text/x-python",
   "name": "python",
   "nbconvert_exporter": "python",
   "pygments_lexer": "ipython3",
   "version": "3.8.5"
  },
  "toc": {
   "base_numbering": 1,
   "nav_menu": {},
   "number_sections": true,
   "sideBar": true,
   "skip_h1_title": false,
   "title_cell": "Table of Contents",
   "title_sidebar": "Contents",
   "toc_cell": false,
   "toc_position": {},
   "toc_section_display": true,
   "toc_window_display": true
  },
  "varInspector": {
   "cols": {
    "lenName": 16,
    "lenType": 16,
    "lenVar": 40
   },
   "kernels_config": {
    "python": {
     "delete_cmd_postfix": "",
     "delete_cmd_prefix": "del ",
     "library": "var_list.py",
     "varRefreshCmd": "print(var_dic_list())"
    },
    "r": {
     "delete_cmd_postfix": ") ",
     "delete_cmd_prefix": "rm(",
     "library": "var_list.r",
     "varRefreshCmd": "cat(var_dic_list()) "
    }
   },
   "types_to_exclude": [
    "module",
    "function",
    "builtin_function_or_method",
    "instance",
    "_Feature"
   ],
   "window_display": false
  }
 },
 "nbformat": 4,
 "nbformat_minor": 4
}
