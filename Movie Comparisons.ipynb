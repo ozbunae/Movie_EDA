{
 "cells": [
  {
   "cell_type": "markdown",
   "metadata": {},
   "source": [
    "# Movie Features Project"
   ]
  },
  {
   "cell_type": "markdown",
   "metadata": {},
   "source": [
    "This project contains an extensive Exploratory data analysis on the stats of different films.  Features explored inclued genre of film, directors, budgets, grosses, ext.\n",
    "\n",
    "\n",
    "**IMPORTANT NOTE** This is not a predictive project, it is my first data analytics project where I am turning raw data into visualizations in order to tell a story. \n",
    "\n",
    "Exploratory data analysis is always a crucial first step in creating a project."
   ]
  },
  {
   "cell_type": "code",
   "execution_count": null,
   "metadata": {},
   "outputs": [],
   "source": []
  },
  {
   "cell_type": "code",
   "execution_count": null,
   "metadata": {},
   "outputs": [],
   "source": []
  },
  {
   "cell_type": "code",
   "execution_count": null,
   "metadata": {},
   "outputs": [],
   "source": []
  },
  {
   "cell_type": "markdown",
   "metadata": {},
   "source": [
    "## Imports"
   ]
  },
  {
   "cell_type": "code",
   "execution_count": 89,
   "metadata": {
    "ExecuteTime": {
     "end_time": "2021-04-30T17:02:17.177495Z",
     "start_time": "2021-04-30T17:02:17.164962Z"
    }
   },
   "outputs": [],
   "source": [
    "import pandas as pd\n",
    "import numpy as np\n",
    "import matplotlib.pylab as plt"
   ]
  },
  {
   "cell_type": "code",
   "execution_count": 90,
   "metadata": {
    "ExecuteTime": {
     "end_time": "2021-04-30T17:02:17.193511Z",
     "start_time": "2021-04-30T17:02:17.178488Z"
    }
   },
   "outputs": [],
   "source": [
    "import seaborn as sns\n",
    "sns.set_theme(style=\"whitegrid\")"
   ]
  },
  {
   "cell_type": "code",
   "execution_count": 91,
   "metadata": {
    "ExecuteTime": {
     "end_time": "2021-04-30T17:02:17.209516Z",
     "start_time": "2021-04-30T17:02:17.194503Z"
    }
   },
   "outputs": [
    {
     "data": {
      "text/plain": [
       "'C:\\\\Users\\\\ozbun\\\\projects\\\\Movie_EDA'"
      ]
     },
     "execution_count": 91,
     "metadata": {},
     "output_type": "execute_result"
    }
   ],
   "source": [
    "pwd"
   ]
  },
  {
   "cell_type": "markdown",
   "metadata": {},
   "source": [
    "## Data Cleaning"
   ]
  },
  {
   "cell_type": "code",
   "execution_count": null,
   "metadata": {},
   "outputs": [],
   "source": []
  },
  {
   "cell_type": "code",
   "execution_count": null,
   "metadata": {},
   "outputs": [],
   "source": []
  },
  {
   "cell_type": "markdown",
   "metadata": {},
   "source": [
    "### Who is Who"
   ]
  },
  {
   "cell_type": "code",
   "execution_count": 92,
   "metadata": {
    "ExecuteTime": {
     "end_time": "2021-04-30T17:02:18.152413Z",
     "start_time": "2021-04-30T17:02:17.210517Z"
    }
   },
   "outputs": [
    {
     "data": {
      "text/html": [
       "<div>\n",
       "<style scoped>\n",
       "    .dataframe tbody tr th:only-of-type {\n",
       "        vertical-align: middle;\n",
       "    }\n",
       "\n",
       "    .dataframe tbody tr th {\n",
       "        vertical-align: top;\n",
       "    }\n",
       "\n",
       "    .dataframe thead th {\n",
       "        text-align: right;\n",
       "    }\n",
       "</style>\n",
       "<table border=\"1\" class=\"dataframe\">\n",
       "  <thead>\n",
       "    <tr style=\"text-align: right;\">\n",
       "      <th></th>\n",
       "      <th>nconst</th>\n",
       "      <th>primary_name</th>\n",
       "      <th>birth_year</th>\n",
       "      <th>death_year</th>\n",
       "      <th>primary_profession</th>\n",
       "      <th>known_for_titles</th>\n",
       "    </tr>\n",
       "  </thead>\n",
       "  <tbody>\n",
       "    <tr>\n",
       "      <th>0</th>\n",
       "      <td>nm0061671</td>\n",
       "      <td>Mary Ellen Bauder</td>\n",
       "      <td>NaN</td>\n",
       "      <td>NaN</td>\n",
       "      <td>miscellaneous,production_manager,producer</td>\n",
       "      <td>tt0837562,tt2398241,tt0844471,tt0118553</td>\n",
       "    </tr>\n",
       "    <tr>\n",
       "      <th>1</th>\n",
       "      <td>nm0061865</td>\n",
       "      <td>Joseph Bauer</td>\n",
       "      <td>NaN</td>\n",
       "      <td>NaN</td>\n",
       "      <td>composer,music_department,sound_department</td>\n",
       "      <td>tt0896534,tt6791238,tt0287072,tt1682940</td>\n",
       "    </tr>\n",
       "    <tr>\n",
       "      <th>2</th>\n",
       "      <td>nm0062070</td>\n",
       "      <td>Bruce Baum</td>\n",
       "      <td>NaN</td>\n",
       "      <td>NaN</td>\n",
       "      <td>miscellaneous,actor,writer</td>\n",
       "      <td>tt1470654,tt0363631,tt0104030,tt0102898</td>\n",
       "    </tr>\n",
       "    <tr>\n",
       "      <th>3</th>\n",
       "      <td>nm0062195</td>\n",
       "      <td>Axel Baumann</td>\n",
       "      <td>NaN</td>\n",
       "      <td>NaN</td>\n",
       "      <td>camera_department,cinematographer,art_department</td>\n",
       "      <td>tt0114371,tt2004304,tt1618448,tt1224387</td>\n",
       "    </tr>\n",
       "    <tr>\n",
       "      <th>4</th>\n",
       "      <td>nm0062798</td>\n",
       "      <td>Pete Baxter</td>\n",
       "      <td>NaN</td>\n",
       "      <td>NaN</td>\n",
       "      <td>production_designer,art_department,set_decorator</td>\n",
       "      <td>tt0452644,tt0452692,tt3458030,tt2178256</td>\n",
       "    </tr>\n",
       "  </tbody>\n",
       "</table>\n",
       "</div>"
      ],
      "text/plain": [
       "      nconst       primary_name  birth_year  death_year  \\\n",
       "0  nm0061671  Mary Ellen Bauder         NaN         NaN   \n",
       "1  nm0061865       Joseph Bauer         NaN         NaN   \n",
       "2  nm0062070         Bruce Baum         NaN         NaN   \n",
       "3  nm0062195       Axel Baumann         NaN         NaN   \n",
       "4  nm0062798        Pete Baxter         NaN         NaN   \n",
       "\n",
       "                                 primary_profession  \\\n",
       "0         miscellaneous,production_manager,producer   \n",
       "1        composer,music_department,sound_department   \n",
       "2                        miscellaneous,actor,writer   \n",
       "3  camera_department,cinematographer,art_department   \n",
       "4  production_designer,art_department,set_decorator   \n",
       "\n",
       "                          known_for_titles  \n",
       "0  tt0837562,tt2398241,tt0844471,tt0118553  \n",
       "1  tt0896534,tt6791238,tt0287072,tt1682940  \n",
       "2  tt1470654,tt0363631,tt0104030,tt0102898  \n",
       "3  tt0114371,tt2004304,tt1618448,tt1224387  \n",
       "4  tt0452644,tt0452692,tt3458030,tt2178256  "
      ]
     },
     "execution_count": 92,
     "metadata": {},
     "output_type": "execute_result"
    }
   ],
   "source": [
    "name_basics_df = pd.read_csv('zippedData/imdb.name.basics.csv.gz')\n",
    "name_basics_df.head()\n"
   ]
  },
  {
   "cell_type": "code",
   "execution_count": 93,
   "metadata": {
    "ExecuteTime": {
     "end_time": "2021-04-30T17:02:18.168433Z",
     "start_time": "2021-04-30T17:02:18.153412Z"
    }
   },
   "outputs": [
    {
     "data": {
      "text/plain": [
       "(606648, 6)"
      ]
     },
     "execution_count": 93,
     "metadata": {},
     "output_type": "execute_result"
    }
   ],
   "source": [
    "name_basics_df.shape"
   ]
  },
  {
   "cell_type": "code",
   "execution_count": 94,
   "metadata": {
    "ExecuteTime": {
     "end_time": "2021-04-30T17:02:18.248509Z",
     "start_time": "2021-04-30T17:02:18.169434Z"
    }
   },
   "outputs": [
    {
     "data": {
      "text/plain": [
       "nconst                     0\n",
       "primary_name               0\n",
       "birth_year            523912\n",
       "death_year            599865\n",
       "primary_profession     51340\n",
       "known_for_titles       30204\n",
       "dtype: int64"
      ]
     },
     "execution_count": 94,
     "metadata": {},
     "output_type": "execute_result"
    }
   ],
   "source": [
    "# So many of our points of interest have not died yet,\n",
    "# so lets get rid of this column especially since it is the highest numbers of missing values.\n",
    "\n",
    "name_basics_df.isna().sum()"
   ]
  },
  {
   "cell_type": "code",
   "execution_count": 95,
   "metadata": {
    "ExecuteTime": {
     "end_time": "2021-04-30T17:02:18.280539Z",
     "start_time": "2021-04-30T17:02:18.249510Z"
    }
   },
   "outputs": [],
   "source": [
    "name_basics_df = name_basics_df.drop(columns = 'death_year')"
   ]
  },
  {
   "cell_type": "code",
   "execution_count": 96,
   "metadata": {
    "ExecuteTime": {
     "end_time": "2021-04-30T17:02:18.296553Z",
     "start_time": "2021-04-30T17:02:18.282541Z"
    }
   },
   "outputs": [
    {
     "data": {
      "text/html": [
       "<div>\n",
       "<style scoped>\n",
       "    .dataframe tbody tr th:only-of-type {\n",
       "        vertical-align: middle;\n",
       "    }\n",
       "\n",
       "    .dataframe tbody tr th {\n",
       "        vertical-align: top;\n",
       "    }\n",
       "\n",
       "    .dataframe thead th {\n",
       "        text-align: right;\n",
       "    }\n",
       "</style>\n",
       "<table border=\"1\" class=\"dataframe\">\n",
       "  <thead>\n",
       "    <tr style=\"text-align: right;\">\n",
       "      <th></th>\n",
       "      <th>nconst</th>\n",
       "      <th>primary_name</th>\n",
       "      <th>birth_year</th>\n",
       "      <th>primary_profession</th>\n",
       "      <th>known_for_titles</th>\n",
       "    </tr>\n",
       "  </thead>\n",
       "  <tbody>\n",
       "    <tr>\n",
       "      <th>0</th>\n",
       "      <td>nm0061671</td>\n",
       "      <td>Mary Ellen Bauder</td>\n",
       "      <td>NaN</td>\n",
       "      <td>miscellaneous,production_manager,producer</td>\n",
       "      <td>tt0837562,tt2398241,tt0844471,tt0118553</td>\n",
       "    </tr>\n",
       "    <tr>\n",
       "      <th>1</th>\n",
       "      <td>nm0061865</td>\n",
       "      <td>Joseph Bauer</td>\n",
       "      <td>NaN</td>\n",
       "      <td>composer,music_department,sound_department</td>\n",
       "      <td>tt0896534,tt6791238,tt0287072,tt1682940</td>\n",
       "    </tr>\n",
       "    <tr>\n",
       "      <th>2</th>\n",
       "      <td>nm0062070</td>\n",
       "      <td>Bruce Baum</td>\n",
       "      <td>NaN</td>\n",
       "      <td>miscellaneous,actor,writer</td>\n",
       "      <td>tt1470654,tt0363631,tt0104030,tt0102898</td>\n",
       "    </tr>\n",
       "    <tr>\n",
       "      <th>3</th>\n",
       "      <td>nm0062195</td>\n",
       "      <td>Axel Baumann</td>\n",
       "      <td>NaN</td>\n",
       "      <td>camera_department,cinematographer,art_department</td>\n",
       "      <td>tt0114371,tt2004304,tt1618448,tt1224387</td>\n",
       "    </tr>\n",
       "    <tr>\n",
       "      <th>4</th>\n",
       "      <td>nm0062798</td>\n",
       "      <td>Pete Baxter</td>\n",
       "      <td>NaN</td>\n",
       "      <td>production_designer,art_department,set_decorator</td>\n",
       "      <td>tt0452644,tt0452692,tt3458030,tt2178256</td>\n",
       "    </tr>\n",
       "  </tbody>\n",
       "</table>\n",
       "</div>"
      ],
      "text/plain": [
       "      nconst       primary_name  birth_year  \\\n",
       "0  nm0061671  Mary Ellen Bauder         NaN   \n",
       "1  nm0061865       Joseph Bauer         NaN   \n",
       "2  nm0062070         Bruce Baum         NaN   \n",
       "3  nm0062195       Axel Baumann         NaN   \n",
       "4  nm0062798        Pete Baxter         NaN   \n",
       "\n",
       "                                 primary_profession  \\\n",
       "0         miscellaneous,production_manager,producer   \n",
       "1        composer,music_department,sound_department   \n",
       "2                        miscellaneous,actor,writer   \n",
       "3  camera_department,cinematographer,art_department   \n",
       "4  production_designer,art_department,set_decorator   \n",
       "\n",
       "                          known_for_titles  \n",
       "0  tt0837562,tt2398241,tt0844471,tt0118553  \n",
       "1  tt0896534,tt6791238,tt0287072,tt1682940  \n",
       "2  tt1470654,tt0363631,tt0104030,tt0102898  \n",
       "3  tt0114371,tt2004304,tt1618448,tt1224387  \n",
       "4  tt0452644,tt0452692,tt3458030,tt2178256  "
      ]
     },
     "execution_count": 96,
     "metadata": {},
     "output_type": "execute_result"
    }
   ],
   "source": [
    "name_basics_df.head()"
   ]
  },
  {
   "cell_type": "code",
   "execution_count": 97,
   "metadata": {
    "ExecuteTime": {
     "end_time": "2021-04-30T17:02:18.392641Z",
     "start_time": "2021-04-30T17:02:18.297554Z"
    }
   },
   "outputs": [],
   "source": [
    "name_basics_df = name_basics_df.dropna()"
   ]
  },
  {
   "cell_type": "code",
   "execution_count": 98,
   "metadata": {
    "ExecuteTime": {
     "end_time": "2021-04-30T17:02:18.408655Z",
     "start_time": "2021-04-30T17:02:18.393641Z"
    }
   },
   "outputs": [
    {
     "data": {
      "text/plain": [
       "(80348, 5)"
      ]
     },
     "execution_count": 98,
     "metadata": {},
     "output_type": "execute_result"
    }
   ],
   "source": [
    "name_basics_df.shape"
   ]
  },
  {
   "cell_type": "code",
   "execution_count": 99,
   "metadata": {
    "ExecuteTime": {
     "end_time": "2021-04-30T17:02:18.440684Z",
     "start_time": "2021-04-30T17:02:18.409657Z"
    }
   },
   "outputs": [
    {
     "data": {
      "text/plain": [
       "nconst                0\n",
       "primary_name          0\n",
       "birth_year            0\n",
       "primary_profession    0\n",
       "known_for_titles      0\n",
       "dtype: int64"
      ]
     },
     "execution_count": 99,
     "metadata": {},
     "output_type": "execute_result"
    }
   ],
   "source": [
    "name_basics_df.isna().sum()"
   ]
  },
  {
   "cell_type": "code",
   "execution_count": 100,
   "metadata": {
    "ExecuteTime": {
     "end_time": "2021-04-30T17:02:19.297835Z",
     "start_time": "2021-04-30T17:02:18.441685Z"
    }
   },
   "outputs": [],
   "source": [
    "name_basics_df = (name_basics_df.set_index(['nconst', 'primary_name','birth_year'])\n",
    "   .stack()\n",
    "   .str.split(',', expand=True)\n",
    "   .stack()\n",
    "   .unstack(-2)\n",
    "   .reset_index(-1, drop=True)\n",
    "   .reset_index()\n",
    ")"
   ]
  },
  {
   "cell_type": "code",
   "execution_count": 101,
   "metadata": {
    "ExecuteTime": {
     "end_time": "2021-04-30T17:02:19.312739Z",
     "start_time": "2021-04-30T17:02:19.297835Z"
    }
   },
   "outputs": [
    {
     "data": {
      "text/html": [
       "<div>\n",
       "<style scoped>\n",
       "    .dataframe tbody tr th:only-of-type {\n",
       "        vertical-align: middle;\n",
       "    }\n",
       "\n",
       "    .dataframe tbody tr th {\n",
       "        vertical-align: top;\n",
       "    }\n",
       "\n",
       "    .dataframe thead th {\n",
       "        text-align: right;\n",
       "    }\n",
       "</style>\n",
       "<table border=\"1\" class=\"dataframe\">\n",
       "  <thead>\n",
       "    <tr style=\"text-align: right;\">\n",
       "      <th></th>\n",
       "      <th>nconst</th>\n",
       "      <th>primary_name</th>\n",
       "      <th>birth_year</th>\n",
       "      <th>primary_profession</th>\n",
       "      <th>known_for_titles</th>\n",
       "    </tr>\n",
       "  </thead>\n",
       "  <tbody>\n",
       "    <tr>\n",
       "      <th>0</th>\n",
       "      <td>nm0000002</td>\n",
       "      <td>Lauren Bacall</td>\n",
       "      <td>1924.0</td>\n",
       "      <td>actress</td>\n",
       "      <td>tt0038355</td>\n",
       "    </tr>\n",
       "    <tr>\n",
       "      <th>1</th>\n",
       "      <td>nm0000002</td>\n",
       "      <td>Lauren Bacall</td>\n",
       "      <td>1924.0</td>\n",
       "      <td>soundtrack</td>\n",
       "      <td>tt0117057</td>\n",
       "    </tr>\n",
       "    <tr>\n",
       "      <th>2</th>\n",
       "      <td>nm0000002</td>\n",
       "      <td>Lauren Bacall</td>\n",
       "      <td>1924.0</td>\n",
       "      <td>NaN</td>\n",
       "      <td>tt0071877</td>\n",
       "    </tr>\n",
       "    <tr>\n",
       "      <th>3</th>\n",
       "      <td>nm0000002</td>\n",
       "      <td>Lauren Bacall</td>\n",
       "      <td>1924.0</td>\n",
       "      <td>NaN</td>\n",
       "      <td>tt0037382</td>\n",
       "    </tr>\n",
       "    <tr>\n",
       "      <th>4</th>\n",
       "      <td>nm0000003</td>\n",
       "      <td>Brigitte Bardot</td>\n",
       "      <td>1934.0</td>\n",
       "      <td>actress</td>\n",
       "      <td>tt0049189</td>\n",
       "    </tr>\n",
       "  </tbody>\n",
       "</table>\n",
       "</div>"
      ],
      "text/plain": [
       "      nconst     primary_name  birth_year primary_profession known_for_titles\n",
       "0  nm0000002    Lauren Bacall      1924.0            actress        tt0038355\n",
       "1  nm0000002    Lauren Bacall      1924.0         soundtrack        tt0117057\n",
       "2  nm0000002    Lauren Bacall      1924.0                NaN        tt0071877\n",
       "3  nm0000002    Lauren Bacall      1924.0                NaN        tt0037382\n",
       "4  nm0000003  Brigitte Bardot      1934.0            actress        tt0049189"
      ]
     },
     "execution_count": 101,
     "metadata": {},
     "output_type": "execute_result"
    }
   ],
   "source": [
    "name_basics_df.head()"
   ]
  },
  {
   "cell_type": "code",
   "execution_count": 102,
   "metadata": {
    "ExecuteTime": {
     "end_time": "2021-04-30T17:02:19.376195Z",
     "start_time": "2021-04-30T17:02:19.312739Z"
    }
   },
   "outputs": [
    {
     "data": {
      "text/plain": [
       "nconst                     0\n",
       "primary_name               0\n",
       "birth_year                 0\n",
       "primary_profession    131122\n",
       "known_for_titles        1319\n",
       "dtype: int64"
      ]
     },
     "execution_count": 102,
     "metadata": {},
     "output_type": "execute_result"
    }
   ],
   "source": [
    "name_basics_df.isna().sum()"
   ]
  },
  {
   "cell_type": "code",
   "execution_count": 103,
   "metadata": {
    "ExecuteTime": {
     "end_time": "2021-04-30T17:02:19.504313Z",
     "start_time": "2021-04-30T17:02:19.377196Z"
    }
   },
   "outputs": [],
   "source": [
    "name_basics_df = name_basics_df.dropna()"
   ]
  },
  {
   "cell_type": "code",
   "execution_count": 104,
   "metadata": {
    "ExecuteTime": {
     "end_time": "2021-04-30T17:02:19.552357Z",
     "start_time": "2021-04-30T17:02:19.505314Z"
    }
   },
   "outputs": [
    {
     "data": {
      "text/plain": [
       "nconst                0\n",
       "primary_name          0\n",
       "birth_year            0\n",
       "primary_profession    0\n",
       "known_for_titles      0\n",
       "dtype: int64"
      ]
     },
     "execution_count": 104,
     "metadata": {},
     "output_type": "execute_result"
    }
   ],
   "source": [
    "name_basics_df.isna().sum()"
   ]
  },
  {
   "cell_type": "code",
   "execution_count": 105,
   "metadata": {
    "ExecuteTime": {
     "end_time": "2021-04-30T17:02:19.568372Z",
     "start_time": "2021-04-30T17:02:19.553358Z"
    }
   },
   "outputs": [
    {
     "data": {
      "text/plain": [
       "(181188, 5)"
      ]
     },
     "execution_count": 105,
     "metadata": {},
     "output_type": "execute_result"
    }
   ],
   "source": [
    "name_basics_df.shape"
   ]
  },
  {
   "cell_type": "code",
   "execution_count": 106,
   "metadata": {
    "ExecuteTime": {
     "end_time": "2021-04-30T17:02:19.600395Z",
     "start_time": "2021-04-30T17:02:19.569373Z"
    }
   },
   "outputs": [],
   "source": [
    "name_basics_df = name_basics_df.rename({'known_for_titles': 'tconst'}, axis='columns')"
   ]
  },
  {
   "cell_type": "code",
   "execution_count": 107,
   "metadata": {
    "ExecuteTime": {
     "end_time": "2021-04-30T17:02:19.616410Z",
     "start_time": "2021-04-30T17:02:19.601397Z"
    }
   },
   "outputs": [
    {
     "data": {
      "text/html": [
       "<div>\n",
       "<style scoped>\n",
       "    .dataframe tbody tr th:only-of-type {\n",
       "        vertical-align: middle;\n",
       "    }\n",
       "\n",
       "    .dataframe tbody tr th {\n",
       "        vertical-align: top;\n",
       "    }\n",
       "\n",
       "    .dataframe thead th {\n",
       "        text-align: right;\n",
       "    }\n",
       "</style>\n",
       "<table border=\"1\" class=\"dataframe\">\n",
       "  <thead>\n",
       "    <tr style=\"text-align: right;\">\n",
       "      <th></th>\n",
       "      <th>nconst</th>\n",
       "      <th>primary_name</th>\n",
       "      <th>birth_year</th>\n",
       "      <th>primary_profession</th>\n",
       "      <th>tconst</th>\n",
       "    </tr>\n",
       "  </thead>\n",
       "  <tbody>\n",
       "    <tr>\n",
       "      <th>0</th>\n",
       "      <td>nm0000002</td>\n",
       "      <td>Lauren Bacall</td>\n",
       "      <td>1924.0</td>\n",
       "      <td>actress</td>\n",
       "      <td>tt0038355</td>\n",
       "    </tr>\n",
       "    <tr>\n",
       "      <th>1</th>\n",
       "      <td>nm0000002</td>\n",
       "      <td>Lauren Bacall</td>\n",
       "      <td>1924.0</td>\n",
       "      <td>soundtrack</td>\n",
       "      <td>tt0117057</td>\n",
       "    </tr>\n",
       "    <tr>\n",
       "      <th>4</th>\n",
       "      <td>nm0000003</td>\n",
       "      <td>Brigitte Bardot</td>\n",
       "      <td>1934.0</td>\n",
       "      <td>actress</td>\n",
       "      <td>tt0049189</td>\n",
       "    </tr>\n",
       "    <tr>\n",
       "      <th>5</th>\n",
       "      <td>nm0000003</td>\n",
       "      <td>Brigitte Bardot</td>\n",
       "      <td>1934.0</td>\n",
       "      <td>soundtrack</td>\n",
       "      <td>tt0057345</td>\n",
       "    </tr>\n",
       "    <tr>\n",
       "      <th>6</th>\n",
       "      <td>nm0000003</td>\n",
       "      <td>Brigitte Bardot</td>\n",
       "      <td>1934.0</td>\n",
       "      <td>producer</td>\n",
       "      <td>tt0054452</td>\n",
       "    </tr>\n",
       "  </tbody>\n",
       "</table>\n",
       "</div>"
      ],
      "text/plain": [
       "      nconst     primary_name  birth_year primary_profession     tconst\n",
       "0  nm0000002    Lauren Bacall      1924.0            actress  tt0038355\n",
       "1  nm0000002    Lauren Bacall      1924.0         soundtrack  tt0117057\n",
       "4  nm0000003  Brigitte Bardot      1934.0            actress  tt0049189\n",
       "5  nm0000003  Brigitte Bardot      1934.0         soundtrack  tt0057345\n",
       "6  nm0000003  Brigitte Bardot      1934.0           producer  tt0054452"
      ]
     },
     "execution_count": 107,
     "metadata": {},
     "output_type": "execute_result"
    }
   ],
   "source": [
    "name_basics_df.head()"
   ]
  },
  {
   "cell_type": "code",
   "execution_count": 108,
   "metadata": {
    "ExecuteTime": {
     "end_time": "2021-04-30T17:02:19.664453Z",
     "start_time": "2021-04-30T17:02:19.617410Z"
    }
   },
   "outputs": [
    {
     "name": "stdout",
     "output_type": "stream",
     "text": [
      "<class 'pandas.core.frame.DataFrame'>\n",
      "Int64Index: 181188 entries, 0 to 313626\n",
      "Data columns (total 5 columns):\n",
      " #   Column              Non-Null Count   Dtype  \n",
      "---  ------              --------------   -----  \n",
      " 0   nconst              181188 non-null  object \n",
      " 1   primary_name        181188 non-null  object \n",
      " 2   birth_year          181188 non-null  float64\n",
      " 3   primary_profession  181188 non-null  object \n",
      " 4   tconst              181188 non-null  object \n",
      "dtypes: float64(1), object(4)\n",
      "memory usage: 8.3+ MB\n"
     ]
    }
   ],
   "source": [
    "name_basics_df.info()"
   ]
  },
  {
   "cell_type": "code",
   "execution_count": null,
   "metadata": {},
   "outputs": [],
   "source": []
  },
  {
   "cell_type": "markdown",
   "metadata": {},
   "source": [
    "### Ratings"
   ]
  },
  {
   "cell_type": "code",
   "execution_count": 109,
   "metadata": {
    "ExecuteTime": {
     "end_time": "2021-04-30T17:02:19.712497Z",
     "start_time": "2021-04-30T17:02:19.665454Z"
    }
   },
   "outputs": [],
   "source": [
    "imdb_ratings_df = pd.read_csv('zippedData/imdb.title.ratings.csv.gz')"
   ]
  },
  {
   "cell_type": "code",
   "execution_count": 110,
   "metadata": {
    "ExecuteTime": {
     "end_time": "2021-04-30T17:02:19.728512Z",
     "start_time": "2021-04-30T17:02:19.713498Z"
    }
   },
   "outputs": [
    {
     "data": {
      "text/html": [
       "<div>\n",
       "<style scoped>\n",
       "    .dataframe tbody tr th:only-of-type {\n",
       "        vertical-align: middle;\n",
       "    }\n",
       "\n",
       "    .dataframe tbody tr th {\n",
       "        vertical-align: top;\n",
       "    }\n",
       "\n",
       "    .dataframe thead th {\n",
       "        text-align: right;\n",
       "    }\n",
       "</style>\n",
       "<table border=\"1\" class=\"dataframe\">\n",
       "  <thead>\n",
       "    <tr style=\"text-align: right;\">\n",
       "      <th></th>\n",
       "      <th>tconst</th>\n",
       "      <th>averagerating</th>\n",
       "      <th>numvotes</th>\n",
       "    </tr>\n",
       "  </thead>\n",
       "  <tbody>\n",
       "    <tr>\n",
       "      <th>0</th>\n",
       "      <td>tt10356526</td>\n",
       "      <td>8.3</td>\n",
       "      <td>31</td>\n",
       "    </tr>\n",
       "    <tr>\n",
       "      <th>1</th>\n",
       "      <td>tt10384606</td>\n",
       "      <td>8.9</td>\n",
       "      <td>559</td>\n",
       "    </tr>\n",
       "    <tr>\n",
       "      <th>2</th>\n",
       "      <td>tt1042974</td>\n",
       "      <td>6.4</td>\n",
       "      <td>20</td>\n",
       "    </tr>\n",
       "    <tr>\n",
       "      <th>3</th>\n",
       "      <td>tt1043726</td>\n",
       "      <td>4.2</td>\n",
       "      <td>50352</td>\n",
       "    </tr>\n",
       "    <tr>\n",
       "      <th>4</th>\n",
       "      <td>tt1060240</td>\n",
       "      <td>6.5</td>\n",
       "      <td>21</td>\n",
       "    </tr>\n",
       "  </tbody>\n",
       "</table>\n",
       "</div>"
      ],
      "text/plain": [
       "       tconst  averagerating  numvotes\n",
       "0  tt10356526            8.3        31\n",
       "1  tt10384606            8.9       559\n",
       "2   tt1042974            6.4        20\n",
       "3   tt1043726            4.2     50352\n",
       "4   tt1060240            6.5        21"
      ]
     },
     "execution_count": 110,
     "metadata": {},
     "output_type": "execute_result"
    }
   ],
   "source": [
    "imdb_ratings_df.head()"
   ]
  },
  {
   "cell_type": "markdown",
   "metadata": {},
   "source": [
    "### Title Basics"
   ]
  },
  {
   "cell_type": "code",
   "execution_count": 111,
   "metadata": {
    "ExecuteTime": {
     "end_time": "2021-04-30T17:02:19.984742Z",
     "start_time": "2021-04-30T17:02:19.730513Z"
    }
   },
   "outputs": [],
   "source": [
    "title_basics_df = pd.read_csv('zippedData/imdb.title.basics.csv.gz')"
   ]
  },
  {
   "cell_type": "code",
   "execution_count": 112,
   "metadata": {
    "ExecuteTime": {
     "end_time": "2021-04-30T17:02:20.000833Z",
     "start_time": "2021-04-30T17:02:19.986744Z"
    }
   },
   "outputs": [
    {
     "data": {
      "text/html": [
       "<div>\n",
       "<style scoped>\n",
       "    .dataframe tbody tr th:only-of-type {\n",
       "        vertical-align: middle;\n",
       "    }\n",
       "\n",
       "    .dataframe tbody tr th {\n",
       "        vertical-align: top;\n",
       "    }\n",
       "\n",
       "    .dataframe thead th {\n",
       "        text-align: right;\n",
       "    }\n",
       "</style>\n",
       "<table border=\"1\" class=\"dataframe\">\n",
       "  <thead>\n",
       "    <tr style=\"text-align: right;\">\n",
       "      <th></th>\n",
       "      <th>tconst</th>\n",
       "      <th>primary_title</th>\n",
       "      <th>original_title</th>\n",
       "      <th>start_year</th>\n",
       "      <th>runtime_minutes</th>\n",
       "      <th>genres</th>\n",
       "    </tr>\n",
       "  </thead>\n",
       "  <tbody>\n",
       "    <tr>\n",
       "      <th>0</th>\n",
       "      <td>tt0063540</td>\n",
       "      <td>Sunghursh</td>\n",
       "      <td>Sunghursh</td>\n",
       "      <td>2013</td>\n",
       "      <td>175.0</td>\n",
       "      <td>Action,Crime,Drama</td>\n",
       "    </tr>\n",
       "    <tr>\n",
       "      <th>1</th>\n",
       "      <td>tt0066787</td>\n",
       "      <td>One Day Before the Rainy Season</td>\n",
       "      <td>Ashad Ka Ek Din</td>\n",
       "      <td>2019</td>\n",
       "      <td>114.0</td>\n",
       "      <td>Biography,Drama</td>\n",
       "    </tr>\n",
       "    <tr>\n",
       "      <th>2</th>\n",
       "      <td>tt0069049</td>\n",
       "      <td>The Other Side of the Wind</td>\n",
       "      <td>The Other Side of the Wind</td>\n",
       "      <td>2018</td>\n",
       "      <td>122.0</td>\n",
       "      <td>Drama</td>\n",
       "    </tr>\n",
       "    <tr>\n",
       "      <th>3</th>\n",
       "      <td>tt0069204</td>\n",
       "      <td>Sabse Bada Sukh</td>\n",
       "      <td>Sabse Bada Sukh</td>\n",
       "      <td>2018</td>\n",
       "      <td>NaN</td>\n",
       "      <td>Comedy,Drama</td>\n",
       "    </tr>\n",
       "    <tr>\n",
       "      <th>4</th>\n",
       "      <td>tt0100275</td>\n",
       "      <td>The Wandering Soap Opera</td>\n",
       "      <td>La Telenovela Errante</td>\n",
       "      <td>2017</td>\n",
       "      <td>80.0</td>\n",
       "      <td>Comedy,Drama,Fantasy</td>\n",
       "    </tr>\n",
       "  </tbody>\n",
       "</table>\n",
       "</div>"
      ],
      "text/plain": [
       "      tconst                    primary_title              original_title  \\\n",
       "0  tt0063540                        Sunghursh                   Sunghursh   \n",
       "1  tt0066787  One Day Before the Rainy Season             Ashad Ka Ek Din   \n",
       "2  tt0069049       The Other Side of the Wind  The Other Side of the Wind   \n",
       "3  tt0069204                  Sabse Bada Sukh             Sabse Bada Sukh   \n",
       "4  tt0100275         The Wandering Soap Opera       La Telenovela Errante   \n",
       "\n",
       "   start_year  runtime_minutes                genres  \n",
       "0        2013            175.0    Action,Crime,Drama  \n",
       "1        2019            114.0       Biography,Drama  \n",
       "2        2018            122.0                 Drama  \n",
       "3        2018              NaN          Comedy,Drama  \n",
       "4        2017             80.0  Comedy,Drama,Fantasy  "
      ]
     },
     "execution_count": 112,
     "metadata": {},
     "output_type": "execute_result"
    }
   ],
   "source": [
    "title_basics_df.head()"
   ]
  },
  {
   "cell_type": "markdown",
   "metadata": {},
   "source": [
    "### Movie Grosses and Budgets"
   ]
  },
  {
   "cell_type": "code",
   "execution_count": 113,
   "metadata": {
    "ExecuteTime": {
     "end_time": "2021-04-30T17:02:20.016848Z",
     "start_time": "2021-04-30T17:02:20.001835Z"
    }
   },
   "outputs": [
    {
     "data": {
      "text/html": [
       "<div>\n",
       "<style scoped>\n",
       "    .dataframe tbody tr th:only-of-type {\n",
       "        vertical-align: middle;\n",
       "    }\n",
       "\n",
       "    .dataframe tbody tr th {\n",
       "        vertical-align: top;\n",
       "    }\n",
       "\n",
       "    .dataframe thead th {\n",
       "        text-align: right;\n",
       "    }\n",
       "</style>\n",
       "<table border=\"1\" class=\"dataframe\">\n",
       "  <thead>\n",
       "    <tr style=\"text-align: right;\">\n",
       "      <th></th>\n",
       "      <th>title</th>\n",
       "      <th>studio</th>\n",
       "      <th>domestic_gross</th>\n",
       "      <th>foreign_gross</th>\n",
       "      <th>year</th>\n",
       "    </tr>\n",
       "  </thead>\n",
       "  <tbody>\n",
       "    <tr>\n",
       "      <th>0</th>\n",
       "      <td>Toy Story 3</td>\n",
       "      <td>BV</td>\n",
       "      <td>415000000.0</td>\n",
       "      <td>652000000</td>\n",
       "      <td>2010</td>\n",
       "    </tr>\n",
       "    <tr>\n",
       "      <th>1</th>\n",
       "      <td>Alice in Wonderland (2010)</td>\n",
       "      <td>BV</td>\n",
       "      <td>334200000.0</td>\n",
       "      <td>691300000</td>\n",
       "      <td>2010</td>\n",
       "    </tr>\n",
       "    <tr>\n",
       "      <th>2</th>\n",
       "      <td>Harry Potter and the Deathly Hallows Part 1</td>\n",
       "      <td>WB</td>\n",
       "      <td>296000000.0</td>\n",
       "      <td>664300000</td>\n",
       "      <td>2010</td>\n",
       "    </tr>\n",
       "    <tr>\n",
       "      <th>3</th>\n",
       "      <td>Inception</td>\n",
       "      <td>WB</td>\n",
       "      <td>292600000.0</td>\n",
       "      <td>535700000</td>\n",
       "      <td>2010</td>\n",
       "    </tr>\n",
       "    <tr>\n",
       "      <th>4</th>\n",
       "      <td>Shrek Forever After</td>\n",
       "      <td>P/DW</td>\n",
       "      <td>238700000.0</td>\n",
       "      <td>513900000</td>\n",
       "      <td>2010</td>\n",
       "    </tr>\n",
       "  </tbody>\n",
       "</table>\n",
       "</div>"
      ],
      "text/plain": [
       "                                         title studio  domestic_gross  \\\n",
       "0                                  Toy Story 3     BV     415000000.0   \n",
       "1                   Alice in Wonderland (2010)     BV     334200000.0   \n",
       "2  Harry Potter and the Deathly Hallows Part 1     WB     296000000.0   \n",
       "3                                    Inception     WB     292600000.0   \n",
       "4                          Shrek Forever After   P/DW     238700000.0   \n",
       "\n",
       "  foreign_gross  year  \n",
       "0     652000000  2010  \n",
       "1     691300000  2010  \n",
       "2     664300000  2010  \n",
       "3     535700000  2010  \n",
       "4     513900000  2010  "
      ]
     },
     "execution_count": 113,
     "metadata": {},
     "output_type": "execute_result"
    }
   ],
   "source": [
    "movie_gross_df = pd.read_csv('zippedData/bom.movie_gross.csv.gz')\n",
    "movie_gross_df.head()"
   ]
  },
  {
   "cell_type": "code",
   "execution_count": 114,
   "metadata": {
    "ExecuteTime": {
     "end_time": "2021-04-30T17:02:20.032863Z",
     "start_time": "2021-04-30T17:02:20.017849Z"
    }
   },
   "outputs": [],
   "source": [
    "movie_budgets_df = pd.read_csv('zippedData/tn.movie_budgets.csv.gz')"
   ]
  },
  {
   "cell_type": "code",
   "execution_count": 115,
   "metadata": {
    "ExecuteTime": {
     "end_time": "2021-04-30T17:02:20.048877Z",
     "start_time": "2021-04-30T17:02:20.033864Z"
    }
   },
   "outputs": [
    {
     "data": {
      "text/html": [
       "<div>\n",
       "<style scoped>\n",
       "    .dataframe tbody tr th:only-of-type {\n",
       "        vertical-align: middle;\n",
       "    }\n",
       "\n",
       "    .dataframe tbody tr th {\n",
       "        vertical-align: top;\n",
       "    }\n",
       "\n",
       "    .dataframe thead th {\n",
       "        text-align: right;\n",
       "    }\n",
       "</style>\n",
       "<table border=\"1\" class=\"dataframe\">\n",
       "  <thead>\n",
       "    <tr style=\"text-align: right;\">\n",
       "      <th></th>\n",
       "      <th>id</th>\n",
       "      <th>release_date</th>\n",
       "      <th>movie</th>\n",
       "      <th>production_budget</th>\n",
       "      <th>domestic_gross</th>\n",
       "      <th>worldwide_gross</th>\n",
       "    </tr>\n",
       "  </thead>\n",
       "  <tbody>\n",
       "    <tr>\n",
       "      <th>0</th>\n",
       "      <td>1</td>\n",
       "      <td>Dec 18, 2009</td>\n",
       "      <td>Avatar</td>\n",
       "      <td>$425,000,000</td>\n",
       "      <td>$760,507,625</td>\n",
       "      <td>$2,776,345,279</td>\n",
       "    </tr>\n",
       "    <tr>\n",
       "      <th>1</th>\n",
       "      <td>2</td>\n",
       "      <td>May 20, 2011</td>\n",
       "      <td>Pirates of the Caribbean: On Stranger Tides</td>\n",
       "      <td>$410,600,000</td>\n",
       "      <td>$241,063,875</td>\n",
       "      <td>$1,045,663,875</td>\n",
       "    </tr>\n",
       "    <tr>\n",
       "      <th>2</th>\n",
       "      <td>3</td>\n",
       "      <td>Jun 7, 2019</td>\n",
       "      <td>Dark Phoenix</td>\n",
       "      <td>$350,000,000</td>\n",
       "      <td>$42,762,350</td>\n",
       "      <td>$149,762,350</td>\n",
       "    </tr>\n",
       "    <tr>\n",
       "      <th>3</th>\n",
       "      <td>4</td>\n",
       "      <td>May 1, 2015</td>\n",
       "      <td>Avengers: Age of Ultron</td>\n",
       "      <td>$330,600,000</td>\n",
       "      <td>$459,005,868</td>\n",
       "      <td>$1,403,013,963</td>\n",
       "    </tr>\n",
       "    <tr>\n",
       "      <th>4</th>\n",
       "      <td>5</td>\n",
       "      <td>Dec 15, 2017</td>\n",
       "      <td>Star Wars Ep. VIII: The Last Jedi</td>\n",
       "      <td>$317,000,000</td>\n",
       "      <td>$620,181,382</td>\n",
       "      <td>$1,316,721,747</td>\n",
       "    </tr>\n",
       "  </tbody>\n",
       "</table>\n",
       "</div>"
      ],
      "text/plain": [
       "   id  release_date                                        movie  \\\n",
       "0   1  Dec 18, 2009                                       Avatar   \n",
       "1   2  May 20, 2011  Pirates of the Caribbean: On Stranger Tides   \n",
       "2   3   Jun 7, 2019                                 Dark Phoenix   \n",
       "3   4   May 1, 2015                      Avengers: Age of Ultron   \n",
       "4   5  Dec 15, 2017            Star Wars Ep. VIII: The Last Jedi   \n",
       "\n",
       "  production_budget domestic_gross worldwide_gross  \n",
       "0      $425,000,000   $760,507,625  $2,776,345,279  \n",
       "1      $410,600,000   $241,063,875  $1,045,663,875  \n",
       "2      $350,000,000    $42,762,350    $149,762,350  \n",
       "3      $330,600,000   $459,005,868  $1,403,013,963  \n",
       "4      $317,000,000   $620,181,382  $1,316,721,747  "
      ]
     },
     "execution_count": 115,
     "metadata": {},
     "output_type": "execute_result"
    }
   ],
   "source": [
    "movie_budgets_df.head()"
   ]
  },
  {
   "cell_type": "markdown",
   "metadata": {},
   "source": [
    "## Joining Data Sets"
   ]
  },
  {
   "cell_type": "code",
   "execution_count": 116,
   "metadata": {
    "ExecuteTime": {
     "end_time": "2021-04-30T17:02:20.064892Z",
     "start_time": "2021-04-30T17:02:20.049879Z"
    }
   },
   "outputs": [],
   "source": [
    "#Here I am joining the budget and basics with tconst section because it will allow me to join the budget to the ratings by the tconst column."
   ]
  },
  {
   "cell_type": "code",
   "execution_count": 117,
   "metadata": {
    "ExecuteTime": {
     "end_time": "2021-04-30T17:02:20.112520Z",
     "start_time": "2021-04-30T17:02:20.065893Z"
    }
   },
   "outputs": [],
   "source": [
    "budget_tconst = pd.merge(title_basics_df, movie_budgets_df , left_on= 'primary_title', right_on= 'movie', how = 'right')"
   ]
  },
  {
   "cell_type": "code",
   "execution_count": 118,
   "metadata": {
    "ExecuteTime": {
     "end_time": "2021-04-30T17:02:20.128535Z",
     "start_time": "2021-04-30T17:02:20.113522Z"
    }
   },
   "outputs": [
    {
     "data": {
      "text/html": [
       "<div>\n",
       "<style scoped>\n",
       "    .dataframe tbody tr th:only-of-type {\n",
       "        vertical-align: middle;\n",
       "    }\n",
       "\n",
       "    .dataframe tbody tr th {\n",
       "        vertical-align: top;\n",
       "    }\n",
       "\n",
       "    .dataframe thead th {\n",
       "        text-align: right;\n",
       "    }\n",
       "</style>\n",
       "<table border=\"1\" class=\"dataframe\">\n",
       "  <thead>\n",
       "    <tr style=\"text-align: right;\">\n",
       "      <th></th>\n",
       "      <th>tconst</th>\n",
       "      <th>primary_title</th>\n",
       "      <th>original_title</th>\n",
       "      <th>start_year</th>\n",
       "      <th>runtime_minutes</th>\n",
       "      <th>genres</th>\n",
       "      <th>id</th>\n",
       "      <th>release_date</th>\n",
       "      <th>movie</th>\n",
       "      <th>production_budget</th>\n",
       "      <th>domestic_gross</th>\n",
       "      <th>worldwide_gross</th>\n",
       "    </tr>\n",
       "  </thead>\n",
       "  <tbody>\n",
       "    <tr>\n",
       "      <th>0</th>\n",
       "      <td>tt1775309</td>\n",
       "      <td>Avatar</td>\n",
       "      <td>Abatâ</td>\n",
       "      <td>2011.0</td>\n",
       "      <td>93.0</td>\n",
       "      <td>Horror</td>\n",
       "      <td>1</td>\n",
       "      <td>Dec 18, 2009</td>\n",
       "      <td>Avatar</td>\n",
       "      <td>$425,000,000</td>\n",
       "      <td>$760,507,625</td>\n",
       "      <td>$2,776,345,279</td>\n",
       "    </tr>\n",
       "    <tr>\n",
       "      <th>1</th>\n",
       "      <td>tt1298650</td>\n",
       "      <td>Pirates of the Caribbean: On Stranger Tides</td>\n",
       "      <td>Pirates of the Caribbean: On Stranger Tides</td>\n",
       "      <td>2011.0</td>\n",
       "      <td>136.0</td>\n",
       "      <td>Action,Adventure,Fantasy</td>\n",
       "      <td>2</td>\n",
       "      <td>May 20, 2011</td>\n",
       "      <td>Pirates of the Caribbean: On Stranger Tides</td>\n",
       "      <td>$410,600,000</td>\n",
       "      <td>$241,063,875</td>\n",
       "      <td>$1,045,663,875</td>\n",
       "    </tr>\n",
       "    <tr>\n",
       "      <th>2</th>\n",
       "      <td>tt6565702</td>\n",
       "      <td>Dark Phoenix</td>\n",
       "      <td>Dark Phoenix</td>\n",
       "      <td>2019.0</td>\n",
       "      <td>113.0</td>\n",
       "      <td>Action,Adventure,Sci-Fi</td>\n",
       "      <td>3</td>\n",
       "      <td>Jun 7, 2019</td>\n",
       "      <td>Dark Phoenix</td>\n",
       "      <td>$350,000,000</td>\n",
       "      <td>$42,762,350</td>\n",
       "      <td>$149,762,350</td>\n",
       "    </tr>\n",
       "    <tr>\n",
       "      <th>3</th>\n",
       "      <td>tt2395427</td>\n",
       "      <td>Avengers: Age of Ultron</td>\n",
       "      <td>Avengers: Age of Ultron</td>\n",
       "      <td>2015.0</td>\n",
       "      <td>141.0</td>\n",
       "      <td>Action,Adventure,Sci-Fi</td>\n",
       "      <td>4</td>\n",
       "      <td>May 1, 2015</td>\n",
       "      <td>Avengers: Age of Ultron</td>\n",
       "      <td>$330,600,000</td>\n",
       "      <td>$459,005,868</td>\n",
       "      <td>$1,403,013,963</td>\n",
       "    </tr>\n",
       "    <tr>\n",
       "      <th>4</th>\n",
       "      <td>NaN</td>\n",
       "      <td>NaN</td>\n",
       "      <td>NaN</td>\n",
       "      <td>NaN</td>\n",
       "      <td>NaN</td>\n",
       "      <td>NaN</td>\n",
       "      <td>5</td>\n",
       "      <td>Dec 15, 2017</td>\n",
       "      <td>Star Wars Ep. VIII: The Last Jedi</td>\n",
       "      <td>$317,000,000</td>\n",
       "      <td>$620,181,382</td>\n",
       "      <td>$1,316,721,747</td>\n",
       "    </tr>\n",
       "  </tbody>\n",
       "</table>\n",
       "</div>"
      ],
      "text/plain": [
       "      tconst                                primary_title  \\\n",
       "0  tt1775309                                       Avatar   \n",
       "1  tt1298650  Pirates of the Caribbean: On Stranger Tides   \n",
       "2  tt6565702                                 Dark Phoenix   \n",
       "3  tt2395427                      Avengers: Age of Ultron   \n",
       "4        NaN                                          NaN   \n",
       "\n",
       "                                original_title  start_year  runtime_minutes  \\\n",
       "0                                        Abatâ      2011.0             93.0   \n",
       "1  Pirates of the Caribbean: On Stranger Tides      2011.0            136.0   \n",
       "2                                 Dark Phoenix      2019.0            113.0   \n",
       "3                      Avengers: Age of Ultron      2015.0            141.0   \n",
       "4                                          NaN         NaN              NaN   \n",
       "\n",
       "                     genres  id  release_date  \\\n",
       "0                    Horror   1  Dec 18, 2009   \n",
       "1  Action,Adventure,Fantasy   2  May 20, 2011   \n",
       "2   Action,Adventure,Sci-Fi   3   Jun 7, 2019   \n",
       "3   Action,Adventure,Sci-Fi   4   May 1, 2015   \n",
       "4                       NaN   5  Dec 15, 2017   \n",
       "\n",
       "                                         movie production_budget  \\\n",
       "0                                       Avatar      $425,000,000   \n",
       "1  Pirates of the Caribbean: On Stranger Tides      $410,600,000   \n",
       "2                                 Dark Phoenix      $350,000,000   \n",
       "3                      Avengers: Age of Ultron      $330,600,000   \n",
       "4            Star Wars Ep. VIII: The Last Jedi      $317,000,000   \n",
       "\n",
       "  domestic_gross worldwide_gross  \n",
       "0   $760,507,625  $2,776,345,279  \n",
       "1   $241,063,875  $1,045,663,875  \n",
       "2    $42,762,350    $149,762,350  \n",
       "3   $459,005,868  $1,403,013,963  \n",
       "4   $620,181,382  $1,316,721,747  "
      ]
     },
     "execution_count": 118,
     "metadata": {},
     "output_type": "execute_result"
    }
   ],
   "source": [
    "budget_tconst.head()"
   ]
  },
  {
   "cell_type": "code",
   "execution_count": 119,
   "metadata": {
    "ExecuteTime": {
     "end_time": "2021-04-30T17:02:20.144577Z",
     "start_time": "2021-04-30T17:02:20.129537Z"
    }
   },
   "outputs": [],
   "source": [
    "#Searching for NaN values."
   ]
  },
  {
   "cell_type": "code",
   "execution_count": 120,
   "metadata": {
    "ExecuteTime": {
     "end_time": "2021-04-30T17:02:20.160592Z",
     "start_time": "2021-04-30T17:02:20.145578Z"
    }
   },
   "outputs": [
    {
     "data": {
      "text/plain": [
       "tconst               3406\n",
       "primary_title        3406\n",
       "original_title       3407\n",
       "start_year           3406\n",
       "runtime_minutes      3893\n",
       "genres               3478\n",
       "id                      0\n",
       "release_date            0\n",
       "movie                   0\n",
       "production_budget       0\n",
       "domestic_gross          0\n",
       "worldwide_gross         0\n",
       "dtype: int64"
      ]
     },
     "execution_count": 120,
     "metadata": {},
     "output_type": "execute_result"
    }
   ],
   "source": [
    "budget_tconst.isna().sum()"
   ]
  },
  {
   "cell_type": "code",
   "execution_count": 121,
   "metadata": {
    "ExecuteTime": {
     "end_time": "2021-04-30T17:02:20.176607Z",
     "start_time": "2021-04-30T17:02:20.161594Z"
    }
   },
   "outputs": [],
   "source": [
    "#Dropping those values"
   ]
  },
  {
   "cell_type": "code",
   "execution_count": 122,
   "metadata": {
    "ExecuteTime": {
     "end_time": "2021-04-30T17:02:20.208636Z",
     "start_time": "2021-04-30T17:02:20.177607Z"
    }
   },
   "outputs": [
    {
     "data": {
      "text/html": [
       "<div>\n",
       "<style scoped>\n",
       "    .dataframe tbody tr th:only-of-type {\n",
       "        vertical-align: middle;\n",
       "    }\n",
       "\n",
       "    .dataframe tbody tr th {\n",
       "        vertical-align: top;\n",
       "    }\n",
       "\n",
       "    .dataframe thead th {\n",
       "        text-align: right;\n",
       "    }\n",
       "</style>\n",
       "<table border=\"1\" class=\"dataframe\">\n",
       "  <thead>\n",
       "    <tr style=\"text-align: right;\">\n",
       "      <th></th>\n",
       "      <th>tconst</th>\n",
       "      <th>primary_title</th>\n",
       "      <th>original_title</th>\n",
       "      <th>start_year</th>\n",
       "      <th>runtime_minutes</th>\n",
       "      <th>genres</th>\n",
       "      <th>id</th>\n",
       "      <th>release_date</th>\n",
       "      <th>movie</th>\n",
       "      <th>production_budget</th>\n",
       "      <th>domestic_gross</th>\n",
       "      <th>worldwide_gross</th>\n",
       "    </tr>\n",
       "  </thead>\n",
       "  <tbody>\n",
       "    <tr>\n",
       "      <th>0</th>\n",
       "      <td>tt1775309</td>\n",
       "      <td>Avatar</td>\n",
       "      <td>Abatâ</td>\n",
       "      <td>2011.0</td>\n",
       "      <td>93.0</td>\n",
       "      <td>Horror</td>\n",
       "      <td>1</td>\n",
       "      <td>Dec 18, 2009</td>\n",
       "      <td>Avatar</td>\n",
       "      <td>$425,000,000</td>\n",
       "      <td>$760,507,625</td>\n",
       "      <td>$2,776,345,279</td>\n",
       "    </tr>\n",
       "    <tr>\n",
       "      <th>1</th>\n",
       "      <td>tt1298650</td>\n",
       "      <td>Pirates of the Caribbean: On Stranger Tides</td>\n",
       "      <td>Pirates of the Caribbean: On Stranger Tides</td>\n",
       "      <td>2011.0</td>\n",
       "      <td>136.0</td>\n",
       "      <td>Action,Adventure,Fantasy</td>\n",
       "      <td>2</td>\n",
       "      <td>May 20, 2011</td>\n",
       "      <td>Pirates of the Caribbean: On Stranger Tides</td>\n",
       "      <td>$410,600,000</td>\n",
       "      <td>$241,063,875</td>\n",
       "      <td>$1,045,663,875</td>\n",
       "    </tr>\n",
       "    <tr>\n",
       "      <th>2</th>\n",
       "      <td>tt6565702</td>\n",
       "      <td>Dark Phoenix</td>\n",
       "      <td>Dark Phoenix</td>\n",
       "      <td>2019.0</td>\n",
       "      <td>113.0</td>\n",
       "      <td>Action,Adventure,Sci-Fi</td>\n",
       "      <td>3</td>\n",
       "      <td>Jun 7, 2019</td>\n",
       "      <td>Dark Phoenix</td>\n",
       "      <td>$350,000,000</td>\n",
       "      <td>$42,762,350</td>\n",
       "      <td>$149,762,350</td>\n",
       "    </tr>\n",
       "    <tr>\n",
       "      <th>3</th>\n",
       "      <td>tt2395427</td>\n",
       "      <td>Avengers: Age of Ultron</td>\n",
       "      <td>Avengers: Age of Ultron</td>\n",
       "      <td>2015.0</td>\n",
       "      <td>141.0</td>\n",
       "      <td>Action,Adventure,Sci-Fi</td>\n",
       "      <td>4</td>\n",
       "      <td>May 1, 2015</td>\n",
       "      <td>Avengers: Age of Ultron</td>\n",
       "      <td>$330,600,000</td>\n",
       "      <td>$459,005,868</td>\n",
       "      <td>$1,403,013,963</td>\n",
       "    </tr>\n",
       "    <tr>\n",
       "      <th>6</th>\n",
       "      <td>tt4154756</td>\n",
       "      <td>Avengers: Infinity War</td>\n",
       "      <td>Avengers: Infinity War</td>\n",
       "      <td>2018.0</td>\n",
       "      <td>149.0</td>\n",
       "      <td>Action,Adventure,Sci-Fi</td>\n",
       "      <td>7</td>\n",
       "      <td>Apr 27, 2018</td>\n",
       "      <td>Avengers: Infinity War</td>\n",
       "      <td>$300,000,000</td>\n",
       "      <td>$678,815,482</td>\n",
       "      <td>$2,048,134,200</td>\n",
       "    </tr>\n",
       "    <tr>\n",
       "      <th>...</th>\n",
       "      <td>...</td>\n",
       "      <td>...</td>\n",
       "      <td>...</td>\n",
       "      <td>...</td>\n",
       "      <td>...</td>\n",
       "      <td>...</td>\n",
       "      <td>...</td>\n",
       "      <td>...</td>\n",
       "      <td>...</td>\n",
       "      <td>...</td>\n",
       "      <td>...</td>\n",
       "      <td>...</td>\n",
       "    </tr>\n",
       "    <tr>\n",
       "      <th>7204</th>\n",
       "      <td>tt6619196</td>\n",
       "      <td>Clean</td>\n",
       "      <td>Clean</td>\n",
       "      <td>2017.0</td>\n",
       "      <td>70.0</td>\n",
       "      <td>Comedy,Drama,Horror</td>\n",
       "      <td>67</td>\n",
       "      <td>Apr 28, 2006</td>\n",
       "      <td>Clean</td>\n",
       "      <td>$10,000</td>\n",
       "      <td>$138,711</td>\n",
       "      <td>$138,711</td>\n",
       "    </tr>\n",
       "    <tr>\n",
       "      <th>7205</th>\n",
       "      <td>tt1872026</td>\n",
       "      <td>Cure</td>\n",
       "      <td>Cure</td>\n",
       "      <td>2011.0</td>\n",
       "      <td>93.0</td>\n",
       "      <td>Drama</td>\n",
       "      <td>68</td>\n",
       "      <td>Jul 6, 2001</td>\n",
       "      <td>Cure</td>\n",
       "      <td>$10,000</td>\n",
       "      <td>$94,596</td>\n",
       "      <td>$94,596</td>\n",
       "    </tr>\n",
       "    <tr>\n",
       "      <th>7211</th>\n",
       "      <td>tt1880418</td>\n",
       "      <td>Newlyweds</td>\n",
       "      <td>Newlyweds</td>\n",
       "      <td>2011.0</td>\n",
       "      <td>95.0</td>\n",
       "      <td>Comedy,Drama</td>\n",
       "      <td>73</td>\n",
       "      <td>Jan 13, 2012</td>\n",
       "      <td>Newlyweds</td>\n",
       "      <td>$9,000</td>\n",
       "      <td>$4,584</td>\n",
       "      <td>$4,584</td>\n",
       "    </tr>\n",
       "    <tr>\n",
       "      <th>7216</th>\n",
       "      <td>tt7837402</td>\n",
       "      <td>Red 11</td>\n",
       "      <td>Red 11</td>\n",
       "      <td>2019.0</td>\n",
       "      <td>77.0</td>\n",
       "      <td>Horror,Sci-Fi,Thriller</td>\n",
       "      <td>78</td>\n",
       "      <td>Dec 31, 2018</td>\n",
       "      <td>Red 11</td>\n",
       "      <td>$7,000</td>\n",
       "      <td>$0</td>\n",
       "      <td>$0</td>\n",
       "    </tr>\n",
       "    <tr>\n",
       "      <th>7219</th>\n",
       "      <td>tt2107644</td>\n",
       "      <td>A Plague So Pleasant</td>\n",
       "      <td>A Plague So Pleasant</td>\n",
       "      <td>2013.0</td>\n",
       "      <td>76.0</td>\n",
       "      <td>Drama,Horror,Thriller</td>\n",
       "      <td>81</td>\n",
       "      <td>Sep 29, 2015</td>\n",
       "      <td>A Plague So Pleasant</td>\n",
       "      <td>$1,400</td>\n",
       "      <td>$0</td>\n",
       "      <td>$0</td>\n",
       "    </tr>\n",
       "  </tbody>\n",
       "</table>\n",
       "<p>3309 rows × 12 columns</p>\n",
       "</div>"
      ],
      "text/plain": [
       "         tconst                                primary_title  \\\n",
       "0     tt1775309                                       Avatar   \n",
       "1     tt1298650  Pirates of the Caribbean: On Stranger Tides   \n",
       "2     tt6565702                                 Dark Phoenix   \n",
       "3     tt2395427                      Avengers: Age of Ultron   \n",
       "6     tt4154756                       Avengers: Infinity War   \n",
       "...         ...                                          ...   \n",
       "7204  tt6619196                                        Clean   \n",
       "7205  tt1872026                                         Cure   \n",
       "7211  tt1880418                                    Newlyweds   \n",
       "7216  tt7837402                                       Red 11   \n",
       "7219  tt2107644                         A Plague So Pleasant   \n",
       "\n",
       "                                   original_title  start_year  \\\n",
       "0                                           Abatâ      2011.0   \n",
       "1     Pirates of the Caribbean: On Stranger Tides      2011.0   \n",
       "2                                    Dark Phoenix      2019.0   \n",
       "3                         Avengers: Age of Ultron      2015.0   \n",
       "6                          Avengers: Infinity War      2018.0   \n",
       "...                                           ...         ...   \n",
       "7204                                        Clean      2017.0   \n",
       "7205                                         Cure      2011.0   \n",
       "7211                                    Newlyweds      2011.0   \n",
       "7216                                       Red 11      2019.0   \n",
       "7219                         A Plague So Pleasant      2013.0   \n",
       "\n",
       "      runtime_minutes                    genres  id  release_date  \\\n",
       "0                93.0                    Horror   1  Dec 18, 2009   \n",
       "1               136.0  Action,Adventure,Fantasy   2  May 20, 2011   \n",
       "2               113.0   Action,Adventure,Sci-Fi   3   Jun 7, 2019   \n",
       "3               141.0   Action,Adventure,Sci-Fi   4   May 1, 2015   \n",
       "6               149.0   Action,Adventure,Sci-Fi   7  Apr 27, 2018   \n",
       "...               ...                       ...  ..           ...   \n",
       "7204             70.0       Comedy,Drama,Horror  67  Apr 28, 2006   \n",
       "7205             93.0                     Drama  68   Jul 6, 2001   \n",
       "7211             95.0              Comedy,Drama  73  Jan 13, 2012   \n",
       "7216             77.0    Horror,Sci-Fi,Thriller  78  Dec 31, 2018   \n",
       "7219             76.0     Drama,Horror,Thriller  81  Sep 29, 2015   \n",
       "\n",
       "                                            movie production_budget  \\\n",
       "0                                          Avatar      $425,000,000   \n",
       "1     Pirates of the Caribbean: On Stranger Tides      $410,600,000   \n",
       "2                                    Dark Phoenix      $350,000,000   \n",
       "3                         Avengers: Age of Ultron      $330,600,000   \n",
       "6                          Avengers: Infinity War      $300,000,000   \n",
       "...                                           ...               ...   \n",
       "7204                                        Clean           $10,000   \n",
       "7205                                         Cure           $10,000   \n",
       "7211                                    Newlyweds            $9,000   \n",
       "7216                                       Red 11            $7,000   \n",
       "7219                         A Plague So Pleasant            $1,400   \n",
       "\n",
       "     domestic_gross worldwide_gross  \n",
       "0      $760,507,625  $2,776,345,279  \n",
       "1      $241,063,875  $1,045,663,875  \n",
       "2       $42,762,350    $149,762,350  \n",
       "3      $459,005,868  $1,403,013,963  \n",
       "6      $678,815,482  $2,048,134,200  \n",
       "...             ...             ...  \n",
       "7204       $138,711        $138,711  \n",
       "7205        $94,596         $94,596  \n",
       "7211         $4,584          $4,584  \n",
       "7216             $0              $0  \n",
       "7219             $0              $0  \n",
       "\n",
       "[3309 rows x 12 columns]"
      ]
     },
     "execution_count": 122,
     "metadata": {},
     "output_type": "execute_result"
    }
   ],
   "source": [
    "budget_tconst.dropna()"
   ]
  },
  {
   "cell_type": "code",
   "execution_count": 123,
   "metadata": {
    "ExecuteTime": {
     "end_time": "2021-04-30T17:02:20.224650Z",
     "start_time": "2021-04-30T17:02:20.209638Z"
    }
   },
   "outputs": [],
   "source": [
    "#Joining this table with the ratings table via the tconst column."
   ]
  },
  {
   "cell_type": "code",
   "execution_count": 124,
   "metadata": {
    "ExecuteTime": {
     "end_time": "2021-04-30T17:02:20.256679Z",
     "start_time": "2021-04-30T17:02:20.225651Z"
    }
   },
   "outputs": [],
   "source": [
    "df = pd.merge(budget_tconst,  imdb_ratings_df, on=['tconst'])"
   ]
  },
  {
   "cell_type": "code",
   "execution_count": 125,
   "metadata": {
    "ExecuteTime": {
     "end_time": "2021-04-30T17:02:20.272694Z",
     "start_time": "2021-04-30T17:02:20.257680Z"
    }
   },
   "outputs": [
    {
     "data": {
      "text/html": [
       "<div>\n",
       "<style scoped>\n",
       "    .dataframe tbody tr th:only-of-type {\n",
       "        vertical-align: middle;\n",
       "    }\n",
       "\n",
       "    .dataframe tbody tr th {\n",
       "        vertical-align: top;\n",
       "    }\n",
       "\n",
       "    .dataframe thead th {\n",
       "        text-align: right;\n",
       "    }\n",
       "</style>\n",
       "<table border=\"1\" class=\"dataframe\">\n",
       "  <thead>\n",
       "    <tr style=\"text-align: right;\">\n",
       "      <th></th>\n",
       "      <th>tconst</th>\n",
       "      <th>primary_title</th>\n",
       "      <th>original_title</th>\n",
       "      <th>start_year</th>\n",
       "      <th>runtime_minutes</th>\n",
       "      <th>genres</th>\n",
       "      <th>id</th>\n",
       "      <th>release_date</th>\n",
       "      <th>movie</th>\n",
       "      <th>production_budget</th>\n",
       "      <th>domestic_gross</th>\n",
       "      <th>worldwide_gross</th>\n",
       "      <th>averagerating</th>\n",
       "      <th>numvotes</th>\n",
       "    </tr>\n",
       "  </thead>\n",
       "  <tbody>\n",
       "    <tr>\n",
       "      <th>0</th>\n",
       "      <td>tt1775309</td>\n",
       "      <td>Avatar</td>\n",
       "      <td>Abatâ</td>\n",
       "      <td>2011.0</td>\n",
       "      <td>93.0</td>\n",
       "      <td>Horror</td>\n",
       "      <td>1</td>\n",
       "      <td>Dec 18, 2009</td>\n",
       "      <td>Avatar</td>\n",
       "      <td>$425,000,000</td>\n",
       "      <td>$760,507,625</td>\n",
       "      <td>$2,776,345,279</td>\n",
       "      <td>6.1</td>\n",
       "      <td>43</td>\n",
       "    </tr>\n",
       "    <tr>\n",
       "      <th>1</th>\n",
       "      <td>tt1298650</td>\n",
       "      <td>Pirates of the Caribbean: On Stranger Tides</td>\n",
       "      <td>Pirates of the Caribbean: On Stranger Tides</td>\n",
       "      <td>2011.0</td>\n",
       "      <td>136.0</td>\n",
       "      <td>Action,Adventure,Fantasy</td>\n",
       "      <td>2</td>\n",
       "      <td>May 20, 2011</td>\n",
       "      <td>Pirates of the Caribbean: On Stranger Tides</td>\n",
       "      <td>$410,600,000</td>\n",
       "      <td>$241,063,875</td>\n",
       "      <td>$1,045,663,875</td>\n",
       "      <td>6.6</td>\n",
       "      <td>447624</td>\n",
       "    </tr>\n",
       "    <tr>\n",
       "      <th>2</th>\n",
       "      <td>tt6565702</td>\n",
       "      <td>Dark Phoenix</td>\n",
       "      <td>Dark Phoenix</td>\n",
       "      <td>2019.0</td>\n",
       "      <td>113.0</td>\n",
       "      <td>Action,Adventure,Sci-Fi</td>\n",
       "      <td>3</td>\n",
       "      <td>Jun 7, 2019</td>\n",
       "      <td>Dark Phoenix</td>\n",
       "      <td>$350,000,000</td>\n",
       "      <td>$42,762,350</td>\n",
       "      <td>$149,762,350</td>\n",
       "      <td>6.0</td>\n",
       "      <td>24451</td>\n",
       "    </tr>\n",
       "    <tr>\n",
       "      <th>3</th>\n",
       "      <td>tt2395427</td>\n",
       "      <td>Avengers: Age of Ultron</td>\n",
       "      <td>Avengers: Age of Ultron</td>\n",
       "      <td>2015.0</td>\n",
       "      <td>141.0</td>\n",
       "      <td>Action,Adventure,Sci-Fi</td>\n",
       "      <td>4</td>\n",
       "      <td>May 1, 2015</td>\n",
       "      <td>Avengers: Age of Ultron</td>\n",
       "      <td>$330,600,000</td>\n",
       "      <td>$459,005,868</td>\n",
       "      <td>$1,403,013,963</td>\n",
       "      <td>7.3</td>\n",
       "      <td>665594</td>\n",
       "    </tr>\n",
       "    <tr>\n",
       "      <th>4</th>\n",
       "      <td>tt4154756</td>\n",
       "      <td>Avengers: Infinity War</td>\n",
       "      <td>Avengers: Infinity War</td>\n",
       "      <td>2018.0</td>\n",
       "      <td>149.0</td>\n",
       "      <td>Action,Adventure,Sci-Fi</td>\n",
       "      <td>7</td>\n",
       "      <td>Apr 27, 2018</td>\n",
       "      <td>Avengers: Infinity War</td>\n",
       "      <td>$300,000,000</td>\n",
       "      <td>$678,815,482</td>\n",
       "      <td>$2,048,134,200</td>\n",
       "      <td>8.5</td>\n",
       "      <td>670926</td>\n",
       "    </tr>\n",
       "  </tbody>\n",
       "</table>\n",
       "</div>"
      ],
      "text/plain": [
       "      tconst                                primary_title  \\\n",
       "0  tt1775309                                       Avatar   \n",
       "1  tt1298650  Pirates of the Caribbean: On Stranger Tides   \n",
       "2  tt6565702                                 Dark Phoenix   \n",
       "3  tt2395427                      Avengers: Age of Ultron   \n",
       "4  tt4154756                       Avengers: Infinity War   \n",
       "\n",
       "                                original_title  start_year  runtime_minutes  \\\n",
       "0                                        Abatâ      2011.0             93.0   \n",
       "1  Pirates of the Caribbean: On Stranger Tides      2011.0            136.0   \n",
       "2                                 Dark Phoenix      2019.0            113.0   \n",
       "3                      Avengers: Age of Ultron      2015.0            141.0   \n",
       "4                       Avengers: Infinity War      2018.0            149.0   \n",
       "\n",
       "                     genres  id  release_date  \\\n",
       "0                    Horror   1  Dec 18, 2009   \n",
       "1  Action,Adventure,Fantasy   2  May 20, 2011   \n",
       "2   Action,Adventure,Sci-Fi   3   Jun 7, 2019   \n",
       "3   Action,Adventure,Sci-Fi   4   May 1, 2015   \n",
       "4   Action,Adventure,Sci-Fi   7  Apr 27, 2018   \n",
       "\n",
       "                                         movie production_budget  \\\n",
       "0                                       Avatar      $425,000,000   \n",
       "1  Pirates of the Caribbean: On Stranger Tides      $410,600,000   \n",
       "2                                 Dark Phoenix      $350,000,000   \n",
       "3                      Avengers: Age of Ultron      $330,600,000   \n",
       "4                       Avengers: Infinity War      $300,000,000   \n",
       "\n",
       "  domestic_gross worldwide_gross  averagerating  numvotes  \n",
       "0   $760,507,625  $2,776,345,279            6.1        43  \n",
       "1   $241,063,875  $1,045,663,875            6.6    447624  \n",
       "2    $42,762,350    $149,762,350            6.0     24451  \n",
       "3   $459,005,868  $1,403,013,963            7.3    665594  \n",
       "4   $678,815,482  $2,048,134,200            8.5    670926  "
      ]
     },
     "execution_count": 125,
     "metadata": {},
     "output_type": "execute_result"
    }
   ],
   "source": [
    "df.head()"
   ]
  },
  {
   "cell_type": "code",
   "execution_count": 126,
   "metadata": {
    "ExecuteTime": {
     "end_time": "2021-04-30T17:02:20.352767Z",
     "start_time": "2021-04-30T17:02:20.273695Z"
    }
   },
   "outputs": [],
   "source": [
    "project1_df = pd.merge(df, name_basics_df, on=['tconst'])"
   ]
  },
  {
   "cell_type": "code",
   "execution_count": 127,
   "metadata": {
    "ExecuteTime": {
     "end_time": "2021-04-30T17:02:20.368781Z",
     "start_time": "2021-04-30T17:02:20.353768Z"
    }
   },
   "outputs": [
    {
     "data": {
      "text/html": [
       "<div>\n",
       "<style scoped>\n",
       "    .dataframe tbody tr th:only-of-type {\n",
       "        vertical-align: middle;\n",
       "    }\n",
       "\n",
       "    .dataframe tbody tr th {\n",
       "        vertical-align: top;\n",
       "    }\n",
       "\n",
       "    .dataframe thead th {\n",
       "        text-align: right;\n",
       "    }\n",
       "</style>\n",
       "<table border=\"1\" class=\"dataframe\">\n",
       "  <thead>\n",
       "    <tr style=\"text-align: right;\">\n",
       "      <th></th>\n",
       "      <th>tconst</th>\n",
       "      <th>primary_title</th>\n",
       "      <th>original_title</th>\n",
       "      <th>start_year</th>\n",
       "      <th>runtime_minutes</th>\n",
       "      <th>genres</th>\n",
       "      <th>id</th>\n",
       "      <th>release_date</th>\n",
       "      <th>movie</th>\n",
       "      <th>production_budget</th>\n",
       "      <th>domestic_gross</th>\n",
       "      <th>worldwide_gross</th>\n",
       "      <th>averagerating</th>\n",
       "      <th>numvotes</th>\n",
       "      <th>nconst</th>\n",
       "      <th>primary_name</th>\n",
       "      <th>birth_year</th>\n",
       "      <th>primary_profession</th>\n",
       "    </tr>\n",
       "  </thead>\n",
       "  <tbody>\n",
       "    <tr>\n",
       "      <th>0</th>\n",
       "      <td>tt1298650</td>\n",
       "      <td>Pirates of the Caribbean: On Stranger Tides</td>\n",
       "      <td>Pirates of the Caribbean: On Stranger Tides</td>\n",
       "      <td>2011.0</td>\n",
       "      <td>136.0</td>\n",
       "      <td>Action,Adventure,Fantasy</td>\n",
       "      <td>2</td>\n",
       "      <td>May 20, 2011</td>\n",
       "      <td>Pirates of the Caribbean: On Stranger Tides</td>\n",
       "      <td>$410,600,000</td>\n",
       "      <td>$241,063,875</td>\n",
       "      <td>$1,045,663,875</td>\n",
       "      <td>6.6</td>\n",
       "      <td>447624</td>\n",
       "      <td>nm0004851</td>\n",
       "      <td>Penélope Cruz</td>\n",
       "      <td>1974.0</td>\n",
       "      <td>actress</td>\n",
       "    </tr>\n",
       "    <tr>\n",
       "      <th>1</th>\n",
       "      <td>tt1298650</td>\n",
       "      <td>Pirates of the Caribbean: On Stranger Tides</td>\n",
       "      <td>Pirates of the Caribbean: On Stranger Tides</td>\n",
       "      <td>2011.0</td>\n",
       "      <td>136.0</td>\n",
       "      <td>Action,Adventure,Fantasy</td>\n",
       "      <td>2</td>\n",
       "      <td>May 20, 2011</td>\n",
       "      <td>Pirates of the Caribbean: On Stranger Tides</td>\n",
       "      <td>$410,600,000</td>\n",
       "      <td>$241,063,875</td>\n",
       "      <td>$1,045,663,875</td>\n",
       "      <td>6.6</td>\n",
       "      <td>447624</td>\n",
       "      <td>nm0046087</td>\n",
       "      <td>Jennifer Badger</td>\n",
       "      <td>1976.0</td>\n",
       "      <td>stunts</td>\n",
       "    </tr>\n",
       "    <tr>\n",
       "      <th>2</th>\n",
       "      <td>tt1298650</td>\n",
       "      <td>Pirates of the Caribbean: On Stranger Tides</td>\n",
       "      <td>Pirates of the Caribbean: On Stranger Tides</td>\n",
       "      <td>2011.0</td>\n",
       "      <td>136.0</td>\n",
       "      <td>Action,Adventure,Fantasy</td>\n",
       "      <td>2</td>\n",
       "      <td>May 20, 2011</td>\n",
       "      <td>Pirates of the Caribbean: On Stranger Tides</td>\n",
       "      <td>$410,600,000</td>\n",
       "      <td>$241,063,875</td>\n",
       "      <td>$1,045,663,875</td>\n",
       "      <td>6.6</td>\n",
       "      <td>447624</td>\n",
       "      <td>nm0263740</td>\n",
       "      <td>Steve Evets</td>\n",
       "      <td>1960.0</td>\n",
       "      <td>actor</td>\n",
       "    </tr>\n",
       "    <tr>\n",
       "      <th>3</th>\n",
       "      <td>tt1298650</td>\n",
       "      <td>Pirates of the Caribbean: On Stranger Tides</td>\n",
       "      <td>Pirates of the Caribbean: On Stranger Tides</td>\n",
       "      <td>2011.0</td>\n",
       "      <td>136.0</td>\n",
       "      <td>Action,Adventure,Fantasy</td>\n",
       "      <td>2</td>\n",
       "      <td>May 20, 2011</td>\n",
       "      <td>Pirates of the Caribbean: On Stranger Tides</td>\n",
       "      <td>$410,600,000</td>\n",
       "      <td>$241,063,875</td>\n",
       "      <td>$1,045,663,875</td>\n",
       "      <td>6.6</td>\n",
       "      <td>447624</td>\n",
       "      <td>nm0273797</td>\n",
       "      <td>Sebastian Armesto</td>\n",
       "      <td>1982.0</td>\n",
       "      <td>assistant_director</td>\n",
       "    </tr>\n",
       "    <tr>\n",
       "      <th>4</th>\n",
       "      <td>tt1298650</td>\n",
       "      <td>Pirates of the Caribbean: On Stranger Tides</td>\n",
       "      <td>Pirates of the Caribbean: On Stranger Tides</td>\n",
       "      <td>2011.0</td>\n",
       "      <td>136.0</td>\n",
       "      <td>Action,Adventure,Fantasy</td>\n",
       "      <td>2</td>\n",
       "      <td>May 20, 2011</td>\n",
       "      <td>Pirates of the Caribbean: On Stranger Tides</td>\n",
       "      <td>$410,600,000</td>\n",
       "      <td>$241,063,875</td>\n",
       "      <td>$1,045,663,875</td>\n",
       "      <td>6.6</td>\n",
       "      <td>447624</td>\n",
       "      <td>nm0573618</td>\n",
       "      <td>Kevin McNally</td>\n",
       "      <td>1956.0</td>\n",
       "      <td>actor</td>\n",
       "    </tr>\n",
       "  </tbody>\n",
       "</table>\n",
       "</div>"
      ],
      "text/plain": [
       "      tconst                                primary_title  \\\n",
       "0  tt1298650  Pirates of the Caribbean: On Stranger Tides   \n",
       "1  tt1298650  Pirates of the Caribbean: On Stranger Tides   \n",
       "2  tt1298650  Pirates of the Caribbean: On Stranger Tides   \n",
       "3  tt1298650  Pirates of the Caribbean: On Stranger Tides   \n",
       "4  tt1298650  Pirates of the Caribbean: On Stranger Tides   \n",
       "\n",
       "                                original_title  start_year  runtime_minutes  \\\n",
       "0  Pirates of the Caribbean: On Stranger Tides      2011.0            136.0   \n",
       "1  Pirates of the Caribbean: On Stranger Tides      2011.0            136.0   \n",
       "2  Pirates of the Caribbean: On Stranger Tides      2011.0            136.0   \n",
       "3  Pirates of the Caribbean: On Stranger Tides      2011.0            136.0   \n",
       "4  Pirates of the Caribbean: On Stranger Tides      2011.0            136.0   \n",
       "\n",
       "                     genres  id  release_date  \\\n",
       "0  Action,Adventure,Fantasy   2  May 20, 2011   \n",
       "1  Action,Adventure,Fantasy   2  May 20, 2011   \n",
       "2  Action,Adventure,Fantasy   2  May 20, 2011   \n",
       "3  Action,Adventure,Fantasy   2  May 20, 2011   \n",
       "4  Action,Adventure,Fantasy   2  May 20, 2011   \n",
       "\n",
       "                                         movie production_budget  \\\n",
       "0  Pirates of the Caribbean: On Stranger Tides      $410,600,000   \n",
       "1  Pirates of the Caribbean: On Stranger Tides      $410,600,000   \n",
       "2  Pirates of the Caribbean: On Stranger Tides      $410,600,000   \n",
       "3  Pirates of the Caribbean: On Stranger Tides      $410,600,000   \n",
       "4  Pirates of the Caribbean: On Stranger Tides      $410,600,000   \n",
       "\n",
       "  domestic_gross worldwide_gross  averagerating  numvotes     nconst  \\\n",
       "0   $241,063,875  $1,045,663,875            6.6    447624  nm0004851   \n",
       "1   $241,063,875  $1,045,663,875            6.6    447624  nm0046087   \n",
       "2   $241,063,875  $1,045,663,875            6.6    447624  nm0263740   \n",
       "3   $241,063,875  $1,045,663,875            6.6    447624  nm0273797   \n",
       "4   $241,063,875  $1,045,663,875            6.6    447624  nm0573618   \n",
       "\n",
       "        primary_name  birth_year  primary_profession  \n",
       "0      Penélope Cruz      1974.0             actress  \n",
       "1    Jennifer Badger      1976.0              stunts  \n",
       "2        Steve Evets      1960.0               actor  \n",
       "3  Sebastian Armesto      1982.0  assistant_director  \n",
       "4      Kevin McNally      1956.0               actor  "
      ]
     },
     "execution_count": 127,
     "metadata": {},
     "output_type": "execute_result"
    }
   ],
   "source": [
    "project1_df.head()"
   ]
  },
  {
   "cell_type": "code",
   "execution_count": 128,
   "metadata": {
    "ExecuteTime": {
     "end_time": "2021-04-30T17:02:20.384796Z",
     "start_time": "2021-04-30T17:02:20.369782Z"
    }
   },
   "outputs": [
    {
     "data": {
      "text/plain": [
       "(10992, 18)"
      ]
     },
     "execution_count": 128,
     "metadata": {},
     "output_type": "execute_result"
    }
   ],
   "source": [
    "project1_df.shape"
   ]
  },
  {
   "cell_type": "code",
   "execution_count": null,
   "metadata": {},
   "outputs": [],
   "source": []
  },
  {
   "cell_type": "code",
   "execution_count": null,
   "metadata": {},
   "outputs": [],
   "source": []
  },
  {
   "cell_type": "code",
   "execution_count": null,
   "metadata": {},
   "outputs": [],
   "source": []
  },
  {
   "cell_type": "code",
   "execution_count": null,
   "metadata": {},
   "outputs": [],
   "source": []
  },
  {
   "cell_type": "markdown",
   "metadata": {},
   "source": [
    "## Missing Values"
   ]
  },
  {
   "cell_type": "code",
   "execution_count": 129,
   "metadata": {
    "ExecuteTime": {
     "end_time": "2021-04-30T17:02:20.400810Z",
     "start_time": "2021-04-30T17:02:20.385796Z"
    }
   },
   "outputs": [],
   "source": [
    "#Checking for NaN values."
   ]
  },
  {
   "cell_type": "code",
   "execution_count": 130,
   "metadata": {
    "ExecuteTime": {
     "end_time": "2021-04-30T17:02:20.416825Z",
     "start_time": "2021-04-30T17:02:20.401811Z"
    }
   },
   "outputs": [
    {
     "data": {
      "text/plain": [
       "tconst                 0\n",
       "primary_title          0\n",
       "original_title         0\n",
       "start_year             0\n",
       "runtime_minutes       32\n",
       "genres                 2\n",
       "id                     0\n",
       "release_date           0\n",
       "movie                  0\n",
       "production_budget      0\n",
       "domestic_gross         0\n",
       "worldwide_gross        0\n",
       "averagerating          0\n",
       "numvotes               0\n",
       "nconst                 0\n",
       "primary_name           0\n",
       "birth_year             0\n",
       "primary_profession     0\n",
       "dtype: int64"
      ]
     },
     "execution_count": 130,
     "metadata": {},
     "output_type": "execute_result"
    }
   ],
   "source": [
    "project1_df.isna().sum()"
   ]
  },
  {
   "cell_type": "code",
   "execution_count": 131,
   "metadata": {
    "ExecuteTime": {
     "end_time": "2021-04-30T17:02:20.432839Z",
     "start_time": "2021-04-30T17:02:20.417826Z"
    }
   },
   "outputs": [],
   "source": [
    "#Again dropping those values"
   ]
  },
  {
   "cell_type": "code",
   "execution_count": 132,
   "metadata": {
    "ExecuteTime": {
     "end_time": "2021-04-30T17:02:20.448854Z",
     "start_time": "2021-04-30T17:02:20.433841Z"
    }
   },
   "outputs": [],
   "source": [
    "project1_df = project1_df.dropna()"
   ]
  },
  {
   "cell_type": "code",
   "execution_count": 133,
   "metadata": {
    "ExecuteTime": {
     "end_time": "2021-04-30T17:02:20.464869Z",
     "start_time": "2021-04-30T17:02:20.449855Z"
    }
   },
   "outputs": [
    {
     "data": {
      "text/plain": [
       "tconst                0\n",
       "primary_title         0\n",
       "original_title        0\n",
       "start_year            0\n",
       "runtime_minutes       0\n",
       "genres                0\n",
       "id                    0\n",
       "release_date          0\n",
       "movie                 0\n",
       "production_budget     0\n",
       "domestic_gross        0\n",
       "worldwide_gross       0\n",
       "averagerating         0\n",
       "numvotes              0\n",
       "nconst                0\n",
       "primary_name          0\n",
       "birth_year            0\n",
       "primary_profession    0\n",
       "dtype: int64"
      ]
     },
     "execution_count": 133,
     "metadata": {},
     "output_type": "execute_result"
    }
   ],
   "source": [
    "project1_df.isna().sum()"
   ]
  },
  {
   "cell_type": "code",
   "execution_count": 134,
   "metadata": {
    "ExecuteTime": {
     "end_time": "2021-04-30T17:02:20.480974Z",
     "start_time": "2021-04-30T17:02:20.465869Z"
    }
   },
   "outputs": [],
   "source": [
    "#Nan values gone, checking for types on columns that should be integers."
   ]
  },
  {
   "cell_type": "code",
   "execution_count": 135,
   "metadata": {
    "ExecuteTime": {
     "end_time": "2021-04-30T17:02:20.496989Z",
     "start_time": "2021-04-30T17:02:20.481975Z"
    }
   },
   "outputs": [
    {
     "name": "stdout",
     "output_type": "stream",
     "text": [
      "<class 'pandas.core.frame.DataFrame'>\n",
      "Int64Index: 10958 entries, 0 to 10991\n",
      "Data columns (total 18 columns):\n",
      " #   Column              Non-Null Count  Dtype  \n",
      "---  ------              --------------  -----  \n",
      " 0   tconst              10958 non-null  object \n",
      " 1   primary_title       10958 non-null  object \n",
      " 2   original_title      10958 non-null  object \n",
      " 3   start_year          10958 non-null  float64\n",
      " 4   runtime_minutes     10958 non-null  float64\n",
      " 5   genres              10958 non-null  object \n",
      " 6   id                  10958 non-null  int64  \n",
      " 7   release_date        10958 non-null  object \n",
      " 8   movie               10958 non-null  object \n",
      " 9   production_budget   10958 non-null  object \n",
      " 10  domestic_gross      10958 non-null  object \n",
      " 11  worldwide_gross     10958 non-null  object \n",
      " 12  averagerating       10958 non-null  float64\n",
      " 13  numvotes            10958 non-null  int64  \n",
      " 14  nconst              10958 non-null  object \n",
      " 15  primary_name        10958 non-null  object \n",
      " 16  birth_year          10958 non-null  float64\n",
      " 17  primary_profession  10958 non-null  object \n",
      "dtypes: float64(4), int64(2), object(12)\n",
      "memory usage: 1.6+ MB\n"
     ]
    }
   ],
   "source": [
    "project1_df.info()"
   ]
  },
  {
   "cell_type": "code",
   "execution_count": 136,
   "metadata": {
    "ExecuteTime": {
     "end_time": "2021-04-30T17:02:20.513002Z",
     "start_time": "2021-04-30T17:02:20.497990Z"
    }
   },
   "outputs": [
    {
     "data": {
      "text/plain": [
       "(10958, 18)"
      ]
     },
     "execution_count": 136,
     "metadata": {},
     "output_type": "execute_result"
    }
   ],
   "source": [
    "project1_df.shape"
   ]
  },
  {
   "cell_type": "code",
   "execution_count": 137,
   "metadata": {
    "ExecuteTime": {
     "end_time": "2021-04-30T17:02:20.529017Z",
     "start_time": "2021-04-30T17:02:20.514004Z"
    },
    "scrolled": true
   },
   "outputs": [],
   "source": [
    "#Conversion to integers:"
   ]
  },
  {
   "cell_type": "code",
   "execution_count": null,
   "metadata": {},
   "outputs": [],
   "source": []
  },
  {
   "cell_type": "code",
   "execution_count": 138,
   "metadata": {
    "ExecuteTime": {
     "end_time": "2021-04-30T17:02:20.545032Z",
     "start_time": "2021-04-30T17:02:20.530018Z"
    }
   },
   "outputs": [],
   "source": [
    "def column_conversion(df, col):\n",
    "    df[col] = df[col].str.replace(\"$\",\"\").str.replace(\",\",\"\").astype('int64')\n",
    "    return df"
   ]
  },
  {
   "cell_type": "code",
   "execution_count": 139,
   "metadata": {
    "ExecuteTime": {
     "end_time": "2021-04-30T17:02:20.577061Z",
     "start_time": "2021-04-30T17:02:20.546034Z"
    }
   },
   "outputs": [],
   "source": [
    "column_to_convert = ['production_budget','domestic_gross','worldwide_gross']\n",
    "\n",
    "for col in column_to_convert:\n",
    "    project1_df = column_conversion(project1_df, col)"
   ]
  },
  {
   "cell_type": "code",
   "execution_count": 140,
   "metadata": {
    "ExecuteTime": {
     "end_time": "2021-04-30T17:02:20.593076Z",
     "start_time": "2021-04-30T17:02:20.578062Z"
    }
   },
   "outputs": [],
   "source": [
    "#More cleaning..."
   ]
  },
  {
   "cell_type": "code",
   "execution_count": 141,
   "metadata": {
    "ExecuteTime": {
     "end_time": "2021-04-30T17:02:20.625104Z",
     "start_time": "2021-04-30T17:02:20.594076Z"
    }
   },
   "outputs": [
    {
     "data": {
      "text/html": [
       "<div>\n",
       "<style scoped>\n",
       "    .dataframe tbody tr th:only-of-type {\n",
       "        vertical-align: middle;\n",
       "    }\n",
       "\n",
       "    .dataframe tbody tr th {\n",
       "        vertical-align: top;\n",
       "    }\n",
       "\n",
       "    .dataframe thead th {\n",
       "        text-align: right;\n",
       "    }\n",
       "</style>\n",
       "<table border=\"1\" class=\"dataframe\">\n",
       "  <thead>\n",
       "    <tr style=\"text-align: right;\">\n",
       "      <th></th>\n",
       "      <th>tconst</th>\n",
       "      <th>primary_title</th>\n",
       "      <th>original_title</th>\n",
       "      <th>start_year</th>\n",
       "      <th>runtime_minutes</th>\n",
       "      <th>genres</th>\n",
       "      <th>id</th>\n",
       "      <th>release_date</th>\n",
       "      <th>movie</th>\n",
       "      <th>production_budget</th>\n",
       "      <th>domestic_gross</th>\n",
       "      <th>worldwide_gross</th>\n",
       "      <th>averagerating</th>\n",
       "      <th>numvotes</th>\n",
       "      <th>nconst</th>\n",
       "      <th>primary_name</th>\n",
       "      <th>birth_year</th>\n",
       "      <th>primary_profession</th>\n",
       "    </tr>\n",
       "  </thead>\n",
       "  <tbody>\n",
       "    <tr>\n",
       "      <th>0</th>\n",
       "      <td>tt1298650</td>\n",
       "      <td>Pirates of the Caribbean: On Stranger Tides</td>\n",
       "      <td>Pirates of the Caribbean: On Stranger Tides</td>\n",
       "      <td>2011.0</td>\n",
       "      <td>136.0</td>\n",
       "      <td>Action,Adventure,Fantasy</td>\n",
       "      <td>2</td>\n",
       "      <td>May 20, 2011</td>\n",
       "      <td>Pirates of the Caribbean: On Stranger Tides</td>\n",
       "      <td>410600000</td>\n",
       "      <td>241063875</td>\n",
       "      <td>1045663875</td>\n",
       "      <td>6.6</td>\n",
       "      <td>447624</td>\n",
       "      <td>nm0004851</td>\n",
       "      <td>Penélope Cruz</td>\n",
       "      <td>1974.0</td>\n",
       "      <td>actress</td>\n",
       "    </tr>\n",
       "    <tr>\n",
       "      <th>1</th>\n",
       "      <td>tt1298650</td>\n",
       "      <td>Pirates of the Caribbean: On Stranger Tides</td>\n",
       "      <td>Pirates of the Caribbean: On Stranger Tides</td>\n",
       "      <td>2011.0</td>\n",
       "      <td>136.0</td>\n",
       "      <td>Action,Adventure,Fantasy</td>\n",
       "      <td>2</td>\n",
       "      <td>May 20, 2011</td>\n",
       "      <td>Pirates of the Caribbean: On Stranger Tides</td>\n",
       "      <td>410600000</td>\n",
       "      <td>241063875</td>\n",
       "      <td>1045663875</td>\n",
       "      <td>6.6</td>\n",
       "      <td>447624</td>\n",
       "      <td>nm0046087</td>\n",
       "      <td>Jennifer Badger</td>\n",
       "      <td>1976.0</td>\n",
       "      <td>stunts</td>\n",
       "    </tr>\n",
       "    <tr>\n",
       "      <th>2</th>\n",
       "      <td>tt1298650</td>\n",
       "      <td>Pirates of the Caribbean: On Stranger Tides</td>\n",
       "      <td>Pirates of the Caribbean: On Stranger Tides</td>\n",
       "      <td>2011.0</td>\n",
       "      <td>136.0</td>\n",
       "      <td>Action,Adventure,Fantasy</td>\n",
       "      <td>2</td>\n",
       "      <td>May 20, 2011</td>\n",
       "      <td>Pirates of the Caribbean: On Stranger Tides</td>\n",
       "      <td>410600000</td>\n",
       "      <td>241063875</td>\n",
       "      <td>1045663875</td>\n",
       "      <td>6.6</td>\n",
       "      <td>447624</td>\n",
       "      <td>nm0263740</td>\n",
       "      <td>Steve Evets</td>\n",
       "      <td>1960.0</td>\n",
       "      <td>actor</td>\n",
       "    </tr>\n",
       "    <tr>\n",
       "      <th>3</th>\n",
       "      <td>tt1298650</td>\n",
       "      <td>Pirates of the Caribbean: On Stranger Tides</td>\n",
       "      <td>Pirates of the Caribbean: On Stranger Tides</td>\n",
       "      <td>2011.0</td>\n",
       "      <td>136.0</td>\n",
       "      <td>Action,Adventure,Fantasy</td>\n",
       "      <td>2</td>\n",
       "      <td>May 20, 2011</td>\n",
       "      <td>Pirates of the Caribbean: On Stranger Tides</td>\n",
       "      <td>410600000</td>\n",
       "      <td>241063875</td>\n",
       "      <td>1045663875</td>\n",
       "      <td>6.6</td>\n",
       "      <td>447624</td>\n",
       "      <td>nm0273797</td>\n",
       "      <td>Sebastian Armesto</td>\n",
       "      <td>1982.0</td>\n",
       "      <td>assistant_director</td>\n",
       "    </tr>\n",
       "    <tr>\n",
       "      <th>4</th>\n",
       "      <td>tt1298650</td>\n",
       "      <td>Pirates of the Caribbean: On Stranger Tides</td>\n",
       "      <td>Pirates of the Caribbean: On Stranger Tides</td>\n",
       "      <td>2011.0</td>\n",
       "      <td>136.0</td>\n",
       "      <td>Action,Adventure,Fantasy</td>\n",
       "      <td>2</td>\n",
       "      <td>May 20, 2011</td>\n",
       "      <td>Pirates of the Caribbean: On Stranger Tides</td>\n",
       "      <td>410600000</td>\n",
       "      <td>241063875</td>\n",
       "      <td>1045663875</td>\n",
       "      <td>6.6</td>\n",
       "      <td>447624</td>\n",
       "      <td>nm0573618</td>\n",
       "      <td>Kevin McNally</td>\n",
       "      <td>1956.0</td>\n",
       "      <td>actor</td>\n",
       "    </tr>\n",
       "    <tr>\n",
       "      <th>...</th>\n",
       "      <td>...</td>\n",
       "      <td>...</td>\n",
       "      <td>...</td>\n",
       "      <td>...</td>\n",
       "      <td>...</td>\n",
       "      <td>...</td>\n",
       "      <td>...</td>\n",
       "      <td>...</td>\n",
       "      <td>...</td>\n",
       "      <td>...</td>\n",
       "      <td>...</td>\n",
       "      <td>...</td>\n",
       "      <td>...</td>\n",
       "      <td>...</td>\n",
       "      <td>...</td>\n",
       "      <td>...</td>\n",
       "      <td>...</td>\n",
       "      <td>...</td>\n",
       "    </tr>\n",
       "    <tr>\n",
       "      <th>10987</th>\n",
       "      <td>tt1716760</td>\n",
       "      <td>Raymond Did It</td>\n",
       "      <td>Raymond Did It</td>\n",
       "      <td>2011.0</td>\n",
       "      <td>83.0</td>\n",
       "      <td>Horror</td>\n",
       "      <td>32</td>\n",
       "      <td>Feb 11, 2011</td>\n",
       "      <td>Raymond Did It</td>\n",
       "      <td>40000</td>\n",
       "      <td>3632</td>\n",
       "      <td>3632</td>\n",
       "      <td>3.3</td>\n",
       "      <td>211</td>\n",
       "      <td>nm3171405</td>\n",
       "      <td>Robert J. Williams</td>\n",
       "      <td>1986.0</td>\n",
       "      <td>editor</td>\n",
       "    </tr>\n",
       "    <tr>\n",
       "      <th>10988</th>\n",
       "      <td>tt1492841</td>\n",
       "      <td>Foreign Letters</td>\n",
       "      <td>Foreign Letters</td>\n",
       "      <td>2012.0</td>\n",
       "      <td>99.0</td>\n",
       "      <td>Comedy,Drama</td>\n",
       "      <td>33</td>\n",
       "      <td>Mar 31, 2012</td>\n",
       "      <td>Foreign Letters</td>\n",
       "      <td>40000</td>\n",
       "      <td>0</td>\n",
       "      <td>0</td>\n",
       "      <td>6.9</td>\n",
       "      <td>180</td>\n",
       "      <td>nm0858008</td>\n",
       "      <td>Ela Thier</td>\n",
       "      <td>1971.0</td>\n",
       "      <td>writer</td>\n",
       "    </tr>\n",
       "    <tr>\n",
       "      <th>10989</th>\n",
       "      <td>tt1945044</td>\n",
       "      <td>Exeter</td>\n",
       "      <td>Exeter</td>\n",
       "      <td>2015.0</td>\n",
       "      <td>91.0</td>\n",
       "      <td>Horror,Mystery,Thriller</td>\n",
       "      <td>49</td>\n",
       "      <td>Sep 1, 2015</td>\n",
       "      <td>Exeter</td>\n",
       "      <td>25000</td>\n",
       "      <td>0</td>\n",
       "      <td>489792</td>\n",
       "      <td>4.5</td>\n",
       "      <td>5156</td>\n",
       "      <td>nm1885051</td>\n",
       "      <td>Nick Nicotera</td>\n",
       "      <td>1981.0</td>\n",
       "      <td>editor</td>\n",
       "    </tr>\n",
       "    <tr>\n",
       "      <th>10990</th>\n",
       "      <td>tt2309562</td>\n",
       "      <td>Ten</td>\n",
       "      <td>Ten</td>\n",
       "      <td>2013.0</td>\n",
       "      <td>118.0</td>\n",
       "      <td>Drama</td>\n",
       "      <td>51</td>\n",
       "      <td>Apr 21, 2015</td>\n",
       "      <td>Ten</td>\n",
       "      <td>25000</td>\n",
       "      <td>0</td>\n",
       "      <td>0</td>\n",
       "      <td>5.5</td>\n",
       "      <td>31</td>\n",
       "      <td>nm2793783</td>\n",
       "      <td>Colin Burt Vidler</td>\n",
       "      <td>1970.0</td>\n",
       "      <td>actor</td>\n",
       "    </tr>\n",
       "    <tr>\n",
       "      <th>10991</th>\n",
       "      <td>tt7837402</td>\n",
       "      <td>Red 11</td>\n",
       "      <td>Red 11</td>\n",
       "      <td>2019.0</td>\n",
       "      <td>77.0</td>\n",
       "      <td>Horror,Sci-Fi,Thriller</td>\n",
       "      <td>78</td>\n",
       "      <td>Dec 31, 2018</td>\n",
       "      <td>Red 11</td>\n",
       "      <td>7000</td>\n",
       "      <td>0</td>\n",
       "      <td>0</td>\n",
       "      <td>5.6</td>\n",
       "      <td>43</td>\n",
       "      <td>nm1897406</td>\n",
       "      <td>Racer Rodriguez</td>\n",
       "      <td>1997.0</td>\n",
       "      <td>stunts</td>\n",
       "    </tr>\n",
       "  </tbody>\n",
       "</table>\n",
       "<p>10958 rows × 18 columns</p>\n",
       "</div>"
      ],
      "text/plain": [
       "          tconst                                primary_title  \\\n",
       "0      tt1298650  Pirates of the Caribbean: On Stranger Tides   \n",
       "1      tt1298650  Pirates of the Caribbean: On Stranger Tides   \n",
       "2      tt1298650  Pirates of the Caribbean: On Stranger Tides   \n",
       "3      tt1298650  Pirates of the Caribbean: On Stranger Tides   \n",
       "4      tt1298650  Pirates of the Caribbean: On Stranger Tides   \n",
       "...          ...                                          ...   \n",
       "10987  tt1716760                               Raymond Did It   \n",
       "10988  tt1492841                              Foreign Letters   \n",
       "10989  tt1945044                                       Exeter   \n",
       "10990  tt2309562                                          Ten   \n",
       "10991  tt7837402                                       Red 11   \n",
       "\n",
       "                                    original_title  start_year  \\\n",
       "0      Pirates of the Caribbean: On Stranger Tides      2011.0   \n",
       "1      Pirates of the Caribbean: On Stranger Tides      2011.0   \n",
       "2      Pirates of the Caribbean: On Stranger Tides      2011.0   \n",
       "3      Pirates of the Caribbean: On Stranger Tides      2011.0   \n",
       "4      Pirates of the Caribbean: On Stranger Tides      2011.0   \n",
       "...                                            ...         ...   \n",
       "10987                               Raymond Did It      2011.0   \n",
       "10988                              Foreign Letters      2012.0   \n",
       "10989                                       Exeter      2015.0   \n",
       "10990                                          Ten      2013.0   \n",
       "10991                                       Red 11      2019.0   \n",
       "\n",
       "       runtime_minutes                    genres  id  release_date  \\\n",
       "0                136.0  Action,Adventure,Fantasy   2  May 20, 2011   \n",
       "1                136.0  Action,Adventure,Fantasy   2  May 20, 2011   \n",
       "2                136.0  Action,Adventure,Fantasy   2  May 20, 2011   \n",
       "3                136.0  Action,Adventure,Fantasy   2  May 20, 2011   \n",
       "4                136.0  Action,Adventure,Fantasy   2  May 20, 2011   \n",
       "...                ...                       ...  ..           ...   \n",
       "10987             83.0                    Horror  32  Feb 11, 2011   \n",
       "10988             99.0              Comedy,Drama  33  Mar 31, 2012   \n",
       "10989             91.0   Horror,Mystery,Thriller  49   Sep 1, 2015   \n",
       "10990            118.0                     Drama  51  Apr 21, 2015   \n",
       "10991             77.0    Horror,Sci-Fi,Thriller  78  Dec 31, 2018   \n",
       "\n",
       "                                             movie  production_budget  \\\n",
       "0      Pirates of the Caribbean: On Stranger Tides          410600000   \n",
       "1      Pirates of the Caribbean: On Stranger Tides          410600000   \n",
       "2      Pirates of the Caribbean: On Stranger Tides          410600000   \n",
       "3      Pirates of the Caribbean: On Stranger Tides          410600000   \n",
       "4      Pirates of the Caribbean: On Stranger Tides          410600000   \n",
       "...                                            ...                ...   \n",
       "10987                               Raymond Did It              40000   \n",
       "10988                              Foreign Letters              40000   \n",
       "10989                                       Exeter              25000   \n",
       "10990                                          Ten              25000   \n",
       "10991                                       Red 11               7000   \n",
       "\n",
       "       domestic_gross  worldwide_gross  averagerating  numvotes     nconst  \\\n",
       "0           241063875       1045663875            6.6    447624  nm0004851   \n",
       "1           241063875       1045663875            6.6    447624  nm0046087   \n",
       "2           241063875       1045663875            6.6    447624  nm0263740   \n",
       "3           241063875       1045663875            6.6    447624  nm0273797   \n",
       "4           241063875       1045663875            6.6    447624  nm0573618   \n",
       "...               ...              ...            ...       ...        ...   \n",
       "10987            3632             3632            3.3       211  nm3171405   \n",
       "10988               0                0            6.9       180  nm0858008   \n",
       "10989               0           489792            4.5      5156  nm1885051   \n",
       "10990               0                0            5.5        31  nm2793783   \n",
       "10991               0                0            5.6        43  nm1897406   \n",
       "\n",
       "             primary_name  birth_year  primary_profession  \n",
       "0           Penélope Cruz      1974.0             actress  \n",
       "1         Jennifer Badger      1976.0              stunts  \n",
       "2             Steve Evets      1960.0               actor  \n",
       "3       Sebastian Armesto      1982.0  assistant_director  \n",
       "4           Kevin McNally      1956.0               actor  \n",
       "...                   ...         ...                 ...  \n",
       "10987  Robert J. Williams      1986.0              editor  \n",
       "10988           Ela Thier      1971.0              writer  \n",
       "10989       Nick Nicotera      1981.0              editor  \n",
       "10990   Colin Burt Vidler      1970.0               actor  \n",
       "10991     Racer Rodriguez      1997.0              stunts  \n",
       "\n",
       "[10958 rows x 18 columns]"
      ]
     },
     "execution_count": 141,
     "metadata": {},
     "output_type": "execute_result"
    }
   ],
   "source": [
    "project1_df"
   ]
  },
  {
   "cell_type": "code",
   "execution_count": 142,
   "metadata": {
    "ExecuteTime": {
     "end_time": "2021-04-30T17:02:20.657134Z",
     "start_time": "2021-04-30T17:02:20.626106Z"
    }
   },
   "outputs": [
    {
     "data": {
      "text/html": [
       "<div>\n",
       "<style scoped>\n",
       "    .dataframe tbody tr th:only-of-type {\n",
       "        vertical-align: middle;\n",
       "    }\n",
       "\n",
       "    .dataframe tbody tr th {\n",
       "        vertical-align: top;\n",
       "    }\n",
       "\n",
       "    .dataframe thead th {\n",
       "        text-align: right;\n",
       "    }\n",
       "</style>\n",
       "<table border=\"1\" class=\"dataframe\">\n",
       "  <thead>\n",
       "    <tr style=\"text-align: right;\">\n",
       "      <th></th>\n",
       "      <th>tconst</th>\n",
       "      <th>primary_title</th>\n",
       "      <th>original_title</th>\n",
       "      <th>start_year</th>\n",
       "      <th>runtime_minutes</th>\n",
       "      <th>genres</th>\n",
       "      <th>id</th>\n",
       "      <th>release_date</th>\n",
       "      <th>movie</th>\n",
       "      <th>production_budget</th>\n",
       "      <th>domestic_gross</th>\n",
       "      <th>worldwide_gross</th>\n",
       "      <th>averagerating</th>\n",
       "      <th>numvotes</th>\n",
       "      <th>nconst</th>\n",
       "      <th>primary_name</th>\n",
       "      <th>birth_year</th>\n",
       "      <th>primary_profession</th>\n",
       "    </tr>\n",
       "  </thead>\n",
       "  <tbody>\n",
       "    <tr>\n",
       "      <th>0</th>\n",
       "      <td>tt1298650</td>\n",
       "      <td>Pirates of the Caribbean: On Stranger Tides</td>\n",
       "      <td>Pirates of the Caribbean: On Stranger Tides</td>\n",
       "      <td>2011.0</td>\n",
       "      <td>136.0</td>\n",
       "      <td>Action,Adventure,Fantasy</td>\n",
       "      <td>2</td>\n",
       "      <td>May 20, 2011</td>\n",
       "      <td>Pirates of the Caribbean: On Stranger Tides</td>\n",
       "      <td>410600000</td>\n",
       "      <td>241063875</td>\n",
       "      <td>1045663875</td>\n",
       "      <td>6.6</td>\n",
       "      <td>447624</td>\n",
       "      <td>nm0004851</td>\n",
       "      <td>Penélope Cruz</td>\n",
       "      <td>1974.0</td>\n",
       "      <td>actress</td>\n",
       "    </tr>\n",
       "    <tr>\n",
       "      <th>1</th>\n",
       "      <td>tt1298650</td>\n",
       "      <td>Pirates of the Caribbean: On Stranger Tides</td>\n",
       "      <td>Pirates of the Caribbean: On Stranger Tides</td>\n",
       "      <td>2011.0</td>\n",
       "      <td>136.0</td>\n",
       "      <td>Action,Adventure,Fantasy</td>\n",
       "      <td>2</td>\n",
       "      <td>May 20, 2011</td>\n",
       "      <td>Pirates of the Caribbean: On Stranger Tides</td>\n",
       "      <td>410600000</td>\n",
       "      <td>241063875</td>\n",
       "      <td>1045663875</td>\n",
       "      <td>6.6</td>\n",
       "      <td>447624</td>\n",
       "      <td>nm0046087</td>\n",
       "      <td>Jennifer Badger</td>\n",
       "      <td>1976.0</td>\n",
       "      <td>stunts</td>\n",
       "    </tr>\n",
       "    <tr>\n",
       "      <th>2</th>\n",
       "      <td>tt1298650</td>\n",
       "      <td>Pirates of the Caribbean: On Stranger Tides</td>\n",
       "      <td>Pirates of the Caribbean: On Stranger Tides</td>\n",
       "      <td>2011.0</td>\n",
       "      <td>136.0</td>\n",
       "      <td>Action,Adventure,Fantasy</td>\n",
       "      <td>2</td>\n",
       "      <td>May 20, 2011</td>\n",
       "      <td>Pirates of the Caribbean: On Stranger Tides</td>\n",
       "      <td>410600000</td>\n",
       "      <td>241063875</td>\n",
       "      <td>1045663875</td>\n",
       "      <td>6.6</td>\n",
       "      <td>447624</td>\n",
       "      <td>nm0263740</td>\n",
       "      <td>Steve Evets</td>\n",
       "      <td>1960.0</td>\n",
       "      <td>actor</td>\n",
       "    </tr>\n",
       "    <tr>\n",
       "      <th>3</th>\n",
       "      <td>tt1298650</td>\n",
       "      <td>Pirates of the Caribbean: On Stranger Tides</td>\n",
       "      <td>Pirates of the Caribbean: On Stranger Tides</td>\n",
       "      <td>2011.0</td>\n",
       "      <td>136.0</td>\n",
       "      <td>Action,Adventure,Fantasy</td>\n",
       "      <td>2</td>\n",
       "      <td>May 20, 2011</td>\n",
       "      <td>Pirates of the Caribbean: On Stranger Tides</td>\n",
       "      <td>410600000</td>\n",
       "      <td>241063875</td>\n",
       "      <td>1045663875</td>\n",
       "      <td>6.6</td>\n",
       "      <td>447624</td>\n",
       "      <td>nm0273797</td>\n",
       "      <td>Sebastian Armesto</td>\n",
       "      <td>1982.0</td>\n",
       "      <td>assistant_director</td>\n",
       "    </tr>\n",
       "    <tr>\n",
       "      <th>4</th>\n",
       "      <td>tt1298650</td>\n",
       "      <td>Pirates of the Caribbean: On Stranger Tides</td>\n",
       "      <td>Pirates of the Caribbean: On Stranger Tides</td>\n",
       "      <td>2011.0</td>\n",
       "      <td>136.0</td>\n",
       "      <td>Action,Adventure,Fantasy</td>\n",
       "      <td>2</td>\n",
       "      <td>May 20, 2011</td>\n",
       "      <td>Pirates of the Caribbean: On Stranger Tides</td>\n",
       "      <td>410600000</td>\n",
       "      <td>241063875</td>\n",
       "      <td>1045663875</td>\n",
       "      <td>6.6</td>\n",
       "      <td>447624</td>\n",
       "      <td>nm0573618</td>\n",
       "      <td>Kevin McNally</td>\n",
       "      <td>1956.0</td>\n",
       "      <td>actor</td>\n",
       "    </tr>\n",
       "    <tr>\n",
       "      <th>...</th>\n",
       "      <td>...</td>\n",
       "      <td>...</td>\n",
       "      <td>...</td>\n",
       "      <td>...</td>\n",
       "      <td>...</td>\n",
       "      <td>...</td>\n",
       "      <td>...</td>\n",
       "      <td>...</td>\n",
       "      <td>...</td>\n",
       "      <td>...</td>\n",
       "      <td>...</td>\n",
       "      <td>...</td>\n",
       "      <td>...</td>\n",
       "      <td>...</td>\n",
       "      <td>...</td>\n",
       "      <td>...</td>\n",
       "      <td>...</td>\n",
       "      <td>...</td>\n",
       "    </tr>\n",
       "    <tr>\n",
       "      <th>10987</th>\n",
       "      <td>tt1716760</td>\n",
       "      <td>Raymond Did It</td>\n",
       "      <td>Raymond Did It</td>\n",
       "      <td>2011.0</td>\n",
       "      <td>83.0</td>\n",
       "      <td>Horror</td>\n",
       "      <td>32</td>\n",
       "      <td>Feb 11, 2011</td>\n",
       "      <td>Raymond Did It</td>\n",
       "      <td>40000</td>\n",
       "      <td>3632</td>\n",
       "      <td>3632</td>\n",
       "      <td>3.3</td>\n",
       "      <td>211</td>\n",
       "      <td>nm3171405</td>\n",
       "      <td>Robert J. Williams</td>\n",
       "      <td>1986.0</td>\n",
       "      <td>editor</td>\n",
       "    </tr>\n",
       "    <tr>\n",
       "      <th>10988</th>\n",
       "      <td>tt1492841</td>\n",
       "      <td>Foreign Letters</td>\n",
       "      <td>Foreign Letters</td>\n",
       "      <td>2012.0</td>\n",
       "      <td>99.0</td>\n",
       "      <td>Comedy,Drama</td>\n",
       "      <td>33</td>\n",
       "      <td>Mar 31, 2012</td>\n",
       "      <td>Foreign Letters</td>\n",
       "      <td>40000</td>\n",
       "      <td>0</td>\n",
       "      <td>0</td>\n",
       "      <td>6.9</td>\n",
       "      <td>180</td>\n",
       "      <td>nm0858008</td>\n",
       "      <td>Ela Thier</td>\n",
       "      <td>1971.0</td>\n",
       "      <td>writer</td>\n",
       "    </tr>\n",
       "    <tr>\n",
       "      <th>10989</th>\n",
       "      <td>tt1945044</td>\n",
       "      <td>Exeter</td>\n",
       "      <td>Exeter</td>\n",
       "      <td>2015.0</td>\n",
       "      <td>91.0</td>\n",
       "      <td>Horror,Mystery,Thriller</td>\n",
       "      <td>49</td>\n",
       "      <td>Sep 1, 2015</td>\n",
       "      <td>Exeter</td>\n",
       "      <td>25000</td>\n",
       "      <td>0</td>\n",
       "      <td>489792</td>\n",
       "      <td>4.5</td>\n",
       "      <td>5156</td>\n",
       "      <td>nm1885051</td>\n",
       "      <td>Nick Nicotera</td>\n",
       "      <td>1981.0</td>\n",
       "      <td>editor</td>\n",
       "    </tr>\n",
       "    <tr>\n",
       "      <th>10990</th>\n",
       "      <td>tt2309562</td>\n",
       "      <td>Ten</td>\n",
       "      <td>Ten</td>\n",
       "      <td>2013.0</td>\n",
       "      <td>118.0</td>\n",
       "      <td>Drama</td>\n",
       "      <td>51</td>\n",
       "      <td>Apr 21, 2015</td>\n",
       "      <td>Ten</td>\n",
       "      <td>25000</td>\n",
       "      <td>0</td>\n",
       "      <td>0</td>\n",
       "      <td>5.5</td>\n",
       "      <td>31</td>\n",
       "      <td>nm2793783</td>\n",
       "      <td>Colin Burt Vidler</td>\n",
       "      <td>1970.0</td>\n",
       "      <td>actor</td>\n",
       "    </tr>\n",
       "    <tr>\n",
       "      <th>10991</th>\n",
       "      <td>tt7837402</td>\n",
       "      <td>Red 11</td>\n",
       "      <td>Red 11</td>\n",
       "      <td>2019.0</td>\n",
       "      <td>77.0</td>\n",
       "      <td>Horror,Sci-Fi,Thriller</td>\n",
       "      <td>78</td>\n",
       "      <td>Dec 31, 2018</td>\n",
       "      <td>Red 11</td>\n",
       "      <td>7000</td>\n",
       "      <td>0</td>\n",
       "      <td>0</td>\n",
       "      <td>5.6</td>\n",
       "      <td>43</td>\n",
       "      <td>nm1897406</td>\n",
       "      <td>Racer Rodriguez</td>\n",
       "      <td>1997.0</td>\n",
       "      <td>stunts</td>\n",
       "    </tr>\n",
       "  </tbody>\n",
       "</table>\n",
       "<p>10958 rows × 18 columns</p>\n",
       "</div>"
      ],
      "text/plain": [
       "          tconst                                primary_title  \\\n",
       "0      tt1298650  Pirates of the Caribbean: On Stranger Tides   \n",
       "1      tt1298650  Pirates of the Caribbean: On Stranger Tides   \n",
       "2      tt1298650  Pirates of the Caribbean: On Stranger Tides   \n",
       "3      tt1298650  Pirates of the Caribbean: On Stranger Tides   \n",
       "4      tt1298650  Pirates of the Caribbean: On Stranger Tides   \n",
       "...          ...                                          ...   \n",
       "10987  tt1716760                               Raymond Did It   \n",
       "10988  tt1492841                              Foreign Letters   \n",
       "10989  tt1945044                                       Exeter   \n",
       "10990  tt2309562                                          Ten   \n",
       "10991  tt7837402                                       Red 11   \n",
       "\n",
       "                                    original_title  start_year  \\\n",
       "0      Pirates of the Caribbean: On Stranger Tides      2011.0   \n",
       "1      Pirates of the Caribbean: On Stranger Tides      2011.0   \n",
       "2      Pirates of the Caribbean: On Stranger Tides      2011.0   \n",
       "3      Pirates of the Caribbean: On Stranger Tides      2011.0   \n",
       "4      Pirates of the Caribbean: On Stranger Tides      2011.0   \n",
       "...                                            ...         ...   \n",
       "10987                               Raymond Did It      2011.0   \n",
       "10988                              Foreign Letters      2012.0   \n",
       "10989                                       Exeter      2015.0   \n",
       "10990                                          Ten      2013.0   \n",
       "10991                                       Red 11      2019.0   \n",
       "\n",
       "       runtime_minutes                    genres  id  release_date  \\\n",
       "0                136.0  Action,Adventure,Fantasy   2  May 20, 2011   \n",
       "1                136.0  Action,Adventure,Fantasy   2  May 20, 2011   \n",
       "2                136.0  Action,Adventure,Fantasy   2  May 20, 2011   \n",
       "3                136.0  Action,Adventure,Fantasy   2  May 20, 2011   \n",
       "4                136.0  Action,Adventure,Fantasy   2  May 20, 2011   \n",
       "...                ...                       ...  ..           ...   \n",
       "10987             83.0                    Horror  32  Feb 11, 2011   \n",
       "10988             99.0              Comedy,Drama  33  Mar 31, 2012   \n",
       "10989             91.0   Horror,Mystery,Thriller  49   Sep 1, 2015   \n",
       "10990            118.0                     Drama  51  Apr 21, 2015   \n",
       "10991             77.0    Horror,Sci-Fi,Thriller  78  Dec 31, 2018   \n",
       "\n",
       "                                             movie  production_budget  \\\n",
       "0      Pirates of the Caribbean: On Stranger Tides          410600000   \n",
       "1      Pirates of the Caribbean: On Stranger Tides          410600000   \n",
       "2      Pirates of the Caribbean: On Stranger Tides          410600000   \n",
       "3      Pirates of the Caribbean: On Stranger Tides          410600000   \n",
       "4      Pirates of the Caribbean: On Stranger Tides          410600000   \n",
       "...                                            ...                ...   \n",
       "10987                               Raymond Did It              40000   \n",
       "10988                              Foreign Letters              40000   \n",
       "10989                                       Exeter              25000   \n",
       "10990                                          Ten              25000   \n",
       "10991                                       Red 11               7000   \n",
       "\n",
       "       domestic_gross  worldwide_gross  averagerating  numvotes     nconst  \\\n",
       "0           241063875       1045663875            6.6    447624  nm0004851   \n",
       "1           241063875       1045663875            6.6    447624  nm0046087   \n",
       "2           241063875       1045663875            6.6    447624  nm0263740   \n",
       "3           241063875       1045663875            6.6    447624  nm0273797   \n",
       "4           241063875       1045663875            6.6    447624  nm0573618   \n",
       "...               ...              ...            ...       ...        ...   \n",
       "10987            3632             3632            3.3       211  nm3171405   \n",
       "10988               0                0            6.9       180  nm0858008   \n",
       "10989               0           489792            4.5      5156  nm1885051   \n",
       "10990               0                0            5.5        31  nm2793783   \n",
       "10991               0                0            5.6        43  nm1897406   \n",
       "\n",
       "             primary_name  birth_year  primary_profession  \n",
       "0           Penélope Cruz      1974.0             actress  \n",
       "1         Jennifer Badger      1976.0              stunts  \n",
       "2             Steve Evets      1960.0               actor  \n",
       "3       Sebastian Armesto      1982.0  assistant_director  \n",
       "4           Kevin McNally      1956.0               actor  \n",
       "...                   ...         ...                 ...  \n",
       "10987  Robert J. Williams      1986.0              editor  \n",
       "10988           Ela Thier      1971.0              writer  \n",
       "10989       Nick Nicotera      1981.0              editor  \n",
       "10990   Colin Burt Vidler      1970.0               actor  \n",
       "10991     Racer Rodriguez      1997.0              stunts  \n",
       "\n",
       "[10958 rows x 18 columns]"
      ]
     },
     "execution_count": 142,
     "metadata": {},
     "output_type": "execute_result"
    }
   ],
   "source": [
    "project1_df.drop_duplicates(subset=['release_date', 'movie','primary_title', 'production_budget'])\n",
    "project1_df"
   ]
  },
  {
   "cell_type": "markdown",
   "metadata": {
    "ExecuteTime": {
     "end_time": "2021-04-19T20:56:49.888620Z",
     "start_time": "2021-04-19T20:56:49.873607Z"
    }
   },
   "source": [
    "## Feature Engineering"
   ]
  },
  {
   "cell_type": "code",
   "execution_count": 143,
   "metadata": {
    "ExecuteTime": {
     "end_time": "2021-04-30T17:02:20.672484Z",
     "start_time": "2021-04-30T17:02:20.658135Z"
    }
   },
   "outputs": [
    {
     "name": "stdout",
     "output_type": "stream",
     "text": [
      "<class 'pandas.core.frame.DataFrame'>\n",
      "Int64Index: 10958 entries, 0 to 10991\n",
      "Data columns (total 18 columns):\n",
      " #   Column              Non-Null Count  Dtype  \n",
      "---  ------              --------------  -----  \n",
      " 0   tconst              10958 non-null  object \n",
      " 1   primary_title       10958 non-null  object \n",
      " 2   original_title      10958 non-null  object \n",
      " 3   start_year          10958 non-null  float64\n",
      " 4   runtime_minutes     10958 non-null  float64\n",
      " 5   genres              10958 non-null  object \n",
      " 6   id                  10958 non-null  int64  \n",
      " 7   release_date        10958 non-null  object \n",
      " 8   movie               10958 non-null  object \n",
      " 9   production_budget   10958 non-null  int64  \n",
      " 10  domestic_gross      10958 non-null  int64  \n",
      " 11  worldwide_gross     10958 non-null  int64  \n",
      " 12  averagerating       10958 non-null  float64\n",
      " 13  numvotes            10958 non-null  int64  \n",
      " 14  nconst              10958 non-null  object \n",
      " 15  primary_name        10958 non-null  object \n",
      " 16  birth_year          10958 non-null  float64\n",
      " 17  primary_profession  10958 non-null  object \n",
      "dtypes: float64(4), int64(5), object(9)\n",
      "memory usage: 1.6+ MB\n"
     ]
    }
   ],
   "source": [
    "project1_df.info()"
   ]
  },
  {
   "cell_type": "code",
   "execution_count": 144,
   "metadata": {
    "ExecuteTime": {
     "end_time": "2021-04-30T17:02:20.688499Z",
     "start_time": "2021-04-30T17:02:20.673486Z"
    }
   },
   "outputs": [
    {
     "data": {
      "text/html": [
       "<div>\n",
       "<style scoped>\n",
       "    .dataframe tbody tr th:only-of-type {\n",
       "        vertical-align: middle;\n",
       "    }\n",
       "\n",
       "    .dataframe tbody tr th {\n",
       "        vertical-align: top;\n",
       "    }\n",
       "\n",
       "    .dataframe thead th {\n",
       "        text-align: right;\n",
       "    }\n",
       "</style>\n",
       "<table border=\"1\" class=\"dataframe\">\n",
       "  <thead>\n",
       "    <tr style=\"text-align: right;\">\n",
       "      <th></th>\n",
       "      <th>tconst</th>\n",
       "      <th>primary_title</th>\n",
       "      <th>original_title</th>\n",
       "      <th>start_year</th>\n",
       "      <th>runtime_minutes</th>\n",
       "      <th>genres</th>\n",
       "      <th>id</th>\n",
       "      <th>release_date</th>\n",
       "      <th>movie</th>\n",
       "      <th>production_budget</th>\n",
       "      <th>domestic_gross</th>\n",
       "      <th>worldwide_gross</th>\n",
       "      <th>averagerating</th>\n",
       "      <th>numvotes</th>\n",
       "      <th>nconst</th>\n",
       "      <th>primary_name</th>\n",
       "      <th>birth_year</th>\n",
       "      <th>primary_profession</th>\n",
       "      <th>month</th>\n",
       "    </tr>\n",
       "  </thead>\n",
       "  <tbody>\n",
       "    <tr>\n",
       "      <th>0</th>\n",
       "      <td>tt1298650</td>\n",
       "      <td>Pirates of the Caribbean: On Stranger Tides</td>\n",
       "      <td>Pirates of the Caribbean: On Stranger Tides</td>\n",
       "      <td>2011.0</td>\n",
       "      <td>136.0</td>\n",
       "      <td>Action,Adventure,Fantasy</td>\n",
       "      <td>2</td>\n",
       "      <td>May 20, 2011</td>\n",
       "      <td>Pirates of the Caribbean: On Stranger Tides</td>\n",
       "      <td>410600000</td>\n",
       "      <td>241063875</td>\n",
       "      <td>1045663875</td>\n",
       "      <td>6.6</td>\n",
       "      <td>447624</td>\n",
       "      <td>nm0004851</td>\n",
       "      <td>Penélope Cruz</td>\n",
       "      <td>1974.0</td>\n",
       "      <td>actress</td>\n",
       "      <td>May</td>\n",
       "    </tr>\n",
       "    <tr>\n",
       "      <th>1</th>\n",
       "      <td>tt1298650</td>\n",
       "      <td>Pirates of the Caribbean: On Stranger Tides</td>\n",
       "      <td>Pirates of the Caribbean: On Stranger Tides</td>\n",
       "      <td>2011.0</td>\n",
       "      <td>136.0</td>\n",
       "      <td>Action,Adventure,Fantasy</td>\n",
       "      <td>2</td>\n",
       "      <td>May 20, 2011</td>\n",
       "      <td>Pirates of the Caribbean: On Stranger Tides</td>\n",
       "      <td>410600000</td>\n",
       "      <td>241063875</td>\n",
       "      <td>1045663875</td>\n",
       "      <td>6.6</td>\n",
       "      <td>447624</td>\n",
       "      <td>nm0046087</td>\n",
       "      <td>Jennifer Badger</td>\n",
       "      <td>1976.0</td>\n",
       "      <td>stunts</td>\n",
       "      <td>May</td>\n",
       "    </tr>\n",
       "    <tr>\n",
       "      <th>2</th>\n",
       "      <td>tt1298650</td>\n",
       "      <td>Pirates of the Caribbean: On Stranger Tides</td>\n",
       "      <td>Pirates of the Caribbean: On Stranger Tides</td>\n",
       "      <td>2011.0</td>\n",
       "      <td>136.0</td>\n",
       "      <td>Action,Adventure,Fantasy</td>\n",
       "      <td>2</td>\n",
       "      <td>May 20, 2011</td>\n",
       "      <td>Pirates of the Caribbean: On Stranger Tides</td>\n",
       "      <td>410600000</td>\n",
       "      <td>241063875</td>\n",
       "      <td>1045663875</td>\n",
       "      <td>6.6</td>\n",
       "      <td>447624</td>\n",
       "      <td>nm0263740</td>\n",
       "      <td>Steve Evets</td>\n",
       "      <td>1960.0</td>\n",
       "      <td>actor</td>\n",
       "      <td>May</td>\n",
       "    </tr>\n",
       "    <tr>\n",
       "      <th>3</th>\n",
       "      <td>tt1298650</td>\n",
       "      <td>Pirates of the Caribbean: On Stranger Tides</td>\n",
       "      <td>Pirates of the Caribbean: On Stranger Tides</td>\n",
       "      <td>2011.0</td>\n",
       "      <td>136.0</td>\n",
       "      <td>Action,Adventure,Fantasy</td>\n",
       "      <td>2</td>\n",
       "      <td>May 20, 2011</td>\n",
       "      <td>Pirates of the Caribbean: On Stranger Tides</td>\n",
       "      <td>410600000</td>\n",
       "      <td>241063875</td>\n",
       "      <td>1045663875</td>\n",
       "      <td>6.6</td>\n",
       "      <td>447624</td>\n",
       "      <td>nm0273797</td>\n",
       "      <td>Sebastian Armesto</td>\n",
       "      <td>1982.0</td>\n",
       "      <td>assistant_director</td>\n",
       "      <td>May</td>\n",
       "    </tr>\n",
       "    <tr>\n",
       "      <th>4</th>\n",
       "      <td>tt1298650</td>\n",
       "      <td>Pirates of the Caribbean: On Stranger Tides</td>\n",
       "      <td>Pirates of the Caribbean: On Stranger Tides</td>\n",
       "      <td>2011.0</td>\n",
       "      <td>136.0</td>\n",
       "      <td>Action,Adventure,Fantasy</td>\n",
       "      <td>2</td>\n",
       "      <td>May 20, 2011</td>\n",
       "      <td>Pirates of the Caribbean: On Stranger Tides</td>\n",
       "      <td>410600000</td>\n",
       "      <td>241063875</td>\n",
       "      <td>1045663875</td>\n",
       "      <td>6.6</td>\n",
       "      <td>447624</td>\n",
       "      <td>nm0573618</td>\n",
       "      <td>Kevin McNally</td>\n",
       "      <td>1956.0</td>\n",
       "      <td>actor</td>\n",
       "      <td>May</td>\n",
       "    </tr>\n",
       "  </tbody>\n",
       "</table>\n",
       "</div>"
      ],
      "text/plain": [
       "      tconst                                primary_title  \\\n",
       "0  tt1298650  Pirates of the Caribbean: On Stranger Tides   \n",
       "1  tt1298650  Pirates of the Caribbean: On Stranger Tides   \n",
       "2  tt1298650  Pirates of the Caribbean: On Stranger Tides   \n",
       "3  tt1298650  Pirates of the Caribbean: On Stranger Tides   \n",
       "4  tt1298650  Pirates of the Caribbean: On Stranger Tides   \n",
       "\n",
       "                                original_title  start_year  runtime_minutes  \\\n",
       "0  Pirates of the Caribbean: On Stranger Tides      2011.0            136.0   \n",
       "1  Pirates of the Caribbean: On Stranger Tides      2011.0            136.0   \n",
       "2  Pirates of the Caribbean: On Stranger Tides      2011.0            136.0   \n",
       "3  Pirates of the Caribbean: On Stranger Tides      2011.0            136.0   \n",
       "4  Pirates of the Caribbean: On Stranger Tides      2011.0            136.0   \n",
       "\n",
       "                     genres  id  release_date  \\\n",
       "0  Action,Adventure,Fantasy   2  May 20, 2011   \n",
       "1  Action,Adventure,Fantasy   2  May 20, 2011   \n",
       "2  Action,Adventure,Fantasy   2  May 20, 2011   \n",
       "3  Action,Adventure,Fantasy   2  May 20, 2011   \n",
       "4  Action,Adventure,Fantasy   2  May 20, 2011   \n",
       "\n",
       "                                         movie  production_budget  \\\n",
       "0  Pirates of the Caribbean: On Stranger Tides          410600000   \n",
       "1  Pirates of the Caribbean: On Stranger Tides          410600000   \n",
       "2  Pirates of the Caribbean: On Stranger Tides          410600000   \n",
       "3  Pirates of the Caribbean: On Stranger Tides          410600000   \n",
       "4  Pirates of the Caribbean: On Stranger Tides          410600000   \n",
       "\n",
       "   domestic_gross  worldwide_gross  averagerating  numvotes     nconst  \\\n",
       "0       241063875       1045663875            6.6    447624  nm0004851   \n",
       "1       241063875       1045663875            6.6    447624  nm0046087   \n",
       "2       241063875       1045663875            6.6    447624  nm0263740   \n",
       "3       241063875       1045663875            6.6    447624  nm0273797   \n",
       "4       241063875       1045663875            6.6    447624  nm0573618   \n",
       "\n",
       "        primary_name  birth_year  primary_profession month  \n",
       "0      Penélope Cruz      1974.0             actress   May  \n",
       "1    Jennifer Badger      1976.0              stunts   May  \n",
       "2        Steve Evets      1960.0               actor   May  \n",
       "3  Sebastian Armesto      1982.0  assistant_director   May  \n",
       "4      Kevin McNally      1956.0               actor   May  "
      ]
     },
     "execution_count": 144,
     "metadata": {},
     "output_type": "execute_result"
    }
   ],
   "source": [
    "project1_df['month'] = project1_df['release_date'].str[0:3]\n",
    "project1_df.head()"
   ]
  },
  {
   "cell_type": "code",
   "execution_count": 145,
   "metadata": {
    "ExecuteTime": {
     "end_time": "2021-04-30T17:02:20.720528Z",
     "start_time": "2021-04-30T17:02:20.689500Z"
    }
   },
   "outputs": [
    {
     "data": {
      "text/html": [
       "<div>\n",
       "<style scoped>\n",
       "    .dataframe tbody tr th:only-of-type {\n",
       "        vertical-align: middle;\n",
       "    }\n",
       "\n",
       "    .dataframe tbody tr th {\n",
       "        vertical-align: top;\n",
       "    }\n",
       "\n",
       "    .dataframe thead th {\n",
       "        text-align: right;\n",
       "    }\n",
       "</style>\n",
       "<table border=\"1\" class=\"dataframe\">\n",
       "  <thead>\n",
       "    <tr style=\"text-align: right;\">\n",
       "      <th></th>\n",
       "      <th>tconst</th>\n",
       "      <th>primary_title</th>\n",
       "      <th>original_title</th>\n",
       "      <th>start_year</th>\n",
       "      <th>runtime_minutes</th>\n",
       "      <th>genres</th>\n",
       "      <th>id</th>\n",
       "      <th>release_date</th>\n",
       "      <th>movie</th>\n",
       "      <th>production_budget</th>\n",
       "      <th>domestic_gross</th>\n",
       "      <th>worldwide_gross</th>\n",
       "      <th>averagerating</th>\n",
       "      <th>numvotes</th>\n",
       "      <th>nconst</th>\n",
       "      <th>primary_name</th>\n",
       "      <th>birth_year</th>\n",
       "      <th>primary_profession</th>\n",
       "      <th>month</th>\n",
       "      <th>month_inorder</th>\n",
       "    </tr>\n",
       "  </thead>\n",
       "  <tbody>\n",
       "    <tr>\n",
       "      <th>10991</th>\n",
       "      <td>tt7837402</td>\n",
       "      <td>Red 11</td>\n",
       "      <td>Red 11</td>\n",
       "      <td>2019.0</td>\n",
       "      <td>77.0</td>\n",
       "      <td>Horror,Sci-Fi,Thriller</td>\n",
       "      <td>78</td>\n",
       "      <td>Dec 31, 2018</td>\n",
       "      <td>Red 11</td>\n",
       "      <td>7000</td>\n",
       "      <td>0</td>\n",
       "      <td>0</td>\n",
       "      <td>5.6</td>\n",
       "      <td>43</td>\n",
       "      <td>nm1897406</td>\n",
       "      <td>Racer Rodriguez</td>\n",
       "      <td>1997.0</td>\n",
       "      <td>stunts</td>\n",
       "      <td>Dec</td>\n",
       "      <td>12</td>\n",
       "    </tr>\n",
       "    <tr>\n",
       "      <th>5043</th>\n",
       "      <td>tt1091191</td>\n",
       "      <td>Lone Survivor</td>\n",
       "      <td>Lone Survivor</td>\n",
       "      <td>2013.0</td>\n",
       "      <td>121.0</td>\n",
       "      <td>Action,Biography,Drama</td>\n",
       "      <td>84</td>\n",
       "      <td>Dec 25, 2013</td>\n",
       "      <td>Lone Survivor</td>\n",
       "      <td>40000000</td>\n",
       "      <td>125095601</td>\n",
       "      <td>149804632</td>\n",
       "      <td>7.5</td>\n",
       "      <td>246641</td>\n",
       "      <td>nm1846124</td>\n",
       "      <td>Ali Suliman</td>\n",
       "      <td>1977.0</td>\n",
       "      <td>producer</td>\n",
       "      <td>Dec</td>\n",
       "      <td>12</td>\n",
       "    </tr>\n",
       "    <tr>\n",
       "      <th>5045</th>\n",
       "      <td>tt1091191</td>\n",
       "      <td>Lone Survivor</td>\n",
       "      <td>Lone Survivor</td>\n",
       "      <td>2013.0</td>\n",
       "      <td>121.0</td>\n",
       "      <td>Action,Biography,Drama</td>\n",
       "      <td>84</td>\n",
       "      <td>Dec 25, 2013</td>\n",
       "      <td>Lone Survivor</td>\n",
       "      <td>40000000</td>\n",
       "      <td>125095601</td>\n",
       "      <td>149804632</td>\n",
       "      <td>7.5</td>\n",
       "      <td>246641</td>\n",
       "      <td>nm3181865</td>\n",
       "      <td>Frank Powers</td>\n",
       "      <td>1975.0</td>\n",
       "      <td>producer</td>\n",
       "      <td>Dec</td>\n",
       "      <td>12</td>\n",
       "    </tr>\n",
       "    <tr>\n",
       "      <th>5046</th>\n",
       "      <td>tt1091191</td>\n",
       "      <td>Lone Survivor</td>\n",
       "      <td>Lone Survivor</td>\n",
       "      <td>2013.0</td>\n",
       "      <td>121.0</td>\n",
       "      <td>Action,Biography,Drama</td>\n",
       "      <td>84</td>\n",
       "      <td>Dec 25, 2013</td>\n",
       "      <td>Lone Survivor</td>\n",
       "      <td>40000000</td>\n",
       "      <td>125095601</td>\n",
       "      <td>149804632</td>\n",
       "      <td>7.5</td>\n",
       "      <td>246641</td>\n",
       "      <td>nm3899377</td>\n",
       "      <td>John Quintana</td>\n",
       "      <td>1989.0</td>\n",
       "      <td>producer</td>\n",
       "      <td>Dec</td>\n",
       "      <td>12</td>\n",
       "    </tr>\n",
       "    <tr>\n",
       "      <th>5232</th>\n",
       "      <td>tt1694020</td>\n",
       "      <td>The Guilt Trip</td>\n",
       "      <td>The Guilt Trip</td>\n",
       "      <td>2012.0</td>\n",
       "      <td>95.0</td>\n",
       "      <td>Comedy,Drama</td>\n",
       "      <td>59</td>\n",
       "      <td>Dec 19, 2012</td>\n",
       "      <td>The Guilt Trip</td>\n",
       "      <td>40000000</td>\n",
       "      <td>37134215</td>\n",
       "      <td>41294674</td>\n",
       "      <td>5.8</td>\n",
       "      <td>33702</td>\n",
       "      <td>nm0235092</td>\n",
       "      <td>Jackson Douglas</td>\n",
       "      <td>1969.0</td>\n",
       "      <td>director</td>\n",
       "      <td>Dec</td>\n",
       "      <td>12</td>\n",
       "    </tr>\n",
       "    <tr>\n",
       "      <th>...</th>\n",
       "      <td>...</td>\n",
       "      <td>...</td>\n",
       "      <td>...</td>\n",
       "      <td>...</td>\n",
       "      <td>...</td>\n",
       "      <td>...</td>\n",
       "      <td>...</td>\n",
       "      <td>...</td>\n",
       "      <td>...</td>\n",
       "      <td>...</td>\n",
       "      <td>...</td>\n",
       "      <td>...</td>\n",
       "      <td>...</td>\n",
       "      <td>...</td>\n",
       "      <td>...</td>\n",
       "      <td>...</td>\n",
       "      <td>...</td>\n",
       "      <td>...</td>\n",
       "      <td>...</td>\n",
       "      <td>...</td>\n",
       "    </tr>\n",
       "    <tr>\n",
       "      <th>10091</th>\n",
       "      <td>tt3103166</td>\n",
       "      <td>The Masked Saint</td>\n",
       "      <td>The Masked Saint</td>\n",
       "      <td>2016.0</td>\n",
       "      <td>105.0</td>\n",
       "      <td>Action,Biography,Crime</td>\n",
       "      <td>19</td>\n",
       "      <td>Jan 8, 2016</td>\n",
       "      <td>The Masked Saint</td>\n",
       "      <td>3500000</td>\n",
       "      <td>182695</td>\n",
       "      <td>182695</td>\n",
       "      <td>4.6</td>\n",
       "      <td>559</td>\n",
       "      <td>nm2156926</td>\n",
       "      <td>David Anselmo</td>\n",
       "      <td>1979.0</td>\n",
       "      <td>actor</td>\n",
       "      <td>Jan</td>\n",
       "      <td>1</td>\n",
       "    </tr>\n",
       "    <tr>\n",
       "      <th>5735</th>\n",
       "      <td>tt3717252</td>\n",
       "      <td>Underworld: Blood Wars</td>\n",
       "      <td>Underworld: Blood Wars</td>\n",
       "      <td>2016.0</td>\n",
       "      <td>91.0</td>\n",
       "      <td>Action,Adventure,Fantasy</td>\n",
       "      <td>91</td>\n",
       "      <td>Jan 6, 2017</td>\n",
       "      <td>Underworld: Blood Wars</td>\n",
       "      <td>35000000</td>\n",
       "      <td>30353973</td>\n",
       "      <td>81209222</td>\n",
       "      <td>5.8</td>\n",
       "      <td>62942</td>\n",
       "      <td>nm0002999</td>\n",
       "      <td>Richard S. Wright</td>\n",
       "      <td>1960.0</td>\n",
       "      <td>production_manager</td>\n",
       "      <td>Jan</td>\n",
       "      <td>1</td>\n",
       "    </tr>\n",
       "    <tr>\n",
       "      <th>5736</th>\n",
       "      <td>tt3717252</td>\n",
       "      <td>Underworld: Blood Wars</td>\n",
       "      <td>Underworld: Blood Wars</td>\n",
       "      <td>2016.0</td>\n",
       "      <td>91.0</td>\n",
       "      <td>Action,Adventure,Fantasy</td>\n",
       "      <td>91</td>\n",
       "      <td>Jan 6, 2017</td>\n",
       "      <td>Underworld: Blood Wars</td>\n",
       "      <td>35000000</td>\n",
       "      <td>30353973</td>\n",
       "      <td>81209222</td>\n",
       "      <td>5.8</td>\n",
       "      <td>62942</td>\n",
       "      <td>nm0580014</td>\n",
       "      <td>Tobias Menzies</td>\n",
       "      <td>1974.0</td>\n",
       "      <td>soundtrack</td>\n",
       "      <td>Jan</td>\n",
       "      <td>1</td>\n",
       "    </tr>\n",
       "    <tr>\n",
       "      <th>5737</th>\n",
       "      <td>tt3717252</td>\n",
       "      <td>Underworld: Blood Wars</td>\n",
       "      <td>Underworld: Blood Wars</td>\n",
       "      <td>2016.0</td>\n",
       "      <td>91.0</td>\n",
       "      <td>Action,Adventure,Fantasy</td>\n",
       "      <td>91</td>\n",
       "      <td>Jan 6, 2017</td>\n",
       "      <td>Underworld: Blood Wars</td>\n",
       "      <td>35000000</td>\n",
       "      <td>30353973</td>\n",
       "      <td>81209222</td>\n",
       "      <td>5.8</td>\n",
       "      <td>62942</td>\n",
       "      <td>nm0910800</td>\n",
       "      <td>Michael Wandmacher</td>\n",
       "      <td>1967.0</td>\n",
       "      <td>soundtrack</td>\n",
       "      <td>Jan</td>\n",
       "      <td>1</td>\n",
       "    </tr>\n",
       "    <tr>\n",
       "      <th>7375</th>\n",
       "      <td>tt1020072</td>\n",
       "      <td>Selma</td>\n",
       "      <td>Selma</td>\n",
       "      <td>2014.0</td>\n",
       "      <td>128.0</td>\n",
       "      <td>Biography,Drama,History</td>\n",
       "      <td>25</td>\n",
       "      <td>Jan 9, 2015</td>\n",
       "      <td>Selma</td>\n",
       "      <td>20000000</td>\n",
       "      <td>52076908</td>\n",
       "      <td>66776576</td>\n",
       "      <td>7.5</td>\n",
       "      <td>77633</td>\n",
       "      <td>nm0252238</td>\n",
       "      <td>Carmen Ejogo</td>\n",
       "      <td>1973.0</td>\n",
       "      <td>soundtrack</td>\n",
       "      <td>Jan</td>\n",
       "      <td>1</td>\n",
       "    </tr>\n",
       "  </tbody>\n",
       "</table>\n",
       "<p>10958 rows × 20 columns</p>\n",
       "</div>"
      ],
      "text/plain": [
       "          tconst           primary_title          original_title  start_year  \\\n",
       "10991  tt7837402                  Red 11                  Red 11      2019.0   \n",
       "5043   tt1091191           Lone Survivor           Lone Survivor      2013.0   \n",
       "5045   tt1091191           Lone Survivor           Lone Survivor      2013.0   \n",
       "5046   tt1091191           Lone Survivor           Lone Survivor      2013.0   \n",
       "5232   tt1694020          The Guilt Trip          The Guilt Trip      2012.0   \n",
       "...          ...                     ...                     ...         ...   \n",
       "10091  tt3103166        The Masked Saint        The Masked Saint      2016.0   \n",
       "5735   tt3717252  Underworld: Blood Wars  Underworld: Blood Wars      2016.0   \n",
       "5736   tt3717252  Underworld: Blood Wars  Underworld: Blood Wars      2016.0   \n",
       "5737   tt3717252  Underworld: Blood Wars  Underworld: Blood Wars      2016.0   \n",
       "7375   tt1020072                   Selma                   Selma      2014.0   \n",
       "\n",
       "       runtime_minutes                    genres  id  release_date  \\\n",
       "10991             77.0    Horror,Sci-Fi,Thriller  78  Dec 31, 2018   \n",
       "5043             121.0    Action,Biography,Drama  84  Dec 25, 2013   \n",
       "5045             121.0    Action,Biography,Drama  84  Dec 25, 2013   \n",
       "5046             121.0    Action,Biography,Drama  84  Dec 25, 2013   \n",
       "5232              95.0              Comedy,Drama  59  Dec 19, 2012   \n",
       "...                ...                       ...  ..           ...   \n",
       "10091            105.0    Action,Biography,Crime  19   Jan 8, 2016   \n",
       "5735              91.0  Action,Adventure,Fantasy  91   Jan 6, 2017   \n",
       "5736              91.0  Action,Adventure,Fantasy  91   Jan 6, 2017   \n",
       "5737              91.0  Action,Adventure,Fantasy  91   Jan 6, 2017   \n",
       "7375             128.0   Biography,Drama,History  25   Jan 9, 2015   \n",
       "\n",
       "                        movie  production_budget  domestic_gross  \\\n",
       "10991                  Red 11               7000               0   \n",
       "5043            Lone Survivor           40000000       125095601   \n",
       "5045            Lone Survivor           40000000       125095601   \n",
       "5046            Lone Survivor           40000000       125095601   \n",
       "5232           The Guilt Trip           40000000        37134215   \n",
       "...                       ...                ...             ...   \n",
       "10091        The Masked Saint            3500000          182695   \n",
       "5735   Underworld: Blood Wars           35000000        30353973   \n",
       "5736   Underworld: Blood Wars           35000000        30353973   \n",
       "5737   Underworld: Blood Wars           35000000        30353973   \n",
       "7375                    Selma           20000000        52076908   \n",
       "\n",
       "       worldwide_gross  averagerating  numvotes     nconst  \\\n",
       "10991                0            5.6        43  nm1897406   \n",
       "5043         149804632            7.5    246641  nm1846124   \n",
       "5045         149804632            7.5    246641  nm3181865   \n",
       "5046         149804632            7.5    246641  nm3899377   \n",
       "5232          41294674            5.8     33702  nm0235092   \n",
       "...                ...            ...       ...        ...   \n",
       "10091           182695            4.6       559  nm2156926   \n",
       "5735          81209222            5.8     62942  nm0002999   \n",
       "5736          81209222            5.8     62942  nm0580014   \n",
       "5737          81209222            5.8     62942  nm0910800   \n",
       "7375          66776576            7.5     77633  nm0252238   \n",
       "\n",
       "             primary_name  birth_year  primary_profession month  month_inorder  \n",
       "10991     Racer Rodriguez      1997.0              stunts   Dec             12  \n",
       "5043          Ali Suliman      1977.0            producer   Dec             12  \n",
       "5045         Frank Powers      1975.0            producer   Dec             12  \n",
       "5046        John Quintana      1989.0            producer   Dec             12  \n",
       "5232      Jackson Douglas      1969.0            director   Dec             12  \n",
       "...                   ...         ...                 ...   ...            ...  \n",
       "10091       David Anselmo      1979.0               actor   Jan              1  \n",
       "5735    Richard S. Wright      1960.0  production_manager   Jan              1  \n",
       "5736       Tobias Menzies      1974.0          soundtrack   Jan              1  \n",
       "5737   Michael Wandmacher      1967.0          soundtrack   Jan              1  \n",
       "7375         Carmen Ejogo      1973.0          soundtrack   Jan              1  \n",
       "\n",
       "[10958 rows x 20 columns]"
      ]
     },
     "execution_count": 145,
     "metadata": {},
     "output_type": "execute_result"
    }
   ],
   "source": [
    "project1_df['month_inorder'] = pd.DatetimeIndex(pd.to_datetime(project1_df['month'], format='%b')).month\n",
    "project1_df = project1_df.sort_values('month_inorder', ascending = False)\n",
    "project1_df"
   ]
  },
  {
   "cell_type": "code",
   "execution_count": 146,
   "metadata": {
    "ExecuteTime": {
     "end_time": "2021-04-30T17:02:20.752557Z",
     "start_time": "2021-04-30T17:02:20.721528Z"
    }
   },
   "outputs": [
    {
     "data": {
      "text/html": [
       "<div>\n",
       "<style scoped>\n",
       "    .dataframe tbody tr th:only-of-type {\n",
       "        vertical-align: middle;\n",
       "    }\n",
       "\n",
       "    .dataframe tbody tr th {\n",
       "        vertical-align: top;\n",
       "    }\n",
       "\n",
       "    .dataframe thead th {\n",
       "        text-align: right;\n",
       "    }\n",
       "</style>\n",
       "<table border=\"1\" class=\"dataframe\">\n",
       "  <thead>\n",
       "    <tr style=\"text-align: right;\">\n",
       "      <th></th>\n",
       "      <th>tconst</th>\n",
       "      <th>primary_title</th>\n",
       "      <th>original_title</th>\n",
       "      <th>start_year</th>\n",
       "      <th>runtime_minutes</th>\n",
       "      <th>genres</th>\n",
       "      <th>id</th>\n",
       "      <th>release_date</th>\n",
       "      <th>movie</th>\n",
       "      <th>production_budget</th>\n",
       "      <th>...</th>\n",
       "      <th>worldwide_gross</th>\n",
       "      <th>averagerating</th>\n",
       "      <th>numvotes</th>\n",
       "      <th>nconst</th>\n",
       "      <th>primary_name</th>\n",
       "      <th>birth_year</th>\n",
       "      <th>primary_profession</th>\n",
       "      <th>month</th>\n",
       "      <th>month_inorder</th>\n",
       "      <th>genres_split</th>\n",
       "    </tr>\n",
       "  </thead>\n",
       "  <tbody>\n",
       "    <tr>\n",
       "      <th>10991</th>\n",
       "      <td>tt7837402</td>\n",
       "      <td>Red 11</td>\n",
       "      <td>Red 11</td>\n",
       "      <td>2019.0</td>\n",
       "      <td>77.0</td>\n",
       "      <td>Horror,Sci-Fi,Thriller</td>\n",
       "      <td>78</td>\n",
       "      <td>Dec 31, 2018</td>\n",
       "      <td>Red 11</td>\n",
       "      <td>7000</td>\n",
       "      <td>...</td>\n",
       "      <td>0</td>\n",
       "      <td>5.6</td>\n",
       "      <td>43</td>\n",
       "      <td>nm1897406</td>\n",
       "      <td>Racer Rodriguez</td>\n",
       "      <td>1997.0</td>\n",
       "      <td>stunts</td>\n",
       "      <td>Dec</td>\n",
       "      <td>12</td>\n",
       "      <td>[Horror, Sci-Fi, Thriller]</td>\n",
       "    </tr>\n",
       "    <tr>\n",
       "      <th>5043</th>\n",
       "      <td>tt1091191</td>\n",
       "      <td>Lone Survivor</td>\n",
       "      <td>Lone Survivor</td>\n",
       "      <td>2013.0</td>\n",
       "      <td>121.0</td>\n",
       "      <td>Action,Biography,Drama</td>\n",
       "      <td>84</td>\n",
       "      <td>Dec 25, 2013</td>\n",
       "      <td>Lone Survivor</td>\n",
       "      <td>40000000</td>\n",
       "      <td>...</td>\n",
       "      <td>149804632</td>\n",
       "      <td>7.5</td>\n",
       "      <td>246641</td>\n",
       "      <td>nm1846124</td>\n",
       "      <td>Ali Suliman</td>\n",
       "      <td>1977.0</td>\n",
       "      <td>producer</td>\n",
       "      <td>Dec</td>\n",
       "      <td>12</td>\n",
       "      <td>[Action, Biography, Drama]</td>\n",
       "    </tr>\n",
       "    <tr>\n",
       "      <th>5045</th>\n",
       "      <td>tt1091191</td>\n",
       "      <td>Lone Survivor</td>\n",
       "      <td>Lone Survivor</td>\n",
       "      <td>2013.0</td>\n",
       "      <td>121.0</td>\n",
       "      <td>Action,Biography,Drama</td>\n",
       "      <td>84</td>\n",
       "      <td>Dec 25, 2013</td>\n",
       "      <td>Lone Survivor</td>\n",
       "      <td>40000000</td>\n",
       "      <td>...</td>\n",
       "      <td>149804632</td>\n",
       "      <td>7.5</td>\n",
       "      <td>246641</td>\n",
       "      <td>nm3181865</td>\n",
       "      <td>Frank Powers</td>\n",
       "      <td>1975.0</td>\n",
       "      <td>producer</td>\n",
       "      <td>Dec</td>\n",
       "      <td>12</td>\n",
       "      <td>[Action, Biography, Drama]</td>\n",
       "    </tr>\n",
       "    <tr>\n",
       "      <th>5046</th>\n",
       "      <td>tt1091191</td>\n",
       "      <td>Lone Survivor</td>\n",
       "      <td>Lone Survivor</td>\n",
       "      <td>2013.0</td>\n",
       "      <td>121.0</td>\n",
       "      <td>Action,Biography,Drama</td>\n",
       "      <td>84</td>\n",
       "      <td>Dec 25, 2013</td>\n",
       "      <td>Lone Survivor</td>\n",
       "      <td>40000000</td>\n",
       "      <td>...</td>\n",
       "      <td>149804632</td>\n",
       "      <td>7.5</td>\n",
       "      <td>246641</td>\n",
       "      <td>nm3899377</td>\n",
       "      <td>John Quintana</td>\n",
       "      <td>1989.0</td>\n",
       "      <td>producer</td>\n",
       "      <td>Dec</td>\n",
       "      <td>12</td>\n",
       "      <td>[Action, Biography, Drama]</td>\n",
       "    </tr>\n",
       "    <tr>\n",
       "      <th>5232</th>\n",
       "      <td>tt1694020</td>\n",
       "      <td>The Guilt Trip</td>\n",
       "      <td>The Guilt Trip</td>\n",
       "      <td>2012.0</td>\n",
       "      <td>95.0</td>\n",
       "      <td>Comedy,Drama</td>\n",
       "      <td>59</td>\n",
       "      <td>Dec 19, 2012</td>\n",
       "      <td>The Guilt Trip</td>\n",
       "      <td>40000000</td>\n",
       "      <td>...</td>\n",
       "      <td>41294674</td>\n",
       "      <td>5.8</td>\n",
       "      <td>33702</td>\n",
       "      <td>nm0235092</td>\n",
       "      <td>Jackson Douglas</td>\n",
       "      <td>1969.0</td>\n",
       "      <td>director</td>\n",
       "      <td>Dec</td>\n",
       "      <td>12</td>\n",
       "      <td>[Comedy, Drama]</td>\n",
       "    </tr>\n",
       "  </tbody>\n",
       "</table>\n",
       "<p>5 rows × 21 columns</p>\n",
       "</div>"
      ],
      "text/plain": [
       "          tconst   primary_title  original_title  start_year  runtime_minutes  \\\n",
       "10991  tt7837402          Red 11          Red 11      2019.0             77.0   \n",
       "5043   tt1091191   Lone Survivor   Lone Survivor      2013.0            121.0   \n",
       "5045   tt1091191   Lone Survivor   Lone Survivor      2013.0            121.0   \n",
       "5046   tt1091191   Lone Survivor   Lone Survivor      2013.0            121.0   \n",
       "5232   tt1694020  The Guilt Trip  The Guilt Trip      2012.0             95.0   \n",
       "\n",
       "                       genres  id  release_date           movie  \\\n",
       "10991  Horror,Sci-Fi,Thriller  78  Dec 31, 2018          Red 11   \n",
       "5043   Action,Biography,Drama  84  Dec 25, 2013   Lone Survivor   \n",
       "5045   Action,Biography,Drama  84  Dec 25, 2013   Lone Survivor   \n",
       "5046   Action,Biography,Drama  84  Dec 25, 2013   Lone Survivor   \n",
       "5232             Comedy,Drama  59  Dec 19, 2012  The Guilt Trip   \n",
       "\n",
       "       production_budget  ...  worldwide_gross  averagerating  numvotes  \\\n",
       "10991               7000  ...                0            5.6        43   \n",
       "5043            40000000  ...        149804632            7.5    246641   \n",
       "5045            40000000  ...        149804632            7.5    246641   \n",
       "5046            40000000  ...        149804632            7.5    246641   \n",
       "5232            40000000  ...         41294674            5.8     33702   \n",
       "\n",
       "          nconst     primary_name birth_year  primary_profession month  \\\n",
       "10991  nm1897406  Racer Rodriguez     1997.0              stunts   Dec   \n",
       "5043   nm1846124      Ali Suliman     1977.0            producer   Dec   \n",
       "5045   nm3181865     Frank Powers     1975.0            producer   Dec   \n",
       "5046   nm3899377    John Quintana     1989.0            producer   Dec   \n",
       "5232   nm0235092  Jackson Douglas     1969.0            director   Dec   \n",
       "\n",
       "      month_inorder                genres_split  \n",
       "10991            12  [Horror, Sci-Fi, Thriller]  \n",
       "5043             12  [Action, Biography, Drama]  \n",
       "5045             12  [Action, Biography, Drama]  \n",
       "5046             12  [Action, Biography, Drama]  \n",
       "5232             12             [Comedy, Drama]  \n",
       "\n",
       "[5 rows x 21 columns]"
      ]
     },
     "execution_count": 146,
     "metadata": {},
     "output_type": "execute_result"
    }
   ],
   "source": [
    "project1_df['genres_split'] = project1_df['genres'].map(lambda x: x.split(\",\") if x else x)\n",
    "project1_df.head()"
   ]
  },
  {
   "cell_type": "code",
   "execution_count": 147,
   "metadata": {
    "ExecuteTime": {
     "end_time": "2021-04-30T17:02:20.767571Z",
     "start_time": "2021-04-30T17:02:20.753558Z"
    }
   },
   "outputs": [],
   "source": [
    "all_genres = set()\n",
    "for genres in project1_df['genres_split']:\n",
    "    if genres:\n",
    "        all_genres.update(genres)"
   ]
  },
  {
   "cell_type": "code",
   "execution_count": 148,
   "metadata": {
    "ExecuteTime": {
     "end_time": "2021-04-30T17:02:20.783585Z",
     "start_time": "2021-04-30T17:02:20.768571Z"
    }
   },
   "outputs": [
    {
     "data": {
      "text/plain": [
       "{'Action',\n",
       " 'Adventure',\n",
       " 'Animation',\n",
       " 'Biography',\n",
       " 'Comedy',\n",
       " 'Crime',\n",
       " 'Documentary',\n",
       " 'Drama',\n",
       " 'Family',\n",
       " 'Fantasy',\n",
       " 'History',\n",
       " 'Horror',\n",
       " 'Music',\n",
       " 'Musical',\n",
       " 'Mystery',\n",
       " 'Romance',\n",
       " 'Sci-Fi',\n",
       " 'Sport',\n",
       " 'Thriller',\n",
       " 'War',\n",
       " 'Western'}"
      ]
     },
     "execution_count": 148,
     "metadata": {},
     "output_type": "execute_result"
    }
   ],
   "source": [
    "all_genres"
   ]
  },
  {
   "cell_type": "code",
   "execution_count": 149,
   "metadata": {
    "ExecuteTime": {
     "end_time": "2021-04-30T17:02:20.815615Z",
     "start_time": "2021-04-30T17:02:20.784587Z"
    }
   },
   "outputs": [
    {
     "data": {
      "text/html": [
       "<div>\n",
       "<style scoped>\n",
       "    .dataframe tbody tr th:only-of-type {\n",
       "        vertical-align: middle;\n",
       "    }\n",
       "\n",
       "    .dataframe tbody tr th {\n",
       "        vertical-align: top;\n",
       "    }\n",
       "\n",
       "    .dataframe thead th {\n",
       "        text-align: right;\n",
       "    }\n",
       "</style>\n",
       "<table border=\"1\" class=\"dataframe\">\n",
       "  <thead>\n",
       "    <tr style=\"text-align: right;\">\n",
       "      <th></th>\n",
       "      <th>tconst</th>\n",
       "      <th>primary_title</th>\n",
       "      <th>original_title</th>\n",
       "      <th>start_year</th>\n",
       "      <th>runtime_minutes</th>\n",
       "      <th>genres</th>\n",
       "      <th>id</th>\n",
       "      <th>release_date</th>\n",
       "      <th>movie</th>\n",
       "      <th>production_budget</th>\n",
       "      <th>...</th>\n",
       "      <th>averagerating</th>\n",
       "      <th>numvotes</th>\n",
       "      <th>nconst</th>\n",
       "      <th>primary_name</th>\n",
       "      <th>birth_year</th>\n",
       "      <th>primary_profession</th>\n",
       "      <th>month</th>\n",
       "      <th>month_inorder</th>\n",
       "      <th>genres_split</th>\n",
       "      <th>1_genre</th>\n",
       "    </tr>\n",
       "  </thead>\n",
       "  <tbody>\n",
       "    <tr>\n",
       "      <th>10991</th>\n",
       "      <td>tt7837402</td>\n",
       "      <td>Red 11</td>\n",
       "      <td>Red 11</td>\n",
       "      <td>2019.0</td>\n",
       "      <td>77.0</td>\n",
       "      <td>Horror,Sci-Fi,Thriller</td>\n",
       "      <td>78</td>\n",
       "      <td>Dec 31, 2018</td>\n",
       "      <td>Red 11</td>\n",
       "      <td>7000</td>\n",
       "      <td>...</td>\n",
       "      <td>5.6</td>\n",
       "      <td>43</td>\n",
       "      <td>nm1897406</td>\n",
       "      <td>Racer Rodriguez</td>\n",
       "      <td>1997.0</td>\n",
       "      <td>stunts</td>\n",
       "      <td>Dec</td>\n",
       "      <td>12</td>\n",
       "      <td>[Horror, Sci-Fi, Thriller]</td>\n",
       "      <td>Horror</td>\n",
       "    </tr>\n",
       "    <tr>\n",
       "      <th>5043</th>\n",
       "      <td>tt1091191</td>\n",
       "      <td>Lone Survivor</td>\n",
       "      <td>Lone Survivor</td>\n",
       "      <td>2013.0</td>\n",
       "      <td>121.0</td>\n",
       "      <td>Action,Biography,Drama</td>\n",
       "      <td>84</td>\n",
       "      <td>Dec 25, 2013</td>\n",
       "      <td>Lone Survivor</td>\n",
       "      <td>40000000</td>\n",
       "      <td>...</td>\n",
       "      <td>7.5</td>\n",
       "      <td>246641</td>\n",
       "      <td>nm1846124</td>\n",
       "      <td>Ali Suliman</td>\n",
       "      <td>1977.0</td>\n",
       "      <td>producer</td>\n",
       "      <td>Dec</td>\n",
       "      <td>12</td>\n",
       "      <td>[Action, Biography, Drama]</td>\n",
       "      <td>Action</td>\n",
       "    </tr>\n",
       "    <tr>\n",
       "      <th>5045</th>\n",
       "      <td>tt1091191</td>\n",
       "      <td>Lone Survivor</td>\n",
       "      <td>Lone Survivor</td>\n",
       "      <td>2013.0</td>\n",
       "      <td>121.0</td>\n",
       "      <td>Action,Biography,Drama</td>\n",
       "      <td>84</td>\n",
       "      <td>Dec 25, 2013</td>\n",
       "      <td>Lone Survivor</td>\n",
       "      <td>40000000</td>\n",
       "      <td>...</td>\n",
       "      <td>7.5</td>\n",
       "      <td>246641</td>\n",
       "      <td>nm3181865</td>\n",
       "      <td>Frank Powers</td>\n",
       "      <td>1975.0</td>\n",
       "      <td>producer</td>\n",
       "      <td>Dec</td>\n",
       "      <td>12</td>\n",
       "      <td>[Action, Biography, Drama]</td>\n",
       "      <td>Action</td>\n",
       "    </tr>\n",
       "    <tr>\n",
       "      <th>5046</th>\n",
       "      <td>tt1091191</td>\n",
       "      <td>Lone Survivor</td>\n",
       "      <td>Lone Survivor</td>\n",
       "      <td>2013.0</td>\n",
       "      <td>121.0</td>\n",
       "      <td>Action,Biography,Drama</td>\n",
       "      <td>84</td>\n",
       "      <td>Dec 25, 2013</td>\n",
       "      <td>Lone Survivor</td>\n",
       "      <td>40000000</td>\n",
       "      <td>...</td>\n",
       "      <td>7.5</td>\n",
       "      <td>246641</td>\n",
       "      <td>nm3899377</td>\n",
       "      <td>John Quintana</td>\n",
       "      <td>1989.0</td>\n",
       "      <td>producer</td>\n",
       "      <td>Dec</td>\n",
       "      <td>12</td>\n",
       "      <td>[Action, Biography, Drama]</td>\n",
       "      <td>Action</td>\n",
       "    </tr>\n",
       "    <tr>\n",
       "      <th>5232</th>\n",
       "      <td>tt1694020</td>\n",
       "      <td>The Guilt Trip</td>\n",
       "      <td>The Guilt Trip</td>\n",
       "      <td>2012.0</td>\n",
       "      <td>95.0</td>\n",
       "      <td>Comedy,Drama</td>\n",
       "      <td>59</td>\n",
       "      <td>Dec 19, 2012</td>\n",
       "      <td>The Guilt Trip</td>\n",
       "      <td>40000000</td>\n",
       "      <td>...</td>\n",
       "      <td>5.8</td>\n",
       "      <td>33702</td>\n",
       "      <td>nm0235092</td>\n",
       "      <td>Jackson Douglas</td>\n",
       "      <td>1969.0</td>\n",
       "      <td>director</td>\n",
       "      <td>Dec</td>\n",
       "      <td>12</td>\n",
       "      <td>[Comedy, Drama]</td>\n",
       "      <td>Comedy</td>\n",
       "    </tr>\n",
       "  </tbody>\n",
       "</table>\n",
       "<p>5 rows × 22 columns</p>\n",
       "</div>"
      ],
      "text/plain": [
       "          tconst   primary_title  original_title  start_year  runtime_minutes  \\\n",
       "10991  tt7837402          Red 11          Red 11      2019.0             77.0   \n",
       "5043   tt1091191   Lone Survivor   Lone Survivor      2013.0            121.0   \n",
       "5045   tt1091191   Lone Survivor   Lone Survivor      2013.0            121.0   \n",
       "5046   tt1091191   Lone Survivor   Lone Survivor      2013.0            121.0   \n",
       "5232   tt1694020  The Guilt Trip  The Guilt Trip      2012.0             95.0   \n",
       "\n",
       "                       genres  id  release_date           movie  \\\n",
       "10991  Horror,Sci-Fi,Thriller  78  Dec 31, 2018          Red 11   \n",
       "5043   Action,Biography,Drama  84  Dec 25, 2013   Lone Survivor   \n",
       "5045   Action,Biography,Drama  84  Dec 25, 2013   Lone Survivor   \n",
       "5046   Action,Biography,Drama  84  Dec 25, 2013   Lone Survivor   \n",
       "5232             Comedy,Drama  59  Dec 19, 2012  The Guilt Trip   \n",
       "\n",
       "       production_budget  ...  averagerating  numvotes     nconst  \\\n",
       "10991               7000  ...            5.6        43  nm1897406   \n",
       "5043            40000000  ...            7.5    246641  nm1846124   \n",
       "5045            40000000  ...            7.5    246641  nm3181865   \n",
       "5046            40000000  ...            7.5    246641  nm3899377   \n",
       "5232            40000000  ...            5.8     33702  nm0235092   \n",
       "\n",
       "          primary_name birth_year primary_profession  month month_inorder  \\\n",
       "10991  Racer Rodriguez     1997.0             stunts    Dec            12   \n",
       "5043       Ali Suliman     1977.0           producer    Dec            12   \n",
       "5045      Frank Powers     1975.0           producer    Dec            12   \n",
       "5046     John Quintana     1989.0           producer    Dec            12   \n",
       "5232   Jackson Douglas     1969.0           director    Dec            12   \n",
       "\n",
       "                     genres_split  1_genre  \n",
       "10991  [Horror, Sci-Fi, Thriller]   Horror  \n",
       "5043   [Action, Biography, Drama]   Action  \n",
       "5045   [Action, Biography, Drama]   Action  \n",
       "5046   [Action, Biography, Drama]   Action  \n",
       "5232              [Comedy, Drama]   Comedy  \n",
       "\n",
       "[5 rows x 22 columns]"
      ]
     },
     "execution_count": 149,
     "metadata": {},
     "output_type": "execute_result"
    }
   ],
   "source": [
    "project1_df['1_genre'] = project1_df['genres_split'].map(lambda x: x[0])\n",
    "project1_df.head()"
   ]
  },
  {
   "cell_type": "code",
   "execution_count": 150,
   "metadata": {
    "ExecuteTime": {
     "end_time": "2021-04-30T17:02:20.847643Z",
     "start_time": "2021-04-30T17:02:20.816616Z"
    }
   },
   "outputs": [
    {
     "data": {
      "text/html": [
       "<div>\n",
       "<style scoped>\n",
       "    .dataframe tbody tr th:only-of-type {\n",
       "        vertical-align: middle;\n",
       "    }\n",
       "\n",
       "    .dataframe tbody tr th {\n",
       "        vertical-align: top;\n",
       "    }\n",
       "\n",
       "    .dataframe thead th {\n",
       "        text-align: right;\n",
       "    }\n",
       "</style>\n",
       "<table border=\"1\" class=\"dataframe\">\n",
       "  <thead>\n",
       "    <tr style=\"text-align: right;\">\n",
       "      <th></th>\n",
       "      <th>tconst</th>\n",
       "      <th>primary_title</th>\n",
       "      <th>original_title</th>\n",
       "      <th>start_year</th>\n",
       "      <th>runtime_minutes</th>\n",
       "      <th>genres</th>\n",
       "      <th>id</th>\n",
       "      <th>release_date</th>\n",
       "      <th>movie</th>\n",
       "      <th>production_budget</th>\n",
       "      <th>...</th>\n",
       "      <th>averagerating</th>\n",
       "      <th>numvotes</th>\n",
       "      <th>nconst</th>\n",
       "      <th>primary_name</th>\n",
       "      <th>birth_year</th>\n",
       "      <th>primary_profession</th>\n",
       "      <th>month</th>\n",
       "      <th>month_inorder</th>\n",
       "      <th>genres_split</th>\n",
       "      <th>1_genre</th>\n",
       "    </tr>\n",
       "  </thead>\n",
       "  <tbody>\n",
       "    <tr>\n",
       "      <th>10991</th>\n",
       "      <td>tt7837402</td>\n",
       "      <td>Red 11</td>\n",
       "      <td>Red 11</td>\n",
       "      <td>2019.0</td>\n",
       "      <td>77.0</td>\n",
       "      <td>Horror,Sci-Fi,Thriller</td>\n",
       "      <td>78</td>\n",
       "      <td>Dec 31, 2018</td>\n",
       "      <td>Red 11</td>\n",
       "      <td>7000</td>\n",
       "      <td>...</td>\n",
       "      <td>5.6</td>\n",
       "      <td>43</td>\n",
       "      <td>nm1897406</td>\n",
       "      <td>Racer Rodriguez</td>\n",
       "      <td>1997.0</td>\n",
       "      <td>stunts</td>\n",
       "      <td>Dec</td>\n",
       "      <td>12</td>\n",
       "      <td>[Horror, Sci-Fi, Thriller]</td>\n",
       "      <td>Horror</td>\n",
       "    </tr>\n",
       "    <tr>\n",
       "      <th>5043</th>\n",
       "      <td>tt1091191</td>\n",
       "      <td>Lone Survivor</td>\n",
       "      <td>Lone Survivor</td>\n",
       "      <td>2013.0</td>\n",
       "      <td>121.0</td>\n",
       "      <td>Action,Biography,Drama</td>\n",
       "      <td>84</td>\n",
       "      <td>Dec 25, 2013</td>\n",
       "      <td>Lone Survivor</td>\n",
       "      <td>40000000</td>\n",
       "      <td>...</td>\n",
       "      <td>7.5</td>\n",
       "      <td>246641</td>\n",
       "      <td>nm1846124</td>\n",
       "      <td>Ali Suliman</td>\n",
       "      <td>1977.0</td>\n",
       "      <td>producer</td>\n",
       "      <td>Dec</td>\n",
       "      <td>12</td>\n",
       "      <td>[Action, Biography, Drama]</td>\n",
       "      <td>Action</td>\n",
       "    </tr>\n",
       "    <tr>\n",
       "      <th>5045</th>\n",
       "      <td>tt1091191</td>\n",
       "      <td>Lone Survivor</td>\n",
       "      <td>Lone Survivor</td>\n",
       "      <td>2013.0</td>\n",
       "      <td>121.0</td>\n",
       "      <td>Action,Biography,Drama</td>\n",
       "      <td>84</td>\n",
       "      <td>Dec 25, 2013</td>\n",
       "      <td>Lone Survivor</td>\n",
       "      <td>40000000</td>\n",
       "      <td>...</td>\n",
       "      <td>7.5</td>\n",
       "      <td>246641</td>\n",
       "      <td>nm3181865</td>\n",
       "      <td>Frank Powers</td>\n",
       "      <td>1975.0</td>\n",
       "      <td>producer</td>\n",
       "      <td>Dec</td>\n",
       "      <td>12</td>\n",
       "      <td>[Action, Biography, Drama]</td>\n",
       "      <td>Action</td>\n",
       "    </tr>\n",
       "    <tr>\n",
       "      <th>5046</th>\n",
       "      <td>tt1091191</td>\n",
       "      <td>Lone Survivor</td>\n",
       "      <td>Lone Survivor</td>\n",
       "      <td>2013.0</td>\n",
       "      <td>121.0</td>\n",
       "      <td>Action,Biography,Drama</td>\n",
       "      <td>84</td>\n",
       "      <td>Dec 25, 2013</td>\n",
       "      <td>Lone Survivor</td>\n",
       "      <td>40000000</td>\n",
       "      <td>...</td>\n",
       "      <td>7.5</td>\n",
       "      <td>246641</td>\n",
       "      <td>nm3899377</td>\n",
       "      <td>John Quintana</td>\n",
       "      <td>1989.0</td>\n",
       "      <td>producer</td>\n",
       "      <td>Dec</td>\n",
       "      <td>12</td>\n",
       "      <td>[Action, Biography, Drama]</td>\n",
       "      <td>Action</td>\n",
       "    </tr>\n",
       "    <tr>\n",
       "      <th>5232</th>\n",
       "      <td>tt1694020</td>\n",
       "      <td>The Guilt Trip</td>\n",
       "      <td>The Guilt Trip</td>\n",
       "      <td>2012.0</td>\n",
       "      <td>95.0</td>\n",
       "      <td>Comedy,Drama</td>\n",
       "      <td>59</td>\n",
       "      <td>Dec 19, 2012</td>\n",
       "      <td>The Guilt Trip</td>\n",
       "      <td>40000000</td>\n",
       "      <td>...</td>\n",
       "      <td>5.8</td>\n",
       "      <td>33702</td>\n",
       "      <td>nm0235092</td>\n",
       "      <td>Jackson Douglas</td>\n",
       "      <td>1969.0</td>\n",
       "      <td>director</td>\n",
       "      <td>Dec</td>\n",
       "      <td>12</td>\n",
       "      <td>[Comedy, Drama]</td>\n",
       "      <td>Comedy</td>\n",
       "    </tr>\n",
       "  </tbody>\n",
       "</table>\n",
       "<p>5 rows × 22 columns</p>\n",
       "</div>"
      ],
      "text/plain": [
       "          tconst   primary_title  original_title  start_year  runtime_minutes  \\\n",
       "10991  tt7837402          Red 11          Red 11      2019.0             77.0   \n",
       "5043   tt1091191   Lone Survivor   Lone Survivor      2013.0            121.0   \n",
       "5045   tt1091191   Lone Survivor   Lone Survivor      2013.0            121.0   \n",
       "5046   tt1091191   Lone Survivor   Lone Survivor      2013.0            121.0   \n",
       "5232   tt1694020  The Guilt Trip  The Guilt Trip      2012.0             95.0   \n",
       "\n",
       "                       genres  id  release_date           movie  \\\n",
       "10991  Horror,Sci-Fi,Thriller  78  Dec 31, 2018          Red 11   \n",
       "5043   Action,Biography,Drama  84  Dec 25, 2013   Lone Survivor   \n",
       "5045   Action,Biography,Drama  84  Dec 25, 2013   Lone Survivor   \n",
       "5046   Action,Biography,Drama  84  Dec 25, 2013   Lone Survivor   \n",
       "5232             Comedy,Drama  59  Dec 19, 2012  The Guilt Trip   \n",
       "\n",
       "       production_budget  ...  averagerating  numvotes     nconst  \\\n",
       "10991               7000  ...            5.6        43  nm1897406   \n",
       "5043            40000000  ...            7.5    246641  nm1846124   \n",
       "5045            40000000  ...            7.5    246641  nm3181865   \n",
       "5046            40000000  ...            7.5    246641  nm3899377   \n",
       "5232            40000000  ...            5.8     33702  nm0235092   \n",
       "\n",
       "          primary_name birth_year primary_profession  month month_inorder  \\\n",
       "10991  Racer Rodriguez     1997.0             stunts    Dec            12   \n",
       "5043       Ali Suliman     1977.0           producer    Dec            12   \n",
       "5045      Frank Powers     1975.0           producer    Dec            12   \n",
       "5046     John Quintana     1989.0           producer    Dec            12   \n",
       "5232   Jackson Douglas     1969.0           director    Dec            12   \n",
       "\n",
       "                     genres_split  1_genre  \n",
       "10991  [Horror, Sci-Fi, Thriller]   Horror  \n",
       "5043   [Action, Biography, Drama]   Action  \n",
       "5045   [Action, Biography, Drama]   Action  \n",
       "5046   [Action, Biography, Drama]   Action  \n",
       "5232              [Comedy, Drama]   Comedy  \n",
       "\n",
       "[5 rows x 22 columns]"
      ]
     },
     "execution_count": 150,
     "metadata": {},
     "output_type": "execute_result"
    }
   ],
   "source": [
    "project1_df.head()"
   ]
  },
  {
   "cell_type": "code",
   "execution_count": 151,
   "metadata": {
    "ExecuteTime": {
     "end_time": "2021-04-30T17:02:20.863658Z",
     "start_time": "2021-04-30T17:02:20.848644Z"
    }
   },
   "outputs": [
    {
     "name": "stdout",
     "output_type": "stream",
     "text": [
      "['tconst', 'primary_title', 'original_title', 'start_year', 'runtime_minutes', 'genres', 'id', 'release_date', 'movie', 'production_budget', 'domestic_gross', 'worldwide_gross', 'averagerating', 'numvotes', 'nconst', 'primary_name', 'birth_year', 'primary_profession', 'month', 'month_inorder', 'genres_split', '1_genre']\n",
      "Number of features: 22\n"
     ]
    }
   ],
   "source": [
    "features = project1_df.columns.tolist()\n",
    "print(features)\n",
    "\n",
    "def get_number_of_elements(list):\n",
    "    count = 0\n",
    "    for element in list:\n",
    "        count += 1\n",
    "    return count\n",
    "\n",
    "print('Number of features:', get_number_of_elements(features))"
   ]
  },
  {
   "cell_type": "markdown",
   "metadata": {
    "ExecuteTime": {
     "end_time": "2021-04-19T20:56:50.032750Z",
     "start_time": "2021-04-19T20:56:50.017737Z"
    }
   },
   "source": [
    "## Remove outliers"
   ]
  },
  {
   "cell_type": "code",
   "execution_count": 152,
   "metadata": {
    "ExecuteTime": {
     "end_time": "2021-04-30T17:02:20.879672Z",
     "start_time": "2021-04-30T17:02:20.864658Z"
    }
   },
   "outputs": [],
   "source": [
    "from scipy.stats import zscore\n",
    "project1_df['z_score'] = abs(zscore(project1_df['worldwide_gross']))\n",
    "project1_df = project1_df[(project1_df['z_score'] <= 3)]"
   ]
  },
  {
   "cell_type": "code",
   "execution_count": 153,
   "metadata": {
    "ExecuteTime": {
     "end_time": "2021-04-30T17:02:20.911701Z",
     "start_time": "2021-04-30T17:02:20.880673Z"
    }
   },
   "outputs": [
    {
     "data": {
      "text/html": [
       "<div>\n",
       "<style scoped>\n",
       "    .dataframe tbody tr th:only-of-type {\n",
       "        vertical-align: middle;\n",
       "    }\n",
       "\n",
       "    .dataframe tbody tr th {\n",
       "        vertical-align: top;\n",
       "    }\n",
       "\n",
       "    .dataframe thead th {\n",
       "        text-align: right;\n",
       "    }\n",
       "</style>\n",
       "<table border=\"1\" class=\"dataframe\">\n",
       "  <thead>\n",
       "    <tr style=\"text-align: right;\">\n",
       "      <th></th>\n",
       "      <th>tconst</th>\n",
       "      <th>primary_title</th>\n",
       "      <th>original_title</th>\n",
       "      <th>start_year</th>\n",
       "      <th>runtime_minutes</th>\n",
       "      <th>genres</th>\n",
       "      <th>id</th>\n",
       "      <th>release_date</th>\n",
       "      <th>movie</th>\n",
       "      <th>production_budget</th>\n",
       "      <th>...</th>\n",
       "      <th>numvotes</th>\n",
       "      <th>nconst</th>\n",
       "      <th>primary_name</th>\n",
       "      <th>birth_year</th>\n",
       "      <th>primary_profession</th>\n",
       "      <th>month</th>\n",
       "      <th>month_inorder</th>\n",
       "      <th>genres_split</th>\n",
       "      <th>1_genre</th>\n",
       "      <th>z_score</th>\n",
       "    </tr>\n",
       "  </thead>\n",
       "  <tbody>\n",
       "    <tr>\n",
       "      <th>10991</th>\n",
       "      <td>tt7837402</td>\n",
       "      <td>Red 11</td>\n",
       "      <td>Red 11</td>\n",
       "      <td>2019.0</td>\n",
       "      <td>77.0</td>\n",
       "      <td>Horror,Sci-Fi,Thriller</td>\n",
       "      <td>78</td>\n",
       "      <td>Dec 31, 2018</td>\n",
       "      <td>Red 11</td>\n",
       "      <td>7000</td>\n",
       "      <td>...</td>\n",
       "      <td>43</td>\n",
       "      <td>nm1897406</td>\n",
       "      <td>Racer Rodriguez</td>\n",
       "      <td>1997.0</td>\n",
       "      <td>stunts</td>\n",
       "      <td>Dec</td>\n",
       "      <td>12</td>\n",
       "      <td>[Horror, Sci-Fi, Thriller]</td>\n",
       "      <td>Horror</td>\n",
       "      <td>0.730223</td>\n",
       "    </tr>\n",
       "    <tr>\n",
       "      <th>5043</th>\n",
       "      <td>tt1091191</td>\n",
       "      <td>Lone Survivor</td>\n",
       "      <td>Lone Survivor</td>\n",
       "      <td>2013.0</td>\n",
       "      <td>121.0</td>\n",
       "      <td>Action,Biography,Drama</td>\n",
       "      <td>84</td>\n",
       "      <td>Dec 25, 2013</td>\n",
       "      <td>Lone Survivor</td>\n",
       "      <td>40000000</td>\n",
       "      <td>...</td>\n",
       "      <td>246641</td>\n",
       "      <td>nm1846124</td>\n",
       "      <td>Ali Suliman</td>\n",
       "      <td>1977.0</td>\n",
       "      <td>producer</td>\n",
       "      <td>Dec</td>\n",
       "      <td>12</td>\n",
       "      <td>[Action, Biography, Drama]</td>\n",
       "      <td>Action</td>\n",
       "      <td>0.253960</td>\n",
       "    </tr>\n",
       "    <tr>\n",
       "      <th>5045</th>\n",
       "      <td>tt1091191</td>\n",
       "      <td>Lone Survivor</td>\n",
       "      <td>Lone Survivor</td>\n",
       "      <td>2013.0</td>\n",
       "      <td>121.0</td>\n",
       "      <td>Action,Biography,Drama</td>\n",
       "      <td>84</td>\n",
       "      <td>Dec 25, 2013</td>\n",
       "      <td>Lone Survivor</td>\n",
       "      <td>40000000</td>\n",
       "      <td>...</td>\n",
       "      <td>246641</td>\n",
       "      <td>nm3181865</td>\n",
       "      <td>Frank Powers</td>\n",
       "      <td>1975.0</td>\n",
       "      <td>producer</td>\n",
       "      <td>Dec</td>\n",
       "      <td>12</td>\n",
       "      <td>[Action, Biography, Drama]</td>\n",
       "      <td>Action</td>\n",
       "      <td>0.253960</td>\n",
       "    </tr>\n",
       "    <tr>\n",
       "      <th>5046</th>\n",
       "      <td>tt1091191</td>\n",
       "      <td>Lone Survivor</td>\n",
       "      <td>Lone Survivor</td>\n",
       "      <td>2013.0</td>\n",
       "      <td>121.0</td>\n",
       "      <td>Action,Biography,Drama</td>\n",
       "      <td>84</td>\n",
       "      <td>Dec 25, 2013</td>\n",
       "      <td>Lone Survivor</td>\n",
       "      <td>40000000</td>\n",
       "      <td>...</td>\n",
       "      <td>246641</td>\n",
       "      <td>nm3899377</td>\n",
       "      <td>John Quintana</td>\n",
       "      <td>1989.0</td>\n",
       "      <td>producer</td>\n",
       "      <td>Dec</td>\n",
       "      <td>12</td>\n",
       "      <td>[Action, Biography, Drama]</td>\n",
       "      <td>Action</td>\n",
       "      <td>0.253960</td>\n",
       "    </tr>\n",
       "    <tr>\n",
       "      <th>5232</th>\n",
       "      <td>tt1694020</td>\n",
       "      <td>The Guilt Trip</td>\n",
       "      <td>The Guilt Trip</td>\n",
       "      <td>2012.0</td>\n",
       "      <td>95.0</td>\n",
       "      <td>Comedy,Drama</td>\n",
       "      <td>59</td>\n",
       "      <td>Dec 19, 2012</td>\n",
       "      <td>The Guilt Trip</td>\n",
       "      <td>40000000</td>\n",
       "      <td>...</td>\n",
       "      <td>33702</td>\n",
       "      <td>nm0235092</td>\n",
       "      <td>Jackson Douglas</td>\n",
       "      <td>1969.0</td>\n",
       "      <td>director</td>\n",
       "      <td>Dec</td>\n",
       "      <td>12</td>\n",
       "      <td>[Comedy, Drama]</td>\n",
       "      <td>Comedy</td>\n",
       "      <td>0.598938</td>\n",
       "    </tr>\n",
       "  </tbody>\n",
       "</table>\n",
       "<p>5 rows × 23 columns</p>\n",
       "</div>"
      ],
      "text/plain": [
       "          tconst   primary_title  original_title  start_year  runtime_minutes  \\\n",
       "10991  tt7837402          Red 11          Red 11      2019.0             77.0   \n",
       "5043   tt1091191   Lone Survivor   Lone Survivor      2013.0            121.0   \n",
       "5045   tt1091191   Lone Survivor   Lone Survivor      2013.0            121.0   \n",
       "5046   tt1091191   Lone Survivor   Lone Survivor      2013.0            121.0   \n",
       "5232   tt1694020  The Guilt Trip  The Guilt Trip      2012.0             95.0   \n",
       "\n",
       "                       genres  id  release_date           movie  \\\n",
       "10991  Horror,Sci-Fi,Thriller  78  Dec 31, 2018          Red 11   \n",
       "5043   Action,Biography,Drama  84  Dec 25, 2013   Lone Survivor   \n",
       "5045   Action,Biography,Drama  84  Dec 25, 2013   Lone Survivor   \n",
       "5046   Action,Biography,Drama  84  Dec 25, 2013   Lone Survivor   \n",
       "5232             Comedy,Drama  59  Dec 19, 2012  The Guilt Trip   \n",
       "\n",
       "       production_budget  ...  numvotes     nconst     primary_name  \\\n",
       "10991               7000  ...        43  nm1897406  Racer Rodriguez   \n",
       "5043            40000000  ...    246641  nm1846124      Ali Suliman   \n",
       "5045            40000000  ...    246641  nm3181865     Frank Powers   \n",
       "5046            40000000  ...    246641  nm3899377    John Quintana   \n",
       "5232            40000000  ...     33702  nm0235092  Jackson Douglas   \n",
       "\n",
       "       birth_year primary_profession month  month_inorder  \\\n",
       "10991      1997.0             stunts   Dec             12   \n",
       "5043       1977.0           producer   Dec             12   \n",
       "5045       1975.0           producer   Dec             12   \n",
       "5046       1989.0           producer   Dec             12   \n",
       "5232       1969.0           director   Dec             12   \n",
       "\n",
       "                     genres_split 1_genre   z_score  \n",
       "10991  [Horror, Sci-Fi, Thriller]  Horror  0.730223  \n",
       "5043   [Action, Biography, Drama]  Action  0.253960  \n",
       "5045   [Action, Biography, Drama]  Action  0.253960  \n",
       "5046   [Action, Biography, Drama]  Action  0.253960  \n",
       "5232              [Comedy, Drama]  Comedy  0.598938  \n",
       "\n",
       "[5 rows x 23 columns]"
      ]
     },
     "execution_count": 153,
     "metadata": {},
     "output_type": "execute_result"
    }
   ],
   "source": [
    "project1_df.head()"
   ]
  },
  {
   "cell_type": "markdown",
   "metadata": {},
   "source": [
    "## Data Exploration"
   ]
  },
  {
   "cell_type": "markdown",
   "metadata": {},
   "source": [
    "### Initial Exploration"
   ]
  },
  {
   "cell_type": "code",
   "execution_count": null,
   "metadata": {},
   "outputs": [],
   "source": []
  },
  {
   "cell_type": "code",
   "execution_count": 154,
   "metadata": {
    "ExecuteTime": {
     "end_time": "2021-04-30T17:02:22.155642Z",
     "start_time": "2021-04-30T17:02:20.912702Z"
    }
   },
   "outputs": [
    {
     "data": {
      "text/plain": [
       "array([[<AxesSubplot:title={'center':'start_year'}>,\n",
       "        <AxesSubplot:title={'center':'runtime_minutes'}>,\n",
       "        <AxesSubplot:title={'center':'id'}>],\n",
       "       [<AxesSubplot:title={'center':'production_budget'}>,\n",
       "        <AxesSubplot:title={'center':'domestic_gross'}>,\n",
       "        <AxesSubplot:title={'center':'worldwide_gross'}>],\n",
       "       [<AxesSubplot:title={'center':'averagerating'}>,\n",
       "        <AxesSubplot:title={'center':'numvotes'}>,\n",
       "        <AxesSubplot:title={'center':'birth_year'}>],\n",
       "       [<AxesSubplot:title={'center':'month_inorder'}>,\n",
       "        <AxesSubplot:title={'center':'z_score'}>, <AxesSubplot:>]],\n",
       "      dtype=object)"
      ]
     },
     "execution_count": 154,
     "metadata": {},
     "output_type": "execute_result"
    },
    {
     "data": {
      "image/png": "[encoded data removed]",
      "text/plain": [
       "<Figure size 1080x1080 with 12 Axes>"
      ]
     },
     "metadata": {},
     "output_type": "display_data"
    }
   ],
   "source": [
    "project1_df.hist(figsize=(15,15))"
   ]
  },
  {
   "cell_type": "code",
   "execution_count": 242,
   "metadata": {
    "ExecuteTime": {
     "end_time": "2021-04-30T18:18:26.175015Z",
     "start_time": "2021-04-30T18:18:25.943146Z"
    }
   },
   "outputs": [
    {
     "data": {
      "text/plain": [
       "<seaborn.axisgrid.FacetGrid at 0x221da818580>"
      ]
     },
     "execution_count": 242,
     "metadata": {},
     "output_type": "execute_result"
    },
    {
     "data": {
      "image/png": "[encoded data removed]",
      "text/plain": [
       "<Figure size 360x360 with 1 Axes>"
      ]
     },
     "metadata": {},
     "output_type": "display_data"
    }
   ],
   "source": [
    "sns.displot(data = project1_df, x=\"domestic_gross\")"
   ]
  },
  {
   "cell_type": "markdown",
   "metadata": {},
   "source": [
    "### Question 1\n",
    "\n",
    "Which departments are the most influential on films that grossed more than $30,000,000 domestically?\n",
    "Although these are considered outliers more than likely, a major production company will be concerned with the cash cows.\n",
    "It is important to note that as I go through and look at the people and departments that were associated with high grossing films, keep in mind that **correlation does NOT mean causation**.  \n",
    "\n",
    "That being said this can give us some initial insight on the major players in big budget films."
   ]
  },
  {
   "cell_type": "code",
   "execution_count": 264,
   "metadata": {
    "ExecuteTime": {
     "end_time": "2021-04-30T18:20:45.148242Z",
     "start_time": "2021-04-30T18:20:45.144240Z"
    }
   },
   "outputs": [],
   "source": [
    "df_filtered = project1_df[project1_df['worldwide_gross'] >= 400000000]"
   ]
  },
  {
   "cell_type": "code",
   "execution_count": 265,
   "metadata": {
    "ExecuteTime": {
     "end_time": "2021-04-30T18:20:45.546804Z",
     "start_time": "2021-04-30T18:20:45.543802Z"
    }
   },
   "outputs": [
    {
     "data": {
      "text/plain": [
       "(1845, 23)"
      ]
     },
     "execution_count": 265,
     "metadata": {},
     "output_type": "execute_result"
    }
   ],
   "source": [
    "df_filtered.shape"
   ]
  },
  {
   "cell_type": "code",
   "execution_count": 266,
   "metadata": {
    "ExecuteTime": {
     "end_time": "2021-04-30T18:20:46.107560Z",
     "start_time": "2021-04-30T18:20:45.911435Z"
    }
   },
   "outputs": [
    {
     "data": {
      "text/plain": [
       "<seaborn.axisgrid.FacetGrid at 0x221dbc73bb0>"
      ]
     },
     "execution_count": 266,
     "metadata": {},
     "output_type": "execute_result"
    },
    {
     "data": {
      "image/png": "[encoded data removed]",
      "text/plain": [
       "<Figure size 360x360 with 1 Axes>"
      ]
     },
     "metadata": {},
     "output_type": "display_data"
    }
   ],
   "source": [
    "sns.displot(data = df_filtered, x=\"domestic_gross\")"
   ]
  },
  {
   "cell_type": "code",
   "execution_count": null,
   "metadata": {},
   "outputs": [],
   "source": []
  },
  {
   "cell_type": "code",
   "execution_count": 256,
   "metadata": {
    "ExecuteTime": {
     "end_time": "2021-04-30T18:19:43.767891Z",
     "start_time": "2021-04-30T18:19:43.756881Z"
    }
   },
   "outputs": [
    {
     "data": {
      "text/plain": [
       "array(['producer', 'actor', 'composer', 'director', 'music_department',\n",
       "       'soundtrack', 'camera_department', 'actress', 'stunts', 'writer',\n",
       "       'editor', 'visual_effects', 'cinematographer',\n",
       "       'production_manager', 'location_management', 'miscellaneous',\n",
       "       'costume_department', 'art_department', 'executive',\n",
       "       'art_director', 'sound_department', 'editorial_department',\n",
       "       'casting_director', 'production_designer', 'assistant_director',\n",
       "       'animation_department', 'transportation_department',\n",
       "       'casting_department', 'costume_designer', 'manager',\n",
       "       'make_up_department', 'talent_agent'], dtype=object)"
      ]
     },
     "execution_count": 256,
     "metadata": {},
     "output_type": "execute_result"
    }
   ],
   "source": [
    "df_filtered['primary_profession'].unique()"
   ]
  },
  {
   "cell_type": "code",
   "execution_count": 192,
   "metadata": {
    "ExecuteTime": {
     "end_time": "2021-04-30T17:10:12.647065Z",
     "start_time": "2021-04-30T17:10:11.981197Z"
    }
   },
   "outputs": [
    {
     "data": {
      "image/png": "[encoded data removed]",
      "text/plain": [
       "<Figure size 1440x576 with 1 Axes>"
      ]
     },
     "metadata": {},
     "output_type": "display_data"
    }
   ],
   "source": [
    "# I am hoping this tells us something about the presence of each department per film grosses.\n",
    "\n",
    "fig, ax = plt.subplots(figsize=(20,8))\n",
    "\n",
    "g = sns.barplot(data=df_filtered, x= 'primary_profession', y='domestic_gross', palette = 'crest' )\n",
    "g.set_xticklabels(g.get_xticklabels(), rotation=45, ha='right', fontsize=14)\n",
    "ax.lines = []\n",
    "\n",
    "plt.xlabel(\"Department\", fontsize=20)\n",
    "plt.ylabel(\"Average Domestic Gross\", fontsize=20)\n",
    "plt.title(\"Average Domestic Gross by Field\", fontsize=32)\n",
    "plt.tight_layout\n",
    "plt.show()"
   ]
  },
  {
   "cell_type": "code",
   "execution_count": 193,
   "metadata": {
    "ExecuteTime": {
     "end_time": "2021-04-30T17:10:57.236792Z",
     "start_time": "2021-04-30T17:10:57.219745Z"
    }
   },
   "outputs": [],
   "source": [
    "new_df = df_filtered[df_filtered['primary_profession'] == 'visual_effects']"
   ]
  },
  {
   "cell_type": "code",
   "execution_count": 194,
   "metadata": {
    "ExecuteTime": {
     "end_time": "2021-04-30T17:10:57.772084Z",
     "start_time": "2021-04-30T17:10:57.754563Z"
    }
   },
   "outputs": [
    {
     "data": {
      "text/html": [
       "<div>\n",
       "<style scoped>\n",
       "    .dataframe tbody tr th:only-of-type {\n",
       "        vertical-align: middle;\n",
       "    }\n",
       "\n",
       "    .dataframe tbody tr th {\n",
       "        vertical-align: top;\n",
       "    }\n",
       "\n",
       "    .dataframe thead th {\n",
       "        text-align: right;\n",
       "    }\n",
       "</style>\n",
       "<table border=\"1\" class=\"dataframe\">\n",
       "  <thead>\n",
       "    <tr style=\"text-align: right;\">\n",
       "      <th></th>\n",
       "      <th>tconst</th>\n",
       "      <th>primary_title</th>\n",
       "      <th>original_title</th>\n",
       "      <th>start_year</th>\n",
       "      <th>runtime_minutes</th>\n",
       "      <th>genres</th>\n",
       "      <th>id</th>\n",
       "      <th>release_date</th>\n",
       "      <th>movie</th>\n",
       "      <th>production_budget</th>\n",
       "      <th>...</th>\n",
       "      <th>numvotes</th>\n",
       "      <th>nconst</th>\n",
       "      <th>primary_name</th>\n",
       "      <th>birth_year</th>\n",
       "      <th>primary_profession</th>\n",
       "      <th>month</th>\n",
       "      <th>month_inorder</th>\n",
       "      <th>genres_split</th>\n",
       "      <th>1_genre</th>\n",
       "      <th>z_score</th>\n",
       "    </tr>\n",
       "  </thead>\n",
       "  <tbody>\n",
       "    <tr>\n",
       "      <th>1524</th>\n",
       "      <td>tt1477834</td>\n",
       "      <td>Aquaman</td>\n",
       "      <td>Aquaman</td>\n",
       "      <td>2018.0</td>\n",
       "      <td>143.0</td>\n",
       "      <td>Action,Adventure,Fantasy</td>\n",
       "      <td>36</td>\n",
       "      <td>Dec 21, 2018</td>\n",
       "      <td>Aquaman</td>\n",
       "      <td>160000000</td>\n",
       "      <td>...</td>\n",
       "      <td>263328</td>\n",
       "      <td>nm0382743</td>\n",
       "      <td>Kevin Hickman</td>\n",
       "      <td>1971.0</td>\n",
       "      <td>visual_effects</td>\n",
       "      <td>Dec</td>\n",
       "      <td>12</td>\n",
       "      <td>[Action, Adventure, Fantasy]</td>\n",
       "      <td>Action</td>\n",
       "      <td>2.916015</td>\n",
       "    </tr>\n",
       "    <tr>\n",
       "      <th>1536</th>\n",
       "      <td>tt1477834</td>\n",
       "      <td>Aquaman</td>\n",
       "      <td>Aquaman</td>\n",
       "      <td>2018.0</td>\n",
       "      <td>143.0</td>\n",
       "      <td>Action,Adventure,Fantasy</td>\n",
       "      <td>36</td>\n",
       "      <td>Dec 21, 2018</td>\n",
       "      <td>Aquaman</td>\n",
       "      <td>160000000</td>\n",
       "      <td>...</td>\n",
       "      <td>263328</td>\n",
       "      <td>nm3346310</td>\n",
       "      <td>Chris Dwyer</td>\n",
       "      <td>1985.0</td>\n",
       "      <td>visual_effects</td>\n",
       "      <td>Dec</td>\n",
       "      <td>12</td>\n",
       "      <td>[Action, Adventure, Fantasy]</td>\n",
       "      <td>Action</td>\n",
       "      <td>2.916015</td>\n",
       "    </tr>\n",
       "    <tr>\n",
       "      <th>1015</th>\n",
       "      <td>tt3501632</td>\n",
       "      <td>Thor: Ragnarok</td>\n",
       "      <td>Thor: Ragnarok</td>\n",
       "      <td>2017.0</td>\n",
       "      <td>130.0</td>\n",
       "      <td>Action,Adventure,Comedy</td>\n",
       "      <td>82</td>\n",
       "      <td>Nov 3, 2017</td>\n",
       "      <td>Thor: Ragnarok</td>\n",
       "      <td>180000000</td>\n",
       "      <td>...</td>\n",
       "      <td>482995</td>\n",
       "      <td>nm1653021</td>\n",
       "      <td>Justin Talley</td>\n",
       "      <td>1983.0</td>\n",
       "      <td>visual_effects</td>\n",
       "      <td>Nov</td>\n",
       "      <td>11</td>\n",
       "      <td>[Action, Adventure, Comedy]</td>\n",
       "      <td>Action</td>\n",
       "      <td>1.962519</td>\n",
       "    </tr>\n",
       "    <tr>\n",
       "      <th>676</th>\n",
       "      <td>tt1074638</td>\n",
       "      <td>Skyfall</td>\n",
       "      <td>Skyfall</td>\n",
       "      <td>2012.0</td>\n",
       "      <td>143.0</td>\n",
       "      <td>Action,Adventure,Thriller</td>\n",
       "      <td>52</td>\n",
       "      <td>Nov 8, 2012</td>\n",
       "      <td>Skyfall</td>\n",
       "      <td>200000000</td>\n",
       "      <td>...</td>\n",
       "      <td>592221</td>\n",
       "      <td>nm0003445</td>\n",
       "      <td>Steven Begg</td>\n",
       "      <td>1958.0</td>\n",
       "      <td>visual_effects</td>\n",
       "      <td>Nov</td>\n",
       "      <td>11</td>\n",
       "      <td>[Action, Adventure, Thriller]</td>\n",
       "      <td>Action</td>\n",
       "      <td>2.800394</td>\n",
       "    </tr>\n",
       "    <tr>\n",
       "      <th>1302</th>\n",
       "      <td>tt2015381</td>\n",
       "      <td>Guardians of the Galaxy</td>\n",
       "      <td>Guardians of the Galaxy</td>\n",
       "      <td>2014.0</td>\n",
       "      <td>121.0</td>\n",
       "      <td>Action,Adventure,Comedy</td>\n",
       "      <td>14</td>\n",
       "      <td>Aug 1, 2014</td>\n",
       "      <td>Guardians of the Galaxy</td>\n",
       "      <td>170000000</td>\n",
       "      <td>...</td>\n",
       "      <td>948394</td>\n",
       "      <td>nm4457305</td>\n",
       "      <td>Alessandro Sabbioni</td>\n",
       "      <td>1983.0</td>\n",
       "      <td>visual_effects</td>\n",
       "      <td>Aug</td>\n",
       "      <td>8</td>\n",
       "      <td>[Action, Adventure, Comedy]</td>\n",
       "      <td>Action</td>\n",
       "      <td>1.720540</td>\n",
       "    </tr>\n",
       "  </tbody>\n",
       "</table>\n",
       "<p>5 rows × 23 columns</p>\n",
       "</div>"
      ],
      "text/plain": [
       "         tconst            primary_title           original_title  start_year  \\\n",
       "1524  tt1477834                  Aquaman                  Aquaman      2018.0   \n",
       "1536  tt1477834                  Aquaman                  Aquaman      2018.0   \n",
       "1015  tt3501632           Thor: Ragnarok           Thor: Ragnarok      2017.0   \n",
       "676   tt1074638                  Skyfall                  Skyfall      2012.0   \n",
       "1302  tt2015381  Guardians of the Galaxy  Guardians of the Galaxy      2014.0   \n",
       "\n",
       "      runtime_minutes                     genres  id  release_date  \\\n",
       "1524            143.0   Action,Adventure,Fantasy  36  Dec 21, 2018   \n",
       "1536            143.0   Action,Adventure,Fantasy  36  Dec 21, 2018   \n",
       "1015            130.0    Action,Adventure,Comedy  82   Nov 3, 2017   \n",
       "676             143.0  Action,Adventure,Thriller  52   Nov 8, 2012   \n",
       "1302            121.0    Action,Adventure,Comedy  14   Aug 1, 2014   \n",
       "\n",
       "                        movie  production_budget  ...  numvotes     nconst  \\\n",
       "1524                  Aquaman          160000000  ...    263328  nm0382743   \n",
       "1536                  Aquaman          160000000  ...    263328  nm3346310   \n",
       "1015           Thor: Ragnarok          180000000  ...    482995  nm1653021   \n",
       "676                   Skyfall          200000000  ...    592221  nm0003445   \n",
       "1302  Guardians of the Galaxy          170000000  ...    948394  nm4457305   \n",
       "\n",
       "             primary_name  birth_year primary_profession month  month_inorder  \\\n",
       "1524        Kevin Hickman      1971.0     visual_effects   Dec             12   \n",
       "1536          Chris Dwyer      1985.0     visual_effects   Dec             12   \n",
       "1015        Justin Talley      1983.0     visual_effects   Nov             11   \n",
       "676           Steven Begg      1958.0     visual_effects   Nov             11   \n",
       "1302  Alessandro Sabbioni      1983.0     visual_effects   Aug              8   \n",
       "\n",
       "                       genres_split 1_genre   z_score  \n",
       "1524   [Action, Adventure, Fantasy]  Action  2.916015  \n",
       "1536   [Action, Adventure, Fantasy]  Action  2.916015  \n",
       "1015    [Action, Adventure, Comedy]  Action  1.962519  \n",
       "676   [Action, Adventure, Thriller]  Action  2.800394  \n",
       "1302    [Action, Adventure, Comedy]  Action  1.720540  \n",
       "\n",
       "[5 rows x 23 columns]"
      ]
     },
     "execution_count": 194,
     "metadata": {},
     "output_type": "execute_result"
    }
   ],
   "source": [
    "new_df.head()"
   ]
  },
  {
   "cell_type": "code",
   "execution_count": 195,
   "metadata": {
    "ExecuteTime": {
     "end_time": "2021-04-30T17:10:59.068251Z",
     "start_time": "2021-04-30T17:10:59.059749Z"
    }
   },
   "outputs": [
    {
     "data": {
      "text/plain": [
       "(6, 23)"
      ]
     },
     "execution_count": 195,
     "metadata": {},
     "output_type": "execute_result"
    }
   ],
   "source": [
    "new_df.shape"
   ]
  },
  {
   "cell_type": "code",
   "execution_count": 196,
   "metadata": {
    "ExecuteTime": {
     "end_time": "2021-04-30T17:11:00.001708Z",
     "start_time": "2021-04-30T17:10:59.852299Z"
    }
   },
   "outputs": [
    {
     "data": {
      "image/png": "[encoded data removed]",
      "text/plain": [
       "<Figure size 1440x576 with 1 Axes>"
      ]
     },
     "metadata": {},
     "output_type": "display_data"
    }
   ],
   "source": [
    "fig, ax = plt.subplots(figsize=(20,8))\n",
    "\n",
    "g = sns.barplot(data=new_df, x= 'primary_name', y='domestic_gross', palette = 'crest' )\n",
    "g.set_xticklabels(g.get_xticklabels(), rotation=45, ha='right', fontsize=14)\n",
    "ax.lines = []\n",
    "\n",
    "plt.xlabel(\"Visual Effects\", fontsize=20)\n",
    "plt.ylabel(\"Average Domestic Gross\", fontsize=20)\n",
    "plt.title(\"Major Players in Hollywood\", fontsize=32)\n",
    "plt.tight_layout\n",
    "plt.show()"
   ]
  },
  {
   "cell_type": "code",
   "execution_count": 163,
   "metadata": {
    "ExecuteTime": {
     "end_time": "2021-04-30T17:02:23.835895Z",
     "start_time": "2021-04-30T17:02:23.821342Z"
    }
   },
   "outputs": [],
   "source": [
    "ad_df = df_filtered[df_filtered['primary_profession'] == 'animation_department']"
   ]
  },
  {
   "cell_type": "code",
   "execution_count": 164,
   "metadata": {
    "ExecuteTime": {
     "end_time": "2021-04-30T17:02:23.851910Z",
     "start_time": "2021-04-30T17:02:23.838898Z"
    }
   },
   "outputs": [
    {
     "data": {
      "text/plain": [
       "(4, 23)"
      ]
     },
     "execution_count": 164,
     "metadata": {},
     "output_type": "execute_result"
    }
   ],
   "source": [
    "ad_df.shape"
   ]
  },
  {
   "cell_type": "code",
   "execution_count": 165,
   "metadata": {
    "ExecuteTime": {
     "end_time": "2021-04-30T17:02:23.995745Z",
     "start_time": "2021-04-30T17:02:23.853912Z"
    }
   },
   "outputs": [
    {
     "data": {
      "image/png": "[encoded data removed]",
      "text/plain": [
       "<Figure size 1440x576 with 1 Axes>"
      ]
     },
     "metadata": {},
     "output_type": "display_data"
    }
   ],
   "source": [
    "fig, ax = plt.subplots(figsize=(20,8))\n",
    "\n",
    "g = sns.barplot(data=ad_df, x= 'primary_name', y='domestic_gross', palette = 'crest' )\n",
    "g.set_xticklabels(g.get_xticklabels(), rotation=45, ha='right', fontsize=14)\n",
    "ax.lines = []\n",
    "\n",
    "plt.xlabel(\"Animators\", fontsize=20)\n",
    "plt.ylabel(\"Average Domestic Gross\", fontsize=20)\n",
    "plt.title('Top Players in Animation', fontsize=32)\n",
    "plt.tight_layout\n",
    "plt.show()"
   ]
  },
  {
   "cell_type": "code",
   "execution_count": 202,
   "metadata": {
    "ExecuteTime": {
     "end_time": "2021-04-30T17:12:53.299435Z",
     "start_time": "2021-04-30T17:12:53.296433Z"
    }
   },
   "outputs": [],
   "source": [
    "manager_df = df_filtered[df_filtered['primary_profession'] == 'production_manager']"
   ]
  },
  {
   "cell_type": "code",
   "execution_count": 203,
   "metadata": {
    "ExecuteTime": {
     "end_time": "2021-04-30T17:12:53.936341Z",
     "start_time": "2021-04-30T17:12:53.911499Z"
    }
   },
   "outputs": [
    {
     "data": {
      "text/plain": [
       "(5, 23)"
      ]
     },
     "execution_count": 203,
     "metadata": {},
     "output_type": "execute_result"
    }
   ],
   "source": [
    "manager_df.shape"
   ]
  },
  {
   "cell_type": "code",
   "execution_count": 204,
   "metadata": {
    "ExecuteTime": {
     "end_time": "2021-04-30T17:14:13.831884Z",
     "start_time": "2021-04-30T17:14:13.695213Z"
    }
   },
   "outputs": [
    {
     "data": {
      "image/png": "[encoded data removed]",
      "text/plain": [
       "<Figure size 1440x576 with 1 Axes>"
      ]
     },
     "metadata": {},
     "output_type": "display_data"
    }
   ],
   "source": [
    "fig, ax = plt.subplots(figsize=(20,8))\n",
    "\n",
    "g = sns.barplot(data=manager_df, x= 'primary_name', y='domestic_gross', palette = 'crest' )\n",
    "g.set_xticklabels(g.get_xticklabels(), rotation=45, ha='right', fontsize=14)\n",
    "ax.lines = []\n",
    "\n",
    "plt.xlabel(\"Production Managers\", fontsize=20)\n",
    "plt.ylabel(\"Average Domestic Gross\", fontsize=20)\n",
    "plt.title('Production Managers in High Gross Films', fontsize=32)\n",
    "plt.tight_layout\n",
    "plt.show()"
   ]
  },
  {
   "cell_type": "markdown",
   "metadata": {
    "ExecuteTime": {
     "end_time": "2021-04-28T20:29:07.788100Z",
     "start_time": "2021-04-28T20:29:07.772446Z"
    }
   },
   "source": [
    "### Question 2\n",
    "\n",
    "**Does a higher budget result in a higher rating?**"
   ]
  },
  {
   "cell_type": "code",
   "execution_count": 166,
   "metadata": {
    "ExecuteTime": {
     "end_time": "2021-04-30T17:02:24.010906Z",
     "start_time": "2021-04-30T17:02:23.995891Z"
    }
   },
   "outputs": [],
   "source": [
    "#I first just looked at Rating v Worldwide Gross, and truly did not see much of a relationship."
   ]
  },
  {
   "cell_type": "code",
   "execution_count": 167,
   "metadata": {
    "ExecuteTime": {
     "end_time": "2021-04-30T17:02:24.153033Z",
     "start_time": "2021-04-30T17:02:24.011907Z"
    }
   },
   "outputs": [
    {
     "data": {
      "image/png": "[encoded data removed]",
      "text/plain": [
       "<Figure size 432x288 with 1 Axes>"
      ]
     },
     "metadata": {},
     "output_type": "display_data"
    }
   ],
   "source": [
    "plt.scatter(x='averagerating', y='worldwide_gross', data=project1_df.iloc[0:1000])\n",
    "plt.xlabel('Average Rating')\n",
    "plt.ylabel('Woldwide Gross - In hundreds of millions')\n",
    "plt.title('Does Budget effect Avg. Rating')\n",
    "plt.show()"
   ]
  },
  {
   "cell_type": "code",
   "execution_count": 168,
   "metadata": {
    "ExecuteTime": {
     "end_time": "2021-04-30T17:02:24.168267Z",
     "start_time": "2021-04-30T17:02:24.153033Z"
    }
   },
   "outputs": [],
   "source": [
    "#So I broke it down by High, Mid, and Low grossing films and still did not see any relationship."
   ]
  },
  {
   "cell_type": "code",
   "execution_count": 169,
   "metadata": {
    "ExecuteTime": {
     "end_time": "2021-04-30T17:02:24.536792Z",
     "start_time": "2021-04-30T17:02:24.169267Z"
    }
   },
   "outputs": [
    {
     "name": "stderr",
     "output_type": "stream",
     "text": [
      "<ipython-input-169-db559261c069>:24: UserWarning: Matplotlib is currently using module://ipykernel.pylab.backend_inline, which is a non-GUI backend, so cannot show the figure.\n",
      "  fig.show()\n"
     ]
    },
    {
     "data": {
      "image/png": "[encoded data removed]",
      "text/plain": [
       "<Figure size 720x576 with 3 Axes>"
      ]
     },
     "metadata": {},
     "output_type": "display_data"
    }
   ],
   "source": [
    "df1 = project1_df.sort_values('worldwide_gross', ascending = False)\n",
    "\n",
    "fig, axs = plt.subplots(3, figsize = (10,8))\n",
    "fig.suptitle(\"Low, Mid, High Grossing Films\")\n",
    "\n",
    "\n",
    "axs[0].scatter(x='worldwide_gross', y='averagerating', data=df1.iloc[0:750], color='magenta')\n",
    "axs[1].scatter(x='worldwide_gross', y='averagerating', data=df1.iloc[751:1500], color='purple')\n",
    "axs[2].scatter(x='worldwide_gross', y='averagerating', data=df1.iloc[1501:2250],color='blue')\n",
    "\n",
    "axs[0].set_xlabel('Worldwide Gross')\n",
    "axs[0].set_ylabel('Average Rating')\n",
    "axs[0].set_title('High Grossing Films')\n",
    "\n",
    "axs[1].set_xlabel('Worldwide Gross')\n",
    "axs[1].set_ylabel('Average Rating')\n",
    "axs[1].set_title('Mid Grossing')\n",
    "\n",
    "axs[2].set_xlabel('Worldwide Gross')\n",
    "axs[2].set_ylabel('Average Rating')\n",
    "axs[2].set_title('Low Grossing')\n",
    "\n",
    "fig.tight_layout()\n",
    "fig.show()"
   ]
  },
  {
   "cell_type": "code",
   "execution_count": 170,
   "metadata": {
    "ExecuteTime": {
     "end_time": "2021-04-30T17:02:24.552806Z",
     "start_time": "2021-04-30T17:02:24.537793Z"
    }
   },
   "outputs": [],
   "source": [
    "#I added in the third value of Budget and finally found a relationship between worldwide gross and budget.  The budget does not have to be too large, but should still be in the range of 100-200 million."
   ]
  },
  {
   "cell_type": "code",
   "execution_count": 171,
   "metadata": {
    "ExecuteTime": {
     "end_time": "2021-04-30T17:02:25.012997Z",
     "start_time": "2021-04-30T17:02:24.553808Z"
    }
   },
   "outputs": [
    {
     "data": {
      "image/png": "[encoded data removed]",
      "text/plain": [
       "<Figure size 864x864 with 1 Axes>"
      ]
     },
     "metadata": {},
     "output_type": "display_data"
    }
   ],
   "source": [
    "f, ax = plt.subplots(figsize=(12, 12))\n",
    "sns.despine(f, left=True, bottom=True)\n",
    "sns.scatterplot(x=\"worldwide_gross\", y=\"averagerating\",\n",
    "                hue=\"production_budget\",\n",
    "                size='production_budget',\n",
    "                sizes=(1,250),\n",
    "                data=project1_df.iloc[200:2000], ax=ax)\n",
    "\n",
    "ax.set_title('Budget, Ratings & Revenue', fontsize=20)\n",
    "ax.set_ylabel('Average Rating')\n",
    "ax.set_xlabel('Worldwide Gross - Hundreds of Millions')\n",
    "plt.savefig('png_1')\n",
    "plt.show()"
   ]
  },
  {
   "cell_type": "markdown",
   "metadata": {
    "ExecuteTime": {
     "end_time": "2021-04-30T17:02:25.028515Z",
     "start_time": "2021-04-30T17:02:25.014000Z"
    }
   },
   "source": [
    "### Question 3 \n",
    "\n",
    "Does the time of year effect the gross revenue?  \n",
    "i.e. Are people staying indoors and going to the movies in the winter, is it more slow in the summer because people are outside, ext.?"
   ]
  },
  {
   "cell_type": "code",
   "execution_count": 208,
   "metadata": {
    "ExecuteTime": {
     "end_time": "2021-04-30T17:19:44.724976Z",
     "start_time": "2021-04-30T17:19:44.705952Z"
    }
   },
   "outputs": [
    {
     "name": "stdout",
     "output_type": "stream",
     "text": [
      "<class 'pandas.core.frame.DataFrame'>\n",
      "Int64Index: 10744 entries, 10991 to 7375\n",
      "Data columns (total 23 columns):\n",
      " #   Column              Non-Null Count  Dtype  \n",
      "---  ------              --------------  -----  \n",
      " 0   tconst              10744 non-null  object \n",
      " 1   primary_title       10744 non-null  object \n",
      " 2   original_title      10744 non-null  object \n",
      " 3   start_year          10744 non-null  float64\n",
      " 4   runtime_minutes     10744 non-null  float64\n",
      " 5   genres              10744 non-null  object \n",
      " 6   id                  10744 non-null  int64  \n",
      " 7   release_date        10744 non-null  object \n",
      " 8   movie               10744 non-null  object \n",
      " 9   production_budget   10744 non-null  int64  \n",
      " 10  domestic_gross      10744 non-null  int64  \n",
      " 11  worldwide_gross     10744 non-null  int64  \n",
      " 12  averagerating       10744 non-null  float64\n",
      " 13  numvotes            10744 non-null  int64  \n",
      " 14  nconst              10744 non-null  object \n",
      " 15  primary_name        10744 non-null  object \n",
      " 16  birth_year          10744 non-null  float64\n",
      " 17  primary_profession  10744 non-null  object \n",
      " 18  month               10744 non-null  object \n",
      " 19  month_inorder       10744 non-null  int64  \n",
      " 20  genres_split        10744 non-null  object \n",
      " 21  1_genre             10744 non-null  object \n",
      " 22  z_score             10744 non-null  float64\n",
      "dtypes: float64(5), int64(6), object(12)\n",
      "memory usage: 2.3+ MB\n"
     ]
    }
   ],
   "source": [
    "project1_df.info()"
   ]
  },
  {
   "cell_type": "code",
   "execution_count": 213,
   "metadata": {
    "ExecuteTime": {
     "end_time": "2021-04-30T17:35:02.216021Z",
     "start_time": "2021-04-30T17:35:02.206012Z"
    }
   },
   "outputs": [
    {
     "data": {
      "text/plain": [
       "array(['Dec', 'Nov', 'Oct', 'Sep', 'Aug', 'Jul', 'Jun', 'May', 'Apr',\n",
       "       'Mar', 'Feb', 'Jan'], dtype=object)"
      ]
     },
     "execution_count": 213,
     "metadata": {},
     "output_type": "execute_result"
    }
   ],
   "source": [
    "project1_df.month.unique()"
   ]
  },
  {
   "cell_type": "code",
   "execution_count": 210,
   "metadata": {
    "ExecuteTime": {
     "end_time": "2021-04-30T17:20:42.664337Z",
     "start_time": "2021-04-30T17:20:42.652319Z"
    }
   },
   "outputs": [],
   "source": [
    "cats = ['Jan', 'Feb', 'Mar', 'Apr','May', 'Jun', 'Jul', 'Aug', 'Sep', 'Oct', 'Nov', 'Dec']"
   ]
  },
  {
   "cell_type": "code",
   "execution_count": 211,
   "metadata": {
    "ExecuteTime": {
     "end_time": "2021-04-30T17:20:43.678833Z",
     "start_time": "2021-04-30T17:20:43.207294Z"
    }
   },
   "outputs": [
    {
     "data": {
      "image/png": "[encoded data removed]",
      "text/plain": [
       "<Figure size 612x468 with 1 Axes>"
      ]
     },
     "metadata": {},
     "output_type": "display_data"
    }
   ],
   "source": [
    "f, ax = plt.subplots(figsize=(8.5, 6.5))\n",
    "sns.barplot(x=\"month\", y=\"worldwide_gross\", data=project1_df, \n",
    "            palette = \"YlOrBr\", order=cats)\n",
    "\n",
    "\n",
    "ax.set_title('Worldwide Gross v Release Date', fontsize=20)\n",
    "ax.set_ylabel('Worldwide Gross')\n",
    "ax.set_xlabel('Month Released')\n",
    "ax.lines = []\n",
    "plt.savefig('png_2')\n",
    "plt.show()"
   ]
  },
  {
   "cell_type": "code",
   "execution_count": 219,
   "metadata": {
    "ExecuteTime": {
     "end_time": "2021-04-30T17:41:36.943540Z",
     "start_time": "2021-04-30T17:41:36.899545Z"
    }
   },
   "outputs": [
    {
     "name": "stdout",
     "output_type": "stream",
     "text": [
      "['Dec' 'Feb' 'Jan']\n",
      "['May' 'Apr' 'Mar']\n",
      "['Aug' 'Jul' 'Jun']\n",
      "['Nov' 'Oct' 'Sep']\n"
     ]
    }
   ],
   "source": [
    "winter = ['Dec', 'Jan', 'Feb']\n",
    "spring = ['Mar', 'Apr', 'May']\n",
    "summer = ['Jun', 'Jul', 'Aug']\n",
    "fall = ['Sep', 'Oct', 'Nov']\n",
    "\n",
    "mask1 = project1_df.month.apply(lambda x: any(item for item in winter if item in x))\n",
    "df1 = project1_df[mask1]\n",
    "mask2 = project1_df.month.apply(lambda x: any(item for item in spring if item in x))\n",
    "df2 = project1_df[mask2]\n",
    "mask3 = project1_df.month.apply(lambda x: any(item for item in summer if item in x))\n",
    "df3 = project1_df[mask3]\n",
    "mask4 = project1_df.month.apply(lambda x: any(item for item in fall if item in x))\n",
    "df4 = project1_df[mask4]\n",
    "\n",
    "print(df1.month.unique())\n",
    "print(df2.month.unique())\n",
    "print(df3.month.unique())\n",
    "print(df4.month.unique())"
   ]
  },
  {
   "cell_type": "code",
   "execution_count": 234,
   "metadata": {
    "ExecuteTime": {
     "end_time": "2021-04-30T17:52:26.073896Z",
     "start_time": "2021-04-30T17:52:25.456315Z"
    }
   },
   "outputs": [
    {
     "data": {
      "image/png": "[encoded data removed]",
      "text/plain": [
       "<Figure size 1296x720 with 4 Axes>"
      ]
     },
     "metadata": {},
     "output_type": "display_data"
    }
   ],
   "source": [
    "fig, axes = plt.subplots(2, 2, figsize=(18, 10))\n",
    "\n",
    "fig.suptitle('Movie Sales by Season', fontsize = 26)\n",
    "\n",
    "sns.barplot(ax=axes[0, 0], data=df1, y='month', x='worldwide_gross', palette = 'rocket')\n",
    "sns.barplot(ax=axes[0, 1], data=df2, y='month', x='worldwide_gross', palette = 'rocket')\n",
    "sns.barplot(ax=axes[1, 0], data=df3, y='month', x='worldwide_gross', palette = 'rocket')\n",
    "sns.barplot(ax=axes[1, 1], data=df4, y='month', x='worldwide_gross', palette = 'rocket')\n",
    "plt.lines = []\n",
    "\n",
    "plt.tight_layout\n",
    "plt.show()"
   ]
  },
  {
   "cell_type": "code",
   "execution_count": null,
   "metadata": {},
   "outputs": [],
   "source": []
  },
  {
   "cell_type": "code",
   "execution_count": null,
   "metadata": {},
   "outputs": [],
   "source": []
  },
  {
   "cell_type": "code",
   "execution_count": null,
   "metadata": {},
   "outputs": [],
   "source": []
  },
  {
   "cell_type": "code",
   "execution_count": 174,
   "metadata": {
    "ExecuteTime": {
     "end_time": "2021-04-30T17:02:25.508037Z",
     "start_time": "2021-04-30T17:02:25.506036Z"
    }
   },
   "outputs": [],
   "source": [
    "#I think there is a clear relationship between holiday months and movie box office success."
   ]
  },
  {
   "cell_type": "markdown",
   "metadata": {
    "ExecuteTime": {
     "end_time": "2021-04-30T17:02:25.524051Z",
     "start_time": "2021-04-30T17:02:25.508037Z"
    }
   },
   "source": [
    "### Question 4\n",
    "\n",
    "Does worldwide gross make that much of a contribution to overall gross?"
   ]
  },
  {
   "cell_type": "code",
   "execution_count": 176,
   "metadata": {
    "ExecuteTime": {
     "end_time": "2021-04-30T17:02:26.550703Z",
     "start_time": "2021-04-30T17:02:25.525053Z"
    }
   },
   "outputs": [
    {
     "data": {
      "image/png": "[encoded data removed]",
      "text/plain": [
       "<Figure size 1224x432 with 1 Axes>"
      ]
     },
     "metadata": {},
     "output_type": "display_data"
    }
   ],
   "source": [
    "df = project1_df.sort_values('worldwide_gross', ascending = False).reset_index(drop=True)\n",
    "\n",
    "f, ax = plt.subplots(figsize=(17, 6))\n",
    "# Plot the total gross and label domestic so when the boxes are layered it shows the remaining domestic gross.\n",
    "sns.set_color_codes(\"pastel\")\n",
    "sns.barplot(x=\"1_genre\", y=\"worldwide_gross\", data=df,\n",
    "            label=\"Worldwide\", color=\"salmon\")\n",
    "\n",
    "# Plot worldwide gross over total\n",
    "sns.set_color_codes(\"muted\")\n",
    "sns.barplot(x=\"1_genre\", y=\"domestic_gross\", data=df,\n",
    "            label=\"Domestic\", color=\"steelblue\")\n",
    "\n",
    "# Adding legend and informative axis label\n",
    "ax.legend(ncol=2, loc=\"upper right\", frameon=True)\n",
    "ax.set( ylabel=\"Gross in Hundreds of Millions\",\n",
    "       xlabel=\"Genres of Movies\")\n",
    "sns.despine(left=True, bottom=True)\n",
    "ax.set_title('Worldwide v Domestic Gross by Genre', fontsize=20)\n",
    "ax.lines = []\n",
    "\n",
    "plt.savefig('png_3')\n",
    "plt.xticks(rotation=45)\n",
    "plt.show()"
   ]
  },
  {
   "cell_type": "code",
   "execution_count": null,
   "metadata": {},
   "outputs": [],
   "source": []
  }
 ],
 "metadata": {
  "kernelspec": {
   "display_name": "learn-env",
   "language": "python",
   "name": "learn-env"
  },
  "language_info": {
   "codemirror_mode": {
    "name": "ipython",
    "version": 3
   },
   "file_extension": ".py",
   "mimetype": "text/x-python",
   "name": "python",
   "nbconvert_exporter": "python",
   "pygments_lexer": "ipython3",
   "version": "3.8.5"
  },
  "toc": {
   "base_numbering": 1,
   "nav_menu": {},
   "number_sections": true,
   "sideBar": true,
   "skip_h1_title": false,
   "title_cell": "Table of Contents",
   "title_sidebar": "Contents",
   "toc_cell": false,
   "toc_position": {
    "height": "calc(100% - 180px)",
    "left": "10px",
    "top": "150px",
    "width": "362.391px"
   },
   "toc_section_display": true,
   "toc_window_display": true
  },
  "varInspector": {
   "cols": {
    "lenName": 16,
    "lenType": 16,
    "lenVar": 40
   },
   "kernels_config": {
    "python": {
     "delete_cmd_postfix": "",
     "delete_cmd_prefix": "del ",
     "library": "var_list.py",
     "varRefreshCmd": "print(var_dic_list())"
    },
    "r": {
     "delete_cmd_postfix": ") ",
     "delete_cmd_prefix": "rm(",
     "library": "var_list.r",
     "varRefreshCmd": "cat(var_dic_list()) "
    }
   },
   "types_to_exclude": [
    "module",
    "function",
    "builtin_function_or_method",
    "instance",
    "_Feature"
   ],
   "window_display": false
  }
 },
 "nbformat": 4,
 "nbformat_minor": 4
}
